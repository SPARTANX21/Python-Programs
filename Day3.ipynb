{
 "cells": [
  {
   "cell_type": "markdown",
   "metadata": {},
   "source": [
    "# **Day3 - Pranay Shah - Fucntions , Def Args, Nested, Decorator, Function Overload**"
   ]
  },
  {
   "cell_type": "markdown",
   "metadata": {},
   "source": [
    "## **Functions_Demos**"
   ]
  },
  {
   "cell_type": "markdown",
   "metadata": {},
   "source": [
    "Ex1"
   ]
  },
  {
   "cell_type": "code",
   "execution_count": 1,
   "metadata": {},
   "outputs": [],
   "source": [
    "def fun1():     # Memory allocations happens here\n",
    "    print(\"First\")      # functions are also object \n",
    "    print(\"Second\")\n",
    "    print(\"Third\")"
   ]
  },
  {
   "cell_type": "code",
   "execution_count": 6,
   "metadata": {},
   "outputs": [
    {
     "name": "stdout",
     "output_type": "stream",
     "text": [
      "First\n",
      "Second\n",
      "Third\n",
      "----------------\n",
      "<class 'function'>\n",
      "2771295043264\n"
     ]
    }
   ],
   "source": [
    "fun1()\n",
    "\n",
    "print(\"----------------\")\n",
    "\n",
    "print(type(fun1))\n",
    "print(id(fun1))"
   ]
  },
  {
   "cell_type": "markdown",
   "metadata": {},
   "source": [
    "Ex2"
   ]
  },
  {
   "cell_type": "code",
   "execution_count": 4,
   "metadata": {},
   "outputs": [
    {
     "name": "stdout",
     "output_type": "stream",
     "text": [
      "100 - hello - A - 2.3 - 4.5 - True - well done - Done\n"
     ]
    }
   ],
   "source": [
    "def myfun1():\n",
    "    num1=100\n",
    "    print(num1, end = \" - \")\n",
    "    str=\"hello\"\n",
    "    print(str, end =' - ')\n",
    "    ch='A'\n",
    "    print(ch, end =' - ')\n",
    "    fl=2.3\n",
    "    print(fl, end =' - ')\n",
    "    dl=4.5\n",
    "    print(dl, end =' - ')\n",
    "    val=True\n",
    "    print(val, end =' - ')\n",
    "    num1=\"well done\"  # redeclaring a variable\n",
    "    print(num1, end =' - ')\n",
    "myfun1()\n",
    "print(\"Done\")"
   ]
  },
  {
   "cell_type": "markdown",
   "metadata": {},
   "source": [
    "Ex3"
   ]
  },
  {
   "cell_type": "code",
   "execution_count": 5,
   "metadata": {},
   "outputs": [
    {
     "name": "stdout",
     "output_type": "stream",
     "text": [
      "Value of Num is\t100\n",
      "Value of Num is\t 100\n",
      "Done\n",
      "<class 'builtin_function_or_method'>\n",
      "2003987440688\n"
     ]
    }
   ],
   "source": [
    "# String concatenation\n",
    "\n",
    "def myfun():\n",
    "    num1=100\n",
    "    print(\"Value of Num is\\t\"+str(num1))\n",
    "    print(\"Value of Num is\\t\",num1)\n",
    "myfun()\n",
    "print(\"Done\")\n",
    "\n",
    "print(type(print))\n",
    "print(id(print))"
   ]
  },
  {
   "cell_type": "markdown",
   "metadata": {},
   "source": [
    "Ex4 - Global and Local variables"
   ]
  },
  {
   "cell_type": "code",
   "execution_count": 10,
   "metadata": {},
   "outputs": [
    {
     "name": "stdout",
     "output_type": "stream",
     "text": [
      "var inside main\t500\n",
      "val inside main\t100\n",
      "var inside disp1\t500\n"
     ]
    }
   ],
   "source": [
    "# Global Variable and Local variable\n",
    "var=500\n",
    "def myfun():\n",
    "    val=100\n",
    "    print(\"var inside main\\t\"+str(var))\n",
    "    print(\"val inside main\\t\"+str(val))\n",
    "myfun()\n",
    "\n",
    "def disp1():\n",
    "    print(\"var inside disp1\\t\"+str(var))\n",
    "  #   print(\"val inside disp1\\t\"+str(val))  cannot access val\n",
    "disp1()"
   ]
  },
  {
   "cell_type": "markdown",
   "metadata": {},
   "source": [
    "Ex4a"
   ]
  },
  {
   "cell_type": "code",
   "execution_count": 11,
   "metadata": {},
   "outputs": [
    {
     "name": "stdout",
     "output_type": "stream",
     "text": [
      "value of var is\t 100\n",
      "value of var is\t 500\n"
     ]
    }
   ],
   "source": [
    "# global and local variable\n",
    "var=500\n",
    "\n",
    "def disp():\n",
    "    print(\"value of var is\\t\",var)\n",
    "\n",
    "def myfun():\n",
    "    var=100\n",
    "    print(\"value of var is\\t\",var)\n",
    "    disp()\n",
    "myfun()"
   ]
  },
  {
   "cell_type": "markdown",
   "metadata": {},
   "source": [
    "Ex5"
   ]
  },
  {
   "cell_type": "code",
   "execution_count": 12,
   "metadata": {},
   "outputs": [
    {
     "name": "stdout",
     "output_type": "stream",
     "text": [
      "var inside main\t 100\n",
      "var inside disp\t 500\n"
     ]
    }
   ],
   "source": [
    "# Global Variable and Local variable\n",
    "var=500  # global variable\n",
    "def myfun():\n",
    "    var=100  # local variable\n",
    "    print(\"var inside main\\t\",var) # by default local is given precedence\n",
    "myfun()\n",
    "\n",
    "def disp():\n",
    "    print(\"var inside disp\\t\",var)\n",
    "disp()"
   ]
  },
  {
   "cell_type": "markdown",
   "metadata": {},
   "source": [
    "Ex6"
   ]
  },
  {
   "cell_type": "code",
   "execution_count": 13,
   "metadata": {},
   "outputs": [
    {
     "name": "stdout",
     "output_type": "stream",
     "text": [
      "var inside main\t 100\n",
      "global var is\t 500\n"
     ]
    }
   ],
   "source": [
    "# Global Variable and Local variable\n",
    "var=500  # global variable\n",
    "\n",
    "def disp():\n",
    "   return var  # global var\n",
    "\n",
    "def myfun():\n",
    "    var=100  # local variable\n",
    "    print(\"var inside main\\t\",var) # by default local is given precedence\n",
    "    print(\"global var is\\t\",disp())\n",
    "myfun()"
   ]
  },
  {
   "cell_type": "markdown",
   "metadata": {},
   "source": [
    "Ex7"
   ]
  },
  {
   "cell_type": "code",
   "execution_count": 14,
   "metadata": {},
   "outputs": [
    {
     "name": "stdout",
     "output_type": "stream",
     "text": [
      "Value of global var is\t 500\n",
      "var inside main\t 300\n",
      "Value of global var is\t 300\n"
     ]
    }
   ],
   "source": [
    "# Global Variable and Local variable\n",
    "var=500  # global variable\n",
    "\n",
    "print(\"Value of global var is\\t\",var)\n",
    "def myfun():\n",
    "    global var     #  try commenting this line\n",
    "    var=300  # changing global variable\n",
    "    print(\"var inside main\\t\",var) # by default local is given precedence\n",
    "myfun()\n",
    "print(\"Value of global var is\\t\",var)"
   ]
  },
  {
   "cell_type": "markdown",
   "metadata": {},
   "source": [
    "Ex8"
   ]
  },
  {
   "cell_type": "code",
   "execution_count": 15,
   "metadata": {},
   "outputs": [
    {
     "name": "stdout",
     "output_type": "stream",
     "text": [
      "inside main\n",
      "inside disp\n"
     ]
    }
   ],
   "source": [
    "def disp():\n",
    "    print(\"inside disp\")\n",
    "\n",
    "def myfun():\n",
    "    print(\"inside main\")\n",
    "    disp()\n",
    "\n",
    "myfun()"
   ]
  },
  {
   "cell_type": "markdown",
   "metadata": {},
   "source": [
    "Ex9"
   ]
  },
  {
   "cell_type": "code",
   "execution_count": 16,
   "metadata": {},
   "outputs": [
    {
     "name": "stdout",
     "output_type": "stream",
     "text": [
      "inside main\n",
      "inside disp\t 20\n"
     ]
    }
   ],
   "source": [
    "def disp(var):\n",
    "    print(\"inside disp\\t\",var)\n",
    "\n",
    "def myfun():\n",
    "    print(\"inside main\")\n",
    "    disp(20)\n",
    "myfun()"
   ]
  },
  {
   "cell_type": "code",
   "execution_count": 19,
   "metadata": {},
   "outputs": [
    {
     "name": "stdout",
     "output_type": "stream",
     "text": [
      "inside disp\t 98\n"
     ]
    }
   ],
   "source": [
    "disp(98)"
   ]
  },
  {
   "cell_type": "markdown",
   "metadata": {},
   "source": [
    "Ex10"
   ]
  },
  {
   "cell_type": "code",
   "execution_count": 17,
   "metadata": {},
   "outputs": [
    {
     "name": "stdout",
     "output_type": "stream",
     "text": [
      "Rahul \t 30\n"
     ]
    }
   ],
   "source": [
    "def show(var1,var2):\n",
    "    print(var1,\"\\t\",var2)\n",
    "\n",
    "def myfun():\n",
    "    show(\"Rahul\",30)\n",
    "myfun()"
   ]
  },
  {
   "cell_type": "markdown",
   "metadata": {},
   "source": [
    "global and local variables have same name"
   ]
  },
  {
   "cell_type": "code",
   "execution_count": 18,
   "metadata": {},
   "outputs": [
    {
     "name": "stdout",
     "output_type": "stream",
     "text": [
      "global var is   500\n",
      "local var is   200\n",
      "global var is    600\n",
      "Global variable is     600\n"
     ]
    }
   ],
   "source": [
    "# global and local variables have same name\n",
    "\n",
    "var=500\n",
    "def fun1():\n",
    "\tprint(\"global var is  \",var)\n",
    "def fun2():\n",
    "\tvar=200\n",
    "\tprint(\"local var is  \",var)\n",
    "def fun3():\n",
    "\tglobal var\n",
    "\tvar=600\n",
    "\tprint(\"global var is   \",var)\n",
    "\n",
    "fun1()\n",
    "fun2()\n",
    "fun3()\n",
    "\n",
    "print(\"Global variable is    \",var)\n"
   ]
  },
  {
   "cell_type": "markdown",
   "metadata": {},
   "source": [
    "global and local variables have same name"
   ]
  },
  {
   "cell_type": "code",
   "execution_count": 1,
   "metadata": {},
   "outputs": [
    {
     "name": "stdout",
     "output_type": "stream",
     "text": [
      "Local variable is\t 100\n",
      "Global variable is\t 500\n"
     ]
    }
   ],
   "source": [
    "# global and local variables have same name\n",
    "\n",
    "var=500\n",
    "def myfun():\n",
    "\tvar=100\n",
    "\tprint(\"Local variable is\\t\",var)\n",
    "myfun()\n",
    "print(\"Global variable is\\t\",var)"
   ]
  },
  {
   "cell_type": "code",
   "execution_count": 20,
   "metadata": {},
   "outputs": [
    {
     "name": "stdout",
     "output_type": "stream",
     "text": [
      "100 200 300\n",
      "50 30\n"
     ]
    }
   ],
   "source": [
    "def myfun():\n",
    "    return 100 ,200,300\n",
    "\n",
    "a,b,c=myfun()\n",
    "print(a,b,c)\n",
    "\n",
    "\n",
    "def calculation(a, b):\n",
    "    return a + b, a - b\n",
    "\n",
    "# get result in tuple format\n",
    "# unpack tuple\n",
    "add, sub = calculation(40, 10)\n",
    "print(add, sub)"
   ]
  },
  {
   "cell_type": "code",
   "execution_count": 2,
   "metadata": {},
   "outputs": [
    {
     "name": "stdout",
     "output_type": "stream",
     "text": [
      "hello\n"
     ]
    }
   ],
   "source": [
    "# As we know Python interpreter interprets statements from the first line of the python file ( .pyc file )\n",
    "\n",
    "# Suppose we write\n",
    "\n",
    "def disp():\n",
    "\tprint(\"hello\")\n",
    "\n",
    "# now if we simply execute above file, there won't be any output.\n",
    "\n",
    "# but if we add following line:\n",
    "\n",
    "disp()    # function call\n",
    "\n",
    "# and execute , we'll get the output.\n",
    "\n",
    "# Why it is so?\n",
    "\n",
    "# Simple. Python sees def disp():, and simply reads the function, without executing it.\n",
    "# A call to any function in this disp() e.g. \"print(\"hello\") \"  is just a string.\n",
    "# It is not run yet, and it does not matter what it is and where it is defined - it is just text.\n",
    "\n",
    "# Only when python sees a function call, it starts executing the function and looks where functions are."
   ]
  },
  {
   "cell_type": "markdown",
   "metadata": {},
   "source": [
    "## **Call BY Value**"
   ]
  },
  {
   "cell_type": "code",
   "execution_count": 21,
   "metadata": {},
   "outputs": [
    {
     "name": "stdout",
     "output_type": "stream",
     "text": [
      "id of num is\t 140721143202888\n",
      "before\t 10\n",
      "id of var before changing var is\t 140721143202888\n",
      "Value of var is\t 11\n",
      "id of var after changing var is\t 140721143202920\n",
      "after\t 10\n"
     ]
    }
   ],
   "source": [
    "# call by value concept\n",
    "def change(var):\n",
    "    print(\"id of var before changing var is\\t\",id(var))\n",
    "    var+=1\n",
    "    print(\"Value of var is\\t\",var)\n",
    "    print(\"id of var after changing var is\\t\",id(var))\n",
    "\n",
    "\n",
    "num=10\n",
    "\n",
    "print(\"id of num is\\t\",id(num))\n",
    "\n",
    "print(\"before\\t\",num)\n",
    "\n",
    "change(num)\n",
    "\n",
    "print(\"after\\t\",num)"
   ]
  },
  {
   "cell_type": "markdown",
   "metadata": {},
   "source": [
    "## **Call BY Reference**"
   ]
  },
  {
   "cell_type": "code",
   "execution_count": 22,
   "metadata": {},
   "outputs": [
    {
     "name": "stdout",
     "output_type": "stream",
     "text": [
      "Mainlist before calling function\t [1, 2, 3, 4]\n",
      "id of mainlist is\t 2771300898944\n",
      "id of mylist before changing var is\t 2771300898944\n",
      "id of mylist after changing var is\t 2771300898944\n",
      "Mainlist after calling function\t [1, 2, 3, 4, 5]\n"
     ]
    }
   ],
   "source": [
    "# call by reference concept changes the original data, ref id would be same for below operations.\n",
    "def change(mylist):\n",
    "    print(\"id of mylist before changing var is\\t\",id(mylist))\n",
    "    mylist.append(5)\n",
    "    print(\"id of mylist after changing var is\\t\",id(mylist))\n",
    "\n",
    "mainlist=[1,2,3,4]\n",
    "print(\"Mainlist before calling function\\t\",mainlist)\n",
    "print(\"id of mainlist is\\t\",id(mainlist))\n",
    "\n",
    "change(mainlist)\n",
    "print(\"Mainlist after calling function\\t\",mainlist)"
   ]
  },
  {
   "cell_type": "markdown",
   "metadata": {},
   "source": [
    "## **Default Arguments**"
   ]
  },
  {
   "cell_type": "code",
   "execution_count": 1,
   "metadata": {},
   "outputs": [
    {
     "name": "stdout",
     "output_type": "stream",
     "text": [
      "10 \t 20\n",
      "100 \t 200\n"
     ]
    }
   ],
   "source": [
    "# default arguments of the function\n",
    "\n",
    "def disp(var1,var2=20):\n",
    "\tprint(var1,\"\\t\",var2)\n",
    "\t\n",
    "def fun():\n",
    "\tdisp(10)\n",
    "\tdisp(100,200)\n",
    "fun()"
   ]
  },
  {
   "cell_type": "code",
   "execution_count": 2,
   "metadata": {},
   "outputs": [
    {
     "name": "stdout",
     "output_type": "stream",
     "text": [
      "10 \t 20\n",
      "30 \t 20\n",
      "100 \t 200\n"
     ]
    }
   ],
   "source": [
    "# default arguments of the function\n",
    "\n",
    "def disp(var1=10,var2=20):\n",
    "\tprint(var1,\"\\t\",var2)\n",
    "\n",
    "def fun():\n",
    "\tdisp()\n",
    "\tdisp(30)\n",
    "\tdisp(100,200)\n",
    "fun()"
   ]
  },
  {
   "cell_type": "code",
   "execution_count": 3,
   "metadata": {},
   "outputs": [],
   "source": [
    "# # Error :  SyntaxError: non-default argument follows default argument\n",
    "\n",
    "# def disp(var1=10,var2):\n",
    "# \tprint(var1,\"\\t\",var2)\n",
    "\n",
    "# def fun():\n",
    "\n",
    "# fun()\n"
   ]
  },
  {
   "cell_type": "markdown",
   "metadata": {},
   "source": [
    "***"
   ]
  },
  {
   "cell_type": "markdown",
   "metadata": {},
   "source": [
    "### **Variable Arguments as input**"
   ]
  },
  {
   "cell_type": "markdown",
   "metadata": {},
   "source": [
    "****"
   ]
  },
  {
   "cell_type": "code",
   "execution_count": 4,
   "metadata": {},
   "outputs": [
    {
     "name": "stdout",
     "output_type": "stream",
     "text": [
      "Type of vars is\t <class 'tuple'>\n",
      "no argument passed\n",
      "Type of vars is\t <class 'tuple'>\n",
      "10\n",
      "20\n",
      "30\n",
      "Type of vars is\t <class 'tuple'>\n",
      "abc\n",
      "200\n",
      "True\n",
      "3.4\n"
     ]
    }
   ],
   "source": [
    " # variable number of arguments to a function\n",
    "\n",
    "def disp(*vars):\n",
    "\tprint(\"Type of vars is\\t\",type(vars))\n",
    "\tif(vars.__len__()==0):\n",
    "\t\tprint(\"no argument passed\")\n",
    "\telse:\n",
    "\t\tfor k in vars:\n",
    "\t\t\tprint(k)\n",
    "\n",
    "def fun():\n",
    "\tdisp()\n",
    "\tdisp(10,20,30)\n",
    "\tdisp(\"abc\",200,True,3.4)\n",
    "fun()"
   ]
  },
  {
   "cell_type": "code",
   "execution_count": 21,
   "metadata": {},
   "outputs": [
    {
     "name": "stdout",
     "output_type": "stream",
     "text": [
      "10\n",
      "20\n",
      "30\n",
      "40\n",
      "50\n"
     ]
    },
    {
     "data": {
      "text/plain": [
       "[None, None, None, None, None]"
      ]
     },
     "execution_count": 21,
     "metadata": {},
     "output_type": "execute_result"
    }
   ],
   "source": [
    "func = lambda *args:[print(arg) for arg in args]\n",
    "\n",
    "func(10,20,30,40,50)\n"
   ]
  },
  {
   "cell_type": "code",
   "execution_count": 25,
   "metadata": {},
   "outputs": [
    {
     "name": "stdout",
     "output_type": "stream",
     "text": [
      "Printing List Element Starts off\n",
      "10\n",
      "Printing List Element Starts off\n",
      "20\n",
      "Printing List Element Starts off\n",
      "30\n",
      "Printing List Element Starts off\n",
      "50\n",
      "Printing List Element ends\n",
      "(10, 20, 30, 50) 40 60 70 80 90 10 Pranay Shah "
     ]
    }
   ],
   "source": [
    "def variablearguments(*vars):\n",
    "\n",
    "    for arg in vars:\n",
    "        if isinstance(arg, tuple):\n",
    "            for i in arg:\n",
    "                print(\"Printing List Element Starts off\")\n",
    "                print(i)\n",
    "            print(\"Printing List Element ends\")\n",
    "        print(arg, end = ' ')\n",
    "\n",
    "variablearguments((10,20,30,50),40,60,70,80,90,10,'Pranay Shah')\n"
   ]
  },
  {
   "cell_type": "code",
   "execution_count": 5,
   "metadata": {},
   "outputs": [
    {
     "name": "stdout",
     "output_type": "stream",
     "text": [
      "Types of vars is \t --> <class 'tuple'>\n",
      "No Arguments passed\n",
      "----------------------------------------------------\n",
      "Types of vars is \t --> <class 'tuple'>\n",
      "1\t\t\t<class 'int'>\n",
      "20\t\t\t<class 'int'>\n",
      "Pranay\t\t\t<class 'str'>\n",
      "----------------------------------------------------\n",
      "Types of vars is \t --> <class 'tuple'>\n",
      "Shah\t\t\t<class 'str'>\n",
      "12.30255\t\t\t<class 'float'>\n",
      "True\t\t\t<class 'bool'>\n"
     ]
    }
   ],
   "source": [
    "def disp(*vars):\n",
    "    print(\"Types of vars is \\t -->\", type(vars))\n",
    "    if(len(vars) == 0):\n",
    "        print(\"No Arguments passed\")\n",
    "    else:\n",
    "        for k in vars:\n",
    "            print(f'{k}\\t\\t\\t{type(k)}')\n",
    "\n",
    "\n",
    "disp()\n",
    "print('----------------------------------------------------')\n",
    "disp(1,20,'Pranay')\n",
    "print('----------------------------------------------------')\n",
    "disp(\"Shah\", 12.30255,True)"
   ]
  },
  {
   "cell_type": "markdown",
   "metadata": {},
   "source": [
    "****"
   ]
  },
  {
   "cell_type": "markdown",
   "metadata": {},
   "source": [
    "*****"
   ]
  },
  {
   "cell_type": "markdown",
   "metadata": {},
   "source": [
    "## **Keyworded variable Number of arguments**"
   ]
  },
  {
   "cell_type": "code",
   "execution_count": 33,
   "metadata": {},
   "outputs": [
    {
     "name": "stdout",
     "output_type": "stream",
     "text": [
      "<class 'tuple'>\n",
      "A\n",
      "hello\n",
      "5.6\n",
      "True\n",
      "500\n",
      "\n",
      "let's define keyworded argument function\n",
      "\n",
      "<class 'dict'>\n",
      "name \t Rohit\n",
      "age \t 30\n",
      "<class 'dict'>\n",
      "name \t Viraat\n",
      "age \t 34\n",
      "rollno \t 1\n",
      "address \t Mumbai\n"
     ]
    }
   ],
   "source": [
    "def myfun(*varg):\n",
    "    print(type(varg))\n",
    "    for i in varg:\n",
    "        print(i)\n",
    "\n",
    "myfun('A',\"hello\",5.6,True,500)\n",
    "\n",
    "#    myfun(name=\"Rohit\",age=30)     #    TypeError: myfun() got an unexpected keyword argument 'name'\n",
    "\n",
    "print(\"\\nlet's define keyworded argument function\\n\")\n",
    "def myfun1(**varg):         # keyworded argument function\n",
    "    print(type(varg))\n",
    "    for key,value in varg.items():\n",
    "        print(key,\"\\t\",value)\n",
    "\n",
    "myfun1(name=\"Rohit\",age=30)\n",
    "myfun1(name=\"Viraat\",age=34,rollno=1,address=\"Mumbai\")\n",
    "# myfun1('A',100,\"hello\",6,7)  # must be key-value pair"
   ]
  },
  {
   "cell_type": "code",
   "execution_count": 30,
   "metadata": {},
   "outputs": [
    {
     "name": "stdout",
     "output_type": "stream",
     "text": [
      "name \t Pranay Bindesh Shah\n",
      "Country \t Unitred States\n",
      "State \t CA\n"
     ]
    }
   ],
   "source": [
    "def keywordargument(**args):\n",
    "    for key, value in args.items():\n",
    "        print(key, '\\t', value)\n",
    "\n",
    "\n",
    "keywordargument(name =\n",
    "                'Pranay Bindesh Shah', Country = 'Unitred States', State = 'CA')"
   ]
  },
  {
   "cell_type": "markdown",
   "metadata": {},
   "source": [
    "## **Function accepts another function as argument**"
   ]
  },
  {
   "cell_type": "code",
   "execution_count": null,
   "metadata": {},
   "outputs": [
    {
     "name": "stdout",
     "output_type": "stream",
     "text": [
      "inside disp function\n",
      "inside caller function\n"
     ]
    }
   ],
   "source": [
    "#A:\\CDAC_SM_VITA\\4_Python\\Day_3\\Day_3\\Function Demos continue\\Function_accepts_another_function_as_an_argument\\Example_1.txt\n",
    "\n",
    "\n",
    "def main(fun):\n",
    "    fun()\n",
    "    print(\"inside caller function\")\n",
    "\n",
    "def disp():\n",
    "    print(\"inside disp function\")\n",
    "\n",
    "main(disp)\n",
    "\n",
    "\n",
    "# place the breakpoint at both the print statements,debug and check the call stack"
   ]
  },
  {
   "cell_type": "code",
   "execution_count": 9,
   "metadata": {},
   "outputs": [
    {
     "name": "stdout",
     "output_type": "stream",
     "text": [
      "Inside India\n",
      "On Earth\n"
     ]
    }
   ],
   "source": [
    "def Earth(mainland):\n",
    "    if callable(mainland):\n",
    "        mainland()\n",
    "    print(\"On Earth\")\n",
    "\n",
    "def UnitedStates():\n",
    "    print(\"Inside United States\")\n",
    "\n",
    "def India():\n",
    "    print(\"Inside India\")\n",
    "\n",
    "Earth(India)"
   ]
  },
  {
   "cell_type": "code",
   "execution_count": null,
   "metadata": {},
   "outputs": [
    {
     "ename": "TypeError",
     "evalue": "'int' object is not callable",
     "output_type": "error",
     "traceback": [
      "\u001b[1;31m---------------------------------------------------------------------------\u001b[0m\n",
      "\u001b[1;31mTypeError\u001b[0m                                 Traceback (most recent call last)\n",
      "Cell \u001b[1;32mIn[39], line 9\u001b[0m\n",
      "\u001b[0;32m      6\u001b[0m     \u001b[38;5;28mprint\u001b[39m(\u001b[38;5;124m\"\u001b[39m\u001b[38;5;124minside disp function\u001b[39m\u001b[38;5;124m\"\u001b[39m)\n",
      "\u001b[0;32m      8\u001b[0m temp\u001b[38;5;241m=\u001b[39m\u001b[38;5;241m100\u001b[39m\n",
      "\u001b[1;32m----> 9\u001b[0m \u001b[43mmain\u001b[49m\u001b[43m(\u001b[49m\u001b[43mtemp\u001b[49m\u001b[43m)\u001b[49m  \n",
      "\n",
      "Cell \u001b[1;32mIn[39], line 2\u001b[0m, in \u001b[0;36mmain\u001b[1;34m(fun)\u001b[0m\n",
      "\u001b[0;32m      1\u001b[0m \u001b[38;5;28;01mdef\u001b[39;00m \u001b[38;5;21mmain\u001b[39m(fun):\n",
      "\u001b[1;32m----> 2\u001b[0m     \u001b[43mfun\u001b[49m\u001b[43m(\u001b[49m\u001b[43m)\u001b[49m     \u001b[38;5;66;03m#  TypeError: 'int' object is not callable, so how will you ensure that \"fun\" is callable or not\u001b[39;00m\n",
      "\u001b[0;32m      3\u001b[0m     \u001b[38;5;28mprint\u001b[39m(\u001b[38;5;124m\"\u001b[39m\u001b[38;5;124minside outer function\u001b[39m\u001b[38;5;124m\"\u001b[39m)\n",
      "\n",
      "\u001b[1;31mTypeError\u001b[0m: 'int' object is not callable"
     ]
    }
   ],
   "source": [
    "def main(fun):\n",
    "    fun()     #  TypeError: 'int' object is not callable, so how will you ensure that \"fun\" is callable or not\n",
    "    print(\"inside outer function\")\n",
    "\n",
    "def disp():\n",
    "    print(\"inside disp function\")\n",
    "\n",
    "temp=100\n",
    "main(temp)      "
   ]
  },
  {
   "cell_type": "code",
   "execution_count": null,
   "metadata": {},
   "outputs": [
    {
     "name": "stdout",
     "output_type": "stream",
     "text": [
      "inside disp function\n",
      "inside caller function\n",
      "You passed non-callable argument to main function\n",
      "inside caller function\n"
     ]
    }
   ],
   "source": [
    "\"\"\" Python provides a built-in function, to determine which objects are callable. The function is callable(). \n",
    "If the object passed as a parameter to the callable() prints TRUE then that object is callable. \n",
    "If it displays FALSE then it is not callable in Python.\n",
    " \"\"\"\n",
    "\n",
    "def main(fun):\n",
    "    if callable(fun):\n",
    "        fun()\n",
    "    else:\n",
    "        print(\"You passed non-callable argument to main function\")\n",
    "    print(\"inside caller function\")\n",
    "\n",
    "def disp():\n",
    "    print(\"inside disp function\")\n",
    "\n",
    "main(disp)    # works\n",
    "temp=100\n",
    "main(temp)    # you won't get TypeError"
   ]
  },
  {
   "cell_type": "code",
   "execution_count": 23,
   "metadata": {},
   "outputs": [
    {
     "name": "stdout",
     "output_type": "stream",
     "text": [
      "Inside Earth moving to --->  India\n",
      "Inside Earth moving to --->  United States\n"
     ]
    }
   ],
   "source": [
    "def Earth(country):\n",
    "    print(\"Inside Earth moving to ---> \", end = ' ')\n",
    "    return country\n",
    "\n",
    "def US():\n",
    "    print(\"United States\")\n",
    "\n",
    "def IN():\n",
    "    print(\"India\")\n",
    "\n",
    "\n",
    "IN = Earth(IN)\n",
    "IN()\n",
    "us = Earth(US)\n",
    "us()"
   ]
  },
  {
   "cell_type": "code",
   "execution_count": 24,
   "metadata": {},
   "outputs": [
    {
     "name": "stdout",
     "output_type": "stream",
     "text": [
      "Inside Earth moving to --->  United States\n"
     ]
    }
   ],
   "source": [
    "Earth(US)()"
   ]
  },
  {
   "cell_type": "markdown",
   "metadata": {},
   "source": [
    "## **Function returns another function**\n",
    "\n",
    "- A:\\CDAC_SM_VITA\\4_Python\\Day_3\\Day_3\\Function Demos continue\\Function_returns_another_function"
   ]
  },
  {
   "cell_type": "code",
   "execution_count": null,
   "metadata": {},
   "outputs": [
    {
     "name": "stdout",
     "output_type": "stream",
     "text": [
      "inside disp1\n",
      "inside disp2\n"
     ]
    }
   ],
   "source": [
    "def disp1():\n",
    "    print(\"inside disp1\")\n",
    "    return disp2\n",
    "\n",
    "def disp2():\n",
    "    print(\"inside disp2\")\n",
    "\n",
    "var1=disp1()\n",
    "var1()  # here \"disp2()\" will be called"
   ]
  },
  {
   "cell_type": "code",
   "execution_count": 9,
   "metadata": {},
   "outputs": [
    {
     "name": "stdout",
     "output_type": "stream",
     "text": [
      "inside disp1\n",
      "inside disp2\n"
     ]
    }
   ],
   "source": [
    "def disp1():\n",
    "    print(\"inside disp1\")\n",
    "    return disp2\n",
    "\n",
    "def disp2():\n",
    "    print(\"inside disp2\")\n",
    "\n",
    "disp1()()    # no need to collect the returned function in any variable"
   ]
  },
  {
   "cell_type": "markdown",
   "metadata": {},
   "source": [
    "## **Nested functions in Python**\n",
    "- A:\\CDAC_SM_VITA\\4_Python\\Day_3\\Day_3\\Function Demos continue\\Nested_Functions_in_Python\n"
   ]
  },
  {
   "cell_type": "markdown",
   "metadata": {},
   "source": [
    "Ex1"
   ]
  },
  {
   "cell_type": "code",
   "execution_count": 5,
   "metadata": {},
   "outputs": [
    {
     "name": "stdout",
     "output_type": "stream",
     "text": [
      "inside outer function\n"
     ]
    }
   ],
   "source": [
    "def outer():\n",
    "    def inner():\n",
    "        print(\"inside inner function\")\n",
    "    print(\"inside outer function\")\n",
    "\n",
    "v = outer()\n",
    "\n",
    "\n",
    "# place the breakpoint at both the print statements,debug and check the call stack"
   ]
  },
  {
   "cell_type": "code",
   "execution_count": 29,
   "metadata": {},
   "outputs": [
    {
     "name": "stdout",
     "output_type": "stream",
     "text": [
      "Inside Earth\n",
      "Inside United States\n"
     ]
    }
   ],
   "source": [
    "def Earth():\n",
    "    def US():\n",
    "        print(\"Inside United States\")\n",
    "    print(\"Inside Earth\")\n",
    "    return US\n",
    "\n",
    "nested = Earth()\n",
    "nested()"
   ]
  },
  {
   "cell_type": "markdown",
   "metadata": {},
   "source": [
    "Ex2"
   ]
  },
  {
   "cell_type": "code",
   "execution_count": 12,
   "metadata": {},
   "outputs": [
    {
     "name": "stdout",
     "output_type": "stream",
     "text": [
      "inside outer function\n",
      "inside inner function\n"
     ]
    }
   ],
   "source": [
    "\"\"\"\n",
    "Closure in Python is an inner function object, a function that behaves like an object,\n",
    "that remembers and has access to variables in the local scope in which it was created even after the outer\n",
    "function has finished executing.\n",
    "\n",
    "\"\"\"\n",
    "\n",
    "def outer():\n",
    "    def inner():     # it's a closure\n",
    "        print(\"inside inner function\")\n",
    "    print(\"inside outer function\")\n",
    "    return inner\n",
    "\n",
    "var1=outer()\n",
    "var1()\n",
    "# place the breakpoint at both the print statements,debug and check the call stack"
   ]
  },
  {
   "cell_type": "markdown",
   "metadata": {},
   "source": [
    "Ex3"
   ]
  },
  {
   "cell_type": "code",
   "execution_count": 13,
   "metadata": {},
   "outputs": [
    {
     "name": "stdout",
     "output_type": "stream",
     "text": [
      "inside outer function\n",
      "inside inner function\t 400\n"
     ]
    }
   ],
   "source": [
    "\"\"\"\n",
    "\n",
    "The inner function maintains a reference to the variables in the scope of \"outer\" through closure, allowing\n",
    "it to access \"num\" even after outer has finished executing.\n",
    "\n",
    "The closure mechanism keeps the environment of \"outer\" function alive in memory as\n",
    "long as there's a reference to the \"inner\" function.\n",
    "\n",
    "\"\"\"\n",
    "\n",
    "def outer():\n",
    "    num=100\n",
    "    def inner():     # it's a closure\n",
    "        print(\"inside inner function\\t\",num)\n",
    "    num=400\n",
    "    print(\"inside outer function\")\n",
    "    return inner\n",
    "\n",
    "var1=outer()\n",
    "var1()"
   ]
  },
  {
   "cell_type": "code",
   "execution_count": 24,
   "metadata": {},
   "outputs": [
    {
     "name": "stdout",
     "output_type": "stream",
     "text": [
      "140709686592264\n",
      "Outer 10\n",
      "140709686595464\n",
      "Inner 6000\n",
      "Inner 100\n",
      "Inner 2 1000\n"
     ]
    }
   ],
   "source": [
    "num = 0\n",
    "print(id(num))\n",
    "def outer():\n",
    "    num1 = 10\n",
    "    print('Outer', num1)\n",
    "    def inner():\n",
    "        global num\n",
    "        num=100\n",
    "        print(id(num))\n",
    "        num1 = 6000\n",
    "        # num = 500\n",
    "        print('Inner', num1)\n",
    "        print('Inner', num)\n",
    "        def inner1():\n",
    "            num = 1000\n",
    "            print(\"Inner 2\", num)\n",
    "        return inner1\n",
    "    return inner \n",
    "\n",
    "\n",
    "v = outer() \n",
    "\n",
    "v()()"
   ]
  },
  {
   "cell_type": "markdown",
   "metadata": {},
   "source": [
    "### **LEGB**\n",
    "- Local\n",
    "- Enclosing\n",
    "- Global\n",
    "- Builtin"
   ]
  },
  {
   "cell_type": "markdown",
   "metadata": {},
   "source": [
    "- lexical scope=local scope+lexical environment of parent function [ outer function ]\n",
    "\n",
    "- inner function is lexically sitting inside outer function. That means inner function will have access to the lexical environment of outer function.\n",
    "- outer function is lexically sitting inside the global scope.\n"
   ]
  },
  {
   "cell_type": "markdown",
   "metadata": {},
   "source": [
    "#### **Lexical Envr Demos**\n",
    "\n",
    "- A:\\CDAC_SM_VITA\\4_Python\\Day_3\\Day_3\\Function Demos continue\\Nested_Functions_in_Python\\Lexical Environment Demo"
   ]
  },
  {
   "cell_type": "code",
   "execution_count": null,
   "metadata": {},
   "outputs": [
    {
     "name": "stdout",
     "output_type": "stream",
     "text": [
      "100 \t 200 \t 300\n"
     ]
    },
    {
     "ename": "NameError",
     "evalue": "name 'num4' is not defined",
     "output_type": "error",
     "traceback": [
      "\u001b[1;31m---------------------------------------------------------------------------\u001b[0m\n",
      "\u001b[1;31mNameError\u001b[0m                                 Traceback (most recent call last)\n",
      "Cell \u001b[1;32mIn[54], line 10\u001b[0m\n",
      "\u001b[0;32m      7\u001b[0m \t\t\u001b[38;5;28mprint\u001b[39m(num4)  \u001b[38;5;66;03m# NameError\u001b[39;00m\n",
      "\u001b[0;32m      8\u001b[0m \t\u001b[38;5;28;01mreturn\u001b[39;00m second\n",
      "\u001b[1;32m---> 10\u001b[0m \u001b[43mfirst\u001b[49m\u001b[43m(\u001b[49m\u001b[43m)\u001b[49m\u001b[43m(\u001b[49m\u001b[43m)\u001b[49m\n",
      "\n",
      "Cell \u001b[1;32mIn[54], line 7\u001b[0m, in \u001b[0;36mfirst.<locals>.second\u001b[1;34m()\u001b[0m\n",
      "\u001b[0;32m      5\u001b[0m num3\u001b[38;5;241m=\u001b[39m\u001b[38;5;241m300\u001b[39m\n",
      "\u001b[0;32m      6\u001b[0m \u001b[38;5;28mprint\u001b[39m(num1,\u001b[38;5;124m\"\u001b[39m\u001b[38;5;130;01m\\t\u001b[39;00m\u001b[38;5;124m\"\u001b[39m,num2,\u001b[38;5;124m\"\u001b[39m\u001b[38;5;130;01m\\t\u001b[39;00m\u001b[38;5;124m\"\u001b[39m,num3)\n",
      "\u001b[1;32m----> 7\u001b[0m \u001b[38;5;28mprint\u001b[39m(\u001b[43mnum4\u001b[49m)\n",
      "\n",
      "\u001b[1;31mNameError\u001b[0m: name 'num4' is not defined"
     ]
    }
   ],
   "source": [
    "num1=100\n",
    "def first():\n",
    "\tnum2=200\n",
    "\tdef second():\n",
    "\t\tnum3=300\n",
    "\t\tprint(num1,\"\\t\",num2,\"\\t\",num3)\n",
    "\t\tprint(num4)  # NameError\n",
    "\treturn second\n",
    "\n",
    "first()()"
   ]
  },
  {
   "cell_type": "markdown",
   "metadata": {},
   "source": [
    "\"A:\\CDAC_SM_VITA\\4_Python\\Day_3\\Day_3\\Function Demos continue\\Nested_Functions_in_Python\\Lexical Environment Demo\\Lexical Execution demo.png\""
   ]
  },
  {
   "cell_type": "code",
   "execution_count": 33,
   "metadata": {},
   "outputs": [
    {
     "name": "stdout",
     "output_type": "stream",
     "text": [
      "30\n",
      "140718118258376\n",
      "40\n",
      "140718118258696\n",
      "40\n",
      "140718118258696\n"
     ]
    }
   ],
   "source": [
    "def outer():\n",
    "    x = 30\n",
    "    print(x)\n",
    "    print(id(x))\n",
    "      # Enclosing variable\n",
    "\n",
    "    def inner():\n",
    "        # x  # Modify x in the enclosing scope\n",
    "        nonlocal x \n",
    "        x = 40\n",
    "        print(x)\n",
    "        print(id(x))\n",
    "\n",
    "    inner()\n",
    "    print(x)\n",
    "    print(id(x))  # Check the modified x in the enclosing scope\n",
    "\n",
    "outer()  # Output: 40 (from inner), 40 (from outer)"
   ]
  },
  {
   "cell_type": "markdown",
   "metadata": {},
   "source": [
    "## **Decorator**\n",
    "\n",
    "- A:\\CDAC_SM_VITA\\4_Python\\Day_3\\Day_3\\Function Demos continue\\Decorator_info\n",
    "\n",
    "        decorator is a function which accepts another function as an argument , modifies it and returns.\n",
    "\n",
    "        In Python, a decorator is a design pattern that allows you to modify the functionality of a function by wrapping it in another function. The outer function is called the decorator, which takes the original function as an argument and returns a modified version of it."
   ]
  },
  {
   "cell_type": "markdown",
   "metadata": {},
   "source": [
    "#### **Discussion1**"
   ]
  },
  {
   "cell_type": "code",
   "execution_count": 34,
   "metadata": {},
   "outputs": [
    {
     "name": "stdout",
     "output_type": "stream",
     "text": [
      "Important task1\n",
      "Important task2\n",
      "Important task3\n",
      "Important task4\n"
     ]
    }
   ],
   "source": [
    "# let's write some functions which do some imp. task\n",
    "\n",
    "def fun1():\n",
    "    print(\"Important task1\")\n",
    "\n",
    "def fun2():\n",
    "    print(\"Important task2\")\n",
    "\n",
    "def fun3():\n",
    "    print(\"Important task3\")\n",
    "\n",
    "def fun4():\n",
    "    print(\"Important task4\")\n",
    "\n",
    "fun1()\n",
    "fun2()\n",
    "fun3()\n",
    "fun4()"
   ]
  },
  {
   "cell_type": "code",
   "execution_count": 35,
   "metadata": {},
   "outputs": [
    {
     "name": "stdout",
     "output_type": "stream",
     "text": [
      "Initialising Resources\n",
      "Important task1\n",
      "Releasing Resources\n",
      "Initialising Resources\n",
      "Important task2\n",
      "Releasing Resources\n",
      "Initialising Resources\n",
      "Important task3\n",
      "Releasing Resources\n",
      "Initialising Resources\n",
      "Important task4\n",
      "Releasing Resources\n"
     ]
    }
   ],
   "source": [
    "# let's write initialization and release \n",
    "\n",
    "def fun1():\n",
    "    print(\"Initialising Resources\")\n",
    "    print(\"Important task1\")\n",
    "    print(\"Releasing Resources\")\n",
    "\n",
    "def fun2():\n",
    "    print(\"Initialising Resources\")\n",
    "    print(\"Important task2\")\n",
    "    print(\"Releasing Resources\")\n",
    "\n",
    "def fun3():\n",
    "    print(\"Initialising Resources\")\n",
    "    print(\"Important task3\")\n",
    "    print(\"Releasing Resources\")\n",
    "\n",
    "def fun4():\n",
    "    print(\"Initialising Resources\")\n",
    "    print(\"Important task4\") \n",
    "    print(\"Releasing Resources\")\n",
    "\n",
    "fun1()\n",
    "fun2()\n",
    "fun3()\n",
    "fun4()"
   ]
  },
  {
   "cell_type": "code",
   "execution_count": null,
   "metadata": {},
   "outputs": [],
   "source": [
    "\"\"\" now suppose I don't want  initialization and release in each code or rather I am not so sure when exactly I need them\n",
    "In that case either I will comment initialization and release or put them in If condition.\n",
    "but that will give me maintenance drawback. \"\"\"\n",
    "\n",
    "def fun1():\n",
    "   # print(\"Initialising Resources\")\n",
    "    print(\"Important task1\")\n",
    "    print(\"Releasing Resources\")\n",
    "\n",
    "def fun2():\n",
    "    print(\"Initialising Resources\")\n",
    "    print(\"Important task2\")\n",
    " #   print(\"Releasing Resources\")\n",
    "\n",
    "def fun3():\n",
    "    print(\"Initialising Resources\")\n",
    "    print(\"Important task3\")\n",
    " #   print(\"Releasing Resources\")\n",
    " \n",
    "\n",
    "def fun4():\n",
    "    print(\"Initialising Resources\")\n",
    "    print(\"Important task4\") \n",
    "    print(\"Releasing Resources\")\n",
    "\n",
    "fun1()\n",
    "fun2()\n",
    "fun3()\n",
    "fun4()\n"
   ]
  },
  {
   "cell_type": "code",
   "execution_count": 36,
   "metadata": {},
   "outputs": [
    {
     "name": "stdout",
     "output_type": "stream",
     "text": [
      "Initialising Resources\n",
      "Important task1\n",
      "Releasing Resources\n",
      "Important task2\n",
      "Initialising Resources\n",
      "Important task3\n",
      "Releasing Resources\n",
      "Initialising Resources\n",
      "Important task4\n",
      "Releasing Resources\n"
     ]
    }
   ],
   "source": [
    "# we have a solution for this. We can go for \"Decorator\" function.\n",
    "# let's write initialization and release \n",
    "\n",
    "def decor_function(myfun):  # decorator function\n",
    "    def with_init_release():  # closure\n",
    "        print(\"Initialising Resources\")\n",
    "        myfun()\n",
    "        print(\"Releasing Resources\")\n",
    "    return with_init_release\n",
    "\n",
    "\n",
    "def fun1():\n",
    "    print(\"Important task1\")\n",
    "\n",
    "\n",
    "def fun2():\n",
    "    print(\"Important task2\")\n",
    "\n",
    "\n",
    "def fun3():\n",
    "    print(\"Important task3\")\n",
    "\n",
    "\n",
    "def fun4():\n",
    "    print(\"Important task4\")\n",
    "\n",
    "var1=decor_function(fun1)\n",
    "var1()\n",
    "fun2()  # we don't want to do initialization and clean up\n",
    "var2=decor_function(fun3)\n",
    "var2()\n",
    "\"\"\" var3=decor_function(fun4)\n",
    "var3() \"\"\"\n",
    "decor_function(fun4)()   # no need to collect function in any variable\n",
    "\n",
    "# place breakpoint at all the print statements and at the \"return\" statement and observe the call stack"
   ]
  },
  {
   "cell_type": "code",
   "execution_count": 39,
   "metadata": {},
   "outputs": [
    {
     "name": "stdout",
     "output_type": "stream",
     "text": [
      "US is the Transformed City no need for Transforming\n",
      "Transforming Country -->  India is Developing City, hence its needed to be Transformed\n",
      "------------Country Transformed------------\n",
      "Transforming Country -->  Mexico is under developed City, hence its needed to be Transformed\n",
      "------------Country Transformed------------\n",
      "Germany is the Transformed City no need for Transforming\n"
     ]
    }
   ],
   "source": [
    "def decor_function(func):\n",
    "    def TransformingCountry():\n",
    "        print(\"Transforming Country --> \", end = ' ')\n",
    "        func()\n",
    "        print(\"------------Country Transformed------------\")\n",
    "    return TransformingCountry\n",
    "\n",
    "def US():\n",
    "    print(\"US is the Transformed City no need for Transforming\")\n",
    "\n",
    "def India():\n",
    "    print(\"India is Developing City, hence its needed to be Transformed\")\n",
    "\n",
    "def Germany():\n",
    "    print(\"Germany is the Transformed City no need for Transforming\")\n",
    "\n",
    "def Mexico():\n",
    "    print(\"Mexico is under developed City, hence its needed to be Transformed\")\n",
    "\n",
    "States = US()\n",
    "\n",
    "IN = decor_function(India)\n",
    "IN()\n",
    "\n",
    "MX = decor_function(Mexico)\n",
    "MX()\n",
    "\n",
    "DE = Germany()\n"
   ]
  },
  {
   "cell_type": "markdown",
   "metadata": {},
   "source": [
    "#### **Discussion2**\n",
    "- But what if \"div\" function is not written by us i.e. the source code of \"div\" is not available?"
   ]
  },
  {
   "cell_type": "code",
   "execution_count": 37,
   "metadata": {},
   "outputs": [
    {
     "name": "stdout",
     "output_type": "stream",
     "text": [
      "2.0\n"
     ]
    }
   ],
   "source": [
    "def div(a,b):\n",
    "    print(a/b)\n",
    "\n",
    "div(8,4)"
   ]
  },
  {
   "cell_type": "code",
   "execution_count": 38,
   "metadata": {},
   "outputs": [
    {
     "name": "stdout",
     "output_type": "stream",
     "text": [
      "0.5\n"
     ]
    }
   ],
   "source": [
    "def div(a,b):\n",
    "    print(a/b)\n",
    "\n",
    "div(4,8)   # what if numerator is less than denominator, how will you change the function?"
   ]
  },
  {
   "cell_type": "code",
   "execution_count": 39,
   "metadata": {},
   "outputs": [
    {
     "name": "stdout",
     "output_type": "stream",
     "text": [
      "2.0\n"
     ]
    }
   ],
   "source": [
    "def div(a,b):\n",
    "    if(a<b):\n",
    "        a,b=b,a   # logic to swap numerator and denominator if former is less that later\n",
    "    print(a/b)\n",
    "\n",
    "div(4,8)   "
   ]
  },
  {
   "cell_type": "code",
   "execution_count": 40,
   "metadata": {},
   "outputs": [
    {
     "name": "stdout",
     "output_type": "stream",
     "text": [
      "2.0\n"
     ]
    }
   ],
   "source": [
    "def div(a,b):\n",
    "    print(a/b)\n",
    "\n",
    "def my_div(fun):        # this is the decorator function which takes another function as an argument, invoke it and return it\n",
    "    def actual_logic(a,b):  # closure\n",
    "        if a<b:\n",
    "            a,b=b,a\n",
    "        fun(a,b)\n",
    "    return actual_logic\n",
    "\n",
    "div1=my_div(div) \n",
    "div1(4,8)  \n",
    "\n",
    "# place the breakpoints at \"print\",\"if\",both the \"return\" statements and observe the call stack\n",
    "# also observe varibles \"a\" and \"b\" inside variables section"
   ]
  },
  {
   "cell_type": "markdown",
   "metadata": {},
   "source": [
    "#### **Discussion3**\n"
   ]
  },
  {
   "cell_type": "markdown",
   "metadata": {},
   "source": [
    "**Debug and understand the control flow here**"
   ]
  },
  {
   "cell_type": "code",
   "execution_count": 43,
   "metadata": {},
   "outputs": [
    {
     "name": "stdout",
     "output_type": "stream",
     "text": [
      "Initialising Resources\n",
      "Important task2\n",
      "Releasing Resources\n",
      "Initialising Resources\n",
      "Important task3\n",
      "Releasing Resources\n",
      "Initialising Resources\n",
      "Important task4\n",
      "Releasing Resources\n"
     ]
    }
   ],
   "source": [
    "# we have a solution for this. We can go for \"Decorator\" function.\n",
    "# let's write initialization and release\n",
    "\n",
    "def decor_function(myfun):\n",
    "    def with_init_release():\n",
    "        print(\"Initialising Resources\")\n",
    "        myfun()\n",
    "        print(\"Releasing Resources\")\n",
    "    return with_init_release\n",
    "\n",
    "@decor_function                  #  when you don't want to initialize or release remove the annotation\n",
    "def fun1():\n",
    "    print(\"Important task1\")\n",
    "\n",
    "@decor_function\n",
    "def fun2():\n",
    "    print(\"Important task2\")\n",
    "\n",
    "@decor_function\n",
    "def fun3():\n",
    "    print(\"Important task3\")\n",
    "\n",
    "@decor_function\n",
    "def fun4():\n",
    "    print(\"Important task4\")\n",
    "    \n",
    "fun1  # The moment \"fun1\" statement is encountered, \"decor_function\" gets called [by passing \"fun1\" as an argument]\n",
    "# which returns \"with_init_release\" function.\n",
    "# but we do not invoke it, hence there is no output. Same for all the following statements.\n",
    "\n",
    "fun2()\n",
    "fun3()\n",
    "fun4()\n",
    "\n",
    "# place breakpoint at all the print statements and at the \"return\" statement and observe the call stack"
   ]
  },
  {
   "cell_type": "code",
   "execution_count": 60,
   "metadata": {},
   "outputs": [
    {
     "name": "stdout",
     "output_type": "stream",
     "text": [
      "US is the Transformed City no need for Transforming\n",
      "\n",
      "Transforming Country -->  India is Developing City, hence its needed to be Transformed\n",
      "------------Country Transformed------------\n",
      "\n",
      "Transforming Country -->  Mexico is under developed City, hence its needed to be Transformed\n",
      "------------Country Transformed------------\n",
      "\n",
      "Germany is the Transformed City no need for Transforming\n",
      "\n"
     ]
    }
   ],
   "source": [
    "def decor_function(func):\n",
    "    def TransformingCountry():\n",
    "        print(\"Transforming Country --> \", end = ' ')\n",
    "        func()\n",
    "        print(\"------------Country Transformed------------\\n\")\n",
    "    return TransformingCountry\n",
    "\n",
    "def US():\n",
    "    print(\"US is the Transformed City no need for Transforming\\n\")\n",
    "\n",
    "@decor_function\n",
    "def India():\n",
    "    print(\"India is Developing City, hence its needed to be Transformed\")\n",
    "\n",
    "def Germany():\n",
    "    print(\"Germany is the Transformed City no need for Transforming\\n\")\n",
    "\n",
    "@decor_function\n",
    "def Mexico():\n",
    "    print(\"Mexico is under developed City, hence its needed to be Transformed\")\n",
    "\n",
    "US()\n",
    "\n",
    "India()\n",
    "\n",
    "Mexico()\n",
    "\n",
    "Germany()\n",
    "\n"
   ]
  },
  {
   "cell_type": "code",
   "execution_count": 42,
   "metadata": {},
   "outputs": [
    {
     "name": "stdout",
     "output_type": "stream",
     "text": [
      "Initialising Resources\n",
      "Important task1\n",
      "Releasing Resources\n",
      "Initialising Resources\n",
      "Important task2\n",
      "Releasing Resources\n",
      "Initialising Resources\n",
      "Important task3\n",
      "Releasing Resources\n",
      "Initialising Resources\n",
      "Important task4\n",
      "Releasing Resources\n"
     ]
    }
   ],
   "source": [
    "# we have a solution for this. We can go for \"Decorator\" function.\n",
    "# let's write initialization and release \n",
    "\n",
    "def decor_function(myfun):\n",
    "    def with_init_release():\n",
    "        print(\"Initialising Resources\")\n",
    "        myfun()\n",
    "        print(\"Releasing Resources\")\n",
    "    return with_init_release\n",
    "\n",
    "@decor_function                  #  when you don't want to initialize or release remove the annotation\n",
    "def fun1():\n",
    "    print(\"Important task1\")\n",
    "\n",
    "@decor_function\n",
    "def fun2():\n",
    "    print(\"Important task2\")\n",
    "\n",
    "@decor_function\n",
    "def fun3():\n",
    "    print(\"Important task3\")\n",
    "\n",
    "@decor_function\n",
    "def fun4():\n",
    "    print(\"Important task4\") \n",
    "    \n",
    "fun1()  # The moment \"fun1\" statement is encountered, \"decor_function\" gets called [by passing fun1 as an argument] which returns \"with_init_release\" function.\n",
    "# here we invoke it using (), hence \"with_init_release\" function gets called [which calls \"fun1\"] and we get the output. Same for all the \n",
    "# following statements.\n",
    "\n",
    "fun2()\n",
    "fun3()\n",
    "fun4()\n",
    "\n",
    "# place breakpoint at all the print statements and at the \"return\" statement and observe the call stack"
   ]
  },
  {
   "cell_type": "markdown",
   "metadata": {},
   "source": [
    "## **Function Overloading**"
   ]
  },
  {
   "cell_type": "code",
   "execution_count": null,
   "metadata": {},
   "outputs": [],
   "source": [
    "# The problem with method overloading in Python is that we may # overload the methods \n",
    "# but can only use the latest defined method.\n",
    "\n",
    "def fun1():\n",
    "    print(\"fun1 with 0 arg\")\n",
    "def fun1(num1):\n",
    "    print(\"fun1 with 1 arg\")\n",
    "def fun1(num1,num2):\n",
    "    print(\"fun1 with 2 args\")\n",
    "\n",
    "# fun1()   #  TypeError: fun1() missing 2 required positional arguments: 'num1' and 'num2'\n",
    "\n",
    "# fun1(10) #  TypeError: fun1() missing 2 required positional arguments: 'num1' and 'num2'\n",
    "\n",
    "fun1(30,40) # No problem"
   ]
  },
  {
   "cell_type": "markdown",
   "metadata": {},
   "source": [
    "#### **Another way of overloading**"
   ]
  },
  {
   "cell_type": "code",
   "execution_count": 61,
   "metadata": {},
   "outputs": [
    {
     "name": "stdout",
     "output_type": "stream",
     "text": [
      "80\n",
      "12\n",
      "17.204\n"
     ]
    }
   ],
   "source": [
    "# When a function decorated with @dispatch is called, \n",
    "# the library inspects the arguments passed to the function \n",
    "# and dispatches the call to the appropriate implementation \n",
    "# based on the type and number of arguments.\n",
    "# new dicgtionary gets created in sidpatch where that dict stores info about overloaded functions in key-value pair.\n",
    "\n",
    "from multipledispatch import dispatch\n",
    "  \n",
    "#passing two parameters\n",
    "@dispatch(int,int)\n",
    "def product(first,second):\n",
    "    result = first*second\n",
    "    print(result)\n",
    "  \n",
    "#passing three parameters\n",
    "@dispatch(int,int,int)\n",
    "def product(first,second,third):\n",
    "    result  = first * second * third\n",
    "    print(result)\n",
    "  \n",
    "#you can also pass data type of any value as per requirement\n",
    "@dispatch(float,float,float)\n",
    "def product(first,second,third):\n",
    "    result  = first * second * third\n",
    "    print(result)\n",
    "  \n",
    "  \n",
    "#calling product method with 2 arguments\n",
    "product(20,4)\n",
    "product(2,3,2)\n",
    "product(2.2,3.4,2.3) \n",
    "\n"
   ]
  },
  {
   "cell_type": "markdown",
   "metadata": {},
   "source": [
    "In another programming languages \n",
    "\n",
    "we've **NAME MANGLING** or **NAME DECORATOR**\n",
    "\n",
    "where it chnages the name of fucntion like belwo\n",
    "\n",
    "        void disp(int p){       # disp_int\n",
    "\n",
    "        }\n",
    "\n",
    "        void disp(float p){ #disp_float\n",
    "\n",
    "        }"
   ]
  },
  {
   "cell_type": "code",
   "execution_count": 44,
   "metadata": {},
   "outputs": [
    {
     "name": "stdout",
     "output_type": "stream",
     "text": [
      "Inside str method\t hello \t world\n",
      "Inside int method\t 100 \t 200\n"
     ]
    }
   ],
   "source": [
    "from multipledispatch import dispatch\n",
    "\n",
    "@dispatch(int,int)\n",
    "def disp(val1,val2):\n",
    "    print(\"Inside int method\\t\",val1,\"\\t\",val2)\n",
    "\n",
    "@dispatch(str,str)\n",
    "def disp(val1,val2):\n",
    "    print(\"Inside str method\\t\",val1,\"\\t\",val2)\n",
    "\n",
    "disp(\"hello\",\"world\")\n",
    "disp(100,200)"
   ]
  },
  {
   "cell_type": "code",
   "execution_count": 47,
   "metadata": {},
   "outputs": [
    {
     "name": "stdout",
     "output_type": "stream",
     "text": [
      "80\n",
      "12\n",
      "17.204\n",
      "<__main__.Sample object at 0x000002853E106B50>\n"
     ]
    }
   ],
   "source": [
    "# When a function decorated with @dispatch is called,\n",
    "# the library inspects the arguments passed to the function\n",
    "# and dispatches the call to the appropriate implementation\n",
    "# based on the type and number of arguments.\n",
    "\n",
    "from multipledispatch import dispatch\n",
    "\n",
    "class Sample:\n",
    "    pass\n",
    "\n",
    "@dispatch(Sample)\n",
    "def product(first):\n",
    "    print(first)\n",
    "\n",
    "# passing two parameters\n",
    "@dispatch(int, int)\n",
    "def product(first, second):\n",
    "    result = first * second\n",
    "    print(result)\n",
    "\n",
    "\n",
    "# passing three parameters\n",
    "@dispatch(int, int, int)\n",
    "def product(first, second, third):\n",
    "    result = first * second * third\n",
    "    print(result)\n",
    "\n",
    "\n",
    "# you can also pass data type of any value as per requirement\n",
    "@dispatch(float, float, float)\n",
    "def product(first, second, third):\n",
    "    result = first * second * third\n",
    "    print(result)\n",
    "\n",
    "\n",
    "\n",
    "# calling product method with 2 arguments\n",
    "product(20, 4)\n",
    "product(2, 3, 2)\n",
    "product(2.2, 3.4, 2.3)\n",
    "s1=Sample()\n",
    "product(s1)\n",
    "\n"
   ]
  }
 ],
 "metadata": {
  "kernelspec": {
   "display_name": "base",
   "language": "python",
   "name": "python3"
  },
  "language_info": {
   "codemirror_mode": {
    "name": "ipython",
    "version": 3
   },
   "file_extension": ".py",
   "mimetype": "text/x-python",
   "name": "python",
   "nbconvert_exporter": "python",
   "pygments_lexer": "ipython3",
   "version": "3.11.10"
  }
 },
 "nbformat": 4,
 "nbformat_minor": 2
}
