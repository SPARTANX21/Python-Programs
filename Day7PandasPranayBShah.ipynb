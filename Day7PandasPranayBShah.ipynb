{
 "cells": [
  {
   "cell_type": "markdown",
   "metadata": {},
   "source": [
    "# **Day7 - Pandas - PranayBShah**"
   ]
  },
  {
   "cell_type": "markdown",
   "metadata": {},
   "source": [
    "> **Pandas** stands for \"**Panel Data**\" and is the core library for data manipulation and data analysis.\n",
    "It consists of single and multidimensional data-structures for data manipulation.\n",
    "single dimensional data structure is known as \"Series objects\" and multi-dimensional data structure is known as \"Data Frame\".\n",
    "In pandas, we can import data from various file formats like JSON, CSV(comma-separated values), Microsoft Excel, etc.\n",
    "\n",
    ">> When we have to work on Tabular data, we prefer the pandas module.When we have to work on Numerical data, we prefer the numpy module.\n",
    "\n",
    ">> The powerful tools of pandas are Data frame and Series. Whereas the powerful tool of numpy is Arrays.\n",
    "\n",
    "\n",
    "\n"
   ]
  },
  {
   "cell_type": "code",
   "execution_count": 41,
   "metadata": {},
   "outputs": [
    {
     "name": "stdout",
     "output_type": "stream",
     "text": [
      "0    10\n",
      "1    20\n",
      "2    30\n",
      "3    40\n",
      "4    50\n",
      "5    60\n",
      "6    70\n",
      "dtype: int64\n"
     ]
    }
   ],
   "source": [
    "import pandas as pd \n",
    "\n",
    "first = pd.Series([10,20,30,40,50,60,70])\n",
    "print(first)"
   ]
  },
  {
   "cell_type": "markdown",
   "metadata": {},
   "source": [
    "Ex1a"
   ]
  },
  {
   "cell_type": "code",
   "execution_count": 42,
   "metadata": {},
   "outputs": [
    {
     "name": "stdout",
     "output_type": "stream",
     "text": [
      "0       10\n",
      "1      2.8\n",
      "2     True\n",
      "3       40\n",
      "4    hello\n",
      "dtype: object\n",
      "********\n",
      "RangeIndex(start=0, stop=5, step=1)\n",
      "********\n",
      "[10 2.8 True 40 'hello']\n"
     ]
    }
   ],
   "source": [
    "# Series object is a one-dimensional labelled or indexed  array\n",
    "\n",
    "import pandas as pd\n",
    "\n",
    "first=pd.Series([10,2.8,True,40,\"hello\"])\n",
    "print(first)\n",
    "print(\"********\")\n",
    "print(first.index)\n",
    "print(\"********\")\n",
    "print(first.values)"
   ]
  },
  {
   "cell_type": "markdown",
   "metadata": {},
   "source": [
    "Ex1b"
   ]
  },
  {
   "cell_type": "code",
   "execution_count": 44,
   "metadata": {},
   "outputs": [
    {
     "name": "stdout",
     "output_type": "stream",
     "text": [
      "enter values, 0 to exit\n",
      "0    10\n",
      "1    20\n",
      "2    30\n",
      "dtype: int64\n"
     ]
    }
   ],
   "source": [
    "# accept input\n",
    "\n",
    "from pandas import *\n",
    "\n",
    "mylist=[]\n",
    "print(\"enter values, 0 to exit\")\n",
    "\n",
    "while True:\n",
    "    val=int(input())\n",
    "    if(val==0):\n",
    "        break\n",
    "    mylist.append(val)\n",
    "\n",
    "myseries=Series(mylist)\n",
    "print(myseries)\n"
   ]
  },
  {
   "cell_type": "markdown",
   "metadata": {},
   "source": [
    "Ex1c"
   ]
  },
  {
   "cell_type": "code",
   "execution_count": 45,
   "metadata": {},
   "outputs": [
    {
     "name": "stdout",
     "output_type": "stream",
     "text": [
      "0    100\n",
      "1    200\n",
      "2    300\n",
      "3    400\n",
      "4    500\n",
      "dtype: int64\n"
     ]
    }
   ],
   "source": [
    "# create panda series using tuple\n",
    "\n",
    "from pandas import *\n",
    "\n",
    "mytuple=(100,200,300,400,500)\n",
    "myseries=Series(mytuple)\n",
    "print(myseries)\n"
   ]
  },
  {
   "cell_type": "markdown",
   "metadata": {},
   "source": [
    "Ex1d"
   ]
  },
  {
   "cell_type": "code",
   "execution_count": 46,
   "metadata": {},
   "outputs": [
    {
     "name": "stdout",
     "output_type": "stream",
     "text": [
      "0    10\n",
      "1    20\n",
      "2    30\n",
      "3    40\n",
      "4    50\n",
      "dtype: int64\n",
      "*************\n",
      "10\n",
      "20\n",
      "30\n",
      "40\n",
      "50\n"
     ]
    }
   ],
   "source": [
    "# if you don't want to print index\n",
    "\n",
    "import pandas as pd\n",
    "\n",
    "first=pd.Series([10,20,30,40,50])\n",
    "print(first)\n",
    "print(\"*************\")\n",
    "print(first.to_string(index=False))"
   ]
  },
  {
   "cell_type": "markdown",
   "metadata": {},
   "source": [
    "Ex2"
   ]
  },
  {
   "cell_type": "code",
   "execution_count": 47,
   "metadata": {},
   "outputs": [
    {
     "name": "stdout",
     "output_type": "stream",
     "text": [
      "0    100\n",
      "1    200\n",
      "2    300\n",
      "3    400\n",
      "4    500\n",
      "dtype: int64\n",
      "\n",
      "\n",
      "<class 'pandas.core.series.Series'>\n"
     ]
    }
   ],
   "source": [
    "# Series object is a one-dimensional labelled or indexed array\n",
    "\n",
    "from pandas import *\n",
    "\n",
    "first=Series([100,200,300,400,500])\n",
    "print(first)\n",
    "print(\"\\n\")\n",
    "print(type(first))\n"
   ]
  },
  {
   "cell_type": "markdown",
   "metadata": {},
   "source": [
    "Ex3"
   ]
  },
  {
   "cell_type": "code",
   "execution_count": 48,
   "metadata": {},
   "outputs": [
    {
     "name": "stdout",
     "output_type": "stream",
     "text": [
      "p    10\n",
      "q    20\n",
      "r    30\n",
      "s    40\n",
      "t    50\n",
      "dtype: int64\n"
     ]
    }
   ],
   "source": [
    "# we can change the labels or indexes\n",
    "from pandas import *\n",
    "\n",
    "first=Series([10,20,30,40,50],index=['p','q','r','s','t'])\n",
    "print(first)"
   ]
  },
  {
   "cell_type": "markdown",
   "metadata": {},
   "source": [
    "Ex3a"
   ]
  },
  {
   "cell_type": "code",
   "execution_count": 49,
   "metadata": {},
   "outputs": [
    {
     "ename": "ValueError",
     "evalue": "Length of values (5) does not match length of index (3)",
     "output_type": "error",
     "traceback": [
      "\u001b[1;31m---------------------------------------------------------------------------\u001b[0m",
      "\u001b[1;31mValueError\u001b[0m                                Traceback (most recent call last)",
      "Cell \u001b[1;32mIn[49], line 4\u001b[0m\n\u001b[0;32m      1\u001b[0m \u001b[38;5;66;03m# we can change the labels or indexes\u001b[39;00m\n\u001b[0;32m      2\u001b[0m \u001b[38;5;28;01mfrom\u001b[39;00m \u001b[38;5;21;01mpandas\u001b[39;00m \u001b[38;5;28;01mimport\u001b[39;00m \u001b[38;5;241m*\u001b[39m\n\u001b[1;32m----> 4\u001b[0m first\u001b[38;5;241m=\u001b[39m\u001b[43mSeries\u001b[49m\u001b[43m(\u001b[49m\u001b[43m[\u001b[49m\u001b[38;5;241;43m10\u001b[39;49m\u001b[43m,\u001b[49m\u001b[38;5;241;43m20\u001b[39;49m\u001b[43m,\u001b[49m\u001b[38;5;241;43m30\u001b[39;49m\u001b[43m,\u001b[49m\u001b[38;5;241;43m40\u001b[39;49m\u001b[43m,\u001b[49m\u001b[38;5;241;43m50\u001b[39;49m\u001b[43m]\u001b[49m\u001b[43m,\u001b[49m\u001b[43mindex\u001b[49m\u001b[38;5;241;43m=\u001b[39;49m\u001b[43m[\u001b[49m\u001b[38;5;124;43m'\u001b[39;49m\u001b[38;5;124;43mp\u001b[39;49m\u001b[38;5;124;43m'\u001b[39;49m\u001b[43m,\u001b[49m\u001b[38;5;124;43m'\u001b[39;49m\u001b[38;5;124;43mq\u001b[39;49m\u001b[38;5;124;43m'\u001b[39;49m\u001b[43m,\u001b[49m\u001b[38;5;124;43m'\u001b[39;49m\u001b[38;5;124;43mr\u001b[39;49m\u001b[38;5;124;43m'\u001b[39;49m\u001b[43m]\u001b[49m\u001b[43m)\u001b[49m   \u001b[38;5;66;03m# ValueError: Length of values (5) does not match length of index (3)\u001b[39;00m\n\u001b[0;32m      5\u001b[0m \u001b[38;5;28mprint\u001b[39m(first)\n",
      "File \u001b[1;32mc:\\Users\\RKC\\anaconda3\\Lib\\site-packages\\pandas\\core\\series.py:575\u001b[0m, in \u001b[0;36mSeries.__init__\u001b[1;34m(self, data, index, dtype, name, copy, fastpath)\u001b[0m\n\u001b[0;32m    573\u001b[0m     index \u001b[38;5;241m=\u001b[39m default_index(\u001b[38;5;28mlen\u001b[39m(data))\n\u001b[0;32m    574\u001b[0m \u001b[38;5;28;01melif\u001b[39;00m is_list_like(data):\n\u001b[1;32m--> 575\u001b[0m     \u001b[43mcom\u001b[49m\u001b[38;5;241;43m.\u001b[39;49m\u001b[43mrequire_length_match\u001b[49m\u001b[43m(\u001b[49m\u001b[43mdata\u001b[49m\u001b[43m,\u001b[49m\u001b[43m \u001b[49m\u001b[43mindex\u001b[49m\u001b[43m)\u001b[49m\n\u001b[0;32m    577\u001b[0m \u001b[38;5;66;03m# create/copy the manager\u001b[39;00m\n\u001b[0;32m    578\u001b[0m \u001b[38;5;28;01mif\u001b[39;00m \u001b[38;5;28misinstance\u001b[39m(data, (SingleBlockManager, SingleArrayManager)):\n",
      "File \u001b[1;32mc:\\Users\\RKC\\anaconda3\\Lib\\site-packages\\pandas\\core\\common.py:573\u001b[0m, in \u001b[0;36mrequire_length_match\u001b[1;34m(data, index)\u001b[0m\n\u001b[0;32m    569\u001b[0m \u001b[38;5;250m\u001b[39m\u001b[38;5;124;03m\"\"\"\u001b[39;00m\n\u001b[0;32m    570\u001b[0m \u001b[38;5;124;03mCheck the length of data matches the length of the index.\u001b[39;00m\n\u001b[0;32m    571\u001b[0m \u001b[38;5;124;03m\"\"\"\u001b[39;00m\n\u001b[0;32m    572\u001b[0m \u001b[38;5;28;01mif\u001b[39;00m \u001b[38;5;28mlen\u001b[39m(data) \u001b[38;5;241m!=\u001b[39m \u001b[38;5;28mlen\u001b[39m(index):\n\u001b[1;32m--> 573\u001b[0m     \u001b[38;5;28;01mraise\u001b[39;00m \u001b[38;5;167;01mValueError\u001b[39;00m(\n\u001b[0;32m    574\u001b[0m         \u001b[38;5;124m\"\u001b[39m\u001b[38;5;124mLength of values \u001b[39m\u001b[38;5;124m\"\u001b[39m\n\u001b[0;32m    575\u001b[0m         \u001b[38;5;124mf\u001b[39m\u001b[38;5;124m\"\u001b[39m\u001b[38;5;124m(\u001b[39m\u001b[38;5;132;01m{\u001b[39;00m\u001b[38;5;28mlen\u001b[39m(data)\u001b[38;5;132;01m}\u001b[39;00m\u001b[38;5;124m) \u001b[39m\u001b[38;5;124m\"\u001b[39m\n\u001b[0;32m    576\u001b[0m         \u001b[38;5;124m\"\u001b[39m\u001b[38;5;124mdoes not match length of index \u001b[39m\u001b[38;5;124m\"\u001b[39m\n\u001b[0;32m    577\u001b[0m         \u001b[38;5;124mf\u001b[39m\u001b[38;5;124m\"\u001b[39m\u001b[38;5;124m(\u001b[39m\u001b[38;5;132;01m{\u001b[39;00m\u001b[38;5;28mlen\u001b[39m(index)\u001b[38;5;132;01m}\u001b[39;00m\u001b[38;5;124m)\u001b[39m\u001b[38;5;124m\"\u001b[39m\n\u001b[0;32m    578\u001b[0m     )\n",
      "\u001b[1;31mValueError\u001b[0m: Length of values (5) does not match length of index (3)"
     ]
    }
   ],
   "source": [
    "# we can change the labels or indexes\n",
    "from pandas import *\n",
    "\n",
    "first=Series([10,20,30,40,50],index=['p','q','r'])   # ValueError: Length of values (5) does not match length of index (3)\n",
    "print(first)"
   ]
  },
  {
   "cell_type": "markdown",
   "metadata": {},
   "source": [
    "Ex3b"
   ]
  },
  {
   "cell_type": "code",
   "execution_count": 50,
   "metadata": {},
   "outputs": [
    {
     "name": "stdout",
     "output_type": "stream",
     "text": [
      "hello    10\n",
      "q        20\n",
      "3        30\n",
      "6.7      40\n",
      "False    50\n",
      "dtype: int64\n"
     ]
    }
   ],
   "source": [
    "# labels or indexes can be of any type\n",
    "from pandas import *\n",
    "\n",
    "first=Series([10,20,30,40,50],index=['hello','q',3,6.7,False])\n",
    "print(first)"
   ]
  },
  {
   "cell_type": "markdown",
   "metadata": {},
   "source": [
    "Ex4"
   ]
  },
  {
   "cell_type": "code",
   "execution_count": 51,
   "metadata": {},
   "outputs": [
    {
     "name": "stdout",
     "output_type": "stream",
     "text": [
      "{1: 'Sachin', 2: 'Rahul', 3: 'Anil', 4: 'Rohit'}\n",
      "\n",
      "\n",
      "<class 'dict'>\n",
      "Let's create Series from a dictionary\n",
      "1    Sachin\n",
      "2     Rahul\n",
      "3      Anil\n",
      "4     Rohit\n",
      "dtype: object\n",
      "Index([1, 2, 3, 4], dtype='int64')\n",
      "['Sachin' 'Rahul' 'Anil' 'Rohit']\n"
     ]
    }
   ],
   "source": [
    "# How to create series object from dictionary\n",
    "from pandas import *\n",
    "\n",
    "mydict=({1:'Sachin',2:'Rahul',3:'Anil',4:'Rohit'})\n",
    "print(mydict)\n",
    "\n",
    "print(\"\\n\")\n",
    "print(type(mydict))\n",
    "\n",
    "print(\"Let's create Series from a dictionary\")\n",
    "myseries=Series(mydict)\n",
    "\n",
    "print(myseries)\n",
    "print(myseries.index)\n",
    "print(myseries.values)"
   ]
  },
  {
   "cell_type": "markdown",
   "metadata": {},
   "source": [
    "Ex5"
   ]
  },
  {
   "cell_type": "code",
   "execution_count": 52,
   "metadata": {},
   "outputs": [
    {
     "name": "stdout",
     "output_type": "stream",
     "text": [
      "0    10\n",
      "1    20\n",
      "2    30\n",
      "3    40\n",
      "4    50\n",
      "dtype: int64\n",
      "a    10\n",
      "b    20\n",
      "c    30\n",
      "d    40\n",
      "e    50\n",
      "dtype: int64\n",
      "10\n",
      "a    10\n",
      "b    65\n",
      "c    30\n",
      "d    40\n",
      "e    50\n",
      "dtype: int64\n"
     ]
    },
    {
     "name": "stderr",
     "output_type": "stream",
     "text": [
      "C:\\Users\\RKC\\AppData\\Local\\Temp\\ipykernel_18192\\1172012514.py:9: FutureWarning: Series.__getitem__ treating keys as positions is deprecated. In a future version, integer keys will always be treated as labels (consistent with DataFrame behavior). To access a value by position, use `ser.iloc[pos]`\n",
      "  print(myseries[0])\n",
      "C:\\Users\\RKC\\AppData\\Local\\Temp\\ipykernel_18192\\1172012514.py:10: FutureWarning: Series.__setitem__ treating keys as positions is deprecated. In a future version, integer keys will always be treated as labels (consistent with DataFrame behavior). To set a value by position, use `ser.iloc[pos] = value`\n",
      "  myseries[1]=65   # possible\n"
     ]
    }
   ],
   "source": [
    "# changing index \n",
    "\n",
    "from pandas import *\n",
    "\n",
    "myseries=Series([10,20,30,40,50])\n",
    "print(myseries)\n",
    "myseries.index=['a','b','c','d','e']\n",
    "print(myseries)\n",
    "print(myseries[0])\n",
    "myseries[1]=65   # possible\n",
    "print(myseries)\n"
   ]
  },
  {
   "cell_type": "markdown",
   "metadata": {},
   "source": [
    "Ex6"
   ]
  },
  {
   "cell_type": "code",
   "execution_count": 53,
   "metadata": {},
   "outputs": [
    {
     "name": "stdout",
     "output_type": "stream",
     "text": [
      "0    10\n",
      "1    20\n",
      "2    30\n",
      "3    40\n",
      "4    50\n",
      "5    60\n",
      "6    70\n",
      "7    80\n",
      "dtype: int64\n",
      "\n",
      "\n",
      "60\n",
      "\n",
      "\n",
      "2    30\n",
      "3    40\n",
      "4    50\n",
      "5    60\n",
      "dtype: int64\n",
      "\n",
      "\n",
      "2    30\n",
      "3    40\n",
      "4    50\n",
      "dtype: int64\n",
      "\n",
      "\n",
      "0    10\n",
      "1    20\n",
      "2    30\n",
      "3    40\n",
      "dtype: int64\n",
      "\n",
      "\n",
      "3    40\n",
      "4    50\n",
      "5    60\n",
      "6    70\n",
      "7    80\n",
      "dtype: int64\n"
     ]
    }
   ],
   "source": [
    "# extracting elements from the series\n",
    "\n",
    "from pandas import *\n",
    "\n",
    "myseries=Series([10,20,30,40,50,60,70,80])\n",
    "print(myseries)\n",
    "print(\"\\n\")\n",
    "print(myseries[5])              # extract 5th element\n",
    "print(\"\\n\")\n",
    "print(myseries[2:6])            # extract elements from 2 to 5\n",
    "print(\"\\n\")\n",
    "print(myseries[-6:-3])          # extract elements from sixth last to fourth last\n",
    "print(\"\\n\")\n",
    "print(myseries[:4])             # extract first 4 elements\n",
    "print(\"\\n\")\n",
    "print(myseries[3:])             # extract elements from the 3rd position"
   ]
  },
  {
   "cell_type": "markdown",
   "metadata": {},
   "source": [
    "Ex7"
   ]
  },
  {
   "cell_type": "code",
   "execution_count": 54,
   "metadata": {},
   "outputs": [
    {
     "name": "stdout",
     "output_type": "stream",
     "text": [
      "0    10\n",
      "1    20\n",
      "2    30\n",
      "3    40\n",
      "4    50\n",
      "dtype: int64\n",
      "\n",
      "\n",
      "0    14\n",
      "1    24\n",
      "2    34\n",
      "3    44\n",
      "4    54\n",
      "dtype: int64\n",
      "\n",
      "\n",
      "0    11\n",
      "1    22\n",
      "2    33\n",
      "3    44\n",
      "4    55\n",
      "dtype: int64\n"
     ]
    }
   ],
   "source": [
    "# adding a scalar value to series elements  and adding two series\n",
    "\n",
    "from pandas import *\n",
    "myseries=Series([10,20,30,40,50])\n",
    "print(myseries)\n",
    "print(\"\\n\")\n",
    "print(myseries+4)\n",
    "print(\"\\n\")\n",
    "myseries1=Series([1,2,3,4,5])\n",
    "print(myseries+myseries1)"
   ]
  },
  {
   "cell_type": "markdown",
   "metadata": {},
   "source": [
    "Ex8"
   ]
  },
  {
   "cell_type": "code",
   "execution_count": 55,
   "metadata": {},
   "outputs": [
    {
     "name": "stdout",
     "output_type": "stream",
     "text": [
      "0    10\n",
      "1    20\n",
      "2    30\n",
      "3    40\n",
      "4    50\n",
      "5    60\n",
      "dtype: int64\n",
      "\n",
      "\n",
      "210\n",
      "\n",
      "\n",
      "0    13\n",
      "1    23\n",
      "2    33\n",
      "3    43\n",
      "4    53\n",
      "5    63\n",
      "dtype: int64\n",
      "\n",
      "\n",
      "0     5\n",
      "1    15\n",
      "2    25\n",
      "3    35\n",
      "4    45\n",
      "5    55\n",
      "dtype: int64\n",
      "\n",
      "\n",
      "0     5.0\n",
      "1    10.0\n",
      "2    15.0\n",
      "3    20.0\n",
      "4    25.0\n",
      "5    30.0\n",
      "dtype: float64\n",
      "\n",
      "\n",
      "0     40\n",
      "1     80\n",
      "2    120\n",
      "3    160\n",
      "4    200\n",
      "5    240\n",
      "dtype: int64\n"
     ]
    }
   ],
   "source": [
    "from pandas import *\n",
    "\n",
    "myseries=Series([10,20,30,40,50,60])\n",
    "print(myseries)\n",
    "print(\"\\n\")\n",
    "print(myseries.sum())\n",
    "print(\"\\n\")\n",
    "print(myseries.add(3))\n",
    "print(\"\\n\")\n",
    "print(myseries.subtract(5))\n",
    "print(\"\\n\")\n",
    "print(myseries.divide(2) )\n",
    "print(\"\\n\")\n",
    "print(myseries.mul(4))"
   ]
  },
  {
   "cell_type": "markdown",
   "metadata": {},
   "source": [
    "Ex9"
   ]
  },
  {
   "cell_type": "markdown",
   "metadata": {},
   "source": [
    "**Dataframe**"
   ]
  },
  {
   "cell_type": "code",
   "execution_count": 56,
   "metadata": {},
   "outputs": [
    {
     "name": "stdout",
     "output_type": "stream",
     "text": [
      "{'Name': ['Sachin', 'Rahul', 'Anil'], 'Age': [30, 35, 38]}\n",
      "     Name  Age\n",
      "0  Sachin   30\n",
      "1   Rahul   35\n",
      "2    Anil   38\n",
      "\n",
      "\n",
      "<class 'pandas.core.frame.DataFrame'>\n"
     ]
    }
   ],
   "source": [
    "# DataFrame is a two dimensional labelled data structure\n",
    "# DataFrame comprises of rows and columns\n",
    "\n",
    "from pandas import *\n",
    "\n",
    "mydict={\"Name\":['Sachin','Rahul','Anil'],\"Age\":[30,35,38]}\n",
    "print(mydict)\n",
    "mydataframe=DataFrame(mydict)\n",
    "print(mydataframe)\n",
    "print(\"\\n\")\n",
    "print(type(mydataframe))"
   ]
  },
  {
   "cell_type": "markdown",
   "metadata": {},
   "source": [
    "Ex9a"
   ]
  },
  {
   "cell_type": "code",
   "execution_count": 57,
   "metadata": {},
   "outputs": [
    {
     "name": "stdout",
     "output_type": "stream",
     "text": [
      "   proid  proname\n",
      "0      1     soap\n",
      "1      2  perfume\n",
      "2      3      deo\n",
      "3      4   powder\n",
      "******************************************\n",
      "[1, 2, 3, 4]\n",
      "******************************************\n",
      "[['soap', 1], ['perfume', 2], ['deo', 3], ['powder', 4]]\n",
      "******************************************\n",
      "[[1, 'soap'], [2, 'perfume'], [3, 'deo'], [4, 'powder']]\n"
     ]
    }
   ],
   "source": [
    "# extract DataFrame columns as list\n",
    "\n",
    "from pandas import *\n",
    "\n",
    "mydataframe=DataFrame({\"proid\":range(1,5),\"proname\":['soap','perfume','deo','powder']})\n",
    "print(mydataframe)\n",
    "print(\"******************************************\")\n",
    "\n",
    "mylist=mydataframe[\"proid\"].values.tolist()       # extract values of \"proid\" only and convert them to list\n",
    "print(mylist)\n",
    "print(\"******************************************\")\n",
    "\n",
    "mylist=mydataframe[[\"proname\",\"proid\"]].values.tolist() # extract values of \"proname and proid\" and convert them to list\n",
    "print(mylist)\n",
    "print(\"******************************************\")\n",
    "\n",
    "mylist1=mydataframe[[\"proid\",\"proname\"]].values.tolist()\n",
    "print(mylist1)"
   ]
  },
  {
   "cell_type": "markdown",
   "metadata": {},
   "source": [
    "Ex9_a_1"
   ]
  },
  {
   "cell_type": "code",
   "execution_count": 58,
   "metadata": {},
   "outputs": [
    {
     "name": "stdout",
     "output_type": "stream",
     "text": [
      "     0\n",
      "a  100\n",
      "b  101\n",
      "c  102\n",
      "d  103\n",
      "e  104\n",
      "     0\n",
      "a  100\n",
      "b  101\n",
      "c  102\n",
      "     0\n",
      "b  101\n",
      "e  104\n",
      "     0\n",
      "a  100\n",
      "b  101\n",
      "c  102\n"
     ]
    }
   ],
   "source": [
    "\"\"\"\n",
    "loc works on the given index of the dataframe rows\n",
    "iloc works on the original index (which always starts from the 0) of the dataframe rows\n",
    "\"\"\"\n",
    "\n",
    "# extract DataFrame rows as list\n",
    "\n",
    "from pandas import *\n",
    "\n",
    "mydata=DataFrame([100,101,102,103,104],index=['a','b','c','d','e'])\n",
    "print(mydata)\n",
    "print(mydata.loc['a':'c']) # rows from a to c\n",
    "print(mydata.loc[['b','e']]) # rows b and e\n",
    "print(mydata.iloc[0:3])\n",
    "\n"
   ]
  },
  {
   "cell_type": "code",
   "execution_count": 59,
   "metadata": {},
   "outputs": [
    {
     "name": "stdout",
     "output_type": "stream",
     "text": [
      "   proid  proname\n",
      "0      1     soap\n",
      "1      2  perfume\n",
      "2      3      deo\n",
      "3      4   powder\n",
      "[[2, 'perfume']]\n",
      "[[2, 'perfume'], [3, 'deo']]\n",
      "[[1, 'soap'], [2, 'perfume'], [3, 'deo']]\n",
      "[[3, 'deo'], [4, 'powder']]\n"
     ]
    }
   ],
   "source": [
    "\n",
    "\"\"\"\n",
    "One more example\n",
    "\n",
    "\"\"\"\n",
    "\n",
    "from pandas import *\n",
    "\n",
    "mydataframe=DataFrame({\"proid\":range(1,5),\"proname\":['soap','perfume','deo','powder']})\n",
    "print(mydataframe)\n",
    "mylist=mydataframe.loc[(mydataframe.proname=='perfume')].values.tolist()\n",
    "print(mylist)\n",
    "mylist=mydataframe.loc[(mydataframe.proname!='soap') & (mydataframe.proname!='powder')].values.tolist()\n",
    "print(mylist)\n",
    "mylist=mydataframe.iloc[:3].values.tolist();\n",
    "print(mylist)\n",
    "\n",
    "# [2:4,:2] means 2 to 3 rows and 0 to 1 columns\n",
    "# i.e. 2nd and 3rd row with only column no. 0\n",
    "mylist=mydataframe.iloc[2:4,:2].values.tolist();\n",
    "print(mylist)\n"
   ]
  },
  {
   "cell_type": "markdown",
   "metadata": {},
   "source": [
    "Ex9b"
   ]
  },
  {
   "cell_type": "code",
   "execution_count": 60,
   "metadata": {},
   "outputs": [
    {
     "name": "stdout",
     "output_type": "stream",
     "text": [
      "   proid  proname\n",
      "0      1     soap\n",
      "1      2  perfume\n",
      "2      3      deo\n",
      "3      4   powder\n",
      "[[1, 'soap']]\n",
      "\n",
      "\n",
      "[[1, 'soap'], [2, 'perfume']]\n",
      "[[2, 'perfume'], [4, 'powder']]\n",
      "[[1, 'soap'], [2, 'perfume'], [3, 'deo'], [4, 'powder']]\n",
      "[[1], [2], [3], [4]]\n",
      "[[2], [3]]\n"
     ]
    }
   ],
   "source": [
    "# extract DataFrame rows as list\n",
    "\n",
    "from pandas import *\n",
    "\n",
    "mydataframe=DataFrame({\"proid\":range(1,5),\"proname\":['soap','perfume','deo','powder']})\n",
    "print(mydataframe)\n",
    "mylist=mydataframe.loc[[0]].values.tolist()\n",
    "print(mylist)\n",
    "print(\"\\n\")\n",
    "mylist=mydataframe.loc[[0,1]].values.tolist()   # extract 0 and 1 rows\n",
    "print(mylist)\n",
    "mylist=mydataframe.loc[[1,3]].values.tolist()   # extract row no. 1 and 3 \n",
    "print(mylist)\n",
    "mylist=mydataframe.values.tolist()                # extract all rows\n",
    "print(mylist)\n",
    "mylist=mydataframe.iloc[:,0:1].values.tolist()    #  extract all rows of 0 to 1 columns, 1 is exclusive\n",
    "print(mylist)\n",
    "mylist=mydataframe.iloc[1:3,0:1].values.tolist()  # extract 1 to 3 rows and 0 to 1 columns, 3 and 1 are exclusive\n",
    "print(mylist)"
   ]
  },
  {
   "cell_type": "markdown",
   "metadata": {},
   "source": [
    "Ex9c\n"
   ]
  },
  {
   "cell_type": "code",
   "execution_count": 61,
   "metadata": {},
   "outputs": [
    {
     "name": "stdout",
     "output_type": "stream",
     "text": [
      "   proid  proname  price\n",
      "0      5     soap    120\n",
      "1      6  perfume    400\n",
      "2      7      deo    280\n",
      "3      8   powder    160\n",
      "[[5, 'soap', 120], [6, 'perfume', 400], [7, 'deo', 280], [8, 'powder', 160]]\n",
      "\n",
      "\n",
      "\n",
      "[[5, 120], [6, 400], [7, 280], [8, 160]]\n"
     ]
    }
   ],
   "source": [
    "# extract DataFrame columns randomly\n",
    "\n",
    "from pandas import *\n",
    "\n",
    "mydataframe=DataFrame({\"proid\":range(5,9),\"proname\":['soap','perfume','deo','powder'],\"price\":[120,400,280,160]})\n",
    "print(mydataframe)\n",
    "\n",
    "mylist=mydataframe.values.tolist()                # extract all rows\n",
    "print(mylist)\n",
    "print(\"\\n\\n\")\n",
    "mylist=mydataframe.iloc[:,[0,2]].values.tolist()    #  extract all rows of 0 and 2nd columns ( by skipping 1st column)\n",
    "print(mylist)"
   ]
  },
  {
   "cell_type": "markdown",
   "metadata": {},
   "source": [
    "Ex9d"
   ]
  },
  {
   "cell_type": "code",
   "execution_count": 62,
   "metadata": {},
   "outputs": [
    {
     "name": "stdout",
     "output_type": "stream",
     "text": [
      "   proid  proname  price\n",
      "0      5     soap    120\n",
      "1      6  perfume    400\n",
      "2      7      deo    280\n",
      "3      8   powder    160\n",
      "[[5, 'soap', 120], [6, 'perfume', 400], [7, 'deo', 280], [8, 'powder', 160]]\n",
      "\n",
      "\n",
      "\n",
      "[[6, 400], [8, 160]]\n"
     ]
    }
   ],
   "source": [
    "# extract DataFrame columns randomly\n",
    "\n",
    "from pandas import *\n",
    "\n",
    "mydataframe=DataFrame({\"proid\":range(5,9),\"proname\":['soap','perfume','deo','powder'],\"price\":[120,400,280,160]})\n",
    "print(mydataframe)\n",
    "\n",
    "mylist=mydataframe.values.tolist()                # extract all rows\n",
    "print(mylist)\n",
    "print(\"\\n\\n\")\n",
    "mylist=mydataframe.iloc[[1,3],[0,2]].values.tolist()    #  extract row no. 1 and 3 of 0 and 2nd columns \n",
    "print(mylist)"
   ]
  },
  {
   "cell_type": "markdown",
   "metadata": {},
   "source": [
    "Ex10"
   ]
  },
  {
   "cell_type": "code",
   "execution_count": 63,
   "metadata": {},
   "outputs": [
    {
     "name": "stdout",
     "output_type": "stream",
     "text": [
      "     name  age   address\n",
      "0   Rohit   35    mumbai\n",
      "1   Virat   36     delhi\n",
      "2  Sachin   50    mumbai\n",
      "3  Ashwin   38   chennai\n",
      "4  Bumrah   29    mumbai\n",
      "5   Shami   33  banglore\n",
      "6  Yuvraj   43     delhi\n",
      "7   Dhoni   43     delhi\n",
      "8     Sky   29    mumbai\n",
      "9   Umesh   30  banglore\n",
      "type of book is\t <class 'pandas.core.frame.DataFrame'>\n",
      "\n",
      "\n",
      "Let's print first 5 records\n",
      "     name  age  address\n",
      "0   Rohit   35   mumbai\n",
      "1   Virat   36    delhi\n",
      "2  Sachin   50   mumbai\n",
      "3  Ashwin   38  chennai\n",
      "4  Bumrah   29   mumbai\n",
      "\n",
      "\n",
      "let's print first 3 records\n",
      "     name  age address\n",
      "0   Rohit   35  mumbai\n",
      "1   Virat   36   delhi\n",
      "2  Sachin   50  mumbai\n",
      "print all the records except last 3 records\n"
     ]
    }
   ],
   "source": [
    "# DataFrame built-in functions\n",
    "# copy \"Book1.csv\" file inside pycharm project folder\n",
    "\n",
    "# e.g. copy \"Book1.csv\" file inside\n",
    "# \"C:\\Users\\Nitin\\PycharmProjects\\pythonProject\" folder.\n",
    "# Here \"pythonProject\" is assumed to be the name of the\n",
    "# project which we have created.\n",
    "\n",
    "from pandas import *\n",
    "path = r'A:\\CDAC_SM_VITA\\4_Python\\Day_7\\Pandas\\Examples\\Book1.csv'\n",
    "book=read_csv(path)\n",
    "print(book)\n",
    "print(\"type of book is\\t\",type(book))\n",
    "print(\"\\n\")\n",
    "print(\"Let's print first 5 records\")\n",
    "print(book.head()) # by default 0 to 5 , 5 is exclusive\n",
    "print(\"\\n\")\n",
    "print(\"let's print first 3 records\")\n",
    "print(book.head(3)) # 0 to 3 , 3 is exclusive\n",
    "# print(\"\\n\")\n",
    "print(\"print all the records except last 3 records\")\n"
   ]
  },
  {
   "cell_type": "code",
   "execution_count": 64,
   "metadata": {},
   "outputs": [
    {
     "name": "stdout",
     "output_type": "stream",
     "text": [
      "     name  age   address\n",
      "0   Rohit   35    mumbai\n",
      "1   Virat   36     delhi\n",
      "2  Sachin   50    mumbai\n",
      "3  Ashwin   38   chennai\n",
      "4  Bumrah   29    mumbai\n",
      "5   Shami   33  banglore\n",
      "6  Yuvraj   43     delhi\n",
      "Let's print last 5 records\n",
      "     name  age   address\n",
      "5   Shami   33  banglore\n",
      "6  Yuvraj   43     delhi\n",
      "7   Dhoni   43     delhi\n",
      "8     Sky   29    mumbai\n",
      "9   Umesh   30  banglore\n",
      "let's print last 2 records\n",
      "\n",
      "\n",
      "    name  age   address\n",
      "8    Sky   29    mumbai\n",
      "9  Umesh   30  banglore\n",
      "\n",
      "\n",
      "print all the records except first 3 records\n"
     ]
    }
   ],
   "source": [
    "\n",
    "# 0 to -4\n",
    "print(book.head(-3))   #  print all the records except last 3 records\n",
    "\n",
    "print(\"Let's print last 5 records\")\n",
    "print(book.tail())  #  [-5:]\n",
    "\n",
    "print(\"let's print last 2 records\")\n",
    "print(\"\\n\")\n",
    "\n",
    "print(book.tail(2))  # [-2:]\n",
    "print(\"\\n\")\n",
    "\n",
    "print(\"print all the records except first 3 records\")\n"
   ]
  },
  {
   "cell_type": "code",
   "execution_count": 65,
   "metadata": {},
   "outputs": [
    {
     "name": "stdout",
     "output_type": "stream",
     "text": [
      "     name  age   address\n",
      "3  Ashwin   38   chennai\n",
      "4  Bumrah   29    mumbai\n",
      "5   Shami   33  banglore\n",
      "6  Yuvraj   43     delhi\n",
      "7   Dhoni   43     delhi\n",
      "8     Sky   29    mumbai\n",
      "9   Umesh   30  banglore\n",
      "Total no. of rows and columns in the file\n",
      "(10, 3)\n",
      "\n",
      "\n",
      "             age\n",
      "count  10.000000\n",
      "mean   36.600000\n",
      "std     6.979335\n",
      "min    29.000000\n",
      "25%    30.750000\n",
      "50%    35.500000\n",
      "75%    41.750000\n",
      "max    50.000000\n",
      "\n",
      "\n",
      "Let's extract first 3 records with 2 columns only\n",
      "     name  age\n",
      "0   Rohit   35\n",
      "1   Virat   36\n",
      "2  Sachin   50\n",
      "\n",
      "\n",
      "     name  address\n",
      "0   Rohit   mumbai\n",
      "1   Virat    delhi\n",
      "2  Sachin   mumbai\n",
      "3  Ashwin  chennai\n",
      "4  Bumrah   mumbai\n",
      "Let's drop a particular column\n",
      "     name   address\n",
      "0   Rohit    mumbai\n",
      "1   Virat     delhi\n",
      "2  Sachin    mumbai\n",
      "3  Ashwin   chennai\n",
      "4  Bumrah    mumbai\n",
      "5   Shami  banglore\n",
      "6  Yuvraj     delhi\n",
      "7   Dhoni     delhi\n",
      "8     Sky    mumbai\n",
      "9   Umesh  banglore\n",
      "Let's drop some rows\n",
      "     name  age   address\n",
      "0   Rohit   35    mumbai\n",
      "1   Virat   36     delhi\n",
      "2  Sachin   50    mumbai\n",
      "7   Dhoni   43     delhi\n",
      "8     Sky   29    mumbai\n",
      "9   Umesh   30  banglore\n",
      "let's drop name column and 1,3 ,7 rows\n"
     ]
    }
   ],
   "source": [
    "#[-(-3):]\n",
    "print(book.tail(-3))  #  print all the records except first 3 records\n",
    "print(\"Total no. of rows and columns in the file\")\n",
    "print(book.shape)\n",
    "\n",
    "print(\"\\n\")\n",
    "print(book.describe())\n",
    "\n",
    "print(\"\\n\")\n",
    "print(\"Let's extract first 3 records with 2 columns only\")\n",
    "print(book.iloc[:3,:2])\n",
    "\n",
    "print(\"\\n\")\n",
    "print(book.loc[0:4,('name','address')])   #  Access a group of rows and columns by label(s) , 4 is inclusive here\n",
    "print(\"Let's drop a particular column\")\n",
    "print(book.drop(\"age\",axis=1))  # here axis=1  means we want to drop the column\n",
    "print(\"Let's drop some rows\")\n",
    "print(book.drop([3,4,5,6],axis=0))      # here axis=0  means we want to drop rows\n",
    "print(\"let's drop name column and 1,3 ,7 rows\")\n"
   ]
  },
  {
   "cell_type": "code",
   "execution_count": 67,
   "metadata": {},
   "outputs": [
    {
     "name": "stdout",
     "output_type": "stream",
     "text": [
      "   age   address\n",
      "0   35    mumbai\n",
      "2   50    mumbai\n",
      "4   29    mumbai\n",
      "5   33  banglore\n",
      "6   43     delhi\n",
      "8   29    mumbai\n",
      "9   30  banglore\n",
      "\n",
      "\n",
      "     name\n",
      "0   Rohit\n",
      "1   Virat\n",
      "2  Sachin\n",
      "3  Ashwin\n",
      "4  Bumrah\n",
      "5   Shami\n",
      "6  Yuvraj\n",
      "7   Dhoni\n",
      "8     Sky\n",
      "9   Umesh\n"
     ]
    }
   ],
   "source": [
    "# instead of 1 and 0 you can mention 'columns' and 'rows' respectively\n",
    "\n",
    "# Columns can be dropped at the time of reading itself.\n",
    "print(book.drop((\"name\"),axis='columns').drop([1,3,7],axis='rows'))\n",
    "print(\"\\n\")\n",
    "cancel =['address','age']\n",
    "book1=read_csv(path).drop(cancel,axis='columns')\n",
    "print(book1)\n",
    "\n",
    "\n",
    "book1=read_csv(path).drop([0,1,2,3,4],axis='rows')\n",
    "print(book1)"
   ]
  },
  {
   "cell_type": "markdown",
   "metadata": {},
   "source": [
    "Ex10a\n",
    "\n",
    "- File handling "
   ]
  },
  {
   "cell_type": "code",
   "execution_count": 68,
   "metadata": {},
   "outputs": [
    {
     "name": "stdout",
     "output_type": "stream",
     "text": [
      "     name  age   address\n",
      "0   Rohit   35    mumbai\n",
      "1   Virat   36     delhi\n",
      "2  Sachin   50    mumbai\n",
      "3  Ashwin   38   chennai\n",
      "4  Bumrah   29    mumbai\n",
      "5   Shami   33  banglore\n",
      "6  Yuvraj   43     delhi\n",
      "7   Dhoni   43     delhi\n",
      "8     Sky   29    mumbai\n",
      "9   Umesh   30  banglore\n",
      "\n",
      "\n",
      "\n",
      "let's us read the file in a tradional way\n",
      "name,age,address\n",
      "\n",
      "Rohit,35,mumbai\n",
      "\n",
      "Virat,36,delhi\n",
      "\n",
      "Sachin,50,mumbai\n",
      "\n",
      "Ashwin,38,chennai\n",
      "\n",
      "Bumrah,29,mumbai\n",
      "\n",
      "Shami,33,banglore\n",
      "\n",
      "Yuvraj,43,delhi\n",
      "\n",
      "Dhoni,43,delhi\n",
      "\n",
      "Sky,29,mumbai\n",
      "\n",
      "Umesh,30,banglore\n",
      "\n",
      "Done\n"
     ]
    }
   ],
   "source": [
    "# difference between traditional reading and pandas way of reading\n",
    "# copy \"Book1.csv\" file inside pycharm project folder\n",
    "\n",
    "\n",
    "from pandas import *\n",
    "\n",
    "myfile=read_csv(path)\n",
    "\n",
    "print(myfile)\n",
    "print(\"\\n\\n\")\n",
    "print(\"let's us read the file in a tradional way\")\n",
    "\n",
    "f=open(path,\"r\")\n",
    "for content in f:\n",
    "\tprint(content)\n",
    "f.close()\n",
    "\n",
    "print(\"Done\")\n"
   ]
  },
  {
   "cell_type": "markdown",
   "metadata": {},
   "source": [
    "Ex10b"
   ]
  },
  {
   "cell_type": "code",
   "execution_count": 70,
   "metadata": {},
   "outputs": [
    {
     "name": "stdout",
     "output_type": "stream",
     "text": [
      "     Name  Age   Address\n",
      "0  Sachin   40    Mumbai\n",
      "1   Rahul   45  Banglore\n",
      "\n",
      "\n",
      "\n",
      "let's us read the file in a tradional way\n",
      "[\n",
      "\n",
      "\t{\n",
      "\n",
      "\t\t\"Name\": \"Sachin\",\n",
      "\n",
      "\t\t\"Age\":  40,\n",
      "\n",
      "\t\t\"Address\": \"Mumbai\"\n",
      "\n",
      "\t},\n",
      "\n",
      "\t{\n",
      "\n",
      "\t\t\"Name\": \"Rahul\",\n",
      "\n",
      "\t\t\"Age\": 45,\n",
      "\n",
      "\t\t\"Address\": \"Banglore\"\n",
      "\n",
      "\t}\n",
      "\n",
      "]\n",
      "Done\n"
     ]
    }
   ],
   "source": [
    "# difference between tradional reading and pandas way of reading\n",
    "\n",
    "from pandas import *\n",
    "\n",
    "pathjson = r\"Pandas\\Examples\\details.json\"\n",
    "myfile=read_json(pathjson)\n",
    "print(myfile)\n",
    "\n",
    "print(\"\\n\\n\")\n",
    "\n",
    "print(\"let's us read the file in a tradional way\")\n",
    "\n",
    "f=open(pathjson,\"r\")\n",
    "for content in f:\n",
    "\tprint(content)\n",
    "f.close()\n",
    "\n",
    "print(\"Done\")"
   ]
  },
  {
   "cell_type": "markdown",
   "metadata": {},
   "source": [
    "Ex11"
   ]
  },
  {
   "cell_type": "code",
   "execution_count": 71,
   "metadata": {},
   "outputs": [
    {
     "name": "stdout",
     "output_type": "stream",
     "text": [
      "   points  assists  rebounds  blocks\n",
      "0      25        5        11       4\n",
      "1      12        7         8       7\n",
      "2      15        7        10       7\n",
      "3      14        9         6       6\n",
      "4      19       12         6       5\n",
      "5      23        9         5       8\n",
      "6      25        9         9       9\n",
      "7      29        4        12      10\n",
      "Select Columns by Index\n",
      "   assists  blocks\n",
      "0        5       4\n",
      "1        7       7\n",
      "2        7       7\n",
      "3        9       6\n",
      "4       12       5\n",
      "5        9       8\n",
      "6        9       9\n",
      "7        4      10\n",
      "Select Columns in Index Range\n",
      "   assists  rebounds\n",
      "0        5        11\n",
      "1        7         8\n",
      "2        7        10\n",
      "3        9         6\n",
      "4       12         6\n",
      "5        9         5\n",
      "6        9         9\n",
      "7        4        12\n",
      "select columns by name\n",
      "   assists  blocks\n",
      "0        5       4\n",
      "1        7       7\n",
      "2        7       7\n",
      "3        9       6\n",
      "4       12       5\n",
      "5        9       8\n",
      "6        9       9\n",
      "7        4      10\n"
     ]
    }
   ],
   "source": [
    "from pandas import *\n",
    "\n",
    "mydataframe=DataFrame({'points': [25, 12, 15, 14, 19, 23, 25, 29],\n",
    "                   'assists': [5, 7, 7, 9, 12, 9, 9, 4],\n",
    "                   'rebounds': [11, 8, 10, 6, 6, 5, 9, 12],\n",
    "                   'blocks': [4, 7, 7, 6, 5, 8, 9, 10]})\n",
    "print(mydataframe)\n",
    "print(\"Select Columns by Index\")\n",
    "print(mydataframe.iloc[:,[1,3]])\n",
    "print(\"Select Columns in Index Range\")\n",
    "print(mydataframe.iloc[:,1:3])      #  3 is exclusive\n",
    "print(\"select columns by name\")\n",
    "print(mydataframe[[\"assists\",\"blocks\"]])"
   ]
  },
  {
   "cell_type": "markdown",
   "metadata": {},
   "source": [
    "Ex12"
   ]
  },
  {
   "cell_type": "code",
   "execution_count": 73,
   "metadata": {},
   "outputs": [
    {
     "name": "stdout",
     "output_type": "stream",
     "text": [
      "   sepal.length  sepal.width  petal.length  petal.width variety\n",
      "0           5.1          3.5           1.4          0.2  Setosa\n",
      "1           4.9          3.0           1.4          0.2  Setosa\n",
      "2           4.7          3.2           1.3          0.2  Setosa\n",
      "3           4.6          3.1           1.5          0.2  Setosa\n",
      "4           5.0          3.6           1.4          0.2  Setosa\n",
      "\n",
      "\n",
      "sepal.length    5.843333\n",
      "sepal.width     3.057333\n",
      "petal.length    3.758000\n",
      "petal.width     1.199333\n",
      "dtype: float64\n",
      "\n",
      "\n",
      "sepal.length    5.80\n",
      "sepal.width     3.00\n",
      "petal.length    4.35\n",
      "petal.width     1.30\n",
      "dtype: float64\n",
      "\n",
      "\n",
      "sepal.length    4.3\n",
      "sepal.width     2.0\n",
      "petal.length    1.0\n",
      "petal.width     0.1\n",
      "dtype: float64\n",
      "\n",
      "\n",
      "sepal.length    7.9\n",
      "sepal.width     4.4\n",
      "petal.length    6.9\n",
      "petal.width     2.5\n",
      "dtype: float64\n"
     ]
    }
   ],
   "source": [
    "# more pandas functions\n",
    "\"\"\" Using numeric_only=True causes df.mean() to ignore columns that contain non-numbers, and only calculate the mean for columns that only contain numbers. \"\"\"\n",
    "\n",
    "from pandas import *\n",
    "pathiris = r\"A:\\CDAC_SM_VITA\\4_Python\\Day_7\\Pandas\\Examples\\iris.csv\"\n",
    "\n",
    "\n",
    "iris=read_csv(pathiris)\n",
    "print(iris.head())\n",
    "print(\"\\n\")\n",
    "print(iris.mean(numeric_only=True))\n",
    "print(\"\\n\")\n",
    "print(iris.median(numeric_only=True))\n",
    "print(\"\\n\")\n",
    "print(iris.min(numeric_only=True))\n",
    "print(\"\\n\")\n",
    "print(iris.max(numeric_only=True))"
   ]
  },
  {
   "cell_type": "markdown",
   "metadata": {},
   "source": [
    "Ex13"
   ]
  },
  {
   "cell_type": "code",
   "execution_count": 74,
   "metadata": {},
   "outputs": [
    {
     "name": "stdout",
     "output_type": "stream",
     "text": [
      "     Name  Age   Address\n",
      "0  Sachin   40    Mumbai\n",
      "1   Rahul   45  Banglore\n"
     ]
    }
   ],
   "source": [
    "# how to read JSON file\n",
    "\n",
    "from pandas import *\n",
    "\n",
    "# mydataframe=read_json(\"myfile.json\")\n",
    "mydataframe=read_json(pathjson)\n",
    "\n",
    "print(mydataframe)\n"
   ]
  },
  {
   "cell_type": "code",
   "execution_count": 75,
   "metadata": {},
   "outputs": [
    {
     "name": "stdout",
     "output_type": "stream",
     "text": [
      "     Name   address\n",
      "0   Rohit    Mumbai\n",
      "1  Viraat     Delhi\n",
      "2  Ashwin   Chennai\n",
      "3   Dhoni  Zarkhand\n",
      "\n",
      "\n",
      "Let's print Sheet2\n",
      "   Proname  price\n",
      "0     soap    120\n",
      "1  perfume    400\n",
      "2      deo    300\n",
      "3  hairoil    150\n"
     ]
    }
   ],
   "source": [
    "# For this to work , you need to install \"xlrd\"\n",
    "\n",
    "# pip install xlrd\n",
    "\n",
    "import pandas as pd\n",
    "pathpandas = r'A:\\CDAC_SM_VITA\\4_Python\\Day_7\\Pandas\\Examples\\ForPandas.xlsx'\n",
    "mydataframe1 = pd.read_excel(pathpandas)\n",
    " \n",
    "print(mydataframe1)\n",
    "\n",
    "print(\"\\n\\nLet's print Sheet2\")\n",
    "mydataframe1 = pd.read_excel(pathpandas,sheet_name='Sheet2')\n",
    "print(mydataframe1)\n"
   ]
  },
  {
   "cell_type": "markdown",
   "metadata": {},
   "source": [
    "Ex14"
   ]
  },
  {
   "cell_type": "code",
   "execution_count": 76,
   "metadata": {},
   "outputs": [
    {
     "name": "stdout",
     "output_type": "stream",
     "text": [
      "   proid    proname  price\n",
      "0      1       Soap    120\n",
      "1      2    Perfume    400\n",
      "2      3        Deo    250\n",
      "3      4  Body_Wash    180\n"
     ]
    }
   ],
   "source": [
    "import pandas as pd\n",
    " \n",
    "proid = [1,2,3,4]\n",
    "proname = [\"Soap\",\"Perfume\",\"Deo\",\"Body_Wash\"]\n",
    "price = [120,400,250,180]\n",
    " \n",
    "# dictionary of lists\n",
    "mydictionary = {'proid':proid,'proname':proname,'price':price}\n",
    "     \n",
    "mydataframe = pd.DataFrame(mydictionary)\n",
    " \n",
    "print(mydataframe)\n",
    "mydataframe.to_csv(\"prod.csv\")\n",
    "mydataframe.to_json(\"prod.json\")\n"
   ]
  },
  {
   "cell_type": "markdown",
   "metadata": {},
   "source": [
    "Ex15"
   ]
  },
  {
   "cell_type": "code",
   "execution_count": 77,
   "metadata": {},
   "outputs": [
    {
     "name": "stdout",
     "output_type": "stream",
     "text": [
      "   proid    proname  price\n",
      "0      1       Soap    120\n",
      "1      2    Perfume    400\n",
      "2      3        Deo    250\n",
      "3      4  Body_Wash    180\n"
     ]
    }
   ],
   "source": [
    "# install openpyxl\n",
    "\n",
    "import pandas as pd\n",
    " \n",
    "proid = [1,2,3,4]\n",
    "proname = [\"Soap\",\"Perfume\",\"Deo\",\"Body_Wash\"]\n",
    "price = [120,400,250,180]\n",
    " \n",
    "# dictionary of lists\n",
    "mydictionary = {'proid':proid,'proname':proname,'price':price}\n",
    "     \n",
    "mydataframe = pd.DataFrame(mydictionary)\n",
    " \n",
    "print(mydataframe)\n",
    "# index=False   is not to include dataframe index inside the excel file\n",
    "mydataframe.to_excel(\"prod.xlsx\",sheet_name=\"prod_sheet\",index=False)\n"
   ]
  },
  {
   "cell_type": "markdown",
   "metadata": {},
   "source": [
    "Ex16"
   ]
  },
  {
   "cell_type": "code",
   "execution_count": 81,
   "metadata": {},
   "outputs": [
    {
     "name": "stdout",
     "output_type": "stream",
     "text": [
      "   proid    proname  price\n",
      "0      1       Soap    120\n",
      "1      2    Perfume    400\n",
      "2      3        Deo    250\n",
      "3      4  Body_Wash    180\n",
      "\n",
      "\n",
      "\n",
      "  name     designation  salary\n",
      "0  Abc         officer   40000\n",
      "1  Xyz         manager   60000\n",
      "2  Pqr  salesexecutive   70000\n"
     ]
    }
   ],
   "source": [
    "# install openpyxl\n",
    "\n",
    "# The ExcelWriter object allows you to use multiple pandas. DataFrame objects can be exported to separate sheets.\n",
    "\n",
    "import pandas as pd\n",
    " \n",
    "proid = [1,2,3,4]\n",
    "proname = [\"Soap\",\"Perfume\",\"Deo\",\"Body_Wash\"]\n",
    "price = [120,400,250,180]\n",
    " \n",
    "# dictionary of lists\n",
    "mydictionary1 = {'proid':proid,'proname':proname,'price':price}\n",
    "     \n",
    "mydataframe1 = pd.DataFrame(mydictionary1)\n",
    " \n",
    "\n",
    "\n",
    "name=['Abc','Xyz','Pqr']\n",
    "designation=['officer','manager','salesexecutive']\n",
    "salary=[40000,60000,70000]\n",
    "\n",
    "mydictionary2={'name':name,'designation':designation,'salary':salary}\n",
    "\n",
    "mydataframe2=pd.DataFrame(mydictionary2)\n",
    "\n",
    "print(mydataframe1)\n",
    "print(\"\\n\\n\")\n",
    "print(mydataframe2)\n",
    "\n",
    "mydataframe1.to_excel(\"prod2.xlsx\",sheet_name=\"prod_sheet\",index=False)\n",
    "\n",
    "mydataframe2.to_excel(\"prod2.xlsx\",sheet_name=\"employee_sheet\",index=False) # this will overwrite previous sheet"
   ]
  },
  {
   "cell_type": "code",
   "execution_count": 82,
   "metadata": {},
   "outputs": [
    {
     "name": "stdout",
     "output_type": "stream",
     "text": [
      "   proid    proname  price\n",
      "0      1       Soap    120\n",
      "1      2    Perfume    400\n",
      "2      3        Deo    250\n",
      "3      4  Body_Wash    180\n",
      "\n",
      "\n",
      "\n",
      "  name     designation  salary\n",
      "0  Abc         officer   40000\n",
      "1  Xyz         manager   60000\n",
      "2  Pqr  salesexecutive   70000\n"
     ]
    }
   ],
   "source": [
    "# pip install openpyxl\n",
    "\n",
    "# The ExcelWriter object allows you to use multiple pandas. DataFrame objects can be exported to separate sheets.\n",
    "import pandas as pd\n",
    " \n",
    "proid = [1,2,3,4]\n",
    "proname = [\"Soap\",\"Perfume\",\"Deo\",\"Body_Wash\"]\n",
    "price = [120,400,250,180]\n",
    " \n",
    "# dictionary of lists\n",
    "mydictionary1 = {'proid':proid,'proname':proname,'price':price}\n",
    "     \n",
    "mydataframe1 = pd.DataFrame(mydictionary1)\n",
    " \n",
    "\n",
    "\n",
    "name=['Abc','Xyz','Pqr']\n",
    "designation=['officer','manager','salesexecutive']\n",
    "salary=[40000,60000,70000]\n",
    "\n",
    "mydictionary2={'name':name,'designation':designation,'salary':salary}\n",
    "\n",
    "mydataframe2=pd.DataFrame(mydictionary2)\n",
    "\n",
    "print(mydataframe1)\n",
    "print(\"\\n\\n\")\n",
    "print(mydataframe2)\n",
    "\n",
    "with pd.ExcelWriter('Prod1.xlsx') as mywriter:\n",
    "    mydataframe1.to_excel(mywriter, sheet_name='prod_sheet',index=False)\n",
    "    mydataframe2.to_excel(mywriter, sheet_name='employee_sheet',index=False)\n",
    "\n"
   ]
  },
  {
   "cell_type": "markdown",
   "metadata": {},
   "source": [
    "# **Sort Pandas**"
   ]
  },
  {
   "cell_type": "markdown",
   "metadata": {},
   "source": [
    "Ex1"
   ]
  },
  {
   "cell_type": "code",
   "execution_count": 84,
   "metadata": {},
   "outputs": [
    {
     "name": "stdout",
     "output_type": "stream",
     "text": [
      "0    100\n",
      "1     20\n",
      "2      3\n",
      "3     40\n",
      "4      5\n",
      "dtype: int64\n",
      "sorting Pandas values without indexes changed\n",
      "2      3\n",
      "4      5\n",
      "1     20\n",
      "3     40\n",
      "0    100\n",
      "dtype: int64\n",
      "sorting Pandas values with indexes changed\n",
      "0      3\n",
      "1      5\n",
      "2     20\n",
      "3     40\n",
      "4    100\n",
      "dtype: int64\n",
      "sorting in descending order ,Pandas values with indexes changed\n",
      "0    100\n",
      "1     40\n",
      "2     20\n",
      "3      5\n",
      "4      3\n",
      "dtype: int64\n"
     ]
    }
   ],
   "source": [
    " # Series object is a one-dimensional labelled or indexed  array\n",
    "\n",
    "import pandas as pd\n",
    "\n",
    "first=pd.Series([100,20,3,40,5])\n",
    "print(first)\n",
    "print(\"sorting Pandas values without indexes changed\")\n",
    "print(first.sort_values())\n",
    "print(\"sorting Pandas values with indexes changed\")\n",
    "print(first.sort_values(ignore_index=True))\n",
    "print(\"sorting in descending order ,Pandas values with indexes changed\")\n",
    "print(first.sort_values(ascending=False,ignore_index=True))"
   ]
  },
  {
   "cell_type": "markdown",
   "metadata": {},
   "source": [
    "Ex2"
   ]
  },
  {
   "cell_type": "code",
   "execution_count": 85,
   "metadata": {},
   "outputs": [
    {
     "name": "stdout",
     "output_type": "stream",
     "text": [
      "{'Name': ['Sachin', 'Rahul', 'Anil'], 'Age': [39, 35, 38]}\n",
      "     Name  Age\n",
      "0  Sachin   39\n",
      "1   Rahul   35\n",
      "2    Anil   38\n",
      "Age-wise ascending sort\n",
      "     Name  Age\n",
      "0   Rahul   35\n",
      "1    Anil   38\n",
      "2  Sachin   39\n",
      "Age-wise descending sort\n",
      "     Name  Age\n",
      "0  Sachin   39\n",
      "1    Anil   38\n",
      "2   Rahul   35\n",
      "Name-wise ascending sort\n",
      "     Name  Age\n",
      "0    Anil   38\n",
      "1   Rahul   35\n",
      "2  Sachin   39\n",
      "Name-wise descending sort\n",
      "     Name  Age\n",
      "0  Sachin   39\n",
      "1   Rahul   35\n",
      "2    Anil   38\n"
     ]
    }
   ],
   "source": [
    "# DataFrame is a two dimensional labelled data structure\n",
    "# DataFrame comprises of rows and columns\n",
    "\n",
    "from pandas import *\n",
    "\n",
    "mydict={\"Name\":['Sachin','Rahul','Anil'],\"Age\":[39,35,38]}\n",
    "print(mydict)\n",
    "mydataframe=DataFrame(mydict)\n",
    "print(mydataframe)\n",
    "print(\"Age-wise ascending sort\")\n",
    "print(mydataframe.sort_values(by=\"Age\",ignore_index=True))\n",
    "print(\"Age-wise descending sort\")\n",
    "print(mydataframe.sort_values(by=\"Age\",ascending=False,ignore_index=True))\n",
    "print(\"Name-wise ascending sort\")\n",
    "print(mydataframe.sort_values(by=\"Name\",ignore_index=True))\n",
    "print(\"Name-wise descending sort\")\n",
    "print(mydataframe.sort_values(by=\"Name\",ascending=False,ignore_index=True))"
   ]
  },
  {
   "cell_type": "markdown",
   "metadata": {},
   "source": [
    "# **Data Wrangling**"
   ]
  },
  {
   "cell_type": "markdown",
   "metadata": {},
   "source": [
    ">Data Wrangling is the process of gathering, collecting, and transforming Raw data into another format for better understanding, decision-making, accessing, and analysis in less time. Data Wrangling is also known as Data Munging.\n",
    "\n",
    ">Data wrangling in Python deals with the below functionalities:\n",
    "\n",
    ">>Data exploration: In this process, the data is studied, analyzed, and understood by visualizing representations of data.\n",
    "Dealing with missing values: Most of the datasets having a vast amount of data contain missing values of NaN, they are needed to be taken care of by replacing them with mean, mode, the most frequent value of the column, or simply by dropping the row having a NaN value.\n",
    ">>Reshaping data: In this process, data is manipulated according to the requirements, where new data can be added or pre-existing data can be modified.\n",
    ">>Filtering data: Some times datasets are comprised of unwanted rows or columns which are required to be removed or filtered.\n",
    "\n",
    ">>Data wrangling involves processing the data in various formats like - merging, grouping, concatenating etc. for the purpose of analysing or getting them ready to be used with another set of data."
   ]
  },
  {
   "cell_type": "markdown",
   "metadata": {},
   "source": [
    "Ex1"
   ]
  },
  {
   "cell_type": "code",
   "execution_count": 89,
   "metadata": {},
   "outputs": [
    {
     "name": "stdout",
     "output_type": "stream",
     "text": [
      "\n",
      "original data set is \n",
      "\n",
      "        Name  Prn_No             Email\n",
      "0     Sachin      23    xxxx@gmail.com\n",
      "1    Praveen      54  xxxxxx@gmail.com\n",
      "2    Jagruti      29  xxxxxx@gmail.com\n",
      "3    Sharath      36      xx@gmail.com\n",
      "4     Vishal      59    xxxx@gmail.com\n",
      "5      Suraj      38   xxxxx@gmail.com\n",
      "6      Rohit      12   xxxxx@gmail.com\n",
      "7   Satyapal      45    xxxx@gmail.com\n",
      "8     Sachin      34   xxxxx@gmail.com\n",
      "9    Sharath      36      xx@gmail.com\n",
      "10     Suraj      38   xxxxx@gmail.com\n",
      "11    Sachin      23    xxxx@gmail.com\n",
      "\n",
      " dataset after removing duplicates is\n",
      "\n",
      "       Name  Prn_No             Email\n",
      "0    Sachin      23    xxxx@gmail.com\n",
      "1   Praveen      54  xxxxxx@gmail.com\n",
      "2   Jagruti      29  xxxxxx@gmail.com\n",
      "3   Sharath      36      xx@gmail.com\n",
      "4    Vishal      59    xxxx@gmail.com\n",
      "5     Suraj      38   xxxxx@gmail.com\n",
      "6     Rohit      12   xxxxx@gmail.com\n",
      "7  Satyapal      45    xxxx@gmail.com\n",
      "8    Sachin      34   xxxxx@gmail.com\n"
     ]
    }
   ],
   "source": [
    "\"\"\"\n",
    "scenario\n",
    "\n",
    "duplicate registration done by students, we need to remove the names which have been registered more than once.\n",
    "\n",
    "\"\"\"\n",
    "\n",
    "student_data = {'Name': ['Sachin', 'Praveen', 'Jagruti',\n",
    "                         'Sharath', 'Vishal', 'Suraj',\n",
    "                         'Rohit', 'Satyapal', 'Sachin',\n",
    "                         'Sharath', 'Suraj', 'Sachin'],\n",
    "\n",
    "                'Prn_No': [23, 54, 29, 36, 59, 38,\n",
    "                            12, 45, 34, 36, 38, 23],\n",
    "                'Email': ['xxxx@gmail.com', 'xxxxxx@gmail.com',\n",
    "                          'xxxxxx@gmail.com', 'xx@gmail.com',\n",
    "                          'xxxx@gmail.com', 'xxxxx@gmail.com',\n",
    "                          'xxxxx@gmail.com', 'xxxx@gmail.com',\n",
    "                          'xxxxx@gmail.com', 'xx@gmail.com',\n",
    "                          'xxxxx@gmail.com', 'xxxx@gmail.com']}\n",
    "from pandas import *\n",
    "# creating dataframe\n",
    "df = DataFrame(student_data)\n",
    "print(\"\\noriginal data set is \\n\")\n",
    "print(df)\n",
    "# Here df.duplicated() list duplicate  Entries in ROllno.\n",
    "# So that ~(NOT) is placed in order to get non duplicate values.\n",
    "non_duplicate = df[~df.duplicated('Prn_No')]\n",
    "print(\"\\n dataset after removing duplicates is\\n\")\n",
    "# printing non-duplicate values\n",
    "print(non_duplicate)"
   ]
  },
  {
   "cell_type": "markdown",
   "metadata": {},
   "source": [
    "Ex2"
   ]
  },
  {
   "cell_type": "code",
   "execution_count": 91,
   "metadata": {},
   "outputs": [
    {
     "name": "stdout",
     "output_type": "stream",
     "text": [
      "original dataframe\n",
      "      Center  Year  Placement_ratio\n",
      "0       VITA  2020               96\n",
      "1       VITA  2021               99\n",
      "2       VITA  2022               92\n",
      "3       VITA  2019               99\n",
      "4        MET  2020               95\n",
      "5        YCP  2022               85\n",
      "6  Khaarghar  2020               92\n",
      "7  CDAC_Juhu  2019               88\n",
      "8  CDAC_Juhu  2020               87\n",
      "\n",
      "group by year\n",
      "\n",
      "      Center  Year  Placement_ratio\n",
      "0       VITA  2020               96\n",
      "4        MET  2020               95\n",
      "6  Khaarghar  2020               92\n",
      "8  CDAC_Juhu  2020               87\n"
     ]
    }
   ],
   "source": [
    "import pandas as pd\n",
    "\n",
    "# Creating Data\n",
    "CDAC_Placement_data = {'Center': ['VITA', 'VITA', 'VITA',\n",
    "                              'VITA', 'MET', 'YCP',\n",
    "                              'Khaarghar', 'CDAC_Juhu', 'CDAC_Juhu',\n",
    "                              ],\n",
    "                    'Year': [2020, 2021, 2022, 2019,\n",
    "                             2020, 2022, 2020, 2019,\n",
    "                             2020],\n",
    "                    'Placement_ratio': [96, 99, 92, 99, 95, 85,\n",
    "                             92, 88, 87]}\n",
    "\n",
    "# Creating Dataframe for Provided Data\n",
    "df = pd.DataFrame(CDAC_Placement_data)\n",
    "print(\"original dataframe\")\n",
    "print(df)\n",
    "print(\"\\ngroup by year\\n\")\n",
    "# Group the data when year = 2010\n",
    "grouped = df.groupby('Year')\n",
    "print(grouped.get_group(2020))"
   ]
  },
  {
   "cell_type": "markdown",
   "metadata": {},
   "source": [
    "Ex3"
   ]
  },
  {
   "cell_type": "code",
   "execution_count": 92,
   "metadata": {},
   "outputs": [
    {
     "name": "stdout",
     "output_type": "stream",
     "text": [
      "   Prn_No      NAME course      status\n",
      "0     101   Jagruti    DAC      placed\n",
      "1     102     Pavan   DBDA  not_placed\n",
      "2     103    Harish   DBDA      placed\n",
      "3     104     Pooja   DBDA      placed\n",
      "4     105     Rahul   DBDA  not_placed\n",
      "5     106  Niharika    DAC  not_placed\n",
      "6     107    Sachin    DAC      placed\n",
      "7     108      Atul    DAC  not_placed\n",
      "8     109      Dean   DBDA      placed\n",
      "9     110    Manish   DBDA      placed\n"
     ]
    }
   ],
   "source": [
    "import pandas as pd\n",
    "\n",
    "# Creating Dataframe\n",
    "students_data = pd.DataFrame({\n",
    "    'Prn_No': [101, 102, 103, 104, 105,\n",
    "           106, 107, 108, 109, 110],\n",
    "    'NAME': ['Jagruti', 'Pavan', 'Harish',\n",
    "             'Pooja', 'Rahul', 'Niharika',\n",
    "             'Sachin', 'Atul', 'Dean', \"Manish\"],\n",
    "    'course': ['DAC', 'DBDA', 'DBDA', 'DBDA', 'DBDA',\n",
    "               'DAC', 'DAC', 'DAC', 'DBDA', 'DBDA']})\n",
    "\n",
    "# Creating Dataframe\n",
    "placement_details = pd.DataFrame(\n",
    "    {'Prn_No': [101, 102, 103, 104, 105,\n",
    "            106, 107, 108, 109, 110],\n",
    "     'status': ['placed', 'not_placed', 'placed',\n",
    "                 'placed', 'not_placed', 'not_placed',\n",
    "                 'placed', 'not_placed', 'placed', 'placed']})\n",
    "\n",
    "# Merging Dataframe\n",
    "print(pd.merge(students_data, placement_details, on='Prn_No'))"
   ]
  },
  {
   "cell_type": "markdown",
   "metadata": {},
   "source": [
    "Ex4"
   ]
  },
  {
   "cell_type": "code",
   "execution_count": 93,
   "metadata": {},
   "outputs": [
    {
     "name": "stdout",
     "output_type": "stream",
     "text": [
      "   Prn_No      NAME course  project_marks\n",
      "0     101   Jagruti    DAC             94\n",
      "1     102     Pavan   DBDA             82\n",
      "2     103    Harish   DBDA             75\n",
      "3     104     Pooja   DBDA             98\n",
      "4     105     Rahul   DBDA             65\n",
      "5     106  Niharika    DAC             58\n",
      "6     107    Sachin    DAC             73\n",
      "7     108      Atul    DAC             63\n",
      "8     109      Dean   DBDA             90\n",
      "9     110    Manish   DBDA             72\n"
     ]
    }
   ],
   "source": [
    "import pandas as pd\n",
    "\n",
    "# Creating Dataframe\n",
    "students_data = pd.DataFrame({\n",
    "    'Prn_No': [101, 102, 103, 104, 105,\n",
    "           106, 107, 108, 109, 110],\n",
    "    'NAME': ['Jagruti', 'Pavan', 'Harish',\n",
    "             'Pooja', 'Rahul', 'Niharika',\n",
    "             'Sachin', 'Atul', 'Dean', \"Manish\"],\n",
    "    'course': ['DAC', 'DBDA', 'DBDA', 'DBDA', 'DBDA',\n",
    "               'DAC', 'DAC', 'DAC', 'DBDA', 'DBDA'],\n",
    "    'project_marks': [94,82,75,98,65,58,73,63,90,72]\n",
    "})\n",
    "\n",
    "print(students_data)\n"
   ]
  },
  {
   "cell_type": "code",
   "execution_count": 94,
   "metadata": {},
   "outputs": [
    {
     "name": "stdout",
     "output_type": "stream",
     "text": [
      "   Prn_No      NAME course  Project_grade\n",
      "0     101   Jagruti    DAC             94\n",
      "1     102     Pavan   DBDA             82\n",
      "2     103    Harish   DBDA             75\n",
      "3     104     Pooja   DBDA             98\n",
      "4     105     Rahul   DBDA             65\n",
      "5     106  Niharika    DAC             58\n",
      "6     107    Sachin    DAC             73\n",
      "7     108      Atul    DAC             63\n",
      "8     109      Dean   DBDA             90\n",
      "9     110    Manish   DBDA             72\n",
      "   Prn_No      NAME course Project_grade\n",
      "0     101   Jagruti    DAC             A\n",
      "1     102     Pavan   DBDA             B\n",
      "2     103    Harish   DBDA             B\n",
      "3     104     Pooja   DBDA             A\n",
      "4     105     Rahul   DBDA             C\n",
      "5     106  Niharika    DAC             C\n",
      "6     107    Sachin    DAC             B\n",
      "7     108      Atul    DAC             C\n",
      "8     109      Dean   DBDA             A\n",
      "9     110    Manish   DBDA             B\n"
     ]
    }
   ],
   "source": [
    "\n",
    "students_data = students_data.rename(columns={'project_marks': 'Project_grade'})\n",
    "print(students_data)\n",
    "grade=\"\"\n",
    "for marks in students_data[\"Project_grade\"]:\n",
    "    if marks>=90:\n",
    "        grade='A'\n",
    "    elif marks>70 and marks<90:\n",
    "        grade='B'\n",
    "    else:\n",
    "        grade='C'\n",
    "    students_data[\"Project_grade\"]=students_data[\"Project_grade\"].replace({marks:grade})\n",
    "\n",
    "print(students_data)\n"
   ]
  },
  {
   "cell_type": "markdown",
   "metadata": {},
   "source": [
    "Ex5"
   ]
  },
  {
   "cell_type": "code",
   "execution_count": 95,
   "metadata": {},
   "outputs": [
    {
     "name": "stdout",
     "output_type": "stream",
     "text": [
      "Original DataFrame:\n",
      "  Technology Project_grades  No_of_students\n",
      "0     Python              A              10\n",
      "1       Java              B              15\n",
      "2     DotNet              A              20\n",
      "3         ML              B              25\n",
      "\n",
      "Pivot Table:\n",
      "Project_grades   A   B\n",
      "Technology            \n",
      "DotNet          20   0\n",
      "Java             0  15\n",
      "ML               0  25\n",
      "Python          10   0\n"
     ]
    }
   ],
   "source": [
    "import pandas as pd\n",
    "\n",
    "# Sample DataFrame\n",
    "data = {'Technology': ['Python', 'Java', 'DotNet', 'ML'],\n",
    "        'Project_grades': ['A', 'B', 'A', 'B'],\n",
    "        'No_of_students': [10, 15, 20, 25]}\n",
    "\n",
    "df = pd.DataFrame(data)\n",
    "\n",
    "# Display the original DataFrame\n",
    "print(\"Original DataFrame:\")\n",
    "print(df)\n",
    "\n",
    "# Create a pivot table\n",
    "pivot_table = df.pivot_table(index='Technology', columns='Project_grades', values='No_of_students', aggfunc='sum')\n",
    "value=['A','B']\n",
    "pivot_table=pivot_table.fillna(0)  # try without this\n",
    "pivot_table[value] = pivot_table[value].astype(int) # try without this\n",
    "\n",
    "# Display the pivot table\n",
    "print(\"\\nPivot Table:\")\n",
    "print(pivot_table)"
   ]
  },
  {
   "cell_type": "markdown",
   "metadata": {},
   "source": [
    "# **Filtering**"
   ]
  },
  {
   "cell_type": "code",
   "execution_count": null,
   "metadata": {},
   "outputs": [],
   "source": [
    "import pandas as pd\n",
    "import re\n",
    "\n",
    "proid = [1, 2, 3, 4]\n",
    "proname = [\"Soap\", \"Perfume\", \"Deo\", \"Body_Wash\"]\n",
    "price = [120, 400, 250, 180]\n",
    "\n",
    "# dictionary of lists\n",
    "mydictionary1 = {'proid': proid, 'proname': proname, 'price': price}\n",
    "\n",
    "mydataframe1 = pd.DataFrame(mydictionary1)\n",
    "print(mydataframe1)\n",
    "print(\"without index ************************\")\n",
    "print(mydataframe1.to_string(index=False))\n"
   ]
  },
  {
   "cell_type": "code",
   "execution_count": 96,
   "metadata": {},
   "outputs": [
    {
     "name": "stdout",
     "output_type": "stream",
     "text": [
      "\n",
      "products where price more than 200\n",
      "\n",
      " proid proname  price\n",
      "     2 Perfume    400\n",
      "     3     Deo    250\n"
     ]
    }
   ],
   "source": [
    "\n",
    "print(\"\\nproducts where price more than 200\\n\")\n",
    "print(mydataframe1[mydataframe1.price > 200].to_string(index=False))\n"
   ]
  },
  {
   "cell_type": "code",
   "execution_count": 97,
   "metadata": {},
   "outputs": [
    {
     "name": "stdout",
     "output_type": "stream",
     "text": [
      "\n",
      "products where price is between 200 and 300\n",
      "\n",
      " proid proname  price\n",
      "     3     Deo    250\n",
      "\n",
      "products where name is Soap or Deo\n",
      "\n",
      " proid proname  price\n",
      "     1    Soap    120\n",
      "     3     Deo    250\n",
      "\n",
      "products where name is neither Soap nor Deo\n",
      "\n",
      " proid   proname  price\n",
      "     2   Perfume    400\n",
      "     4 Body_Wash    180\n",
      "\n",
      "products where name is  Soap or Deo with ignore case\n",
      "\n",
      "   proid proname  price\n",
      "0      1    Soap    120\n",
      "2      3     Deo    250\n",
      "\n",
      "products where name is  Soap or Deo with case\n",
      "\n",
      "Empty DataFrame\n",
      "Columns: [proid, proname, price]\n",
      "Index: []\n",
      "\n",
      "Products start with D\n",
      "\n",
      "   proid proname  price\n",
      "2      3     Deo    250\n",
      "\n",
      "Products start with d case sensitive\n",
      "\n",
      "   proid proname  price\n",
      "2      3     Deo    250\n",
      "\n",
      "products which contains e \n",
      "\n",
      "   proid  proname  price\n",
      "1      2  Perfume    400\n",
      "2      3      Deo    250\n",
      "\n",
      "products with the largest values\n",
      "\n",
      "   proid  proname  price\n",
      "1      2  Perfume    400\n",
      "\n",
      "products with the smallest value\n",
      "\n",
      "   proid    proname  price\n",
      "0      1       Soap    120\n",
      "3      4  Body_Wash    180\n"
     ]
    }
   ],
   "source": [
    "\n",
    "print(\"\\nproducts where price is between 200 and 300\\n\")\n",
    "print(mydataframe1[(mydataframe1.price >= 200) & (mydataframe1.price <= 300)].to_string(index=False))\n",
    "\n",
    "print(\"\\nproducts where name is Soap or Deo\\n\")\n",
    "pronames = ['Soap', 'Deo']\n",
    "print(mydataframe1[mydataframe1.proname.isin(pronames)].to_string(index=False))  # case sensitive\n",
    "\n",
    "print(\"\\nproducts where name is neither Soap nor Deo\\n\")\n",
    "pronames = ['Soap', 'Deo']\n",
    "print(mydataframe1[~mydataframe1.proname.isin(pronames)].to_string(index=False))  # case sensitive\n",
    "\n",
    "print(\"\\nproducts where name is  Soap or Deo with ignore case\\n\")\n",
    "pronames = ['soAp', 'dEo']\n",
    "print(mydataframe1[mydataframe1.proname.str.fullmatch('soAp|deO', case=False)])\n",
    "\n",
    "print(\"\\nproducts where name is  Soap or Deo with case\\n\")\n",
    "\n",
    "print(mydataframe1[mydataframe1.proname.str.fullmatch('soAp|deO')])\n",
    "\n",
    "print(\"\\nProducts start with D\\n\")\n",
    "\n",
    "print(mydataframe1[mydataframe1.proname.str.startswith('D')])\n",
    "\n",
    "print(\"\\nProducts start with d case sensitive\\n\")\n",
    "print(mydataframe1[mydataframe1.proname.str.casefold().str.startswith('d')])\n",
    "\n",
    "print(\"\\nproducts which contains e \\n\")\n",
    "print(mydataframe1[mydataframe1.proname.str.contains('e')])\n",
    "\n",
    "print(\"\\nproducts with the largest values\\n\")\n",
    "# print(mydataframe1.nlargest(2,'price'))   # 2 rows in descending order of price\n",
    "\n",
    "print(mydataframe1.nlargest(1, 'price'))  # 1 row in descending order of price\n",
    "\n",
    "print(\"\\nproducts with the smallest value\\n\")\n",
    "print(mydataframe1.nsmallest(2, 'price'))  # 2 rows in ascending order of price\n"
   ]
  }
 ],
 "metadata": {
  "kernelspec": {
   "display_name": "base",
   "language": "python",
   "name": "python3"
  },
  "language_info": {
   "codemirror_mode": {
    "name": "ipython",
    "version": 3
   },
   "file_extension": ".py",
   "mimetype": "text/x-python",
   "name": "python",
   "nbconvert_exporter": "python",
   "pygments_lexer": "ipython3",
   "version": "3.11.9"
  }
 },
 "nbformat": 4,
 "nbformat_minor": 2
}
