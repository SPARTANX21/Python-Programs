{
 "cells": [
  {
   "cell_type": "markdown",
   "metadata": {},
   "source": [
    "1) create a list, accept 5 numbers , store them in the list and finally convert that list to numpy array.\n"
   ]
  },
  {
   "cell_type": "code",
   "execution_count": 4,
   "metadata": {},
   "outputs": [
    {
     "name": "stdout",
     "output_type": "stream",
     "text": [
      "[1 2 3 4 5]\n",
      "<class 'numpy.ndarray'>\n"
     ]
    }
   ],
   "source": [
    "import numpy as np \n",
    "l = []\n",
    "\n",
    "for i in range(0,5):\n",
    "    a= int(input(\"Enter A values to Append to list :: \"))\n",
    "    l.append(a)\n",
    "\n",
    "array = np.array(l)\n",
    "\n",
    "print(array)\n",
    "print(type(array))"
   ]
  },
  {
   "cell_type": "markdown",
   "metadata": {},
   "source": [
    "2) create numpy array of 5 numbers and print their sum\n"
   ]
  },
  {
   "cell_type": "code",
   "execution_count": 5,
   "metadata": {},
   "outputs": [
    {
     "name": "stdout",
     "output_type": "stream",
     "text": [
      "[1 2 3 4 5]\n"
     ]
    },
    {
     "data": {
      "text/plain": [
       "15"
      ]
     },
     "execution_count": 5,
     "metadata": {},
     "output_type": "execute_result"
    }
   ],
   "source": [
    "print(array)\n",
    "\n",
    "n = np.sum(array)\n",
    "\n",
    "print(n)"
   ]
  },
  {
   "cell_type": "markdown",
   "metadata": {},
   "source": [
    "3) create numpy double dimension array of 3*3 to store your initial and display them in a tabular form.\n"
   ]
  },
  {
   "cell_type": "code",
   "execution_count": 9,
   "metadata": {},
   "outputs": [
    {
     "name": "stdout",
     "output_type": "stream",
     "text": [
      "[['P' 'P' 'P']\n",
      " ['P' 'P' 'P']\n",
      " ['P' 'P' 'P']]\n",
      "<class 'numpy.ndarray'>\n",
      "2\n"
     ]
    }
   ],
   "source": [
    "p = np.full((3,3), 'P')\n",
    "print(p)\n",
    "print(type(p))\n",
    "print(p.ndim)"
   ]
  },
  {
   "cell_type": "markdown",
   "metadata": {},
   "source": [
    "4) create one-d numpy array of 12 elements , accept 12 numbers and display them. Now convert this one-d array into (4*3) two-d array and display it in a tabular form.\n"
   ]
  },
  {
   "cell_type": "code",
   "execution_count": 20,
   "metadata": {},
   "outputs": [
    {
     "name": "stdout",
     "output_type": "stream",
     "text": [
      "[ 1  2  3  4  5  6  7  8  9  1  0 11]\n",
      "[[ 1  2  3]\n",
      " [ 4  5  6]\n",
      " [ 7  8  9]\n",
      " [ 1  0 11]]\n",
      "<class 'numpy.ndarray'>\n",
      "(4, 3)\n",
      "2\n"
     ]
    }
   ],
   "source": [
    "one = []\n",
    "\n",
    "for i in range(0,12):\n",
    "    a = int(input(\"Enter value to append to list ::--> \"))\n",
    "    one.append(a)\n",
    "\n",
    "b = np.array(one)\n",
    "print(b)\n",
    "\n",
    "b = b.reshape(4,3)\n",
    "print(b)\n",
    "print(type(b))\n",
    "print(b.shape)\n",
    "print(b.ndim)"
   ]
  },
  {
   "cell_type": "markdown",
   "metadata": {},
   "source": [
    "5) create two double dimension array and arrange (stack) them using \"axis=0\" \"axis=1\" and  \"axis=2\".\n"
   ]
  },
  {
   "cell_type": "code",
   "execution_count": 27,
   "metadata": {},
   "outputs": [
    {
     "name": "stdout",
     "output_type": "stream",
     "text": [
      "[[10 20 30 40]\n",
      " [50 60 70 80]]\n",
      "\n",
      "[[10 50]\n",
      " [20 60]\n",
      " [30 70]\n",
      " [40 80]]\n"
     ]
    }
   ],
   "source": [
    "one = np.array([10,20,30,40])\n",
    "two = np.array([50,60,70,80])\n",
    "\n",
    "three = np.stack((one, two), axis=0)\n",
    "four = np.stack((one, two), axis=1)\n",
    "# five = np.stack((one, two), axis=2)       won't work as its an 2d array \n",
    "print(three)\n",
    "print()\n",
    "print(four)\n",
    "# print(five)\n"
   ]
  },
  {
   "cell_type": "markdown",
   "metadata": {},
   "source": [
    "6) create two one-d arrays and then find out:\n",
    "\t- a) common elements of both the array\n",
    "\t- b) unique elements of first array\n",
    "\t- c) unique elements of second array\n"
   ]
  },
  {
   "cell_type": "code",
   "execution_count": 32,
   "metadata": {},
   "outputs": [
    {
     "name": "stdout",
     "output_type": "stream",
     "text": [
      "----------------A----------------\n",
      "Common Elements of both the arrays---->  [20 30 80]\n",
      "----------------B----------------\n",
      "[10 20 30 80 90]\n",
      "----------------C----------------\n",
      "[20 30 40 50 80]\n"
     ]
    }
   ],
   "source": [
    "one = np.array([10,20,30,80,90])\n",
    "two = np.array([20,50,80,40,30])\n",
    "\n",
    "print('----------------A----------------')\n",
    "\n",
    "a = np.intersect1d(one, two)\n",
    "print(\"Common Elements of both the arrays----> \",a)\n",
    "\n",
    "print('----------------B----------------')\n",
    "b = np.unique(one)\n",
    "print(b)\n",
    "\n",
    "print('----------------C----------------')\n",
    "c = np.unique(two)\n",
    "print(c)"
   ]
  },
  {
   "cell_type": "markdown",
   "metadata": {},
   "source": [
    "7) accept no.of rows and no. of cols from the user , create two-d array accordingly. Now calculate the sum as per \"axis=0\" and \"axis=1\"\n"
   ]
  },
  {
   "cell_type": "code",
   "execution_count": 40,
   "metadata": {},
   "outputs": [
    {
     "name": "stdout",
     "output_type": "stream",
     "text": [
      "Axis = 0 Sum -->  [5 7 9]\n",
      "Axis = 1 Sum -->  [ 6 15]\n"
     ]
    }
   ],
   "source": [
    "row= int(input(\"Enter number of Row ---> \"))\n",
    "column = int(input(\"Enter Column of Row ---> \"))\n",
    "\n",
    "a = []\n",
    "\n",
    "for i in range(0, (row*column)):\n",
    "    b = int(input(\"Enter values to append to list ---> \"))\n",
    "    a.append(b)\n",
    "\n",
    "a = np.reshape(a, (row, column))\n",
    "\n",
    "a0 = np.sum(a, axis=0)\n",
    "print(\"Axis = 0 Sum --> \", a0)\n",
    "\n",
    "a1 = np.sum(a, axis=1)\n",
    "print(\"Axis = 1 Sum --> \",a1)"
   ]
  },
  {
   "cell_type": "markdown",
   "metadata": {},
   "source": [
    "8) declare two 2d arrays and calculate the sum as per \"axis=0\" \"axis=1\" and \"axis=2\"\n"
   ]
  },
  {
   "cell_type": "code",
   "execution_count": 44,
   "metadata": {},
   "outputs": [
    {
     "name": "stdout",
     "output_type": "stream",
     "text": [
      "Axis = 0 Sum -->  [5 7 9]\n",
      "Axis = 1 Sum -->  [ 6 15]\n"
     ]
    }
   ],
   "source": [
    "a = np.array([[1,2,3],[4,5,6]])\n",
    "b = np.array([[7,8,9],[10,11,12]])\n",
    "\n",
    "a0 = np.sum(a, axis=0)\n",
    "print(\"Axis = 0 Sum --> \", a0)\n",
    "\n",
    "a1 = np.sum(a, axis=1)\n",
    "print(\"Axis = 1 Sum --> \",a1)\n",
    "\n",
    "# a2 = np.sum(a, axis=2)\n",
    "# print(\"Axis = 1 Sum --> \",a2)     won't work on 2d only works on 3d array"
   ]
  },
  {
   "cell_type": "markdown",
   "metadata": {},
   "source": [
    "9) create two-d array ,display it. Now accept a number from user and perform all arithmetic operations on each and every element of the array using that number.\n"
   ]
  },
  {
   "cell_type": "code",
   "execution_count": 54,
   "metadata": {},
   "outputs": [
    {
     "name": "stdout",
     "output_type": "stream",
     "text": [
      "A -->  [[1 2 3]\n",
      " [4 5 6]]\n",
      "------------------------------------\n",
      "B -->  [[ 7  8  9]\n",
      " [10 11 12]]\n",
      "------------------------------------\n",
      "Addition of user input 5 with array \n",
      " [[ 6  7  8]\n",
      " [ 9 10 11]]\n",
      "------------------------------------\n",
      "Substraction of user input 5 with array \n",
      " [[-4 -3 -2]\n",
      " [-1  0  1]]\n",
      "------------------------------------\n",
      "multiply of user input 5 with array \n",
      " [[ 5 10 15]\n",
      " [20 25 30]]\n",
      "------------------------------------\n",
      "divide of user input 5 with array \n",
      " [[0.2 0.4 0.6]\n",
      " [0.8 1.  1.2]]\n",
      "------------------------------------\n",
      "mod of user input 5 with array \n",
      " [[1 2 3]\n",
      " [4 0 1]]\n",
      "------------------------------------\n",
      "floor_divide of user input 5 with array \n",
      " [[0 0 0]\n",
      " [0 1 1]]\n"
     ]
    }
   ],
   "source": [
    "a = np.array([[1,2,3],[4,5,6]])\n",
    "print(\"A --> \", a)\n",
    "print(\"------------------------------------\")\n",
    "b = np.array([[7,8,9],[10,11,12]])\n",
    "print(\"B --> \", b)\n",
    "print(\"------------------------------------\")\n",
    "\n",
    "c = int(input(\"Enter a number to perform various operations --> \"))\n",
    "\n",
    "print(f\"Addition of user input {c} with array \\n\",  np.add(a, c))\n",
    "print(\"------------------------------------\")\n",
    "\n",
    "print(f\"Substraction of user input {c} with array \\n\",  np.subtract(a, c))\n",
    "print(\"------------------------------------\")\n",
    "\n",
    "print(f\"multiply of user input {c} with array \\n\",  np.multiply(a, c))\n",
    "print(\"------------------------------------\")\n",
    "\n",
    "print(f\"divide of user input {c} with array \\n\",  np.divide(a, c))\n",
    "print(\"------------------------------------\")\n",
    "\n",
    "print(f\"mod of user input {c} with array \\n\",  np.mod(a, c))\n",
    "print(\"------------------------------------\")\n",
    "\n",
    "print(f\"floor_divide of user input {c} with array \\n\",  np.floor_divide(a, c))"
   ]
  },
  {
   "cell_type": "markdown",
   "metadata": {},
   "source": [
    "10) accept start, end and how many numbers to be generated and then using \"linspace\" create numpy array.\n"
   ]
  },
  {
   "cell_type": "code",
   "execution_count": 58,
   "metadata": {},
   "outputs": [
    {
     "name": "stdout",
     "output_type": "stream",
     "text": [
      "\n",
      "    Return evenly spaced numbers over a specified interval.\n",
      "\n",
      "    Returns `num` evenly spaced samples, calculated over the\n",
      "    interval [`start`, `stop`].\n",
      "\n",
      "    The endpoint of the interval can optionally be excluded.\n",
      "\n",
      "    .. versionchanged:: 1.16.0\n",
      "        Non-scalar `start` and `stop` are now supported.\n",
      "\n",
      "    .. versionchanged:: 1.20.0\n",
      "        Values are rounded towards ``-inf`` instead of ``0`` when an\n",
      "        integer ``dtype`` is specified. The old behavior can\n",
      "        still be obtained with ``np.linspace(start, stop, num).astype(int)``\n",
      "\n",
      "    Parameters\n",
      "    ----------\n",
      "    start : array_like\n",
      "        The starting value of the sequence.\n",
      "    stop : array_like\n",
      "        The end value of the sequence, unless `endpoint` is set to False.\n",
      "        In that case, the sequence consists of all but the last of ``num + 1``\n",
      "        evenly spaced samples, so that `stop` is excluded.  Note that the step\n",
      "        size changes when `endpoint` is False.\n",
      "    num : int, optional\n",
      "        Number of samples to generate. Default is 50. Must be non-negative.\n",
      "    endpoint : bool, optional\n",
      "        If True, `stop` is the last sample. Otherwise, it is not included.\n",
      "        Default is True.\n",
      "    retstep : bool, optional\n",
      "        If True, return (`samples`, `step`), where `step` is the spacing\n",
      "        between samples.\n",
      "    dtype : dtype, optional\n",
      "        The type of the output array.  If `dtype` is not given, the data type\n",
      "        is inferred from `start` and `stop`. The inferred dtype will never be\n",
      "        an integer; `float` is chosen even if the arguments would produce an\n",
      "        array of integers.\n",
      "\n",
      "        .. versionadded:: 1.9.0\n",
      "\n",
      "    axis : int, optional\n",
      "        The axis in the result to store the samples.  Relevant only if start\n",
      "        or stop are array-like.  By default (0), the samples will be along a\n",
      "        new axis inserted at the beginning. Use -1 to get an axis at the end.\n",
      "\n",
      "        .. versionadded:: 1.16.0\n",
      "\n",
      "    Returns\n",
      "    -------\n",
      "    samples : ndarray\n",
      "        There are `num` equally spaced samples in the closed interval\n",
      "        ``[start, stop]`` or the half-open interval ``[start, stop)``\n",
      "        (depending on whether `endpoint` is True or False).\n",
      "    step : float, optional\n",
      "        Only returned if `retstep` is True\n",
      "\n",
      "        Size of spacing between samples.\n",
      "\n",
      "\n",
      "    See Also\n",
      "    --------\n",
      "    arange : Similar to `linspace`, but uses a step size (instead of the\n",
      "             number of samples).\n",
      "    geomspace : Similar to `linspace`, but with numbers spaced evenly on a log\n",
      "                scale (a geometric progression).\n",
      "    logspace : Similar to `geomspace`, but with the end points specified as\n",
      "               logarithms.\n",
      "    :ref:`how-to-partition`\n",
      "\n",
      "    Examples\n",
      "    --------\n",
      "    >>> np.linspace(2.0, 3.0, num=5)\n",
      "    array([2.  , 2.25, 2.5 , 2.75, 3.  ])\n",
      "    >>> np.linspace(2.0, 3.0, num=5, endpoint=False)\n",
      "    array([2. ,  2.2,  2.4,  2.6,  2.8])\n",
      "    >>> np.linspace(2.0, 3.0, num=5, retstep=True)\n",
      "    (array([2.  ,  2.25,  2.5 ,  2.75,  3.  ]), 0.25)\n",
      "\n",
      "    Graphical illustration:\n",
      "\n",
      "    >>> import matplotlib.pyplot as plt\n",
      "    >>> N = 8\n",
      "    >>> y = np.zeros(N)\n",
      "    >>> x1 = np.linspace(0, 10, N, endpoint=True)\n",
      "    >>> x2 = np.linspace(0, 10, N, endpoint=False)\n",
      "    >>> plt.plot(x1, y, 'o')\n",
      "    [<matplotlib.lines.Line2D object at 0x...>]\n",
      "    >>> plt.plot(x2, y + 0.5, 'o')\n",
      "    [<matplotlib.lines.Line2D object at 0x...>]\n",
      "    >>> plt.ylim([-0.5, 1])\n",
      "    (-0.5, 1)\n",
      "    >>> plt.show()\n",
      "\n",
      "    \n"
     ]
    }
   ],
   "source": [
    "print(np.linspace.__doc__)"
   ]
  },
  {
   "cell_type": "code",
   "execution_count": 61,
   "metadata": {},
   "outputs": [
    {
     "data": {
      "text/plain": [
       "array([10.        , 15.55555556, 21.11111111, 26.66666667, 32.22222222,\n",
       "       37.77777778, 43.33333333, 48.88888889, 54.44444444, 60.        ])"
      ]
     },
     "execution_count": 61,
     "metadata": {},
     "output_type": "execute_result"
    }
   ],
   "source": [
    "start = int(input(\"Enter a start Number --> \"))\n",
    "\n",
    "end = int(input(\"Enter a end Number  --> \"))\n",
    "\n",
    "np.linspace(start, end, 10)"
   ]
  },
  {
   "cell_type": "markdown",
   "metadata": {},
   "source": [
    "11) create one-d array of 8 numbers and then using \"slicing\" concept,\n",
    "\t- a) print numbers from 1 to 4\n",
    "\t- b) print all the numbers from 3rd position\n",
    "\t- c) print last 3 numbers\n"
   ]
  },
  {
   "cell_type": "code",
   "execution_count": 67,
   "metadata": {},
   "outputs": [
    {
     "name": "stdout",
     "output_type": "stream",
     "text": [
      "[2 3 4]\n",
      "[4 5 6 7 8]\n",
      "[6 7 8]\n"
     ]
    }
   ],
   "source": [
    "a = np.array([1,2,3,4,5,6,7,8])\n",
    "\n",
    "print(a[1:4])\n",
    "\n",
    "print(a[3:])\n",
    "\n",
    "print(a[-3:])"
   ]
  },
  {
   "cell_type": "markdown",
   "metadata": {},
   "source": [
    "12) create 2 d array (4*3) with following values:\n",
    "\n",
    "[[10,20,30,40],[50,60,70,80],[90,100,110,120]]\n"
   ]
  },
  {
   "cell_type": "code",
   "execution_count": 70,
   "metadata": {},
   "outputs": [
    {
     "name": "stdout",
     "output_type": "stream",
     "text": [
      "[[ 10  20  30]\n",
      " [ 40  50  60]\n",
      " [ 70  80  90]\n",
      " [100 110 120]]\n"
     ]
    }
   ],
   "source": [
    "a = np.array([[10,20,30,40],[50,60,70,80],[90,100,110,120]])\n",
    "\n",
    "b = np.reshape(a, (4,3))\n",
    "print(b)"
   ]
  },
  {
   "cell_type": "markdown",
   "metadata": {},
   "source": [
    "now using array slicing concept display following values\n",
    "- a) display   50  60  70  80\n",
    "- b) display 100 and 110\n",
    "- c) display 30 70 and 110\n",
    "- d) display 50  60  90 and 100\n"
   ]
  },
  {
   "cell_type": "code",
   "execution_count": 71,
   "metadata": {},
   "outputs": [
    {
     "name": "stdout",
     "output_type": "stream",
     "text": [
      "[[ 10  20  30  40]\n",
      " [ 50  60  70  80]\n",
      " [ 90 100 110 120]]\n"
     ]
    }
   ],
   "source": [
    "print(a)"
   ]
  },
  {
   "cell_type": "code",
   "execution_count": 72,
   "metadata": {},
   "outputs": [
    {
     "name": "stdout",
     "output_type": "stream",
     "text": [
      "[50 60 70 80]\n"
     ]
    }
   ],
   "source": [
    "print(a[1])"
   ]
  },
  {
   "cell_type": "code",
   "execution_count": 75,
   "metadata": {},
   "outputs": [
    {
     "name": "stdout",
     "output_type": "stream",
     "text": [
      "[[100 110]]\n"
     ]
    }
   ],
   "source": [
    "print(a[2:3,1:3])"
   ]
  },
  {
   "cell_type": "code",
   "execution_count": 78,
   "metadata": {},
   "outputs": [
    {
     "name": "stdout",
     "output_type": "stream",
     "text": [
      "[ 30  70 110]\n"
     ]
    }
   ],
   "source": [
    "print(a[:, 2])"
   ]
  },
  {
   "cell_type": "code",
   "execution_count": 81,
   "metadata": {},
   "outputs": [
    {
     "name": "stdout",
     "output_type": "stream",
     "text": [
      "[[ 50  60]\n",
      " [ 90 100]]\n"
     ]
    }
   ],
   "source": [
    "print(a[1:3, 0:2])"
   ]
  }
 ],
 "metadata": {
  "kernelspec": {
   "display_name": "base",
   "language": "python",
   "name": "python3"
  },
  "language_info": {
   "codemirror_mode": {
    "name": "ipython",
    "version": 3
   },
   "file_extension": ".py",
   "mimetype": "text/x-python",
   "name": "python",
   "nbconvert_exporter": "python",
   "pygments_lexer": "ipython3",
   "version": "3.11.9"
  }
 },
 "nbformat": 4,
 "nbformat_minor": 2
}
