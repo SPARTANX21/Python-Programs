{
 "cells": [
  {
   "cell_type": "markdown",
   "metadata": {},
   "source": [
    "1) define 3 functions \"add()\",\"modify()\" and \"delete()\" with just a print message.\n",
    "now accept input from user as a number. if the number entered is 1, call \"add()\"\n",
    "if it is 2, call \"modify()\" if it is 3, call \"delete()\" [ hint: use \"match... case\" ]\n"
   ]
  },
  {
   "cell_type": "code",
   "execution_count": 4,
   "metadata": {},
   "outputs": [
    {
     "name": "stdout",
     "output_type": "stream",
     "text": [
      "No Function Available\n"
     ]
    }
   ],
   "source": [
    "def add():\n",
    "    print(\"Message - Addition Function\")\n",
    "\n",
    "def modify():\n",
    "    print(\"Message - Modify Function\")\n",
    "\n",
    "def delete():\n",
    "    print(\"Message - Delete Function\")\n",
    "\n",
    "user = int(input(\"Enter a number to get the desired Operations :: \"))\n",
    "match user:\n",
    "    case 1:\n",
    "        add()\n",
    "    case 2:\n",
    "        modify()\n",
    "    case 3:\n",
    "        delete()\n",
    "    case _:\n",
    "        print(\"No Function Available\")"
   ]
  },
  {
   "cell_type": "markdown",
   "metadata": {},
   "source": [
    "2) define a function which accepts a number and return its square.\n"
   ]
  },
  {
   "cell_type": "code",
   "execution_count": 18,
   "metadata": {},
   "outputs": [
    {
     "name": "stdout",
     "output_type": "stream",
     "text": [
      "441\n"
     ]
    }
   ],
   "source": [
    "def square(num1):\n",
    "    return num1**2\n",
    "\n",
    "print(square(21))"
   ]
  },
  {
   "cell_type": "markdown",
   "metadata": {},
   "source": [
    "3) define a function which accepts character,int,string and display them.\n"
   ]
  },
  {
   "cell_type": "code",
   "execution_count": 17,
   "metadata": {},
   "outputs": [
    {
     "name": "stdout",
     "output_type": "stream",
     "text": [
      "R --> 10 ---> Pranay\n"
     ]
    }
   ],
   "source": [
    "def inputuser(character, integer, string):\n",
    "    print(f\"{character} --> {integer} ---> {string}\")\n",
    "\n",
    "inputuser('R', 10, \"Pranay\")"
   ]
  },
  {
   "cell_type": "markdown",
   "metadata": {},
   "source": [
    "4) define \"myfun1()\" with a print statement. now define \"myfun2()\" which should invoke \"myfun1()\" function. \n",
    "invoke myfun2()\n"
   ]
  },
  {
   "cell_type": "code",
   "execution_count": 9,
   "metadata": {},
   "outputs": [
    {
     "name": "stdout",
     "output_type": "stream",
     "text": [
      "Inside function myfun1\n"
     ]
    }
   ],
   "source": [
    "def myfun1():\n",
    "    print(\"Inside function myfun1\")\n",
    "\n",
    "def myfun2():\n",
    "    myfun1()\n",
    "\n",
    "myfun2()"
   ]
  },
  {
   "cell_type": "markdown",
   "metadata": {},
   "source": [
    "5) define a function to accept a number. This function should return 1 if a number passed is more than 0\n",
    "return -1 if a number passed is less than 0 , else it should return 0.\n"
   ]
  },
  {
   "cell_type": "code",
   "execution_count": 16,
   "metadata": {},
   "outputs": [
    {
     "data": {
      "text/plain": [
       "1"
      ]
     },
     "execution_count": 16,
     "metadata": {},
     "output_type": "execute_result"
    }
   ],
   "source": [
    "def enternumber(num1):\n",
    "    if(num1 < 0):\n",
    "        return 0\n",
    "    else:\n",
    "        return 1\n",
    "\n",
    "enternumber(52)"
   ]
  },
  {
   "cell_type": "markdown",
   "metadata": {},
   "source": [
    "6) define a function which accepts a character and return toggle of it. \n"
   ]
  },
  {
   "cell_type": "code",
   "execution_count": 25,
   "metadata": {},
   "outputs": [
    {
     "name": "stdout",
     "output_type": "stream",
     "text": [
      "a\n"
     ]
    }
   ],
   "source": [
    "def toggle(string1):\n",
    "        print(string1.swapcase())\n",
    "\n",
    "toggle(\"A\")"
   ]
  },
  {
   "cell_type": "markdown",
   "metadata": {},
   "source": [
    "7) define a function which accepts a string , toggle and return it.\n",
    "\t[ hint :  use \"swapcase()\" function of string ]\n"
   ]
  },
  {
   "cell_type": "code",
   "execution_count": 26,
   "metadata": {},
   "outputs": [
    {
     "name": "stdout",
     "output_type": "stream",
     "text": [
      "pRaNaY\n"
     ]
    }
   ],
   "source": [
    "def toggle(string1):\n",
    "        print(string1.swapcase())\n",
    "\n",
    "toggle(\"PrAnAy\")"
   ]
  },
  {
   "cell_type": "markdown",
   "metadata": {},
   "source": [
    "8) write a function to accept minimum 3 characters and maximum 5 characters. \n",
    " \t[ use default arguments method ]\n"
   ]
  },
  {
   "cell_type": "code",
   "execution_count": 5,
   "metadata": {},
   "outputs": [
    {
     "data": {
      "text/plain": [
       "'prana'"
      ]
     },
     "execution_count": 5,
     "metadata": {},
     "output_type": "execute_result"
    }
   ],
   "source": [
    "def characterset(var = 'name'):\n",
    "    if(len(var) >= 3 and len(var) <= 5):\n",
    "        return var\n",
    "    else:\n",
    "        print(\"Enter Characters which are greater than 3 and smaller than 5 to pass.\")\n",
    "    \n",
    "user = input(\"Enter a name :: \")\n",
    "\n",
    "characterset(user)"
   ]
  },
  {
   "cell_type": "markdown",
   "metadata": {},
   "source": [
    "9) define a function in such a way that it can accept n number of values and print their sum. [ variable number of arguments]\n"
   ]
  },
  {
   "cell_type": "code",
   "execution_count": 9,
   "metadata": {},
   "outputs": [
    {
     "name": "stdout",
     "output_type": "stream",
     "text": [
      "Sum of total entered number = 50\n"
     ]
    }
   ],
   "source": [
    "def sumnum(*vars):\n",
    "    total = sum(vars)\n",
    "    print(f\"Sum of total entered number = {total}\")\n",
    "\n",
    "sumnum(10,10,10,10,10)"
   ]
  }
 ],
 "metadata": {
  "kernelspec": {
   "display_name": "base",
   "language": "python",
   "name": "python3"
  },
  "language_info": {
   "codemirror_mode": {
    "name": "ipython",
    "version": 3
   },
   "file_extension": ".py",
   "mimetype": "text/x-python",
   "name": "python",
   "nbconvert_exporter": "python",
   "pygments_lexer": "ipython3",
   "version": "3.11.9"
  }
 },
 "nbformat": 4,
 "nbformat_minor": 2
}
