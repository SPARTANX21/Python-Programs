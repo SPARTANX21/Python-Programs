{
 "cells": [
  {
   "cell_type": "markdown",
   "metadata": {},
   "source": [
    "1) store marks of 5 subjects\n",
    "\there use marks as actual data and subject names as indexes.\n",
    "accept both marks and subjects from the user.\n",
    "\n",
    "2) create dictionary to store player name and runs scored of at least 5 players. Display it. Now convert this dictionary ‌into Series object and print it.\n",
    "\n",
    "3) accept 10 values and store them in the Series. Now perform following operations:\n",
    "\n",
    "\t\ta) display the entire Series\n",
    "\t\tb) extract 3rd element\n",
    "\t\tc) extract elements from 4 to 7\n",
    "\t\td) extract elements from fourth last till the last element\n",
    "\t\te) extract first 3 elements\n",
    "\t\tf) extract elements from the 5th position\n",
    "\n",
    "\n",
    "4) accept 5 values in a Series and perform the following operations:\n",
    "\n",
    "\t\ta) display their sum\n",
    "\t\tb) add the value accepted from the user\n",
    "\t\tc) subtract the value accepted from the user\n",
    "\t\td) multiply the value accepted from the user\n",
    "\t\te) add the value accepted from the user\n",
    "\n",
    "\n",
    "\n",
    "**********  DataFrame Assignments ************************************\n",
    "\n",
    "5) accept 5 names,designations and salaries and display them with DataFrame.\n",
    "\n",
    "6) create a csv file (with whatever columns and rows you want) manually and then read using pandas.\n",
    "\n",
    "7) create \"Vita.xlsx\" using pandas. In this Excel file you have to create 2 sheets \"DBDA\", and \"DAC\". \n",
    "in each sheet you have to write name,address and age of all the team leaders.\n",
    "make sure Excel file gets created successfully.\n"
   ]
  },
  {
   "cell_type": "markdown",
   "metadata": {},
   "source": [
    "1) store marks of 5 subjects\n",
    "\there use marks as actual data and subject names as indexes.\n",
    "accept both marks and subjects from the user."
   ]
  },
  {
   "cell_type": "code",
   "execution_count": 1,
   "metadata": {},
   "outputs": [
    {
     "ename": "ValueError",
     "evalue": "invalid literal for int() with base 10: ''",
     "output_type": "error",
     "traceback": [
      "\u001b[1;31m---------------------------------------------------------------------------\u001b[0m",
      "\u001b[1;31mValueError\u001b[0m                                Traceback (most recent call last)",
      "Cell \u001b[1;32mIn[1], line 7\u001b[0m\n\u001b[0;32m      5\u001b[0m \u001b[38;5;28;01mfor\u001b[39;00m _ \u001b[38;5;129;01min\u001b[39;00m \u001b[38;5;28mrange\u001b[39m(\u001b[38;5;241m5\u001b[39m):\n\u001b[0;32m      6\u001b[0m     subject \u001b[38;5;241m=\u001b[39m \u001b[38;5;28minput\u001b[39m(\u001b[38;5;124m\"\u001b[39m\u001b[38;5;124mEnter Subject name --> \u001b[39m\u001b[38;5;124m\"\u001b[39m)\n\u001b[1;32m----> 7\u001b[0m     marks \u001b[38;5;241m=\u001b[39m \u001b[38;5;28;43mint\u001b[39;49m\u001b[43m(\u001b[49m\u001b[38;5;28;43minput\u001b[39;49m\u001b[43m(\u001b[49m\u001b[38;5;124;43mf\u001b[39;49m\u001b[38;5;124;43m\"\u001b[39;49m\u001b[38;5;124;43mEnter Marks for Subject name \u001b[39;49m\u001b[38;5;132;43;01m{\u001b[39;49;00m\u001b[43msubject\u001b[49m\u001b[38;5;132;43;01m}\u001b[39;49;00m\u001b[38;5;124;43m --> \u001b[39;49m\u001b[38;5;124;43m\"\u001b[39;49m\u001b[43m)\u001b[49m\u001b[43m)\u001b[49m\n\u001b[0;32m      8\u001b[0m     marks_dict[subject] \u001b[38;5;241m=\u001b[39m marks\n\u001b[0;32m     10\u001b[0m df \u001b[38;5;241m=\u001b[39m pd\u001b[38;5;241m.\u001b[39mDataFrame(\u001b[38;5;28mlist\u001b[39m(marks_dict\u001b[38;5;241m.\u001b[39mitems()), columns\u001b[38;5;241m=\u001b[39m[\u001b[38;5;124m'\u001b[39m\u001b[38;5;124mSubject\u001b[39m\u001b[38;5;124m'\u001b[39m, \u001b[38;5;124m'\u001b[39m\u001b[38;5;124mMarks\u001b[39m\u001b[38;5;124m'\u001b[39m])\n",
      "\u001b[1;31mValueError\u001b[0m: invalid literal for int() with base 10: ''"
     ]
    }
   ],
   "source": [
    "import pandas as pd\n",
    "\n",
    "marks_dict = {}\n",
    "\n",
    "for _ in range(5):\n",
    "    subject = input(\"Enter Subject name --> \")\n",
    "    marks = int(input(f\"Enter Marks for Subject name {subject} --> \"))\n",
    "    marks_dict[subject] = marks\n",
    "\n",
    "df = pd.DataFrame(list(marks_dict.items()), columns=['Subject', 'Marks'])\n",
    "\n",
    "print(df.index)"
   ]
  },
  {
   "cell_type": "markdown",
   "metadata": {},
   "source": [
    "2) create dictionary to store player name and runs scored of at least 5 players. Display it. Now convert this dictionary ‌into Series object and print it.\n"
   ]
  },
  {
   "cell_type": "code",
   "execution_count": 3,
   "metadata": {},
   "outputs": [
    {
     "name": "stdout",
     "output_type": "stream",
     "text": [
      "Pranay       100\n",
      "Hemant       100\n",
      "Bhupendra    100\n",
      "Pratik       100\n",
      "Yash         100\n",
      "dtype: int64\n"
     ]
    }
   ],
   "source": [
    "player = {}\n",
    "\n",
    "for _ in range(5):\n",
    "    name = input(\"Enter Name of Player --> \")\n",
    "    runs = int(input(f\"Enter runs scored by {name}--> \"))\n",
    "    player[name] = runs\n",
    "\n",
    "plyr = pd.Series(player)\n",
    "\n",
    "print(plyr)"
   ]
  },
  {
   "cell_type": "markdown",
   "metadata": {},
   "source": [
    "3) accept 10 values and store them in the Series. Now perform following operations:\n"
   ]
  },
  {
   "cell_type": "code",
   "execution_count": 4,
   "metadata": {},
   "outputs": [
    {
     "name": "stdout",
     "output_type": "stream",
     "text": [
      "0     10\n",
      "1     20\n",
      "2     30\n",
      "3     40\n",
      "4     50\n",
      "5     60\n",
      "6     70\n",
      "7     80\n",
      "8     90\n",
      "9    100\n",
      "dtype: int64\n"
     ]
    }
   ],
   "source": [
    "values = []\n",
    "\n",
    "for i in range(10):\n",
    "    user = int(input(f\"Enter {i} values --> \"))\n",
    "    values.append(user)\n",
    "\n",
    "vls = pd.Series(values)\n",
    "\n",
    "print(vls)"
   ]
  },
  {
   "cell_type": "markdown",
   "metadata": {},
   "source": [
    "\n",
    "f) extract elements from the 5th position\n"
   ]
  },
  {
   "cell_type": "code",
   "execution_count": 5,
   "metadata": {},
   "outputs": [
    {
     "name": "stdout",
     "output_type": "stream",
     "text": [
      "2    30\n",
      "dtype: int64\n"
     ]
    }
   ],
   "source": [
    "# b) extract 3rd element\n",
    "print(vls[2:3])"
   ]
  },
  {
   "cell_type": "code",
   "execution_count": 6,
   "metadata": {},
   "outputs": [
    {
     "data": {
      "text/plain": [
       "4    50\n",
       "5    60\n",
       "6    70\n",
       "7    80\n",
       "dtype: int64"
      ]
     },
     "execution_count": 6,
     "metadata": {},
     "output_type": "execute_result"
    }
   ],
   "source": [
    "# c) extract elements from 4 to 7\n",
    "vls[4:8]"
   ]
  },
  {
   "cell_type": "code",
   "execution_count": 7,
   "metadata": {},
   "outputs": [
    {
     "data": {
      "text/plain": [
       "4     50\n",
       "5     60\n",
       "6     70\n",
       "7     80\n",
       "8     90\n",
       "9    100\n",
       "dtype: int64"
      ]
     },
     "execution_count": 7,
     "metadata": {},
     "output_type": "execute_result"
    }
   ],
   "source": [
    "# d) extract elements from fourth last till the last element\n",
    "vls[4:]"
   ]
  },
  {
   "cell_type": "code",
   "execution_count": 8,
   "metadata": {},
   "outputs": [
    {
     "data": {
      "text/plain": [
       "0    10\n",
       "1    20\n",
       "2    30\n",
       "dtype: int64"
      ]
     },
     "execution_count": 8,
     "metadata": {},
     "output_type": "execute_result"
    }
   ],
   "source": [
    "# e) extract first 3 elements\n",
    "vls[:3]"
   ]
  },
  {
   "cell_type": "markdown",
   "metadata": {},
   "source": [
    "\n",
    "4) accept 5 values in a Series and perform the following operations:\n",
    "\n",
    "\t\ta) display their sum\n",
    "\t\tb) add the value accepted from the user\n",
    "\t\tc) subtract the value accepted from the user\n",
    "\t\td) multiply the value accepted from the user\n",
    "\t\te) add the value accepted from the user"
   ]
  },
  {
   "cell_type": "code",
   "execution_count": 11,
   "metadata": {},
   "outputs": [
    {
     "name": "stdout",
     "output_type": "stream",
     "text": [
      "0    10\n",
      "1    20\n",
      "2    30\n",
      "3    40\n",
      "4    50\n",
      "dtype: int64\n"
     ]
    }
   ],
   "source": [
    "# Accepting 5 values \n",
    "\n",
    "ser = []\n",
    "\n",
    "for i in range(5):\n",
    "    user = int(input(f\"Enter {i} value ---> \"))\n",
    "    ser.append(user)\n",
    "\n",
    "series = pd.Series(ser)\n",
    "print(series)"
   ]
  },
  {
   "cell_type": "code",
   "execution_count": 16,
   "metadata": {},
   "outputs": [
    {
     "data": {
      "text/plain": [
       "150"
      ]
     },
     "execution_count": 16,
     "metadata": {},
     "output_type": "execute_result"
    }
   ],
   "source": [
    "#a) display their sum\n",
    "\n",
    "series.sum()"
   ]
  },
  {
   "cell_type": "code",
   "execution_count": 20,
   "metadata": {},
   "outputs": [
    {
     "name": "stdout",
     "output_type": "stream",
     "text": [
      "0    20\n",
      "1    30\n",
      "2    40\n",
      "3    50\n",
      "4    60\n",
      "dtype: int64\n"
     ]
    }
   ],
   "source": [
    "# \t\tb) add the value accepted from the user\n",
    "\n",
    "user = int(input(\"Enter a value to add into series --> \"))\n",
    "\n",
    "series = series + user\n",
    "\n",
    "print(series)"
   ]
  },
  {
   "cell_type": "code",
   "execution_count": 21,
   "metadata": {},
   "outputs": [
    {
     "name": "stdout",
     "output_type": "stream",
     "text": [
      "0    15\n",
      "1    25\n",
      "2    35\n",
      "3    45\n",
      "4    55\n",
      "dtype: int64\n"
     ]
    }
   ],
   "source": [
    "# \t\tb) subtract the value accepted from the user\n",
    "\n",
    "user = int(input(\"Enter a value to add into series --> \"))\n",
    "\n",
    "series = series - user\n",
    "\n",
    "print(series)"
   ]
  },
  {
   "cell_type": "code",
   "execution_count": 22,
   "metadata": {},
   "outputs": [
    {
     "name": "stdout",
     "output_type": "stream",
     "text": [
      "0    150\n",
      "1    250\n",
      "2    350\n",
      "3    450\n",
      "4    550\n",
      "dtype: int64\n"
     ]
    }
   ],
   "source": [
    "#d) multiply the value accepted from the user\n",
    "\n",
    "user = int(input(\"Enter a value to add into series --> \"))\n",
    "\n",
    "series = series * user\n",
    "\n",
    "print(series)"
   ]
  },
  {
   "cell_type": "markdown",
   "metadata": {},
   "source": [
    "\n",
    "**********  DataFrame Assignments ************************************\n",
    "\n",
    "5) accept 5 names,designations and salaries and display them with DataFrame.\n",
    "\n",
    "6) create a csv file (with whatever columns and rows you want) manually and then read using pandas.\n",
    "\n",
    "7) create \"Vita.xlsx\" using pandas. In this Excel file you have to create 2 sheets \"DBDA\", and \"DAC\". \n",
    "in each sheet you have to write name,address and age of all the team leaders.\n",
    "make sure Excel file gets created successfully."
   ]
  },
  {
   "cell_type": "code",
   "execution_count": 24,
   "metadata": {},
   "outputs": [
    {
     "name": "stdout",
     "output_type": "stream",
     "text": [
      "            Name        Designation  Salary in $ mio\n",
      "0         Pranay  MD & Board Member               20\n",
      "1    Pranay Shah          CEO & CTO               10\n",
      "2  Pranay B Shah               COO                 5\n",
      "3  Pranay B Shah            Founder                6\n",
      "4  Pranay B Shah   Co-Founder & CTO               12\n"
     ]
    }
   ],
   "source": [
    "# 5) accept 5 names,designations and salaries and display them with DataFrame.\n",
    "\n",
    "name = []\n",
    "des = []\n",
    "sal = []\n",
    "\n",
    "for i in range(5):\n",
    "    n = input(\"Enter name-->\")\n",
    "    d = input(f\"Enter designation for {n}--->\")\n",
    "    s = int(input(f\"Enter Salary for {n} --->\"))\n",
    "\n",
    "    name.append(n)\n",
    "    des.append(d)\n",
    "    sal.append(s)\n",
    "\n",
    "data = {\n",
    "    'Name':name, \n",
    "    \"Designation\":des,\n",
    "    \"Salary in $ mio\": sal\n",
    "}\n",
    "\n",
    "df = pd.DataFrame(data)\n",
    "\n",
    "print(df)"
   ]
  },
  {
   "cell_type": "code",
   "execution_count": 26,
   "metadata": {},
   "outputs": [
    {
     "name": "stdout",
     "output_type": "stream",
     "text": [
      "            Name        Designation  Salary in $ mio\n",
      "0         Pranay  MD & Board Member               20\n",
      "1    Pranay Shah          CEO & CTO               10\n",
      "2  Pranay B Shah               COO                 5\n",
      "3  Pranay B Shah            Founder                6\n",
      "4  Pranay B Shah   Co-Founder & CTO               12\n"
     ]
    }
   ],
   "source": [
    "#6) create a csv file (with whatever columns and rows you want) manually and then read using pandas.\n",
    "\n",
    "df.to_csv(\"Positions.csv\", index = False)\n",
    "\n",
    "data = pd.read_csv(\"Positions.csv\")\n",
    "\n",
    "print(data)"
   ]
  },
  {
   "cell_type": "code",
   "execution_count": 27,
   "metadata": {},
   "outputs": [],
   "source": [
    "\"\"\"\n",
    "7) create \"Vita.xlsx\" using pandas. In this Excel file you have to create 2 sheets \"DBDA\", and \"DAC\". \n",
    "in each sheet you have to write name,address and age of all the team leaders.\n",
    "make sure Excel file gets created successfully.\"\"\"\n",
    "\n",
    "import pandas as pd\n",
    "\n",
    "dbda_data = {\n",
    "    'Name': ['Pranay', 'Hemant'],\n",
    "    'Address': ['Kalyan', 'Mumbai Central'],\n",
    "    'Age': [23, 24]\n",
    "}\n",
    "\n",
    "dac_data = {\n",
    "    'Name': ['Saurabh', 'Pratik'],\n",
    "    'Address': ['Badlapur / Bandra', 'Ghansoli'],\n",
    "    'Age': [27, 23]\n",
    "}\n",
    "\n",
    "df_dbda = pd.DataFrame(dbda_data)\n",
    "df_dac = pd.DataFrame(dac_data)\n",
    "\n",
    "with pd.ExcelWriter('Vita.xlsx') as writer:\n",
    "    df_dbda.to_excel(writer, sheet_name='DBDA', index=False)\n",
    "    df_dac.to_excel(writer, sheet_name='DAC', index=False)\n"
   ]
  },
  {
   "cell_type": "code",
   "execution_count": null,
   "metadata": {},
   "outputs": [],
   "source": []
  }
 ],
 "metadata": {
  "kernelspec": {
   "display_name": "base",
   "language": "python",
   "name": "python3"
  },
  "language_info": {
   "codemirror_mode": {
    "name": "ipython",
    "version": 3
   },
   "file_extension": ".py",
   "mimetype": "text/x-python",
   "name": "python",
   "nbconvert_exporter": "python",
   "pygments_lexer": "ipython3",
   "version": "3.11.10"
  }
 },
 "nbformat": 4,
 "nbformat_minor": 2
}
