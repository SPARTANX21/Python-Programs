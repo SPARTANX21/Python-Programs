{
 "cells": [
  {
   "cell_type": "markdown",
   "metadata": {},
   "source": [
    "1) create a list , accept a number,name and a float value from user and store it inside the list. \n",
    "- now accept one more name from user and insert it at 2nd position. \n",
    "- accept a number and append it at the end of the list. print the entire list.\n"
   ]
  },
  {
   "cell_type": "code",
   "execution_count": 2,
   "metadata": {},
   "outputs": [
    {
     "name": "stdout",
     "output_type": "stream",
     "text": [
      "what would you like to enter first : \n",
      "Number, Name, Float Value\n",
      "['N', 'u', 'm', 'b', 'e', 'r']\n"
     ]
    }
   ],
   "source": [
    "l = []\n",
    "\n",
    "print(\"what would you like to enter first : \")\n",
    "print(\"Number, Name, Float Value\")\n",
    "\n",
    "user = input(\"Enter your option : \")\n",
    "\n",
    "match user:\n",
    "\n",
    "    case 'Number':\n",
    "        num1 = int(input(\"Enter a Number : \"))\n",
    "\n",
    "    case 'name':\n",
    "        name =  input(\"Enter a Name : \")\n",
    "    \n",
    "    case 'Float':\n",
    "        floatv = float(input(\"Enter float value : \"))\n",
    "    \n",
    "for i in user:\n",
    "    l.append(i)\n",
    "\n",
    "print(l)"
   ]
  },
  {
   "cell_type": "code",
   "execution_count": 68,
   "metadata": {},
   "outputs": [
    {
     "name": "stdout",
     "output_type": "stream",
     "text": [
      "1\n",
      "3.0\n",
      "Pranay\n"
     ]
    }
   ],
   "source": [
    "a,b,c = input(\"Enter a nums :\").split()\n",
    "print(int(a))\n",
    "print(float(c))\n",
    "print(b)"
   ]
  },
  {
   "cell_type": "code",
   "execution_count": 1,
   "metadata": {},
   "outputs": [
    {
     "name": "stdout",
     "output_type": "stream",
     "text": [
      "what would you like to enter first : \n",
      "Number, Name, Float Value\n",
      "[1, 'Pranay', 12.22]\n"
     ]
    }
   ],
   "source": [
    "l = []\n",
    "\n",
    "num1 = int(input(\"Enter a Number : \"))\n",
    "\n",
    "name =  input(\"Enter a Name : \")\n",
    "\n",
    "floatv = float(input(\"Enter float value : \"))\n",
    "\n",
    "l.append(num1)\n",
    "l.append(name)\n",
    "l.append(floatv)\n",
    "\n",
    "print(l)"
   ]
  },
  {
   "cell_type": "code",
   "execution_count": 2,
   "metadata": {},
   "outputs": [
    {
     "name": "stdout",
     "output_type": "stream",
     "text": [
      "[1, 'Shah', 'Pranay', 12.22]\n"
     ]
    }
   ],
   "source": [
    "name2 = input(\"Enter second name : \")\n",
    "\n",
    "l.insert(1,name2)\n",
    "print(l)"
   ]
  },
  {
   "cell_type": "code",
   "execution_count": 3,
   "metadata": {},
   "outputs": [
    {
     "name": "stdout",
     "output_type": "stream",
     "text": [
      "[1, 'Shah', 'Pranay', 12.22, 24]\n"
     ]
    }
   ],
   "source": [
    "num2 = int(input(\"Enter a second number :: \"))\n",
    "\n",
    "l.append(num2)\n",
    "print(l)"
   ]
  },
  {
   "cell_type": "markdown",
   "metadata": {},
   "source": [
    "2) first create list empty. accept numbers till user enters 0 and store them inside the list. Print the list and its length.\n"
   ]
  },
  {
   "cell_type": "code",
   "execution_count": 1,
   "metadata": {},
   "outputs": [
    {
     "name": "stdout",
     "output_type": "stream",
     "text": [
      "[10, 112, 526, 552]\n"
     ]
    }
   ],
   "source": [
    "l = []\n",
    "\n",
    "while True:\n",
    "    n = int(input(\"Enter a number to add to list :: \"))\n",
    "    if(n == 0):\n",
    "        break\n",
    "    l.append(n)\n",
    "print(l)"
   ]
  },
  {
   "cell_type": "markdown",
   "metadata": {},
   "source": [
    "3) accept 5 numbers, store them inside the list and display it. Now add 3 more numbers [hardcoded] at the end of the list using \"extend\" method.\n"
   ]
  },
  {
   "cell_type": "code",
   "execution_count": 14,
   "metadata": {},
   "outputs": [
    {
     "name": "stdout",
     "output_type": "stream",
     "text": [
      "[10, 11, 12, 13, 14, 1, 2, 3]\n"
     ]
    }
   ],
   "source": [
    "l = []\n",
    "\n",
    "while True:\n",
    "    n = int(input(\"Enter a number to add to list :: \"))\n",
    "    if(len(l) == 5):\n",
    "        break\n",
    "    l.append(n)\n",
    "\n",
    "l.extend([1,2,3])\n",
    "\n",
    "print(l)"
   ]
  },
  {
   "cell_type": "markdown",
   "metadata": {},
   "source": [
    "4) accept a number,string,decimal,boolean value and a character from the user and store it inside the list. First print the list from the beginning and then from the end.\n"
   ]
  },
  {
   "cell_type": "code",
   "execution_count": 15,
   "metadata": {},
   "outputs": [
    {
     "name": "stdout",
     "output_type": "stream",
     "text": [
      "[10, 'Pranay', 10.2, True, 'R']\n"
     ]
    }
   ],
   "source": [
    "number = int(input(\"Enter a number : \"))\n",
    "\n",
    "string1 = (input(\"Enter a String : \"))\n",
    "\n",
    "dec = float(input(\"Enter a Float : \"))\n",
    "\n",
    "boole = bool(input(\"Enter a Boolean : \"))\n",
    "\n",
    "chara = input(\"Enter a Character : \")\n",
    "\n",
    "l = []\n",
    "\n",
    "l1 = [number, string1, dec, boole, chara]\n",
    "\n",
    "for i in l1:\n",
    "    l.append(i)\n",
    "\n",
    "print(l1)"
   ]
  },
  {
   "cell_type": "markdown",
   "metadata": {},
   "source": [
    "5) accept 5 numbers, store them inside the list. now accept a number from user which he would like to remove from the list and  after removing it, display the list.\n"
   ]
  },
  {
   "cell_type": "code",
   "execution_count": 31,
   "metadata": {},
   "outputs": [
    {
     "name": "stdout",
     "output_type": "stream",
     "text": [
      "['1', '2', '3', '5', '4']\n",
      "Removed 4 from the list  ['1', '2', '3', '5']\n"
     ]
    }
   ],
   "source": [
    "a,b,c,d,e = input(\"ENter 5 numbers :: \")\n",
    "l1 = [a,b,c,d,e]\n",
    "\n",
    "l = []\n",
    "\n",
    "for i in l1:\n",
    "    l.append(i)\n",
    "\n",
    "remove = (input(\"Enter a number to remove / delete from the list :: \"))\n",
    "\n",
    "print(l)\n",
    "\n",
    "if( remove in l):\n",
    "    l1.remove(remove)\n",
    "    print(f\"Removed {remove} from the list \",l1)\n",
    "else:\n",
    "    print('Mentioned number not in List')\n",
    "    "
   ]
  },
  {
   "cell_type": "markdown",
   "metadata": {},
   "source": [
    "6) accept 5 numbers, store them inside the list. now accept a position from user ,remove the element from that position and  after removing it, display the list.\n"
   ]
  },
  {
   "cell_type": "code",
   "execution_count": 39,
   "metadata": {},
   "outputs": [
    {
     "name": "stdout",
     "output_type": "stream",
     "text": [
      "Removed from 0 poition of the list  ['11', '12', '13', '14']\n"
     ]
    }
   ],
   "source": [
    "a,b,c,d,e = input(\"ENter 5 numbers :: \").split(\" \")\n",
    "l1 = [a,b,c,d,e]\n",
    "\n",
    "l = []\n",
    "\n",
    "for i in l1:\n",
    "    l.append(i)\n",
    "\n",
    "pos = int((input(\"Enter a number to remove / delete from the list :: \")))\n",
    "\n",
    "if 0 <= pos < len(l1):\n",
    "    removed_element = l1.pop(pos)\n",
    "\n",
    "print(f\"Removed from {pos} poition of the list \",l1)"
   ]
  },
  {
   "cell_type": "markdown",
   "metadata": {},
   "source": [
    "7) create a list and store string,number,character,boolean,decimal values respectively inside it.\n",
    "Now slice it in following ways:\n",
    "    - a) display it in reverse order\n",
    "    - b) list all the elements from 2nd position\n",
    "    - c) list the elements from 1st to 3rd position\n",
    "    - d) slice it from 1st to 3rd elements from the end.\n"
   ]
  },
  {
   "cell_type": "code",
   "execution_count": 4,
   "metadata": {},
   "outputs": [
    {
     "name": "stdout",
     "output_type": "stream",
     "text": [
      "a---> [22.3, True, 'R', 24, 'Pranay']\n",
      "b---> ['R', True, 22.3]\n",
      "c---> [24, 'R']\n",
      "d---> ['Pranay', 24, 'R']\n"
     ]
    }
   ],
   "source": [
    "# Create a list\n",
    "\n",
    "l = ['Pranay', 24, 'R', True,22.3]\n",
    "\n",
    "# a - display in reverse order\n",
    "print(\"a--->\", l[::-1])\n",
    "\n",
    "# b - all elemets form 2nd element\n",
    "\n",
    "print(\"b--->\", l[2:])\n",
    "\n",
    "#c - list all elements from 1 - 3 position\n",
    "\n",
    "print(\"c--->\", l[1:3])\n",
    "\n",
    "# d- slice it from 1 -3 frmo end\n",
    "\n",
    "print(\"d--->\", l[-5:-2])"
   ]
  },
  {
   "cell_type": "markdown",
   "metadata": {},
   "source": [
    "8) Note: use List comprehension\n",
    "- create a list with the numbers from 1 to 20\n",
    "- create one more list which should contain only odd numbers from the first list.\n"
   ]
  },
  {
   "cell_type": "code",
   "execution_count": 54,
   "metadata": {},
   "outputs": [
    {
     "name": "stdout",
     "output_type": "stream",
     "text": [
      "[1, 2, 3, 4, 5, 6, 7, 8, 9, 10, 11, 12, 13, 14, 15, 16, 17, 18, 19, 20]\n",
      "list with odd numbers uins list comprehension --->  [1, 3, 5, 7, 9, 11, 13, 15, 17, 19]\n"
     ]
    }
   ],
   "source": [
    "l = [ i for i in range(1,21)]\n",
    "print(l)\n",
    "\n",
    "lodd = [ i for i in range(1,21) if i%2!=0]\n",
    "print(\"list with odd numbers uins list comprehension ---> \",lodd)"
   ]
  },
  {
   "cell_type": "markdown",
   "metadata": {},
   "source": [
    "\n",
    "9) accept 5 names and store them in list. Now sort the list in \n",
    "- ascending order display and \n",
    "- then in descending order.\n"
   ]
  },
  {
   "cell_type": "code",
   "execution_count": 62,
   "metadata": {},
   "outputs": [
    {
     "name": "stdout",
     "output_type": "stream",
     "text": [
      "Names in descending order: ['Krishna', 'Pranay', 'Radhaji', 'Shreenathji', 'Yamunaji ']\n",
      "Names in descending order: ['Yamunaji ', 'Shreenathji', 'Radhaji', 'Pranay', 'Krishna']\n"
     ]
    }
   ],
   "source": [
    "names = []\n",
    "for i in range(5):\n",
    "    name = input(f\"Enter name {i+1}: \")\n",
    "    names.append(name)\n",
    "\n",
    "names_ascending = sorted(names, reverse=False)\n",
    "print(\"Names in descending order:\", names_ascending)\n",
    "\n",
    "names_descending = sorted(names, reverse=True)\n",
    "print(\"Names in descending order:\", names_descending)\n"
   ]
  },
  {
   "cell_type": "markdown",
   "metadata": {},
   "source": [
    "10) create a class \"Car\" with two instance members i.e. \"model(string)\" and \"isautomatic(boolean)\" have getter methods also.\n",
    "- create 5 to 6 objects by passing model name and True or False for \"isautomatic\".\n",
    "\n",
    "- create a list and store all the objects inside it.\n",
    "\n",
    "- now create one more list and in that list store all the objects from first list where \"isautomatic\" is True.\n",
    "Print both the lists."
   ]
  },
  {
   "cell_type": "code",
   "execution_count": 7,
   "metadata": {},
   "outputs": [
    {
     "name": "stdout",
     "output_type": "stream",
     "text": [
      "All cars: [Car(model: Honda City, isautomatic: True), Car(model: Hyundai Creta, isautomatic: False), Car(model: Toyota Corolla, isautomatic: True), Car(model: Maruti Swift, isautomatic: False), Car(model: Tesla Model S, isautomatic: True)]\n",
      "Automatic cars: [Car(model: Honda City, isautomatic: True), Car(model: Toyota Corolla, isautomatic: True), Car(model: Tesla Model S, isautomatic: True)]\n"
     ]
    }
   ],
   "source": [
    "class Car:\n",
    "    def __init__(self, model, isautomatic):\n",
    "        self.model = model\n",
    "        self.isautomatic = isautomatic\n",
    "\n",
    "    def get_model(self):\n",
    "        return self.model\n",
    "\n",
    "    def is_automatic(self):\n",
    "        return self.isautomatic\n",
    "\n",
    "    def __repr__(self):\n",
    "        return f\"Car(model: {self.model}, isautomatic: {self.isautomatic})\"\n",
    "\n",
    "car1 = Car(\"Honda City\", True)\n",
    "car2 = Car(\"Hyundai Creta\", False)\n",
    "car3 = Car(\"Toyota Corolla\", True)\n",
    "car4 = Car(\"Maruti Swift\", False)\n",
    "car5 = Car(\"Tesla Model S\", True)\n",
    "\n",
    "\n",
    "cars = [car1, car2, car3, car4, car5]\n",
    "\n",
    "automatic_cars = [car for car in cars if car.is_automatic()]\n",
    "\n",
    "print(\"All cars:\", cars)\n",
    "print(\"Automatic cars:\", automatic_cars)\n"
   ]
  },
  {
   "cell_type": "code",
   "execution_count": null,
   "metadata": {},
   "outputs": [],
   "source": []
  }
 ],
 "metadata": {
  "kernelspec": {
   "display_name": "base",
   "language": "python",
   "name": "python3"
  },
  "language_info": {
   "codemirror_mode": {
    "name": "ipython",
    "version": 3
   },
   "file_extension": ".py",
   "mimetype": "text/x-python",
   "name": "python",
   "nbconvert_exporter": "python",
   "pygments_lexer": "ipython3",
   "version": "3.11.9"
  }
 },
 "nbformat": 4,
 "nbformat_minor": 2
}
