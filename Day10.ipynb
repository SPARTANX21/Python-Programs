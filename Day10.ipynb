{
 "cells": [
  {
   "cell_type": "markdown",
   "metadata": {},
   "source": [
    "# **Day10**"
   ]
  },
  {
   "cell_type": "markdown",
   "metadata": {},
   "source": [
    "Created PythonTutorial database in using mysql command line\n",
    "\n",
    "pip install mysql-connector-python"
   ]
  },
  {
   "cell_type": "markdown",
   "metadata": {},
   "source": [
    "## **Database Handling**"
   ]
  },
  {
   "cell_type": "code",
   "execution_count": 1,
   "metadata": {},
   "outputs": [],
   "source": [
    "# how to create database using Python\n",
    "\n",
    "import mysql.connector as m\n",
    " \n",
    "mydatabase=m.connect(host=\"localhost\",user=\"root\",password=\"Mysqlroot@64\")\n",
    "cursor=mydatabase.cursor()\n",
    "cursor.execute(\"CREATE DATABASE PYTHONTUTORIAL\")   # go and check inside MySQL whether database has been created or not\n"
   ]
  },
  {
   "cell_type": "markdown",
   "metadata": {},
   "source": [
    "eX2"
   ]
  },
  {
   "cell_type": "code",
   "execution_count": 2,
   "metadata": {},
   "outputs": [],
   "source": [
    "# how to create table using Python\n",
    "\n",
    "import mysql.connector as m\n",
    "mydatabase=m.connect(host=\"localhost\",user=\"root\",password=\"Mysqlroot@64\",database=\"PYTHONTUTORIAL\")\n",
    "\n",
    "cursor=mydatabase.cursor()\n",
    "\n",
    "cursor.execute(\"create table dept(deptno int primary key auto_increment,dname varchar(20),loc varchar(30))\")"
   ]
  },
  {
   "cell_type": "markdown",
   "metadata": {},
   "source": [
    "Ex3"
   ]
  },
  {
   "cell_type": "code",
   "execution_count": 3,
   "metadata": {},
   "outputs": [],
   "source": [
    "# insert records in the table\n",
    "\n",
    "mydatabase=m.connect(host=\"localhost\",user=\"root\",password=\"Mysqlroot@64\",database=\"PYTHONTUTORIAL\")\n",
    "\n",
    "cursor=mydatabase.cursor()\n",
    "\n",
    "query1=\"insert into dept(dname,loc) values(%s,%s)\"    # it has to be \"s\"\n",
    "mydata1=('accounts','delhi')\n",
    "cursor.execute(query1,mydata1)\n",
    "mydatabase.commit()                    #   commit() is compulsory"
   ]
  },
  {
   "cell_type": "markdown",
   "metadata": {},
   "source": [
    "Ex4"
   ]
  },
  {
   "cell_type": "code",
   "execution_count": 7,
   "metadata": {},
   "outputs": [],
   "source": [
    "# accept values from user and then insert the record\n",
    "# run this program on \"terminal\"\n",
    "\n",
    "\n",
    "mydatabase=m.connect(host=\"localhost\",user=\"root\",password=\"Mysqlroot@64\",database=\"PYTHONTUTORIAL\")\n",
    "\n",
    "\n",
    "query=\"insert into dept(dname,loc) values(%s,%s)\"         #  must be \"s\"\n",
    "dname=input(\"enter department name\")\n",
    "loc=input(\"enter location\")\n",
    "cursor=mydatabase.cursor()\n",
    "cursor.execute(query,[dname,loc])       #  second argument has to be list or tuple or dictionary\n",
    "mydatabase.commit()      #   commit() is must here"
   ]
  },
  {
   "cell_type": "markdown",
   "metadata": {},
   "source": [
    "Ex5"
   ]
  },
  {
   "cell_type": "code",
   "execution_count": 8,
   "metadata": {},
   "outputs": [],
   "source": [
    "mydatabase=m.connect(host=\"localhost\",user=\"root\",password=\"Mysqlroot@64\",database=\"PYTHONTUTORIAL\")\n",
    "\n",
    "\n",
    "cursor=mydatabase.cursor()\n",
    "query=\"insert into dept(dname,loc) values(%s,%s)\"\n",
    "cursor.execute(query,['admin','Banglore'])\n",
    "cursor.execute(query,['RnD','Chennai'])\n",
    "mydatabase.commit()"
   ]
  },
  {
   "cell_type": "markdown",
   "metadata": {},
   "source": [
    "Ex6\n"
   ]
  },
  {
   "cell_type": "code",
   "execution_count": 11,
   "metadata": {},
   "outputs": [],
   "source": [
    "mydatabase=m.connect(host=\"localhost\",user=\"root\",password=\"Mysqlroot@64\",database=\"PYTHONTUTORIAL\")\n",
    "\n",
    "cursor=mydatabase.cursor()\n",
    "query=\"insert into dept(dname,loc) values(%s,%s)\"\n",
    "while True:\n",
    "    dname=input(\"Enter dname\")\n",
    "    loc=input(\"Enter location\")\n",
    "    cursor.execute(query,[dname,loc])\n",
    "    ans=input(\"Do you wish to continue\")\n",
    "    if(ans==\"no\"):\n",
    "        break\n",
    "mydatabase.commit()"
   ]
  },
  {
   "cell_type": "code",
   "execution_count": 12,
   "metadata": {},
   "outputs": [
    {
     "name": "stdout",
     "output_type": "stream",
     "text": [
      "<class 'mysql.connector.cursor_cext.CMySQLCursor'>\n"
     ]
    }
   ],
   "source": [
    "print(type(cursor))"
   ]
  },
  {
   "cell_type": "markdown",
   "metadata": {},
   "source": [
    "Ex7"
   ]
  },
  {
   "cell_type": "code",
   "execution_count": 13,
   "metadata": {},
   "outputs": [],
   "source": [
    "mydatabase=m.connect(host=\"localhost\",user=\"root\",password=\"Mysqlroot@64\",database=\"PYTHONTUTORIAL\")\n",
    "\n",
    "cursor=mydatabase.cursor()\n",
    "\n",
    "query=\"update dept set loc=%s where deptno=%s\"\n",
    "loc=input(\"Enter location\")\n",
    "deptno=input(\"Enter deptno\")\n",
    "cursor.execute(query,[loc,deptno])\n",
    "mydatabase.commit()"
   ]
  },
  {
   "cell_type": "markdown",
   "metadata": {},
   "source": [
    "Ex8"
   ]
  },
  {
   "cell_type": "code",
   "execution_count": 14,
   "metadata": {},
   "outputs": [],
   "source": [
    "mydatabase=m.connect(host=\"localhost\",user=\"root\",password=\"Mysqlroot@64\",database=\"PYTHONTUTORIAL\")\n",
    "\n",
    "cursor=mydatabase.cursor()\n",
    "query=\"delete from dept where dname=%s\"\n",
    "\n",
    "dname=input(\"Enter department to delete the record\")\n",
    "cursor.execute(query,(dname,))     # passing tuple as second argument   comma(,)  is mandatory here as we just have only one value inside the tuple\n",
    "\n",
    "mydatabase.commit();"
   ]
  },
  {
   "cell_type": "markdown",
   "metadata": {},
   "source": [
    "Ex9"
   ]
  },
  {
   "cell_type": "code",
   "execution_count": 15,
   "metadata": {},
   "outputs": [],
   "source": [
    "# executemany function  if we pass list of list to the \"execute()\" method\n",
    "\n",
    "from dataclasses import dataclass\n",
    "import mysql.connector as m\n",
    "mydatabase=m.connect(host=\"localhost\",user=\"root\",password=\"Mysqlroot@64\",database=\"PYTHONTUTORIAL\")\n",
    "\n",
    "cursor=mydatabase.cursor()\n",
    "query=\"insert into dept(dname,loc) values(%s,%s)\"\n",
    "mylist=[['HR','Mumbai'],['Placement','Pune']]      # list of list\n",
    "# cursor.execute(query,mylist)    #  won't work as it is list of list\n",
    "cursor.executemany(query,mylist)\n",
    "mydatabase.commit()"
   ]
  },
  {
   "cell_type": "markdown",
   "metadata": {},
   "source": [
    "Ex10"
   ]
  },
  {
   "cell_type": "code",
   "execution_count": 16,
   "metadata": {},
   "outputs": [
    {
     "name": "stdout",
     "output_type": "stream",
     "text": [
      "(1, 'accounts', 'Liberty City')\n",
      "(2, 'Technology', 'California')\n",
      "(4, 'RnD', 'Chennai')\n",
      "(5, 'Science', 'Texas')\n",
      "(6, 'Finance', 'Germany')\n",
      "(7, '', '')\n",
      "(8, '', '')\n",
      "(9, '', '')\n",
      "(10, '', '')\n",
      "(11, 'HR', 'Mumbai')\n",
      "(12, 'Placement', 'Pune')\n"
     ]
    }
   ],
   "source": [
    "import mysql.connector as m\n",
    "mydatabase=m.connect(host=\"localhost\",user=\"root\",password=\"Mysqlroot@64\",database=\"PYTHONTUTORIAL\")\n",
    "\n",
    "cursor=mydatabase.cursor()\n",
    "query=\"select * from dept\"\n",
    "cursor.execute(query)\n",
    "result=cursor.fetchall()     # here we get tuples equivalent to the number of records\n",
    "for record in result:\n",
    "    print(record)\n"
   ]
  },
  {
   "cell_type": "markdown",
   "metadata": {},
   "source": [
    "Ex11"
   ]
  },
  {
   "cell_type": "code",
   "execution_count": 17,
   "metadata": {},
   "outputs": [
    {
     "name": "stdout",
     "output_type": "stream",
     "text": [
      "(1, 'accounts', 'Liberty City')\n",
      "(2, 'Technology', 'California')\n",
      "(4, 'RnD', 'Chennai')\n",
      "(5, 'Science', 'Texas')\n",
      "(6, 'Finance', 'Germany')\n",
      "(7, '', '')\n",
      "(8, '', '')\n",
      "(9, '', '')\n",
      "(10, '', '')\n",
      "(11, 'HR', 'Mumbai')\n",
      "(12, 'Placement', 'Pune')\n"
     ]
    }
   ],
   "source": [
    "import mysql.connector as m\n",
    "with m.connect(host=\"localhost\",user=\"root\",password=\"Mysqlroot@64\",database=\"PYTHONTUTORIAL\") as mydatabase:\n",
    "    cursor=mydatabase.cursor()\n",
    "    query=\"select * from dept\"\n",
    "    cursor.execute(query)\n",
    "    result=cursor.fetchall()     # here we get tuples equivalent to the number of records\n",
    "    for record in result:\n",
    "      print(record)\n"
   ]
  },
  {
   "cell_type": "markdown",
   "metadata": {},
   "source": [
    "Ex11"
   ]
  },
  {
   "cell_type": "code",
   "execution_count": 18,
   "metadata": {},
   "outputs": [
    {
     "name": "stdout",
     "output_type": "stream",
     "text": [
      "1\n",
      "accounts\n",
      "Liberty City\n",
      "2\n",
      "Technology\n",
      "California\n",
      "4\n",
      "RnD\n",
      "Chennai\n",
      "5\n",
      "Science\n",
      "Texas\n",
      "6\n",
      "Finance\n",
      "Germany\n",
      "7\n",
      "\n",
      "\n",
      "8\n",
      "\n",
      "\n",
      "9\n",
      "\n",
      "\n",
      "10\n",
      "\n",
      "\n",
      "11\n",
      "HR\n",
      "Mumbai\n",
      "12\n",
      "Placement\n",
      "Pune\n"
     ]
    }
   ],
   "source": [
    "import mysql.connector as m\n",
    "mydatabase=m.connect(host=\"localhost\",user=\"root\",password=\"Mysqlroot@64\",database=\"PYTHONTUTORIAL\")\n",
    "\n",
    "cursor=mydatabase.cursor()\n",
    "query=\"select * from dept\"\n",
    "cursor.execute(query)\n",
    "result=cursor.fetchall()     # here we get tuples equivalent to the number of records\n",
    "for record in result:\n",
    "    for i in range(0,len(record)):    # traversing through each and every column of respective record\n",
    "        print(record[i])"
   ]
  },
  {
   "cell_type": "markdown",
   "metadata": {},
   "source": [
    "Ex12"
   ]
  },
  {
   "cell_type": "code",
   "execution_count": 19,
   "metadata": {},
   "outputs": [
    {
     "name": "stdout",
     "output_type": "stream",
     "text": [
      "exception occured\t 1064 (42000): You have an error in your SQL syntax; check the manual that corresponds to your MySQL server version for the right syntax to use near 'insertt into dept(dname,loc) values('training','Pune')' at line 1\n",
      "done\n"
     ]
    }
   ],
   "source": [
    "import mysql.connector as m\n",
    "\n",
    "mydatabase=m.connect(host=\"localhost\",user=\"root\",password=\"Mysqlroot@64\",database=\"PYTHONTUTORIAL\")\n",
    "cursor=mydatabase.cursor()\n",
    "\n",
    "query=\"insertt into dept(dname,loc) values(%s,%s)\"\n",
    "try:\n",
    "    cursor.execute(query,['training','Pune'])\n",
    "    cursor.execute(query,['cleaning','Banglore'])\n",
    "    mydatabase.commit()\n",
    "except Exception as e:\n",
    "    print(\"exception occured\\t\",e)\n",
    "    mydatabase.rollback()\n",
    "print(\"done\")"
   ]
  },
  {
   "cell_type": "code",
   "execution_count": 20,
   "metadata": {},
   "outputs": [
    {
     "name": "stdout",
     "output_type": "stream",
     "text": [
      "done\n"
     ]
    }
   ],
   "source": [
    "#correct code for upper error \n",
    "\n",
    "import mysql.connector as m\n",
    "\n",
    "mydatabase=m.connect(host=\"localhost\",user=\"root\",password=\"Mysqlroot@64\",database=\"PYTHONTUTORIAL\")\n",
    "cursor=mydatabase.cursor()\n",
    "\n",
    "query=\"insert into dept(dname,loc) values(%s,%s)\"\n",
    "try:\n",
    "    cursor.execute(query,['Training','Pune'])\n",
    "    cursor.execute(query,['Sodexo','Banglore'])\n",
    "    mydatabase.commit()\n",
    "except Exception as e:\n",
    "    print(\"exception occured\\t\",e)\n",
    "    mydatabase.rollback()\n",
    "print(\"done\")"
   ]
  },
  {
   "cell_type": "markdown",
   "metadata": {},
   "source": [
    "Ex13"
   ]
  },
  {
   "cell_type": "code",
   "execution_count": 26,
   "metadata": {},
   "outputs": [
    {
     "name": "stdout",
     "output_type": "stream",
     "text": [
      "Records inserted\n"
     ]
    }
   ],
   "source": [
    "# read from csv and insert into database table\n",
    "\n",
    "import pandas as pd\n",
    "import mysql.connector as m\n",
    "\n",
    "empdata = pd.read_csv('t_csv.csv', index_col=False, delimiter = ',')\n",
    "\n",
    "mydatabase=m.connect(host=\"localhost\",user=\"root\",password=\"Mysqlroot@64\",database=\"PYTHONTUTORIAL\")\n",
    "\n",
    "cursor=mydatabase.cursor()\n",
    "\n",
    "cursor.execute('DROP TABLE IF EXISTS book;')\n",
    "cursor.execute(\"create table book(id int(3), name varchar(20))\")\n",
    "\n",
    "for i,row in empdata.iterrows():\n",
    "            #here %S means string values \n",
    "            sql = \"INSERT INTO book VALUES (%s,%s)\"\n",
    "            cursor.execute(sql, tuple(row))\n",
    "            # the connection is not auto committed by default, so we must commit to save our changes\n",
    "\n",
    "mydatabase.commit()\n",
    "print(\"Records inserted\")\n"
   ]
  },
  {
   "cell_type": "markdown",
   "metadata": {},
   "source": [
    "Ex14"
   ]
  },
  {
   "cell_type": "code",
   "execution_count": 27,
   "metadata": {},
   "outputs": [],
   "source": [
    "# read from database and store inside CSV\n",
    "\n",
    "import pandas as pd\n",
    "import mysql.connector as m\n",
    "\n",
    "mydatabase=m.connect(host=\"localhost\",user=\"root\",password=\"Mysqlroot@64\",database=\"PYTHONTUTORIAL\")\n",
    "\n",
    "cursor=mydatabase.cursor()\n",
    "\n",
    "query=\"select id, name from book\"\n",
    "cursor.execute(query)\n",
    "result=cursor.fetchall()     # here we get tuples equivalent to the number of records\n",
    "names=[]\n",
    "ids=[]\n",
    "\n",
    "for id,name in result:\n",
    "    ids.append(name)\n",
    "    names.append(name)\n",
    "    # addresses.append(address)\n",
    "\n",
    "mydictionary={'Ids':ids,'Name':names}\n",
    "#print(mydictionary)\n",
    "\n",
    "df=pd.DataFrame(mydictionary)\n",
    "df_csv=df.to_csv('NewBook.csv',index=False)\n",
    "\n"
   ]
  },
  {
   "cell_type": "markdown",
   "metadata": {},
   "source": [
    "## **Socket Prgm**"
   ]
  },
  {
   "cell_type": "markdown",
   "metadata": {},
   "source": [
    "Ex1"
   ]
  },
  {
   "cell_type": "code",
   "execution_count": null,
   "metadata": {},
   "outputs": [
    {
     "name": "stdout",
     "output_type": "stream",
     "text": [
      "socket created\n",
      "waiting for the client\n"
     ]
    }
   ],
   "source": [
    "\n",
    "\n",
    "# bind() method  binds the server to a specific IP and port so that it can listen to incoming requests on that IP and port.\n",
    "# listen() method puts the server into listen mode\n",
    "# accept() method allows server to wait for client to send the request\n",
    "\n",
    "\"\"\" The process of converting string objects to byte objects is called encoding and the inverse is called decoding. \n",
    "\n",
    "The bytes() method takes in an object (a string in our case), the required encoding method, and convert it into a byte object. \n",
    "\n",
    " \"\"\"\n",
    "import socket\n",
    "with socket.socket() as s:\n",
    "    print(\"socket created\")\n",
    "    s.bind((\"localhost\",5000))\n",
    "    s.listen()\n",
    "    print(\"waiting for the client\")\n",
    "\n",
    "    client,address=s.accept()  # returns tuple[socket, _RetAddress] \n",
    "    print(\"client is\\t\",client)\n",
    "    print(\"address is\\t\",address)\n",
    "    # converts byte string received from client\n",
    "    # into string format\n",
    "    name=client.recv(1024).decode()\n",
    "    print(\"connected with\\t\",address,name)\n",
    "\n",
    "    # converting the string into bytes using the\n",
    "    # UTF-8 encoding.\n",
    "    client.send(bytes(f\"{name} welcome to the server side\",'utf-8'))\n",
    "    \n",
    "    "
   ]
  },
  {
   "cell_type": "markdown",
   "metadata": {},
   "source": [
    "Run server first then go for client "
   ]
  },
  {
   "cell_type": "code",
   "execution_count": null,
   "metadata": {},
   "outputs": [],
   "source": [
    "import socket\n",
    "\n",
    "with socket.socket() as c:\n",
    "    c.connect((\"localhost\",5000))\n",
    "    name=input(\"Enter your name\")\n",
    "\n",
    "    # convert the input string into bytes.\n",
    "    c.send(bytes(name,'utf-8'))\n",
    "\n",
    "    # decodes the response which comes as byte string\n",
    "    # into a standard string format\n",
    "    print(c.recv(1024).decode())\n"
   ]
  },
  {
   "cell_type": "markdown",
   "metadata": {},
   "source": [
    "Ex2"
   ]
  },
  {
   "cell_type": "code",
   "execution_count": null,
   "metadata": {},
   "outputs": [],
   "source": [
    "# bind() method  binds the server to a specific IP and port so that it can listen to incoming requests on that IP and port.\n",
    "# listen() method puts the server into listen mode\n",
    "# accept() method allows server to wait for client to send the request\n",
    "\n",
    "\"\"\" The process of converting string objects to byte objects is called encoding and the inverse is called decoding. \n",
    "\n",
    "The bytes() method takes in an object (a string in our case), the required encoding method, and convert it into a byte object. \n",
    "\n",
    " \"\"\"\n",
    "import socket\n",
    "with socket.socket() as s:\n",
    "    print(\"socket created\")\n",
    "    s.bind((\"localhost\",5000))\n",
    "    s.listen()\n",
    "    print(\"waiting for the client\")\n",
    "\n",
    "    client,address=s.accept()  # returns tuple[socket, _RetAddress] \n",
    "    print(\"client is\\t\",client)\n",
    "    print(\"address is\\t\",address)\n",
    "    # converts byte string received from client\n",
    "    # into string format\n",
    "    name=client.recv(1024).decode()\n",
    "    print(\"connected with\\t\",address,name)\n",
    "\n",
    "    # converting the string into bytes using the\n",
    "    # UTF-8 encoding.\n",
    "    client.send(bytes(f\"{name} welcome to the server side\",'utf-8'))\n",
    "    \n",
    "    "
   ]
  },
  {
   "cell_type": "code",
   "execution_count": null,
   "metadata": {},
   "outputs": [],
   "source": [
    "import socket\n",
    "\n",
    "with socket.socket() as c:\n",
    "    c.connect((\"localhost\",5000))\n",
    "    name=input(\"Enter your name\")\n",
    "\n",
    "    # convert the input string into bytes.\n",
    "    c.send(bytes(name,'utf-8'))\n",
    "\n",
    "    # decodes the response which comes as byte string\n",
    "    # into a standard string format\n",
    "    print(c.recv(1024).decode())"
   ]
  },
  {
   "cell_type": "markdown",
   "metadata": {},
   "source": [
    "## **Pickling_Unpicklikng**"
   ]
  },
  {
   "cell_type": "markdown",
   "metadata": {},
   "source": [
    "Ex1"
   ]
  },
  {
   "cell_type": "code",
   "execution_count": 4,
   "metadata": {},
   "outputs": [
    {
     "name": "stdout",
     "output_type": "stream",
     "text": [
      "After creating object\n",
      "Rohit\t25\n",
      "2209238528656\n",
      "After storing object and after making s1 None\n",
      "None\n",
      "140703254416144\n",
      "Not to worry, we've stored object inside the filesystem, so it can be retrieved\n",
      "Rohit\t25\n",
      "2209238430864\n"
     ]
    }
   ],
   "source": [
    "import pickle\n",
    "\n",
    "class Student:\n",
    "    def __init__(self,name,age):\n",
    "        self.name=name\n",
    "        self.age=age\n",
    "    def __str__(self):\n",
    "        return \"\"+self.name+\"\\t\"+str(self.age)\n",
    "\n",
    "s1=Student(\"Rohit\",25)\n",
    "print(\"After creating object\")\n",
    "print(s1)\n",
    "print(id(s1))\n",
    "\n",
    "# pickling or serialization\n",
    "pickle.dump(s1,open(\"mystudent.pkl\",\"wb\"))\n",
    "\n",
    "\n",
    "s1=None\n",
    "print(\"After storing object and after making s1 None\")\n",
    "print(s1)\n",
    "print(id(s1))\n",
    "\n",
    "print(\"Not to worry, we've stored object inside the filesystem, so it can be retrieved\")\n",
    "\n",
    "# unpickling or deserialization\n",
    "temp=pickle.load(open(\"mystudent.pkl\",\"rb\"))\n",
    "print(temp)\n",
    "\n",
    "print(id(temp))"
   ]
  },
  {
   "cell_type": "markdown",
   "metadata": {},
   "source": [
    "Ex2\n",
    "\n"
   ]
  },
  {
   "cell_type": "code",
   "execution_count": 5,
   "metadata": {},
   "outputs": [
    {
     "name": "stdout",
     "output_type": "stream",
     "text": [
      "displaying dataframe which just has been read\n",
      "      Index Name  Index Date Open Index Value High Index Value  \\\n",
      "0       Nifty 50  05-08-2024         24302.85         24350.05   \n",
      "1  Nifty Next 50  05-08-2024         71459.55         72084.95   \n",
      "2      Nifty 100  05-08-2024         25291.05         25375.65   \n",
      "3      Nifty 200  05-08-2024         13731.25          13786.2   \n",
      "4      Nifty 500  05-08-2024         22772.55         22868.35   \n",
      "\n",
      "  Low Index Value  Closing Index Value  Points Change Change(%)      Volume  \\\n",
      "0         23893.7             24055.60        -662.10     -2.68   486994718   \n",
      "1        70269.45             70936.90       -2391.25     -3.26   775888423   \n",
      "2        24871.55             25043.05        -728.85     -2.83  1267257581   \n",
      "3           13508             13600.20        -412.70     -2.95  3131433955   \n",
      "4         22397.7             22542.45        -717.00     -3.08  4019339380   \n",
      "\n",
      "  Turnover (Rs. Cr.)    P/E   P/B Div Yield  \n",
      "0           45066.65  22.38  4.05      1.22  \n",
      "1           28806.27  25.84  4.83      1.14  \n",
      "2           74184.92  23.27   4.2      1.17  \n",
      "3           103070.2   25.1   4.3      1.09  \n",
      "4          132508.88  25.88  4.36      1.06  \n"
     ]
    }
   ],
   "source": [
    "# Pickling Unpickling\n",
    "# Pickling means storing an entire object inside the file system ( a.k.a.  Serialization)\n",
    "# Unpickling meand retrieving an entire object from the file system ( a.k.a.  Deserialization)\n",
    "\n",
    "import pickle\n",
    "import pandas as pd\n",
    "\n",
    "\n",
    "df=pd.read_csv(\"indices_close.csv\")\n",
    "\n",
    "# serialization or pickling\n",
    "pickle.dump(df,open(\"indices_close.pkl\",\"wb\"))\n",
    "\n",
    "# deserialization or unpickling\n",
    "mydf=pickle.load(open(\"indices_close.pkl\",\"rb\"))\n",
    "print(\"displaying dataframe which just has been read\")\n",
    "print(mydf.head())"
   ]
  },
  {
   "cell_type": "markdown",
   "metadata": {},
   "source": [
    "## **How to Create PDF**"
   ]
  },
  {
   "cell_type": "code",
   "execution_count": 22,
   "metadata": {},
   "outputs": [
    {
     "data": {
      "text/plain": [
       "''"
      ]
     },
     "execution_count": 22,
     "metadata": {},
     "output_type": "execute_result"
    }
   ],
   "source": [
    "# 1) install \"fpdf\"\n",
    "\n",
    "# pip install fpdf\n",
    "\n",
    "# 2) \n",
    "# now write following code:\n",
    "\n",
    "from fpdf import FPDF\n",
    "\n",
    "ref=FPDF()\n",
    "ref.add_page()\n",
    "ref.set_font(\"Arial\",size=20)\n",
    "ref.cell(200,95,\"Welcome to PDF world\",align=\"C\", fill=0, border=1)\n",
    "\n",
    "ref.output(\"pythonpdf.pdf\")"
   ]
  },
  {
   "cell_type": "markdown",
   "metadata": {},
   "source": [
    "## **How to use WhatsApp using Python**"
   ]
  },
  {
   "cell_type": "markdown",
   "metadata": {},
   "source": [
    "Open powershell window and give following command:\n",
    "\n",
    "pip install pywhatkit\n",
    "\n",
    "Type the following code in the python file:\n",
    "\n",
    "\tFirst.py\n",
    "\n",
    "import pywhatkit\n",
    "# here 7,52 is time on which you want whatsapp message to go to the receiver\n",
    "\n",
    "pywhatkit.sendwhatmsg('+919270682272','Good Morning boss',7,52)\n",
    "\n",
    "\n",
    "\tRun the above code , it will give you message:\n",
    "\n",
    "In 94 Seconds WhatsApp will open and after 15 Seconds Message will be Delivered!\n",
    "\n",
    "open the browser and wait\n",
    "\tautomatically \"whatsapp web\" will start and you can see the message.\n",
    "\n",
    "Also it will create \"PyWhatKit_DB\" file in the current working directory.\n",
    "\n"
   ]
  },
  {
   "cell_type": "markdown",
   "metadata": {},
   "source": [
    "Date: 31/10/2022\n",
    "Time: 7:50\n",
    "Phone Number: +919270682272\n",
    "Message: Good Morning boss\n",
    "--------------------\n"
   ]
  },
  {
   "cell_type": "code",
   "execution_count": 3,
   "metadata": {},
   "outputs": [
    {
     "name": "stdout",
     "output_type": "stream",
     "text": [
      "In 33 Seconds WhatsApp will open and after 15 Seconds Message will be Delivered!\n"
     ]
    }
   ],
   "source": [
    "import pywhatkit\n",
    "\n",
    "# here 7,52 is time on which you want whatsapp message to go to the receiver\n",
    "\n",
    "pywhatkit.sendwhatmsg('+918355841252','Good Morning Hemant',10,29)"
   ]
  },
  {
   "cell_type": "markdown",
   "metadata": {},
   "source": [
    "## **GUI Prgm**"
   ]
  },
  {
   "cell_type": "markdown",
   "metadata": {},
   "source": [
    "Tkinter is a standard Python GUI library which gives us an object oriented interface to the Tk GUI toolkit.\n",
    "\n",
    "how to install?\n",
    "\n",
    "pip install tk"
   ]
  },
  {
   "cell_type": "code",
   "execution_count": 4,
   "metadata": {},
   "outputs": [],
   "source": [
    "# mysql> create table person(id int(4) primary key auto_increment, name varchar(30),address varchar(40),age int(4));\n",
    "\n",
    "# create on mysql cmd line "
   ]
  },
  {
   "cell_type": "markdown",
   "metadata": {},
   "source": [
    "Ex1"
   ]
  },
  {
   "cell_type": "code",
   "execution_count": 10,
   "metadata": {},
   "outputs": [
    {
     "data": {
      "text/plain": [
       "'\\nwindow.mainloop() tells Python to run the Tkinter event loop. This method listens for events, such as button clicks or keypresses,\\n and blocks any code that comes after it from running until you close the window where you called the method.\\n'"
      ]
     },
     "execution_count": 10,
     "metadata": {},
     "output_type": "execute_result"
    }
   ],
   "source": [
    "# window with button\n",
    "\n",
    "import tkinter\n",
    "\n",
    "mywindow=tkinter.Tk()\n",
    "mywindow.title(\"My Window\")\n",
    "mywindow.geometry(\"500x200\")\n",
    "mybutton=tkinter.Button(mywindow,text=\"ok\",command=mywindow.destroy).pack(side='top')\n",
    "mywindow.mainloop()\n",
    "\n",
    "\"\"\"\n",
    "window.mainloop() tells Python to run the Tkinter event loop. This method listens for events, such as button clicks or keypresses,\n",
    " and blocks any code that comes after it from running until you close the window where you called the method.\n",
    "\"\"\""
   ]
  },
  {
   "cell_type": "markdown",
   "metadata": {},
   "source": [
    "Ex2"
   ]
  },
  {
   "cell_type": "code",
   "execution_count": 13,
   "metadata": {},
   "outputs": [],
   "source": [
    "from tkinter import *\n",
    "import tkinter.font as font\n",
    "\n",
    "gui = Tk(className='Python Examples - Button')\n",
    "gui.geometry(\"500x200\")\n",
    "\n",
    "# define font\n",
    "myFont = font.Font(family='Helvetica')\n",
    "\n",
    "# create button\n",
    "button = Button(gui, text='My Button', bg='black', fg='red',font=myFont)\n",
    "# apply font to the button label\n",
    "#button['font'] = myFont\n",
    "# add button to gui window\n",
    "button.pack()\n",
    "\n",
    "gui.mainloop() "
   ]
  },
  {
   "cell_type": "markdown",
   "metadata": {},
   "source": [
    "Ex3"
   ]
  },
  {
   "cell_type": "code",
   "execution_count": 14,
   "metadata": {},
   "outputs": [],
   "source": [
    "from tkinter import *\n",
    "import tkinter.font as font\n",
    "\n",
    "def myfun():\n",
    "    text=button['text']\n",
    "    if(text==\"ok\"):\n",
    "        button['text']=\"cancel\"\n",
    "    else:\n",
    "        button['text']=\"ok\"\n",
    "\n",
    "\n",
    "gui = Tk(className='Python Examples - Button')\n",
    "gui.geometry(\"500x200\")\n",
    "\n",
    "# define font\n",
    "myFont = font.Font(family='Helvetica')\n",
    "\n",
    "# create button\n",
    "button = Button(gui, text='ok', bg='black', fg='red',font=myFont,command=myfun)\n",
    "# apply font to the button label\n",
    "#button['font'] = myFont\n",
    "# add button to gui window\n",
    "button.pack()\n",
    "\n",
    "gui.mainloop()"
   ]
  },
  {
   "cell_type": "markdown",
   "metadata": {},
   "source": [
    "Ex4"
   ]
  },
  {
   "cell_type": "code",
   "execution_count": 15,
   "metadata": {},
   "outputs": [],
   "source": [
    "# Change Button Background Color during Mouse Click\n",
    "\n",
    "from tkinter import *\n",
    "import tkinter.font as font\n",
    "\n",
    "gui = Tk(className='Python Examples - Button')\n",
    "gui.geometry(\"500x200\")\n",
    "\n",
    "# define font\n",
    "myFont = font.Font(family='Helvetica')\n",
    "\n",
    "# create button\n",
    "button = Button(gui, text='ok', bg='green', activebackground='red',font=myFont)\n",
    "# apply font to the button label\n",
    "#button['font'] = myFont\n",
    "# add button to gui window\n",
    "button.pack()\n",
    "\n",
    "gui.mainloop() "
   ]
  },
  {
   "cell_type": "markdown",
   "metadata": {},
   "source": [
    "Ex5"
   ]
  },
  {
   "cell_type": "code",
   "execution_count": 22,
   "metadata": {},
   "outputs": [],
   "source": [
    "from tkinter import *\n",
    "\n",
    "\n",
    "def printDetails() :\n",
    "    usernameText = usernameEntry.get()\n",
    "    finaltext=\"user entered :\"+usernameText\n",
    "    displaylabel['text']=finaltext\n",
    "    \n",
    "\n",
    "#window\n",
    "tkWindow = Tk()  \n",
    "tkWindow.geometry('400x150')  \n",
    "tkWindow.title('Python Examples')\n",
    "\n",
    "#label\n",
    "usernameLabel = Label(tkWindow, text=\"Enter your name\")\n",
    "#entry for user input\n",
    "usernameEntry = Entry(tkWindow)\n",
    "\n",
    "displaylabel=Label(tkWindow,text=\"\")\n",
    "\n",
    "\n",
    "#submit button\n",
    "submitButton = Button(tkWindow, text=\"Submit\", command=printDetails)\n",
    "\n",
    "#place label, entry, and button in grid\n",
    "usernameLabel.grid(row=0, column=0)\n",
    "usernameEntry.grid(row=0, column=1) \n",
    "submitButton .grid(row=1, column=1)  \n",
    "displaylabel.grid(row=5,column=1)\n",
    "\n",
    "#main loop\n",
    "tkWindow.mainloop()"
   ]
  },
  {
   "cell_type": "markdown",
   "metadata": {},
   "source": [
    "Ex6"
   ]
  },
  {
   "cell_type": "code",
   "execution_count": 25,
   "metadata": {},
   "outputs": [],
   "source": [
    "\n",
    "from tkinter import *\n",
    "from functools import partial\n",
    "import tkinter.font as font\n",
    "\n",
    "def validateLogin():\n",
    "    myFont = font.Font(family='Helvetica',size=20)\n",
    "    if(usernameEntry.get()==\"scott\" and passwordEntry.get()==\"tiger\"):\n",
    "        resultlabel.config(fg=\"green\",font=myFont)\n",
    "        resultlabel[\"text\"]=\"Valid User\"\n",
    "    else:\n",
    "        resultlabel.config(fg=\"red\",font=myFont)\n",
    "        resultlabel[\"text\"]=\"Invalid User\"\n",
    "\t\n",
    "\n",
    "#window\n",
    "tkWindow = Tk()  \n",
    "tkWindow.geometry('400x150')  \n",
    "tkWindow.title('Tkinter Login Form - pythonexamples.org')\n",
    "\n",
    "#username label and text entry box\n",
    "usernameLabel = Label(tkWindow, text=\"User Name\")\n",
    "usernameLabel.grid(row=0, column=0)\n",
    "\n",
    "usernameEntry = Entry(tkWindow)\n",
    "usernameEntry.grid(row=0, column=1)   \n",
    "\n",
    "#password label and password entry box\n",
    "passwordLabel = Label(tkWindow,text=\"Password\")\n",
    "passwordLabel.grid(row=1, column=0)  \n",
    "\n",
    "passwordEntry = Entry(tkWindow, show='*')\n",
    "passwordEntry.grid(row=1, column=1)  \n",
    "\n",
    "resultlabel=Label(tkWindow)\n",
    "resultlabel.grid(row=6,column=0)\n",
    "\n",
    "\n",
    "#login button\n",
    "loginButton = Button(tkWindow, text=\"Login\", command=validateLogin)\n",
    "loginButton.grid(row=4, column=0)  \n",
    "\n",
    "\n",
    "\n",
    "tkWindow.mainloop()"
   ]
  },
  {
   "cell_type": "markdown",
   "metadata": {},
   "source": [
    "Ex7"
   ]
  },
  {
   "cell_type": "code",
   "execution_count": 28,
   "metadata": {},
   "outputs": [
    {
     "name": "stderr",
     "output_type": "stream",
     "text": [
      "Exception in Tkinter callback\n",
      "Traceback (most recent call last):\n",
      "  File \"c:\\Users\\RKC\\anaconda3\\Lib\\tkinter\\__init__.py\", line 1967, in __call__\n",
      "    return self.func(*args)\n",
      "           ^^^^^^^^^^^^^^^^\n",
      "  File \"C:\\Users\\RKC\\AppData\\Local\\Temp\\ipykernel_2348\\3052028860.py\", line 19, in savePerson\n",
      "    age_1=ageEntry.get()\n",
      "          ^^^^^^^^^^^^^^\n",
      "  File \"c:\\Users\\RKC\\anaconda3\\Lib\\tkinter\\__init__.py\", line 3131, in get\n",
      "    return self.tk.call(self._w, 'get')\n",
      "           ^^^^^^^^^^^^^^^^^^^^^^^^^^^^\n",
      "_tkinter.TclError: invalid command name \".!entry3\"\n"
     ]
    }
   ],
   "source": [
    "# TKinter and database\n",
    "\n",
    "\n",
    "from tkinter import *\n",
    "from functools import partial\n",
    "import tkinter.font as font\n",
    "\n",
    "\n",
    "import mysql.connector as m\n",
    "\n",
    "mydatabase=m.connect(host=\"localhost\",user=\"root\",password=\"Mysqlroot@64\",database=\"pythontutorial\")\n",
    "query=\"insert into person(id,name) values(%s,%s)\"         #  must be \"s\"\n",
    "\n",
    "\n",
    "def savePerson():\n",
    "    myFont = font.Font(family='Helvetica',size=20)\n",
    "    name_1=nameEntry.get()\n",
    "    id_1=idEntry.get()\n",
    "    age_1=ageEntry.get()\n",
    "    #print(name_1,address_1,age_1)\n",
    "    cursor=mydatabase.cursor()\n",
    "    cursor.execute(query,[id_1,name_1])       #  second argument has to be list or tuple or dictionary\n",
    "    mydatabase.commit()\n",
    "    \n",
    "\n",
    "#window\n",
    "tkWindow = Tk()  \n",
    "tkWindow.geometry('400x150')  \n",
    "tkWindow.title('Tkinter Login Form - pythonexamples.org')\n",
    "\n",
    "#name label and text entry box\n",
    "nameLabel = Label(tkWindow, text=\"Name\")\n",
    "nameLabel.grid(row=0, column=0)\n",
    "nameEntry = Entry(tkWindow)\n",
    "nameEntry.grid(row=0, column=1)  \n",
    "\n",
    "#Address label and password entry box\n",
    "idLabel = Label(tkWindow,text=\"Address\")\n",
    "idLabel.grid(row=1, column=0)  \n",
    "\n",
    "idEntry = Entry(tkWindow)\n",
    "idEntry.grid(row=1, column=1)  \n",
    "\n",
    "#Age label and password entry box\n",
    "# ageLabel = Label(tkWindow,text=\"Age\")\n",
    "# ageLabel.grid(row=2, column=0)  \n",
    "\n",
    "# ageEntry = Entry(tkWindow)\n",
    "# ageEntry.grid(row=2, column=1)  \n",
    "\n",
    "\n",
    "#login button\n",
    "saveButton = Button(tkWindow, text=\"Save\", command=savePerson)\n",
    "saveButton.grid(row=4, column=0)  \n",
    "\n",
    "tkWindow.mainloop()\n"
   ]
  },
  {
   "cell_type": "markdown",
   "metadata": {},
   "source": [
    "## **Virtual Env**"
   ]
  },
  {
   "cell_type": "markdown",
   "metadata": {},
   "source": [
    ">A virtual environment is a tool that helps to keep dependencies required by different projects separate by creating isolated python virtual environments for them. This is one of the most important tools that most Python developers use.\n",
    "\n",
    ">Why do we need a virtual environment?\n",
    "\n",
    ">>Imagine a scenario where you are working on two web-based python projects one of them uses Django 4.0 and the other uses Django 4.1. In such situations virtual environment can be really useful to maintain the dependencies of both projects.\n",
    "\n",
    ">>By default, every project on your system will use these same directories to store and retrieve site packages (third-party libraries). How does this matter? Now, in the above example of two projects, you have two versions of Django. This is a real problem for Python since it can’t differentiate between versions in the “site-packages” directory. So both v1.9 and v1.10 would reside in the same directory with the same name. This is where virtual environments come into play. To solve this problem, we just need to create two separate virtual environments for both projects. The great thing about this is that there are no limits to the number of environments you can have since they’re just directories containing a few scripts. A virtual Environment should be used whenever you work on any Python-based project. It is generally good to have one new virtual environment for every Python-based project you work on. So the dependencies of every project are isolated from the system and each other.\n",
    "\n",
    "\n"
   ]
  },
  {
   "cell_type": "markdown",
   "metadata": {},
   "source": [
    "your project location should be inside \n",
    "\n",
    "\t-------------------------------\n",
    "\n",
    "\n",
    "\n",
    "main location of \"site-packages\" where all libraries are by default downloaded is:\n",
    "\n",
    "\n",
    "\"C:\\Users\\RKC\\AppData\\Local\\Programs\\Python\\Python311\\Lib\\site-packages\" - 146 packages\n",
    "\n",
    "\"C:\\Users\\RKC\\anaconda3\\Lib\\site-packages\" - 1227 packages\n",
    "\n",
    "\n",
    "if you have installed a package and still you get package not found error, always select \"existing\" as an option and select interpreter from \n",
    "varia\n",
    "**\"C:\\Users\\RKC\\anaconda3\\python.exe\"**\n",
    "\n",
    "How to create virtual environment?\n",
    "\n",
    "first install virtualenv\n",
    "\n",
    "[ virtualenv is used to manage Python packages for different projects. Using virtualenv allows you to avoid installing Python packages globally which could break system tools or other projects.]\n",
    "\n",
    "\n",
    "\n",
    "**pip install virtualenv**\n",
    "\n",
    "\n",
    "\n",
    "if you want to create a virtual environment , go to your project location on the terminal and type:\n",
    "\n",
    ">C:\\Users\\Sriram\\PycharmProjects> **python -m venv myenv**\n",
    "\n",
    ">>this command will create \"myenv\" folder inside \"C:\\Users\\Sriram\\PycharmProjects\"\n",
    ">>>inside \"myenv\" folder    you will get\n",
    ">>>>\"Lib\\site-packages\"\n",
    ">>>>>this \"site-packages\" is the folder where your environment (myenv) specific packages only will be stored. \n",
    "i.e. [C:\\Users\\Sriram\\PycharmProjects\\myenv\\Lib\\site-packages]\n",
    "\n",
    ">>>>>>so, the \"site-packages\" folder which is available to all the projects\n",
    "\ti.e.\n",
    ">>>>>>C:\\Users\\Sriram\\AppData\\Local\\Programs\\Python\\Python310\\Lib\\site-packages\n",
    "\n",
    "is different and \"site-packages\" which is specific to a particular virtual environment  i.e.\n",
    ">>>>>>>>C:\\Users\\Sriram\\PycharmProjects\\myenv\\Lib\\site-packages\n",
    "\n",
    "\n",
    "\n",
    "if you want to list out the packages installed for your project, go to your project folder on the terminal and give following command\n",
    "\n",
    "C:\\Users\\Sriram\\PycharmProjects>pip list\n",
    "\n",
    "it will list out all the packages which have been installed globally.\n",
    "\n",
    "\n",
    "now if you want to activate your virtual environment, give following command\n",
    "\n",
    "C:\\Users\\Sriram\\PycharmProjects> cd myenv\n",
    "it will change to \n",
    "C:\\Users\\Sriram\\PycharmProjects\\myenv>\n",
    "\n",
    "now give command\n",
    "C:\\Users\\Sriram\\PycharmProjects\\myenv> Scripts\\activate\n",
    "\n",
    "make sure command prompt changes to :\n",
    "\n",
    "(myenv) C:\\Users\\Sriram\\PycharmProjects\\myenv>\n",
    "\tthis means that we've activated \"myenv\" virtual environment\n",
    "\n",
    "now list out how many packages have been installed inside your virtual environment (myenv)\n",
    "\n",
    "(myenv) C:\\Users\\Sriram\\PycharmProjects\\myenv> pip list\n",
    "\n",
    "\n"
   ]
  }
 ],
 "metadata": {
  "kernelspec": {
   "display_name": "base",
   "language": "python",
   "name": "python3"
  },
  "language_info": {
   "codemirror_mode": {
    "name": "ipython",
    "version": 3
   },
   "file_extension": ".py",
   "mimetype": "text/x-python",
   "name": "python",
   "nbconvert_exporter": "python",
   "pygments_lexer": "ipython3",
   "version": "3.11.9"
  }
 },
 "nbformat": 4,
 "nbformat_minor": 2
}
