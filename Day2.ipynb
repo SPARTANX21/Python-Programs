{
 "cells": [
  {
   "cell_type": "markdown",
   "metadata": {},
   "source": [
    "# **Day 2 - Collections - Pranay Shah**"
   ]
  },
  {
   "cell_type": "markdown",
   "metadata": {},
   "source": [
    "Python Collections \n",
    "\n",
    "- There are four collection data types in the Python programming language:\n",
    "\n",
    "- List is a collection which is ordered. Allows duplicate members and is mutable.\n",
    "\n",
    "- Tuple is a collection which is ordered. Allows duplicate members and is immutable.\n",
    "\n",
    "- Set is a collection which is unordered and unindexed. No duplicate members.Is immutable for its elements but as an object is mutable.\n",
    "\n",
    "- Dictionary is a collection which is ordered and changeable. key value pair. No duplicate keys. mutable."
   ]
  },
  {
   "cell_type": "markdown",
   "metadata": {},
   "source": [
    "### **Array**"
   ]
  },
  {
   "cell_type": "code",
   "execution_count": 3,
   "metadata": {},
   "outputs": [
    {
     "name": "stdout",
     "output_type": "stream",
     "text": [
      "array('i', [1, 2, 3]) \t 2356484807136\n",
      "array('i', [1, 2, 3, 30]) \t 2356484807136\n",
      "array('i', [1, 22, 3, 30]) \t 2356484807136\n"
     ]
    }
   ],
   "source": [
    "import array as ar\n",
    "\n",
    "a = ar.array('i',[1,2,3])   #  array    similar datatypes only, \n",
    "print(a,\"\\t\",id(a))\n",
    "a.append(30)   # array references are mutable\n",
    "print(a,\"\\t\",id(a))\n",
    "a[1]=22    # array elements are mutable\n",
    "print(a,\"\\t\",id(a))"
   ]
  },
  {
   "cell_type": "code",
   "execution_count": 1,
   "metadata": {},
   "outputs": [
    {
     "name": "stdout",
     "output_type": "stream",
     "text": [
      "array('i', [1, 2, 3])\n"
     ]
    }
   ],
   "source": [
    "import array as ar \n",
    "\n",
    "arr1 = ar.array('i',[1,2,3])\n",
    "print(arr1)"
   ]
  },
  {
   "cell_type": "markdown",
   "metadata": {},
   "source": [
    "### **String**"
   ]
  },
  {
   "cell_type": "code",
   "execution_count": 2,
   "metadata": {},
   "outputs": [
    {
     "name": "stdout",
     "output_type": "stream",
     "text": [
      "hello\n",
      "HELLO\n",
      "hello\n"
     ]
    }
   ],
   "source": [
    "mystring = \"hello\"      #  string  \n",
    "print(mystring)\n",
    "# mystring[0]='G'    #  Error     string is immutable\n",
    "\n",
    "#  this creates new object isntead of changing the same one\n",
    "print(mystring.swapcase())  # string is immutable\n",
    "print(mystring)"
   ]
  },
  {
   "cell_type": "markdown",
   "metadata": {},
   "source": [
    "### **List**"
   ]
  },
  {
   "cell_type": "code",
   "execution_count": 6,
   "metadata": {},
   "outputs": [
    {
     "name": "stdout",
     "output_type": "stream",
     "text": [
      "[10, 20, 30, 40, 30]\n",
      "[10, 100, 30, 40, 30]\n",
      "[10, 100, 30, 40, 30, 400]\n"
     ]
    }
   ],
   "source": [
    "mylist=[10,20,30,40,30]    #  list   can have duplicates\n",
    "print(mylist)\n",
    "\n",
    "mylist[1]=100   # list is mutable\n",
    "print(mylist)\n",
    "\n",
    "mylist.append(400) # list is mutable\n",
    "print(mylist)"
   ]
  },
  {
   "cell_type": "markdown",
   "metadata": {},
   "source": [
    "### **Tuple**"
   ]
  },
  {
   "cell_type": "code",
   "execution_count": 7,
   "metadata": {},
   "outputs": [
    {
     "name": "stdout",
     "output_type": "stream",
     "text": [
      "(100, 200, 300, 400, 300)\n",
      "(100, 200, 300, 400, 300) \t 2356484801216\n",
      "(100, 200, 300, 400, 300)\n",
      "(100, 200, 300, 400, 300) \t 2356484801216\n",
      "(100, 200, 300, 400, 300, 70, 80, 90)\n"
     ]
    }
   ],
   "source": [
    "mytuple=(100,200,300,400,300)   # tuple    can have duplicates\n",
    "print(mytuple)\n",
    "#mytuple[1]=700  # Error:  tuple is immutable\n",
    "print(mytuple,\"\\t\",id(mytuple))\n",
    "mytuple1=mytuple.__add__((70,80,90))  # it'll be a different object altogether (Dunder methods __add__)\n",
    "print(mytuple)\n",
    "print(mytuple,\"\\t\",id(mytuple))  # will not change\n",
    "print(mytuple1)"
   ]
  },
  {
   "cell_type": "markdown",
   "metadata": {},
   "source": [
    "### **Sets**"
   ]
  },
  {
   "cell_type": "code",
   "execution_count": 10,
   "metadata": {},
   "outputs": [
    {
     "name": "stdout",
     "output_type": "stream",
     "text": [
      "{40, 10, 20, 30}\n",
      "2356484561312\n",
      "{40, 10, 45, 20, 30}\n",
      "2356484561312\n"
     ]
    }
   ],
   "source": [
    "\n",
    "myset={10,20,30,40,20}     # set     can't have duplicates\n",
    "print(myset)\n",
    "print(id(myset))\n",
    "#myset[1]=56   # Error:  set is immutable for its elements\n",
    "myset.add(45)  # set as an object is mutable\n",
    "print(myset)\n",
    "print(id(myset))"
   ]
  },
  {
   "cell_type": "code",
   "execution_count": 14,
   "metadata": {},
   "outputs": [
    {
     "name": "stdout",
     "output_type": "stream",
     "text": [
      "{40, 10, 45, 20, 56, 30}\n"
     ]
    },
    {
     "data": {
      "text/plain": [
       "2356484561312"
      ]
     },
     "execution_count": 14,
     "metadata": {},
     "output_type": "execute_result"
    }
   ],
   "source": [
    "myset.add(56)\n",
    "print(myset)\n",
    "id(myset)\n"
   ]
  },
  {
   "cell_type": "markdown",
   "metadata": {},
   "source": [
    "### **Dict**"
   ]
  },
  {
   "cell_type": "code",
   "execution_count": 15,
   "metadata": {},
   "outputs": [
    {
     "name": "stdout",
     "output_type": "stream",
     "text": [
      "{'abc': 100, 'xyz': 330, 'pqr': 600}\n",
      "{'abc': 100, 'xyz': 330, 'pqr': 670}\n",
      "{'abc': 100, 'xyz': 330, 'pqr': 670, 'aaa': 333}\n"
     ]
    }
   ],
   "source": [
    "\n",
    "mydictionary={'abc':100,'xyz':300,'pqr':600,'xyz':330}  # dictionary   can't have duplicate keys\n",
    "print(mydictionary)\n",
    "mydictionary['pqr']=670    # key 'pqr' value gets chanaged here\n",
    "print(mydictionary)\n",
    "mydictionary.update({'aaa':333})  # dictionary is mutable\n",
    "print(mydictionary)"
   ]
  },
  {
   "cell_type": "markdown",
   "metadata": {},
   "source": [
    "## **List Demos**"
   ]
  },
  {
   "cell_type": "markdown",
   "metadata": {},
   "source": [
    "Ex 1"
   ]
  },
  {
   "cell_type": "code",
   "execution_count": 17,
   "metadata": {},
   "outputs": [
    {
     "name": "stdout",
     "output_type": "stream",
     "text": [
      "[10, 20, 30, 40]\n",
      "<class 'list'>\n",
      "10\n",
      "4\n",
      "[10, 20, 30, 40, 50]\n",
      "[12, 20, 30, 40, 50]\n"
     ]
    }
   ],
   "source": [
    "mylist = [10,20,30,40]\n",
    "print(mylist)\n",
    "print(type(mylist))\n",
    "\n",
    "print(mylist[0])\n",
    "\n",
    "print(len(mylist))  # Global function to calculate the length of list\n",
    "\n",
    "mylist.append(50)   # list is dynamic\n",
    "print(mylist)\n",
    "\n",
    "mylist[0]=12        # list is mutable\n",
    "print(mylist)"
   ]
  },
  {
   "cell_type": "code",
   "execution_count": 18,
   "metadata": {},
   "outputs": [
    {
     "name": "stdout",
     "output_type": "stream",
     "text": [
      "[10, 'hello', 'A', 3.4, True]\n",
      "<class 'list'>\n",
      "10\n",
      "5\n",
      "[10, 'hello', 'A', 3.4, True, 50]\n",
      "[12, 'hello', 'A', 3.4, True, 50]\n"
     ]
    }
   ],
   "source": [
    "# list of multiple data types\n",
    "\n",
    "mylist = [10,\"hello\",'A',3.4,True]\n",
    "print(mylist)\n",
    "print(type(mylist))\n",
    "print(mylist[0])\n",
    "print(len(mylist))\n",
    "mylist.append(50)   # list is dynamic\n",
    "print(mylist)\n",
    "mylist[0]=12        # list is mutable\n",
    "print(mylist)"
   ]
  },
  {
   "cell_type": "code",
   "execution_count": 20,
   "metadata": {},
   "outputs": [
    {
     "name": "stdout",
     "output_type": "stream",
     "text": [
      "[[10, 'hello', 3.4], [100, True, 'welcome']]\n",
      "2\n",
      "3\n",
      "3\n",
      "[10, 'hello', 3.4]\n",
      "[100, True, 'welcome']\n"
     ]
    }
   ],
   "source": [
    "# nested list\n",
    "\n",
    "mylist = [[10,\"hello\",3.4],[100,True,\"welcome\"]]\n",
    "\n",
    "print(mylist)\n",
    "# let's print the size of outer list\n",
    "print(len(mylist))\n",
    "\n",
    "# let's print the size of first nested list\n",
    "print(len(mylist[0]))\n",
    "\n",
    "# let's print the size of second nested list\n",
    "print(len(mylist[1]))\n",
    "\n",
    "# print first nested list\n",
    "print(mylist[0])\n",
    "# print second nested list\n",
    "print(mylist[1])\n"
   ]
  },
  {
   "cell_type": "code",
   "execution_count": 21,
   "metadata": {},
   "outputs": [
    {
     "name": "stdout",
     "output_type": "stream",
     "text": [
      "10\n",
      "hello\n",
      "3.4\n"
     ]
    }
   ],
   "source": [
    "# let's print all the elements of first nested list\n",
    "\n",
    "for i in mylist[0]:\n",
    "    print(i)\n"
   ]
  },
  {
   "cell_type": "code",
   "execution_count": 22,
   "metadata": {},
   "outputs": [
    {
     "name": "stdout",
     "output_type": "stream",
     "text": [
      "100\n",
      "True\n",
      "welcome\n"
     ]
    }
   ],
   "source": [
    "# let's print all the elements of second nested list\n",
    "\n",
    "for i in mylist[1]:\n",
    "    print(i)"
   ]
  },
  {
   "cell_type": "code",
   "execution_count": 23,
   "metadata": {},
   "outputs": [
    {
     "data": {
      "text/plain": [
       "'hello'"
      ]
     },
     "execution_count": 23,
     "metadata": {},
     "output_type": "execute_result"
    }
   ],
   "source": [
    "mylist[0][1]"
   ]
  },
  {
   "cell_type": "markdown",
   "metadata": {},
   "source": [
    "#### **Append & insert**"
   ]
  },
  {
   "cell_type": "code",
   "execution_count": 24,
   "metadata": {},
   "outputs": [
    {
     "name": "stdout",
     "output_type": "stream",
     "text": [
      "[10, 20, 30, 40]\n",
      "[10, 20, 'welcome', 30, 40, 90]\n"
     ]
    }
   ],
   "source": [
    "# append and insert methods of list\n",
    "mylist = [10,20,30,40]\n",
    "\n",
    "print(mylist)\n",
    "\n",
    "mylist.append(90)   \n",
    "mylist.insert(2,\"welcome\")\n",
    "\n",
    "print(mylist)"
   ]
  },
  {
   "cell_type": "markdown",
   "metadata": {},
   "source": [
    "#### **Extend Method**"
   ]
  },
  {
   "cell_type": "code",
   "execution_count": 25,
   "metadata": {},
   "outputs": [
    {
     "name": "stdout",
     "output_type": "stream",
     "text": [
      "[10, 'hello', 4.5, False]\n",
      "[10, 'hello', 4.5, False, 20, True, 'welcome']\n"
     ]
    }
   ],
   "source": [
    "# use of extend method to add multiple values at the end of the list\n",
    "\n",
    "mylist = [10,\"hello\",4.5,False]\n",
    "\n",
    "print(mylist)\n",
    "mylist.extend([20,True,\"welcome\"])\n",
    "print(mylist)"
   ]
  },
  {
   "cell_type": "code",
   "execution_count": 26,
   "metadata": {},
   "outputs": [
    {
     "name": "stdout",
     "output_type": "stream",
     "text": [
      "7\n"
     ]
    }
   ],
   "source": [
    "print(len(mylist))"
   ]
  },
  {
   "cell_type": "markdown",
   "metadata": {},
   "source": [
    "#### **Remove**"
   ]
  },
  {
   "cell_type": "code",
   "execution_count": 28,
   "metadata": {},
   "outputs": [
    {
     "name": "stdout",
     "output_type": "stream",
     "text": [
      "[10, 'hello', 4.5, False]\n",
      "[10, 'hello', False]\n"
     ]
    }
   ],
   "source": [
    "# remove element from the list\n",
    "\n",
    "mylist = [10,\"hello\",4.5,False]\n",
    "\n",
    "print(mylist)\n",
    "mylist.remove(4.5)\n",
    "print(mylist)\n",
    "\n"
   ]
  },
  {
   "cell_type": "code",
   "execution_count": 29,
   "metadata": {},
   "outputs": [
    {
     "ename": "ValueError",
     "evalue": "list.remove(x): x not in list",
     "output_type": "error",
     "traceback": [
      "\u001b[1;31m---------------------------------------------------------------------------\u001b[0m",
      "\u001b[1;31mValueError\u001b[0m                                Traceback (most recent call last)",
      "Cell \u001b[1;32mIn[29], line 1\u001b[0m\n\u001b[1;32m----> 1\u001b[0m \u001b[43mmylist\u001b[49m\u001b[38;5;241;43m.\u001b[39;49m\u001b[43mremove\u001b[49m\u001b[43m(\u001b[49m\u001b[38;5;241;43m4.8\u001b[39;49m\u001b[43m)\u001b[49m\n",
      "\u001b[1;31mValueError\u001b[0m: list.remove(x): x not in list"
     ]
    }
   ],
   "source": [
    "mylist.remove(4.8)"
   ]
  },
  {
   "cell_type": "code",
   "execution_count": 30,
   "metadata": {},
   "outputs": [
    {
     "name": "stdout",
     "output_type": "stream",
     "text": [
      "[10, 'hello', 4.5, False, 'A']\n",
      "A\n",
      "False\n",
      "4.5\n",
      "hello\n",
      "10\n"
     ]
    }
   ],
   "source": [
    "# Negative indexing means beginning from the end, -1 refers to the last item,\n",
    "# -2 refers to the second-last item, etc.\n",
    "\n",
    "mylist = [10,\"hello\",4.5,False,'A']\n",
    "\n",
    "print(mylist)\n",
    "\n",
    "var = -1\n",
    "while var >= -5:\n",
    "    print(mylist[var])\n",
    "    var -= 10000"
   ]
  },
  {
   "cell_type": "markdown",
   "metadata": {},
   "source": [
    "#### **Pop**"
   ]
  },
  {
   "cell_type": "code",
   "execution_count": 32,
   "metadata": {},
   "outputs": [
    {
     "name": "stdout",
     "output_type": "stream",
     "text": [
      "[10, 'hello', 4.5, False, 'A']\n",
      "[10, 'hello', 4.5, False]\n"
     ]
    }
   ],
   "source": [
    "# Pop() function can also be used to remove and return an element from the list,\n",
    "# but by default it removes only the last element of the list,\n",
    "# to remove an element from a specific position of the List,\n",
    "# the index of the element is passed as an argument to the pop() method.\n",
    "\n",
    "mylist = [10,\"hello\",4.5,False,'A']\n",
    "\n",
    "print(mylist)\n",
    "\n",
    "mylist.pop()  # by default removes the last element\n",
    "print(mylist)"
   ]
  },
  {
   "cell_type": "code",
   "execution_count": 33,
   "metadata": {},
   "outputs": [
    {
     "name": "stdout",
     "output_type": "stream",
     "text": [
      "[10, 'hello', 4.5, False, 'A']\n",
      "[10, 'hello', False, 'A']\n"
     ]
    }
   ],
   "source": [
    "# Pop() function can also be used to remove and return an element from the list,\n",
    "# but by default it removes only the last element of the list,\n",
    "# to remove an element from a specific position of the List,\n",
    "# the index of the element is passed as an argument to the pop() method.\n",
    "\n",
    "mylist = [10,\"hello\",4.5,False,'A']\n",
    "\n",
    "print(mylist)\n",
    "\n",
    "mylist.pop(2)  #  removes element at 2nd position\n",
    "print(mylist)\n"
   ]
  },
  {
   "cell_type": "markdown",
   "metadata": {},
   "source": [
    "#### **Slicing**"
   ]
  },
  {
   "cell_type": "code",
   "execution_count": 1,
   "metadata": {},
   "outputs": [
    {
     "name": "stdout",
     "output_type": "stream",
     "text": [
      "[10, 20, 30, 40, 50, 60, 70, 80]\n",
      "[0:3]\n",
      " [10, 20, 30]\n",
      "[60, 70, 80]\n",
      "[40, 50, 60]\n",
      "[10, 20, 30, 40, 50, 60, 70, 80]\n",
      "[80, 70, 60, 50, 40, 30, 20, 10]\n",
      "[10, 20, 30, 40, 50, 60, 70]\n",
      "[10, 20, 30, 40]\n",
      "[30, 40]\n"
     ]
    }
   ],
   "source": [
    "# Slicing of list\n",
    "\n",
    "mylist = [10,20,30,40,50,60,70,80]\n",
    "\n",
    "print(mylist)\n",
    "\n",
    "print(\"[0:3]\\n\",mylist[0:3])   # print from 0 to 2\n",
    "\n",
    "print(mylist[5:])    # print the elements from 5th till end\n",
    "\n",
    "print(mylist[3:6])   # print the elements from 3rd to 5th position\n",
    "\n",
    "print(mylist[:])     # print the whole list\n",
    "print(mylist[::-1])  # print the list in reverse order\n",
    "\n",
    "print(mylist[:-1])   # Elements sliced till 1st element from last\n",
    "print(mylist[:-4])   # Elements sliced till 4th element from last\n",
    "\n",
    "print(mylist[-6:-4]) # Elements sliced from 6th to 4th element from the last\n",
    "\n",
    "\n"
   ]
  },
  {
   "cell_type": "code",
   "execution_count": 53,
   "metadata": {},
   "outputs": [
    {
     "data": {
      "text/plain": [
       "[20, 30, 40, 50, 60]"
      ]
     },
     "execution_count": 53,
     "metadata": {},
     "output_type": "execute_result"
    }
   ],
   "source": [
    "mylist[1:-2]"
   ]
  },
  {
   "cell_type": "code",
   "execution_count": 56,
   "metadata": {},
   "outputs": [
    {
     "data": {
      "text/plain": [
       "[20, 10]"
      ]
     },
     "execution_count": 56,
     "metadata": {},
     "output_type": "execute_result"
    }
   ],
   "source": [
    "mylist[1::-1]"
   ]
  },
  {
   "cell_type": "code",
   "execution_count": 52,
   "metadata": {},
   "outputs": [
    {
     "data": {
      "text/plain": [
       "[80]"
      ]
     },
     "execution_count": 52,
     "metadata": {},
     "output_type": "execute_result"
    }
   ],
   "source": [
    "mylist[::-10]"
   ]
  },
  {
   "cell_type": "code",
   "execution_count": 67,
   "metadata": {},
   "outputs": [
    {
     "name": "stdout",
     "output_type": "stream",
     "text": [
      "[4, 6, 8, 10, 12, 14, 16, 18]\n"
     ]
    }
   ],
   "source": [
    "# List comprehensions are used for creating new lists from\n",
    "# other iterables like tuples, strings, arrays, lists, etc.\n",
    "\n",
    "# A list comprehension consists of brackets containing the expression, \n",
    "# which is executed for each element along with the for loop to iterate over each # element. \n",
    "\n",
    "# list contains all even numbers between 4 to 20\n",
    "\n",
    "mylist = [i for i in range(4,20) if i%2 == 0]\n",
    "\n",
    "print(mylist)"
   ]
  },
  {
   "cell_type": "markdown",
   "metadata": {},
   "source": [
    "-----------"
   ]
  },
  {
   "cell_type": "code",
   "execution_count": 1,
   "metadata": {},
   "outputs": [
    {
     "ename": "NameError",
     "evalue": "name 'mylist' is not defined",
     "output_type": "error",
     "traceback": [
      "\u001b[1;31m---------------------------------------------------------------------------\u001b[0m",
      "\u001b[1;31mNameError\u001b[0m                                 Traceback (most recent call last)",
      "Cell \u001b[1;32mIn[1], line 1\u001b[0m\n\u001b[1;32m----> 1\u001b[0m mylist \u001b[38;5;241m=\u001b[39m \u001b[43m[\u001b[49m\u001b[43m \u001b[49m\u001b[38;5;28;43mint\u001b[39;49m\u001b[43m(\u001b[49m\u001b[43mi\u001b[49m\u001b[43m)\u001b[49m\u001b[43m \u001b[49m\u001b[38;5;28;43;01mfor\u001b[39;49;00m\u001b[43m \u001b[49m\u001b[43mi\u001b[49m\u001b[43m \u001b[49m\u001b[38;5;129;43;01min\u001b[39;49;00m\u001b[43m \u001b[49m\u001b[38;5;28;43minput\u001b[39;49m\u001b[43m(\u001b[49m\u001b[38;5;124;43m\"\u001b[39;49m\u001b[38;5;124;43mEnter a values:\u001b[39;49m\u001b[38;5;124;43m\"\u001b[39;49m\u001b[43m)\u001b[49m\u001b[43m \u001b[49m\u001b[38;5;28;43;01mif\u001b[39;49;00m\u001b[43m(\u001b[49m\u001b[38;5;28;43mlen\u001b[39;49m\u001b[43m(\u001b[49m\u001b[43mmylist\u001b[49m\u001b[43m)\u001b[49m\u001b[38;5;241;43m==\u001b[39;49m\u001b[38;5;241;43m5\u001b[39;49m\u001b[43m)\u001b[49m\u001b[43m]\u001b[49m\n\u001b[0;32m      2\u001b[0m \u001b[38;5;28mprint\u001b[39m(mylist)\n",
      "Cell \u001b[1;32mIn[1], line 1\u001b[0m, in \u001b[0;36m<listcomp>\u001b[1;34m(.0)\u001b[0m\n\u001b[1;32m----> 1\u001b[0m mylist \u001b[38;5;241m=\u001b[39m [ \u001b[38;5;28mint\u001b[39m(i) \u001b[38;5;28;01mfor\u001b[39;00m i \u001b[38;5;129;01min\u001b[39;00m \u001b[38;5;28minput\u001b[39m(\u001b[38;5;124m\"\u001b[39m\u001b[38;5;124mEnter a values:\u001b[39m\u001b[38;5;124m\"\u001b[39m) \u001b[38;5;28;01mif\u001b[39;00m(\u001b[38;5;28mlen\u001b[39m(\u001b[43mmylist\u001b[49m)\u001b[38;5;241m==\u001b[39m\u001b[38;5;241m5\u001b[39m)]\n\u001b[0;32m      2\u001b[0m \u001b[38;5;28mprint\u001b[39m(mylist)\n",
      "\u001b[1;31mNameError\u001b[0m: name 'mylist' is not defined"
     ]
    }
   ],
   "source": [
    "mylist = [ int(i) for i in input(\"Enter a values:\") if(len(mylist)==5)]\n",
    "print(mylist)"
   ]
  },
  {
   "cell_type": "markdown",
   "metadata": {},
   "source": [
    "--------"
   ]
  },
  {
   "cell_type": "code",
   "execution_count": 7,
   "metadata": {},
   "outputs": [
    {
     "name": "stdout",
     "output_type": "stream",
     "text": [
      "[10, 20, 30, 50, 60, 70]\n"
     ]
    }
   ],
   "source": [
    "list1 = []\n",
    "input1 = 7\n",
    "\n",
    "\n",
    "for i in range(1,input1 ):\n",
    "    a = int(input(\"ENter the values to eter into the list :\"))\n",
    "    list1.append(a)\n",
    "\n",
    "print(list1)"
   ]
  },
  {
   "cell_type": "code",
   "execution_count": 70,
   "metadata": {},
   "outputs": [
    {
     "name": "stdout",
     "output_type": "stream",
     "text": [
      "[23, 12, 6, 8, 11, 9, 13]\n",
      "[6, 8, 9, 11, 12, 13, 23]\n",
      "[23, 13, 12, 11, 9, 8, 6]\n"
     ]
    }
   ],
   "source": [
    "# sort the list in ascending and descending order\n",
    "\n",
    "mylist = [23,12,6,8,11,9,13]\n",
    "print(mylist)\n",
    "mylist.sort()\n",
    "print(mylist)\n",
    "mylist.sort(reverse=True)\n",
    "print(mylist)\n"
   ]
  },
  {
   "cell_type": "code",
   "execution_count": 20,
   "metadata": {},
   "outputs": [
    {
     "name": "stdout",
     "output_type": "stream",
     "text": [
      "[<__main__.Student object at 0x0000017330A61390>, <__main__.Student object at 0x0000017330A62D90>, <__main__.Student object at 0x0000017330A62050>]\n",
      "Anand\t34\n",
      "Rahul\t32\n",
      "Sachin\t23\n",
      "----------------------------------\n",
      "Sachin\t23\n",
      "Rahul\t32\n",
      "Anand\t34\n"
     ]
    }
   ],
   "source": [
    "# sort the list in ascending and descending order\n",
    "\n",
    "class Student:\n",
    "    def __init__(self,name,age):        # __init__ is an constructor         Self = this is from java \n",
    "        self.name=name\n",
    "        self.age=age\n",
    "    def __str__(self):\n",
    "        return  self.name +\"\\t\"+str(self.age)\n",
    "\n",
    "s1 = Student(\"Sachin\",23)\n",
    "s2 = Student(\"Rahul\",32)\n",
    "s3 = Student(\"Anand\",34)\n",
    "\n",
    "mylist = [s1,s2,s3]\n",
    "print(mylist)\n",
    "\n",
    "# for i in mylist:\n",
    "#     print(i)\n",
    "\n",
    "# mylist.sort() # TypeError: '<' not supported between instances of 'Student' and 'Student'\n",
    "        # we must provide some strategy based on which sort() method  will sort the object\n",
    "\n",
    "# for i in mylist:\n",
    "#     print(i)\n",
    "\n",
    "# mylist.sort(key = Student.__name__)\n",
    "\n",
    "mylist.sort(key=lambda student : student.name)\n",
    "\n",
    "for i in mylist:\n",
    "    print(i)\n",
    "\n",
    "print(\"----------------------------------\")\n",
    "\n",
    "mylist.sort(key=lambda student : student.age, reverse=False)\n",
    "\n",
    "for i in mylist:\n",
    "    print(i)"
   ]
  },
  {
   "cell_type": "code",
   "execution_count": 77,
   "metadata": {},
   "outputs": [
    {
     "name": "stdout",
     "output_type": "stream",
     "text": [
      "[<__main__.Student object at 0x00000224A9E0B910>, <__main__.Student object at 0x00000224A9C78A50>, <__main__.Student object at 0x00000224A9DDDFD0>]\n",
      "Sachin\t23\n",
      "Rahul\t32\n",
      "Anand\t34\n",
      "After sorting\n",
      "Anand\t34\n",
      "Rahul\t32\n",
      "Sachin\t23\n"
     ]
    }
   ],
   "source": [
    "# sort the list in ascending order\n",
    "\n",
    "class Student:\n",
    "    def __init__(self,name,age):\n",
    "        self.name=name\n",
    "        self.age=age\n",
    "    def __str__(self):\n",
    "        return  self.name +\"\\t\"+str(self.age)\n",
    "    def getname(self):\n",
    "        return self.name\n",
    "    def getage(self):\n",
    "        return self.age\n",
    "\n",
    "s1 = Student(\"Sachin\",23)\n",
    "s2 = Student(\"Rahul\",32)\n",
    "s3 = Student(\"Anand\",34)\n",
    "\n",
    "mylist = [s1,s2,s3]\n",
    "print(mylist)\n",
    "\n",
    "for i in mylist:\n",
    "    print(i)\n",
    "\n",
    "mylist.sort(key=Student.getname)     # strategy of name based on which sort() method  will sort the object\n",
    "print(\"After sorting\")\n",
    "for i in mylist:\n",
    "    print(i)\n"
   ]
  },
  {
   "cell_type": "code",
   "execution_count": 78,
   "metadata": {},
   "outputs": [
    {
     "name": "stdout",
     "output_type": "stream",
     "text": [
      "[<__main__.Student object at 0x00000224A9D30110>, <__main__.Student object at 0x00000224A9D33610>, <__main__.Student object at 0x00000224A9D304D0>]\n",
      "Sachin\t23\n",
      "Rahul\t32\n",
      "Anand\t34\n",
      "After sorting\n",
      "Sachin\t23\n",
      "Rahul\t32\n",
      "Anand\t34\n"
     ]
    }
   ],
   "source": [
    "# sort the list in ascending order\n",
    "\n",
    "class Student:\n",
    "    def __init__(self,name,age):\n",
    "        self.name=name\n",
    "        self.age=age\n",
    "    def __str__(self):\n",
    "        return  self.name +\"\\t\"+str(self.age)\n",
    "    def getname(self):\n",
    "        return self.name\n",
    "    def getage(self):\n",
    "        return self.age\n",
    "\n",
    "s1 = Student(\"Sachin\",23)\n",
    "s2 = Student(\"Rahul\",32)\n",
    "s3 = Student(\"Anand\",34)\n",
    "\n",
    "mylist = [s1,s2,s3]\n",
    "print(mylist)\n",
    "\n",
    "for i in mylist:\n",
    "    print(i)\n",
    "\n",
    "mylist.sort(key=Student.getage)     # strategy of age based on which sort() method  will sort the object\n",
    "print(\"After sorting\")\n",
    "for i in mylist:\n",
    "    print(i)\n"
   ]
  },
  {
   "cell_type": "code",
   "execution_count": 79,
   "metadata": {},
   "outputs": [
    {
     "name": "stdout",
     "output_type": "stream",
     "text": [
      "[<__main__.Student object at 0x00000224A9CB03D0>, <__main__.Student object at 0x00000224A928E910>, <__main__.Student object at 0x00000224A928C6D0>]\n",
      "Sachin\t23\n",
      "Rahul\t32\n",
      "Anand\t34\n",
      "After sorting\n",
      "Anand\t34\n",
      "Rahul\t32\n",
      "Sachin\t23\n"
     ]
    }
   ],
   "source": [
    "# sort the list in ascending order\n",
    "\n",
    "class Student:\n",
    "    def __init__(self,name,age):\n",
    "        self.name=name\n",
    "        self.age=age\n",
    "    def __str__(self):\n",
    "        return  self.name +\"\\t\"+str(self.age)\n",
    "    def getname(self):\n",
    "        return self.name\n",
    "    def getage(self):\n",
    "        return self.age\n",
    "\n",
    "s1 = Student(\"Sachin\",23)\n",
    "s2 = Student(\"Rahul\",32)\n",
    "s3 = Student(\"Anand\",34)\n",
    "\n",
    "mylist = [s1,s2,s3]\n",
    "print(mylist)\n",
    "\n",
    "for i in mylist:\n",
    "    print(i)\n",
    "\n",
    "mylist.sort(key=Student.getage,reverse=True)     # strategy of age based on which sort() method  will sort the object in a reverse order\n",
    "print(\"After sorting\")\n",
    "for i in mylist:\n",
    "    print(i)\n"
   ]
  },
  {
   "cell_type": "code",
   "execution_count": 2,
   "metadata": {},
   "outputs": [
    {
     "name": "stdout",
     "output_type": "stream",
     "text": [
      "['abc', 'xyz', 'pqr', 'lmn']\n",
      "<class 'list'>\n",
      "xyz is there in the list\n",
      "xyz  is there in the list at  1  position\n"
     ]
    }
   ],
   "source": [
    "# searching from a list with the help of \"in\" and \"index()\" function\n",
    "\n",
    "mylist12 = [\"abc\",\"xyz\",\"pqr\",\"lmn\"]\n",
    "\n",
    "print(mylist12)\n",
    "print(type(mylist12))\n",
    "\n",
    "myval = (input(\"enter value to search in the list : \"))\n",
    "if myval in mylist12:\n",
    "    print(myval, \"is there in the list\")\n",
    "else:\n",
    "    print(myval,\" is not there in the list\")\n",
    "\n",
    "print(myval,\" is there in the list at \",mylist12.index(myval),\" position\")"
   ]
  },
  {
   "cell_type": "markdown",
   "metadata": {},
   "source": [
    "#### **Appending list without append fucntion**"
   ]
  },
  {
   "cell_type": "code",
   "execution_count": 1,
   "metadata": {},
   "outputs": [],
   "source": [
    "a= input()"
   ]
  },
  {
   "cell_type": "code",
   "execution_count": 22,
   "metadata": {},
   "outputs": [
    {
     "name": "stdout",
     "output_type": "stream",
     "text": [
      "[10, 20, 30, 40, 50, 60]\n",
      "[40, 50, 60]\n"
     ]
    }
   ],
   "source": [
    "x = [10,20,30]\n",
    "y = [40,50,60]\n",
    "\n",
    "x += y\n",
    "print(x)\n",
    "print(y)"
   ]
  },
  {
   "cell_type": "code",
   "execution_count": 13,
   "metadata": {},
   "outputs": [
    {
     "name": "stdout",
     "output_type": "stream",
     "text": [
      "[10, 20, 30, 40, 50, 60]\n"
     ]
    }
   ],
   "source": [
    "\n",
    "# how to extend the list without append\n",
    "x = [10, 20, 30]\n",
    "y = [40, 50, 60]\n",
    "# x+=y\n",
    "# print(x)\n",
    "\n",
    "#x[:0]=y    from begining to 0th index\n",
    "# print(x)\n",
    "\n",
    "x[3:]=y     #from 3rd to last\n",
    "print(x)\n"
   ]
  },
  {
   "cell_type": "code",
   "execution_count": 20,
   "metadata": {},
   "outputs": [
    {
     "name": "stdout",
     "output_type": "stream",
     "text": [
      "[10, 40, 50, 60]\n"
     ]
    }
   ],
   "source": [
    "x[1:]=y     #from 3rd to last\n",
    "print(x)"
   ]
  },
  {
   "cell_type": "markdown",
   "metadata": {},
   "source": [
    "#### **Zip Function**"
   ]
  },
  {
   "cell_type": "code",
   "execution_count": 28,
   "metadata": {},
   "outputs": [
    {
     "name": "stdout",
     "output_type": "stream",
     "text": [
      "1 red\n",
      "2 white\n",
      "3 black\n",
      "\n",
      "\n",
      "1 : red : hello\n",
      "2 : white : hi\n",
      "3 : black : bye\n"
     ]
    }
   ],
   "source": [
    "num = [1, 2, 3]\n",
    "color = ['red', 'white', 'black']\n",
    "for (a,b) in zip(num, color):\n",
    "     print(a, b)\n",
    "\n",
    "\n",
    "\"\"\"\n",
    "this is also possible\n",
    "\"\"\"\n",
    "print()\n",
    "print()\n",
    "\n",
    "num = [1, 2, 3]\n",
    "color = ['red', 'white', 'black']\n",
    "mylist=[\"hello\",\"hi\",\"bye\"]\n",
    "for (a,b,c) in zip(num, color,mylist):\n",
    "     print(a, b,c, sep=\" : \", end=\"\\n\")"
   ]
  },
  {
   "cell_type": "markdown",
   "metadata": {},
   "source": [
    "#### **Sort List without using Sort**"
   ]
  },
  {
   "cell_type": "code",
   "execution_count": 29,
   "metadata": {},
   "outputs": [
    {
     "name": "stdout",
     "output_type": "stream",
     "text": [
      "[-23, -6, -5, 0, 5, 23, 23, 67]\n"
     ]
    }
   ],
   "source": [
    "# Sort the list without using collection.sort and any type of sorting algorithm\n",
    "\n",
    "data_list = [-5, -23, 5, 0, 23, -6, 23, 67]\n",
    "new_list = []\n",
    "\n",
    "while data_list:\n",
    "    minimum = data_list[0]  # arbitrary number in list \n",
    "    for x in data_list: \n",
    "        if x < minimum:\n",
    "            minimum = x\n",
    "    new_list.append(minimum)\n",
    "    data_list.remove(minimum)    \n",
    "\n",
    "print (new_list)"
   ]
  },
  {
   "cell_type": "markdown",
   "metadata": {},
   "source": [
    "#### **using list as queue**"
   ]
  },
  {
   "cell_type": "code",
   "execution_count": 35,
   "metadata": {},
   "outputs": [
    {
     "name": "stdout",
     "output_type": "stream",
     "text": [
      "Initial queue\n",
      "['a', 'b', 'c']\n",
      "\n",
      "Elements dequeued from queue\n",
      "a\n",
      "b\n",
      "c\n",
      "\n",
      "Queue after removing elements\n",
      "[]\n"
     ]
    }
   ],
   "source": [
    "\n",
    "queue = []\n",
    "  \n",
    "\n",
    "queue.append('a')\n",
    "queue.append('b')\n",
    "queue.append('c')\n",
    "  \n",
    "print(\"Initial queue\")\n",
    "print(queue)\n",
    "  \n",
    "\n",
    "print(\"\\nElements dequeued from queue\")\n",
    "print(queue.pop(0))\n",
    "print(queue.pop(0))\n",
    "print(queue.pop(0))\n",
    "  \n",
    "print(\"\\nQueue after removing elements\")\n",
    "print(queue)"
   ]
  },
  {
   "cell_type": "code",
   "execution_count": 33,
   "metadata": {},
   "outputs": [
    {
     "name": "stdout",
     "output_type": "stream",
     "text": [
      "Initial stack\n",
      "['a', 'b', 'c']\n",
      "\n",
      "Elements popped from stack:\n",
      "c\n",
      "b\n",
      "a\n",
      "\n",
      "Stack after elements are popped:\n",
      "[]\n"
     ]
    }
   ],
   "source": [
    "stack = []\n",
    " \n",
    "\n",
    "stack.append('a')\n",
    "stack.append('b')\n",
    "stack.append('c')\n",
    " \n",
    "print('Initial stack')\n",
    "print(stack)\n",
    " \n",
    "\n",
    "# LIFO order\n",
    "print('\\nElements popped from stack:')\n",
    "print(stack.pop())\n",
    "print(stack.pop())\n",
    "print(stack.pop())\n",
    " \n",
    "print('\\nStack after elements are popped:')\n",
    "print(stack)"
   ]
  },
  {
   "cell_type": "markdown",
   "metadata": {},
   "source": [
    "### **Slicing in list**"
   ]
  },
  {
   "cell_type": "markdown",
   "metadata": {},
   "source": [
    "mylist[:]\n",
    "\n",
    "- The colon (:) inside the brackets indicates that you are taking a slice of the entire list from the beginning to the end.\n",
    "\n",
    "- It effectively means \"give me everything from the start to the end of the list.\"\n",
    "\n",
    "- mylist[::]\n",
    "    - The double colon (::) introduces a step parameter to the slice.\n",
    "    - The format for slicing is start:stop:step. \n",
    "    - In this case, you haven't specified start or stop, but you've set the step to its default value of 1.\n",
    "    Thus, mylist[::] also means \"give me everything from the start to the end of the list, with a step of 1.\"\n",
    "\n",
    "        e.g.\n",
    "        mylist = [10, 20, 30, 40, 50]\n",
    "\n",
    "        print(mylist[::2])  \n",
    "\n",
    "\n",
    "##### Output: [10, 30, 50] (every second element)\n",
    "- This shows how :: can be used for more complex slicing.\n",
    "\n",
    "\n",
    "\n"
   ]
  },
  {
   "cell_type": "markdown",
   "metadata": {},
   "source": [
    "### **Accept multiple values in single line**"
   ]
  },
  {
   "cell_type": "code",
   "execution_count": 24,
   "metadata": {},
   "outputs": [
    {
     "name": "stdout",
     "output_type": "stream",
     "text": [
      "20\n",
      "30\n",
      "40\n",
      "50\n",
      "60\n"
     ]
    }
   ],
   "source": [
    "a,b,c,d,e = [int(x) for x in input(\"Enter five values: \").split()]\n",
    "print(a+10)\n",
    "print(b+10)\n",
    "print(c+10)\n",
    "print(d+10)\n",
    "print(e+10)"
   ]
  },
  {
   "cell_type": "code",
   "execution_count": null,
   "metadata": {},
   "outputs": [],
   "source": [
    "a,b,c,d,e = input(\"Enter five values: \").split()\n",
    "print(a)\n",
    "print(b)\n",
    "print(c)\n",
    "print(d)\n",
    "print(e)"
   ]
  },
  {
   "cell_type": "code",
   "execution_count": 74,
   "metadata": {},
   "outputs": [
    {
     "name": "stdout",
     "output_type": "stream",
     "text": [
      "Number of list is:  [1, 2, 4, 5]\n"
     ]
    }
   ],
   "source": [
    "mylist = [int(num) for num in input(\"Enter multiple values: \").split()]\n",
    "print(\"Number of list is: \", mylist)"
   ]
  },
  {
   "cell_type": "code",
   "execution_count": 75,
   "metadata": {},
   "outputs": [
    {
     "name": "stdout",
     "output_type": "stream",
     "text": [
      "20\n",
      "30\n",
      "40\n",
      "50\n",
      "60\n"
     ]
    }
   ],
   "source": [
    "a,b,c,d,e = [10,20,30,40,50]\n",
    "print(a+10)\n",
    "print(b+10)\n",
    "print(c+10)\n",
    "print(d+10)\n",
    "print(e+10)"
   ]
  },
  {
   "cell_type": "markdown",
   "metadata": {},
   "source": [
    "### **String**"
   ]
  },
  {
   "cell_type": "code",
   "execution_count": 76,
   "metadata": {},
   "outputs": [
    {
     "name": "stdout",
     "output_type": "stream",
     "text": [
      "hello\n",
      "<class 'str'>\n",
      "5\n"
     ]
    }
   ],
   "source": [
    "# first example of string\n",
    "# mystring = \"hello\"\n",
    "# mystring = 'hello'\n",
    "mystring = '''hello'''\n",
    "print(mystring)\n",
    "print(type(mystring))\n",
    "print(len(mystring))\n",
    "# mystring[0]='G'  # Not possible, strings are immutable\n"
   ]
  },
  {
   "cell_type": "code",
   "execution_count": 77,
   "metadata": {},
   "outputs": [
    {
     "name": "stdout",
     "output_type": "stream",
     "text": [
      "Pranay is The Topper in All India Level in Pg-DBDA Aug24 Batch \n",
      "<class 'str'>\n",
      "63\n"
     ]
    }
   ],
   "source": [
    "# how to accept a string from user\n",
    "mystring = input(\"Enter your name\")\n",
    "print(mystring)\n",
    "print(type(mystring))\n",
    "print(len(mystring))\n",
    "# mystring[0]='G'  # Not possible, strings are immutable\n"
   ]
  },
  {
   "cell_type": "code",
   "execution_count": 78,
   "metadata": {},
   "outputs": [
    {
     "name": "stdout",
     "output_type": "stream",
     "text": [
      "Computer\n",
      "C\n",
      "r\n",
      "e\n"
     ]
    }
   ],
   "source": [
    "# accessing string by characters\n",
    "\n",
    "mystring = \"Computer\"\n",
    "print(mystring)\n",
    "print(mystring[0])  # first character of a string\n",
    "print(mystring[-1]) # last character of a string\n",
    "print(mystring[-2]) # second last character of a string\n",
    "\n"
   ]
  },
  {
   "cell_type": "code",
   "execution_count": 79,
   "metadata": {},
   "outputs": [
    {
     "name": "stdout",
     "output_type": "stream",
     "text": [
      "Computers\n",
      "mput\n",
      "ute\n"
     ]
    }
   ],
   "source": [
    "# slicing a string\n",
    "\n",
    "mystring = \"Computers\"\n",
    "print(mystring)\n",
    "print(mystring[2:6])  # slice from 2nd position to 6th position\n",
    "print(mystring[4:-2]) # slice from 4th position to second last position\n"
   ]
  },
  {
   "cell_type": "code",
   "execution_count": 80,
   "metadata": {},
   "outputs": [
    {
     "name": "stdout",
     "output_type": "stream",
     "text": [
      "Learning Python is very simple\n",
      "['Learning', 'Python', 'is', 'very', 'simple']\n",
      "<class 'list'>\n"
     ]
    }
   ],
   "source": [
    "# split a string based on space as a delimeter and convert it into list\n",
    "\n",
    "mystring = \"Learning Python is very simple\"\n",
    "\n",
    "print(mystring)\n",
    "\n",
    "myvar = mystring.split(' ')\n",
    "\n",
    "print(myvar)\n",
    "print(type(myvar))\n"
   ]
  },
  {
   "cell_type": "code",
   "execution_count": 81,
   "metadata": {},
   "outputs": [
    {
     "name": "stdout",
     "output_type": "stream",
     "text": [
      "Before reversing\n",
      "Pranay\n",
      "yanarP\n"
     ]
    }
   ],
   "source": [
    "# reverse a string\n",
    "\n",
    "mystring = input(\"Enter a string\")\n",
    "\n",
    "print(\"Before reversing\")\n",
    "print(mystring)\n",
    "\n",
    "mystring = mystring[::-1]\n",
    "print(mystring)\n",
    "\n"
   ]
  },
  {
   "cell_type": "code",
   "execution_count": 93,
   "metadata": {},
   "outputs": [
    {
     "name": "stdout",
     "output_type": "stream",
     "text": [
      "True\n",
      "True\n",
      "False\n",
      "*****************\n",
      "True\n",
      "False\n",
      "False\n",
      "*****************\n",
      "False\n",
      "True\n",
      "True\n"
     ]
    }
   ],
   "source": [
    "\n",
    "# Built-in string functions\n",
    "\n",
    "\"\"\"\n",
    "\n",
    "The Python isalpha() method returns true if a string only contains alphabets.\n",
    " \n",
    "Python isdigit() returns true if all characters in a string are numbers. \n",
    "\n",
    "Python isalnum() only returns true if a string contains only alphabets or only numbers or combination of alphabets and numbers.\n",
    "\n",
    "\"\"\"\n",
    "\n",
    "def fun():\n",
    "    first=\"hello\"\n",
    "    print(first.isalnum())\n",
    "    print(first.isalpha())\n",
    "    print(first.isdigit())\n",
    "    print(\"*****************\")\n",
    "    second=\"hello8\"\n",
    "    print(second.isalnum())\n",
    "    print(second.isalpha())\n",
    "    print(second.isdigit())\n",
    "\n",
    "    print(\"*****************\")\n",
    "    third=\"200\"\n",
    "    print(third.isalpha())\n",
    "    print(third.isalnum())\n",
    "    print(third.isdigit())\n",
    "\n",
    "\n",
    "fun()\n"
   ]
  },
  {
   "cell_type": "code",
   "execution_count": 91,
   "metadata": {},
   "outputs": [
    {
     "name": "stdout",
     "output_type": "stream",
     "text": [
      "hello world\n",
      "Hello world\n",
      "hello world\n"
     ]
    }
   ],
   "source": [
    "# Built-in String Methods\n",
    "\n",
    "def fun():\n",
    "\tfirst=\"hello world\"\n",
    "\tprint(first)\n",
    "\tprint(first.capitalize())  # Capitalizes first letter of string (new string is created)\n",
    "\tprint(first)\n",
    "fun()\n"
   ]
  },
  {
   "cell_type": "code",
   "execution_count": 94,
   "metadata": {},
   "outputs": [
    {
     "name": "stdout",
     "output_type": "stream",
     "text": [
      "casewise they are not equal\n",
      "hello\n",
      "hello\n",
      "after ignoring cases they are equal\n"
     ]
    }
   ],
   "source": [
    "# how to ignore cases in Python\n",
    "\n",
    "mystring1 = \"hello\"\n",
    "mystring2 =\"Hello\"\n",
    "\n",
    "\n",
    "if(mystring1==mystring2):\n",
    "    print(\"casewise they are equal\")\n",
    "else:\n",
    "    print(\"casewise they are not equal\")\n",
    "\n",
    "print(mystring1.casefold())\n",
    "print(mystring2.casefold())\n",
    "\n",
    "if(mystring1.casefold()==mystring2.casefold()):\n",
    "    print(\"after ignoring cases they are equal\")\n",
    "else:\n",
    "    print(\"even after ignoring cases they are not equal\")"
   ]
  },
  {
   "cell_type": "markdown",
   "metadata": {},
   "source": [
    "#### **String Slicing**"
   ]
  },
  {
   "cell_type": "code",
   "execution_count": 102,
   "metadata": {},
   "outputs": [
    {
     "name": "stdout",
     "output_type": "stream",
     "text": [
      "Vid\n",
      "iy\n",
      "idny\n",
      "dyan\n",
      "dinay\n",
      "yani\n",
      "ia\n",
      "ina\n",
      "dny\n",
      "Vid\n",
      "String slicing without slice class\n",
      "Vid\n",
      "iy\n",
      "idny\n",
      "dyan\n",
      "dinay\n",
      "yani\n",
      "ia\n",
      "ina\n",
      "dny\n",
      "Vid\n",
      "Vidyanidhi\n",
      "anidhi\n",
      "Vidyanidh\n",
      "ihdinaydiV\n"
     ]
    }
   ],
   "source": [
    "# There are two ways to slice the string\n",
    "\n",
    "mystring = 'Vidyanidhi'\n",
    " \n",
    "# Using slice constructor  , slice is an in-built class\n",
    "\n",
    "s1 = slice(3)\n",
    "s2 = slice(1, 5, 2)\n",
    "s3 = slice(-1, -8, -2)\n",
    "# s4=slice(1,6,-2)    # cannot give negative value here\n",
    "# s4=slice(-2,-7,2)   # cannot give positive value here\n",
    "s4=slice(-8,6)\n",
    "# s5=slice(7,-8)   # requires negative value for step\n",
    "s5=slice(7,-8,-1)\n",
    "s6=slice(3,-3)\n",
    "s7=slice(6,-7,-2)\n",
    "s8=slice(6,-7,-1)\n",
    "s9=slice(7,2,-2)\n",
    "s10=slice(-7)    #  0 to -8\n",
    "\n",
    "\n",
    "print(mystring[s1])\n",
    "print(mystring[s2])\n",
    "print(mystring[s3])\n",
    "print(mystring[s4])\n",
    "print(mystring[s5])\n",
    "print(mystring[s6])\n",
    "print(mystring[s7])\n",
    "print(mystring[s8])\n",
    "print(mystring[s9])\n",
    "print(mystring[s10])\n",
    "\n",
    "print(\"String slicing without slice class\")\n",
    "\n",
    "print(mystring[:3])  # or mystring[0:3]\n",
    "print(mystring[1:5:2])\n",
    "print(mystring[-1:-8:-2])\n",
    "print(mystring[-8:6])\n",
    "print(mystring[7:-8:-1])\n",
    "print(mystring[3:-3])\n",
    "print(mystring[6:-7:-2])\n",
    "print(mystring[6:-7:-1])\n",
    "print(mystring[7:2:-2])\n",
    "print(mystring[:-7])   #  0 to -8\n",
    "print(mystring[:])   # copy of the string\n",
    "print(mystring[4:])\n",
    "print(mystring[:-1])\n",
    "print(mystring[::-1])\n"
   ]
  },
  {
   "cell_type": "markdown",
   "metadata": {},
   "source": [
    "-ve10 9 8 7 6 5 4 3 2 1 \\\n",
    "\n",
    "    V I D Y A N I D H I \n",
    "\n",
    "+ve 0 1 2 3 4 5 6 7 8 9"
   ]
  },
  {
   "cell_type": "code",
   "execution_count": 107,
   "metadata": {},
   "outputs": [
    {
     "ename": "TypeError",
     "evalue": "slice indices must be integers or None or have an __index__ method",
     "output_type": "error",
     "traceback": [
      "\u001b[1;31m---------------------------------------------------------------------------\u001b[0m",
      "\u001b[1;31mTypeError\u001b[0m                                 Traceback (most recent call last)",
      "Cell \u001b[1;32mIn[107], line 4\u001b[0m\n\u001b[0;32m      1\u001b[0m mystring \u001b[38;5;241m=\u001b[39m \u001b[38;5;124m'\u001b[39m\u001b[38;5;124mVidyanidhi\u001b[39m\u001b[38;5;124m'\u001b[39m\n\u001b[0;32m      2\u001b[0m s3 \u001b[38;5;241m=\u001b[39m \u001b[38;5;28mslice\u001b[39m(\u001b[38;5;241m-\u001b[39m\u001b[38;5;241m1\u001b[39m,\u001b[38;5;241m-\u001b[39m\u001b[38;5;241m7.\u001b[39m\u001b[38;5;241m-\u001b[39m\u001b[38;5;241m2\u001b[39m)\n\u001b[1;32m----> 4\u001b[0m \u001b[38;5;28mprint\u001b[39m(\u001b[43mmystring\u001b[49m\u001b[43m[\u001b[49m\u001b[43ms3\u001b[49m\u001b[43m]\u001b[49m)\n",
      "\u001b[1;31mTypeError\u001b[0m: slice indices must be integers or None or have an __index__ method"
     ]
    }
   ],
   "source": [
    "mystring = 'Vidyanidhi'\n",
    "s3 = slice(-1,-7.-2)\n",
    "\n",
    "print(mystring[s3])"
   ]
  },
  {
   "cell_type": "code",
   "execution_count": 108,
   "metadata": {},
   "outputs": [
    {
     "data": {
      "text/plain": [
       "'anidhi'"
      ]
     },
     "execution_count": 108,
     "metadata": {},
     "output_type": "execute_result"
    }
   ],
   "source": [
    "mystring[4:]"
   ]
  },
  {
   "cell_type": "code",
   "execution_count": 109,
   "metadata": {},
   "outputs": [
    {
     "data": {
      "text/plain": [
       "'Vid'"
      ]
     },
     "execution_count": 109,
     "metadata": {},
     "output_type": "execute_result"
    }
   ],
   "source": [
    "mystring[:-7]"
   ]
  },
  {
   "cell_type": "markdown",
   "metadata": {},
   "source": [
    "Ex2\n"
   ]
  },
  {
   "cell_type": "code",
   "execution_count": 110,
   "metadata": {},
   "outputs": [
    {
     "name": "stdout",
     "output_type": "stream",
     "text": [
      "dyan\n",
      "yanidhi\n",
      "vidyan\n",
      "dai\n",
      "idn\n",
      "dya\n"
     ]
    }
   ],
   "source": [
    "mystring1 = \"vidyanidhi\"\n",
    "# items start through 6-1\n",
    "print(mystring1[2:6])\n",
    "\n",
    "# items start from 3 through the rest of the array\n",
    "print(mystring1[3:])\n",
    "\n",
    "# items from the beginning through 6-1\n",
    "print(mystring1[:6])\n",
    "\n",
    "# start from 2 till 7-1 not past stop, by step 2\n",
    "print(mystring1[2:7:2])\n",
    "\n",
    "# from last (-1)  to (-5) by step 2 \n",
    "print(mystring1[-1:-6:-2])\n",
    "\n",
    "print(mystring1[2:-5])"
   ]
  },
  {
   "cell_type": "code",
   "execution_count": 111,
   "metadata": {},
   "outputs": [
    {
     "data": {
      "text/plain": [
       "'dya'"
      ]
     },
     "execution_count": 111,
     "metadata": {},
     "output_type": "execute_result"
    }
   ],
   "source": [
    "mystring[2:-5]"
   ]
  },
  {
   "cell_type": "markdown",
   "metadata": {},
   "source": [
    "Ex3"
   ]
  },
  {
   "cell_type": "code",
   "execution_count": 114,
   "metadata": {},
   "outputs": [
    {
     "name": "stdout",
     "output_type": "stream",
     "text": [
      "yh\n",
      "dh\n",
      "yndi\n",
      "dd\n"
     ]
    }
   ],
   "source": [
    "mystring=\"vidyanidhi\"\n",
    "print(mystring[3::5])  # yh     3rd and from 3rd  5th character\n",
    "print(mystring[2::6])  # dh     2nd and from 2nd  6th character\n",
    "\n",
    "print(mystring[-7::2]) # yi    -7th and from -7th  -2nd character\n",
    "\n",
    "print(mystring[-3::-5])  # dd   -3rd and  from -3rd  -5th character\n",
    "\n"
   ]
  },
  {
   "cell_type": "markdown",
   "metadata": {},
   "source": [
    "### **Set**"
   ]
  },
  {
   "cell_type": "code",
   "execution_count": 115,
   "metadata": {},
   "outputs": [
    {
     "name": "stdout",
     "output_type": "stream",
     "text": [
      "{40, 10, 20, 30}\n",
      "<class 'set'>\n",
      "40\n",
      "10\n",
      "20\n",
      "30\n"
     ]
    }
   ],
   "source": [
    "# first example of set\n",
    "\n",
    "myset = {10,20,30,40,30}     # duplicates are not allowed\n",
    "print(myset)\n",
    "print(type(myset))\n",
    "\n",
    "# iterating set\n",
    "for i in myset:\n",
    "    print(i)"
   ]
  },
  {
   "cell_type": "code",
   "execution_count": 116,
   "metadata": {},
   "outputs": [
    {
     "name": "stdout",
     "output_type": "stream",
     "text": [
      "[1, 2, 3, 4, 5, 6, 5, 5, 1, 8, 9, 10]\n",
      "<class 'list'>\n",
      "{1, 2, 3, 4, 5, 6, 8, 9, 10}\n",
      "<class 'set'>\n"
     ]
    }
   ],
   "source": [
    "# \"set()\" function to convert a list with duplicate values into set\n",
    "\n",
    "mylist = [1,2,3,4,5,6,5,5,1,8,9,10]\n",
    "\n",
    "print(mylist)\n",
    "print(type(mylist))\n",
    "\n",
    "# convert list into set\n",
    "\n",
    "myset = set(mylist)\n",
    "print(myset)\n",
    "print(type(myset))"
   ]
  },
  {
   "cell_type": "code",
   "execution_count": 118,
   "metadata": {},
   "outputs": [
    {
     "name": "stdout",
     "output_type": "stream",
     "text": [
      "[1, 2, 3, 4, 5, 6, 5, 5, 1, 8, 9, 10]\n",
      "<class 'list'>\n",
      "{1, 2, 3, 4, 5, 6, 8, 9, 10}\n",
      "<class 'set'>\n",
      "{1, 2, 3, 4, 5, 6, 8, 9, 10, 12, 15}\n"
     ]
    }
   ],
   "source": [
    "# \"set()\" function to convert a list with duplicate values into set\n",
    "\n",
    "mylist = [1,2,3,4,5,6,5,5,1,8,9,10]\n",
    "\n",
    "print(mylist)\n",
    "print(type(mylist))\n",
    "\n",
    "# convert list into set\n",
    "\n",
    "myset = set(mylist)\n",
    "print(myset)\n",
    "print(type(myset))\n",
    "\n",
    "\n",
    "# add method to add values in the set\n",
    "myset.add(12)\n",
    "myset.add(15)\n",
    "print(myset)"
   ]
  },
  {
   "cell_type": "code",
   "execution_count": 119,
   "metadata": {},
   "outputs": [
    {
     "name": "stdout",
     "output_type": "stream",
     "text": [
      "{1, 2, 3, 4, 5}\n",
      "<class 'set'>\n",
      "{1, 2, 3, 4, 5, 20, 10, 30}\n",
      "{1, 2, 3, 4, 5, 'B', 'welcome', 10, 20, 30, 'A', 'C', 'hello'}\n"
     ]
    }
   ],
   "source": [
    "# \"update()\" function to add two or more elements into set\n",
    "\n",
    "myset = {1,2,3,4,5}\n",
    "\n",
    "print(myset)\n",
    "print(type(myset))\n",
    "\n",
    "# adding a tuple\n",
    "myset.update((10,20,30))\n",
    "\n",
    "print(myset)\n",
    "\n",
    "# adding list and tuple\n",
    "myset.update(['A','B','C'],(\"hello\",\"welcome\"))\n",
    "print(myset)"
   ]
  },
  {
   "cell_type": "code",
   "execution_count": 120,
   "metadata": {},
   "outputs": [
    {
     "name": "stdout",
     "output_type": "stream",
     "text": [
      "{1, 2, 3, 4, 5, 6, 7}\n",
      "{1, 2, 4, 5, 6, 7}\n",
      "{1, 2, 4, 5, 6, 7}\n",
      "{1, 4, 5, 6, 7}\n",
      "{1, 4, 5, 6, 7}\n"
     ]
    }
   ],
   "source": [
    "'''\n",
    "Using remove() method or discard() method\n",
    "Elements can be removed from the Set by using built-in remove() function\n",
    "but a KeyError arises if element doesn’t exist in the set.\n",
    "To remove elements from a set without KeyError, use discard(),\n",
    "if the element doesn’t exist in the set, it remains unchanged.\n",
    "'''\n",
    "\n",
    "myset = {1,2,3,4,5,6,7}\n",
    "\n",
    "print(myset)\n",
    "\n",
    "myset.remove(3)\n",
    "print(myset)\n",
    "# myset.remove(10)    # error  KeyError: 10\n",
    "print(myset)\n",
    "myset.discard(2)\n",
    "print(myset)\n",
    "myset.discard(13)   # no error\n",
    "print(myset)"
   ]
  },
  {
   "cell_type": "markdown",
   "metadata": {},
   "source": [
    "##### Example of set , order is not fixed and duplicates are not allowed\n",
    "\n",
    "myset= {10,20,30,40,20}\n",
    "print(myset)\n",
    "print(type(myset))\n"
   ]
  },
  {
   "cell_type": "markdown",
   "metadata": {},
   "source": [
    "### **Tuple**"
   ]
  },
  {
   "cell_type": "code",
   "execution_count": 121,
   "metadata": {},
   "outputs": [
    {
     "name": "stdout",
     "output_type": "stream",
     "text": [
      "(10, 'hello', 4.6, True, 'N')\n",
      "5\n",
      "10\n",
      "(10, 'hello', 4.6, True, 'N')\n",
      "(10, 'hello', 4.6, True, 'N', 500, 'welcome', False)\n"
     ]
    }
   ],
   "source": [
    "# Tuple\n",
    "\n",
    "mytuple = (10,\"hello\",4.6,True,'N')\n",
    "\n",
    "print(mytuple)\n",
    "\n",
    "print(len(mytuple))\n",
    "\n",
    "print(mytuple[0])  # accessing a particular element of a tuple\n",
    "\n",
    "# mytuple[1]=\"welcome\"   # Error : cannot change tuple\n",
    "\n",
    "# how to concat tuple\n",
    "mytuple1=mytuple+ (500,\"welcome\",False) # tuple is immutable  -- Operator is overloaded in class\n",
    "## mytuple1=mytuple.__add__(500,\"welcome\",False)\n",
    "print(mytuple)\n",
    "print(mytuple1)"
   ]
  },
  {
   "cell_type": "code",
   "execution_count": 125,
   "metadata": {},
   "outputs": [
    {
     "name": "stdout",
     "output_type": "stream",
     "text": [
      "first tuple is\n",
      "(1, 2, 3, 4, 5, 6, 7, 8, 9, 10)\n",
      "displaying one by one element of a tuple\n",
      "1\n",
      "2\n",
      "3\n",
      "4\n",
      "5\n",
      "6\n",
      "7\n",
      "8\n",
      "9\n",
      "10\n",
      "list is \n",
      "['hello', 5.6, True, 100, 'A']\n",
      "tuple created with the help of list is\n",
      "('hello', 5.6, True, 100, 'A')\n",
      "list created with the help of tuple is\n",
      "[(1, 2, 3, 4, 5, 6, 7, 8, 9, 10)]\n"
     ]
    }
   ],
   "source": [
    "# creating a tuple with built-in function\n",
    "\n",
    "mytuple1 = tuple(i for i in range(1, 11))\n",
    "\n",
    "print(\"first tuple is\")\n",
    "print(mytuple1)\n",
    "\n",
    "print(\"displaying one by one element of a tuple\")\n",
    "\n",
    "for i in mytuple1:\n",
    "    print(i)\n",
    "\n",
    "# creating a tuple with the help of list\n",
    "\n",
    "mylist = [\"hello\",5.6,True,100,'A']\n",
    "print(\"list is \")\n",
    "print(mylist)\n",
    "mytuple2 = tuple(mylist)\n",
    "\n",
    "print(\"tuple created with the help of list is\")\n",
    "print(mytuple2)\n",
    "\n",
    "# creating list with the help of tuple\n",
    "\n",
    "mylist1 = [mytuple1]\n",
    "\n",
    "print(\"list created with the help of tuple is\")\n",
    "print(mylist1)\n"
   ]
  },
  {
   "cell_type": "code",
   "execution_count": 126,
   "metadata": {},
   "outputs": [
    {
     "name": "stdout",
     "output_type": "stream",
     "text": [
      "Combined tuple is\n",
      "(10, 20, 30, 40, 'hello', 'welcome', 'Bye')\n",
      "combined list is \n",
      "[100, 200, 300, True, False, 'Hi']\n"
     ]
    }
   ],
   "source": [
    "# Concatenation of Tuples\n",
    "# Concatenation is only possible with tuples. It can't be concatenated to other kinds, such lists.\n",
    "\n",
    "mytuple1 = (10,20,30,40)\n",
    "\n",
    "mytuple2 = (\"hello\",\"welcome\",\"Bye\")\n",
    "\n",
    "mytuple3 = mytuple1 + mytuple2\n",
    "\n",
    "print(\"Combined tuple is\")\n",
    "print(mytuple3)\n",
    "\n",
    "# concatenation of lists\n",
    "\n",
    "mylist1 = [100,200,300]\n",
    "mylist2= [True,False,\"Hi\"]\n",
    "mylist3 = mylist1 + mylist2\n",
    "print(\"combined list is \")\n",
    "print(mylist3)"
   ]
  },
  {
   "cell_type": "code",
   "execution_count": 132,
   "metadata": {},
   "outputs": [
    {
     "name": "stdout",
     "output_type": "stream",
     "text": [
      "I n t e r n a t i o n a l i z a t i o n "
     ]
    }
   ],
   "source": [
    "# creating a tuple with tuple function and a string\n",
    "\n",
    "mytuple1 = tuple(\"Internationalization\")\n",
    "\n",
    "for i in mytuple1:\n",
    "    print(i, end =\" \")"
   ]
  },
  {
   "cell_type": "code",
   "execution_count": 133,
   "metadata": {},
   "outputs": [
    {
     "name": "stdout",
     "output_type": "stream",
     "text": [
      "I\n",
      "n\n",
      "t\n",
      "e\n",
      "r\n",
      "n\n",
      "a\n",
      "t\n",
      "i\n",
      "o\n",
      "n\n",
      "a\n",
      "l\n",
      "i\n",
      "z\n",
      "a\n",
      "t\n",
      "i\n",
      "o\n",
      "n\n",
      "slice first 2 elements\n",
      "('t', 'e', 'r', 'n', 'a', 't', 'i', 'o', 'n', 'a', 'l', 'i', 'z', 'a', 't', 'i', 'o', 'n')\n",
      "Reverse the tuple\n",
      "('n', 'o', 'i', 't', 'a', 'z', 'i', 'l', 'a', 'n', 'o', 'i', 't', 'a', 'n', 'r', 'e', 't', 'n', 'I')\n",
      "tuple elements within a particular range\n",
      "('r', 'n', 'a', 't')\n",
      "slice last 5 characters\n",
      "('I', 'n', 't', 'e', 'r', 'n', 'a', 't', 'i', 'o', 'n', 'a', 'l', 'i', 'z')\n"
     ]
    }
   ],
   "source": [
    "# slicing tuple\n",
    "\n",
    "mytuple1 = tuple(\"Internationalization\")\n",
    "\n",
    "for i in mytuple1:\n",
    "    print(i)\n",
    "\n",
    "print(\"slice first 2 elements\")\n",
    "print(mytuple1[2:])\n",
    "\n",
    "print(\"Reverse the tuple\")\n",
    "print(mytuple1[::-1])\n",
    "\n",
    "print(\"tuple elements within a particular range\")\n",
    "print(mytuple1[4:8])\n",
    "print(\"slice last 5 characters\")\n",
    "print(mytuple1[:-5])\n"
   ]
  },
  {
   "cell_type": "code",
   "execution_count": 134,
   "metadata": {},
   "outputs": [
    {
     "name": "stdout",
     "output_type": "stream",
     "text": [
      "I\n",
      "n\n",
      "t\n",
      "e\n",
      "r\n",
      "n\n",
      "a\n",
      "t\n",
      "i\n",
      "o\n",
      "n\n",
      "a\n",
      "l\n",
      "i\n",
      "z\n",
      "a\n",
      "t\n",
      "i\n",
      "o\n",
      "n\n",
      "slice first 2 elements\n",
      "('t', 'e', 'r', 'n', 'a', 't', 'i', 'o', 'n', 'a', 'l', 'i', 'z', 'a', 't', 'i', 'o', 'n')\n",
      "Reverse the tuple\n",
      "('n', 'o', 'i', 't', 'a', 'z', 'i', 'l', 'a', 'n', 'o', 'i', 't', 'a', 'n', 'r', 'e', 't', 'n', 'I')\n",
      "tuple elements within a particular range\n",
      "('r', 'n', 'a', 't')\n",
      "slice last 5 characters\n",
      "('I', 'n', 't', 'e', 'r', 'n', 'a', 't', 'i', 'o', 'n', 'a', 'l', 'i', 'z')\n",
      "index of a given value\n",
      "1\n",
      "how many times that character is occurred in a given tuple\n",
      "4\n",
      "Maximum value of a tuple is\n",
      "z\n",
      "Minimum value of a tuple is\n",
      "I\n",
      "Sort the elements of tuple\n",
      "['I', 'a', 'a', 'a', 'e', 'i', 'i', 'i', 'l', 'n', 'n', 'n', 'n', 'o', 'o', 'r', 't', 't', 't', 'z']\n"
     ]
    }
   ],
   "source": [
    "# slicing tuple\n",
    "\n",
    "mytuple1 = tuple(\"Internationalization\")\n",
    "\n",
    "for i in mytuple1:\n",
    "    print(i)\n",
    "\n",
    "print(\"slice first 2 elements\")\n",
    "print(mytuple1[2:])\n",
    "\n",
    "print(\"Reverse the tuple\")\n",
    "print(mytuple1[::-1])\n",
    "\n",
    "print(\"tuple elements within a particular range\")\n",
    "print(mytuple1[4:8])\n",
    "print(\"slice last 5 characters\")\n",
    "print(mytuple1[:-5])\n",
    "\n",
    "print(\"index of a given value\")\n",
    "print(mytuple1.index('n'))\n",
    "\n",
    "print(\"how many times that character is occurred in a given tuple\")\n",
    "print(mytuple1.count('n'))\n",
    "\n",
    "print(\"Maximum value of a tuple is\")\n",
    "print(max(mytuple1))\n",
    "print(\"Minimum value of a tuple is\")\n",
    "print(min(mytuple1))\n",
    "\n",
    "print(\"Sort the elements of tuple\")\n",
    "print(sorted(mytuple1))\n"
   ]
  },
  {
   "cell_type": "markdown",
   "metadata": {},
   "source": [
    "### **Dictionary Demos**"
   ]
  },
  {
   "cell_type": "code",
   "execution_count": 137,
   "metadata": {},
   "outputs": [
    {
     "name": "stdout",
     "output_type": "stream",
     "text": [
      "{1: 'Amar', 2: 'Sachin', 3: 'Vishal'}\n",
      "Amar\n",
      "Sachin\n",
      "Vishal\n",
      "{1: 'Amar', 2: 'Satish', 3: 'Vishal'}\n",
      "dict_keys([1, 2, 3])\n",
      "dict_values(['Amar', 'Satish', 'Vishal'])\n"
     ]
    }
   ],
   "source": [
    "# first example of Dictionary\n",
    "\n",
    "mydict = {1:'Amar',2:'Sachin',3:'Vishal'}\n",
    "\n",
    "print(mydict)\n",
    "\n",
    "print(mydict[1])\n",
    "print(mydict[2])\n",
    "print(mydict[3])\n",
    "# print(mydict[4])    # KeyError: 4\n",
    "\n",
    "mydict[2]='Satish' # overwrite the value\n",
    "print(mydict)\n",
    "print(mydict.keys())   # print all the keys of dictionary\n",
    "print(mydict.values())  # print all the values of dictionary\n",
    "\n"
   ]
  },
  {
   "cell_type": "code",
   "execution_count": 138,
   "metadata": {},
   "outputs": [
    {
     "name": "stdout",
     "output_type": "stream",
     "text": [
      "{1: 'Amar', 2: 'Sachin', 3: {'A': 100, 'B': 200, 'C': 300}, 4: 'Vishal'}\n",
      "Amar\n",
      "Sachin\n",
      "{'A': 100, 'B': 200, 'C': 300}\n",
      "100\n",
      "200\n",
      "300\n",
      "Vishal\n",
      "{1: 'Amar', 2: 'Satish', 3: {'A': 100, 'B': 200, 'C': 300}, 4: 'Vishal'}\n",
      "dict_keys([1, 2, 3, 4])\n",
      "dict_values(['Amar', 'Satish', {'A': 100, 'B': 200, 'C': 300}, 'Vishal'])\n"
     ]
    }
   ],
   "source": [
    "# Nested Dictionary\n",
    "\n",
    "mydict = {1:'Amar',2:'Sachin',3:{'A':100,'B':200,'C':300},4:'Vishal'}\n",
    "\n",
    "print(mydict)\n",
    "\n",
    "print(mydict[1])\n",
    "print(mydict[2])\n",
    "print(mydict[3])\n",
    "# Displaying nested dictionary\n",
    "print(mydict[3]['A'])\n",
    "print(mydict[3]['B'])\n",
    "print(mydict[3]['C'])\n",
    "print(mydict[4])\n",
    "\n",
    "mydict[2]='Satish' # overwrite the value\n",
    "print(mydict)\n",
    "print(mydict.keys())   # print all the keys of dictionary\n",
    "print(mydict.values())  # print all the values of dictionary"
   ]
  },
  {
   "cell_type": "code",
   "execution_count": 143,
   "metadata": {},
   "outputs": [
    {
     "data": {
      "text/plain": [
       "{1: 'Amar', 2: 'Satish', 3: {'A': 100, 'B': 200, 'C': 300, 0: 4}, 4: 'Vishal'}"
      ]
     },
     "execution_count": 143,
     "metadata": {},
     "output_type": "execute_result"
    }
   ],
   "source": [
    "mydict"
   ]
  },
  {
   "cell_type": "code",
   "execution_count": 147,
   "metadata": {},
   "outputs": [],
   "source": [
    "mydict[3]['B'] = 50"
   ]
  },
  {
   "cell_type": "code",
   "execution_count": 148,
   "metadata": {},
   "outputs": [
    {
     "data": {
      "text/plain": [
       "{1: 'Amar', 2: 'Satish', 3: {'A': 100, 'B': 50, 'C': 300, 0: 4}, 4: 'Vishal'}"
      ]
     },
     "execution_count": 148,
     "metadata": {},
     "output_type": "execute_result"
    }
   ],
   "source": [
    "mydict"
   ]
  },
  {
   "cell_type": "code",
   "execution_count": 149,
   "metadata": {},
   "outputs": [
    {
     "name": "stdout",
     "output_type": "stream",
     "text": [
      "[1, 2, 5]\n",
      "['bye', 'hello', 'hi']\n"
     ]
    }
   ],
   "source": [
    "mydict={5:\"hello\",2:\"hi\",1:\"bye\"}\n",
    "\n",
    "mylist=sorted(mydict) # sort the keys by default\n",
    "\n",
    "print(mylist)\n",
    "\n",
    "# Sort the values\n",
    "sorted_values = sorted(mydict.values())\n",
    "\n",
    "print(sorted_values)"
   ]
  },
  {
   "cell_type": "code",
   "execution_count": 155,
   "metadata": {},
   "outputs": [
    {
     "name": "stdout",
     "output_type": "stream",
     "text": [
      "Vishal    23100\n",
      "Sachin    32200\n",
      "Anand    2650\n",
      "<class 'list'>\n",
      "Namewise sort\n",
      "Anand    26\n",
      "Sachin    32\n",
      "Vishal    23\n",
      "<class 'list'>\n",
      "Agewise sort\n",
      "Vishal    23\n",
      "Anand    26\n",
      "Sachin    32\n",
      "<class 'list'>\n",
      "Namewise descending order\n",
      "Vishal    23\n",
      "Sachin    32\n",
      "Anand    26\n",
      "{<__main__.Student object at 0x0000023CA8A1AE90>: 100, <__main__.Student object at 0x0000023CA8A1A390>: 200, <__main__.Student object at 0x0000023CA8A19B90>: 50}\n",
      "Vishal\n",
      "Sachin\n",
      "Anand\n",
      "Vishal    23 \t 100\n",
      "Sachin    32 \t 200\n",
      "Anand    26 \t 50\n"
     ]
    }
   ],
   "source": [
    "class Student:\n",
    "    def __init__(self,name,age):\n",
    "        self.name=name\n",
    "        self.age=age\n",
    "    def __str__(self):\n",
    "        return \"\"+ self.name+\"    \"+str(self.age)\n",
    "    def getname(self):\n",
    "        return self.name\n",
    "    def getage(self):\n",
    "        return self.age\n",
    "\n",
    "s1 = Student('Vishal',23)\n",
    "s2 = Student('Sachin',32)\n",
    "s3 = Student('Anand',26)\n",
    "\n",
    "students = {s1:100,s2:200,s3:50}\n",
    "\n",
    "for (i, j) in zip(students.keys(),students.values()):\n",
    "    print(i, j, sep=\"\")\n",
    "\n",
    "\n",
    "mylist= sorted(students,key=Student.getname)\n",
    "\n",
    "print(type(mylist))\n",
    "print(\"Namewise sort\")\n",
    "for i in mylist:\n",
    "    print(i)\n",
    "\n",
    "mylist = sorted(students,key=Student.getage)\n",
    "print(type(mylist))\n",
    "print(\"Agewise sort\")\n",
    "for i in mylist:\n",
    "    print(i)\n",
    "\n",
    "mylist = sorted(students,key=Student.getname,reverse=True)\n",
    "\n",
    "print(type(mylist))\n",
    "print(\"Namewise descending order\")\n",
    "\n",
    "for i in mylist:\n",
    "    print(i)\n",
    "\n",
    "print(students)\n",
    "for i in students.keys():\n",
    "    print(i.name)\n",
    "\n",
    "for i,j in students.items():\n",
    "    print(i,\"\\t\",j)"
   ]
  },
  {
   "cell_type": "code",
   "execution_count": 156,
   "metadata": {},
   "outputs": [
    {
     "name": "stdout",
     "output_type": "stream",
     "text": [
      "Vishal    23\n",
      "Sachin    32\n",
      "Anand    26\n",
      "<class 'list'>\n",
      "Namewise sort\n",
      "Anand    26\n",
      "Sachin    32\n",
      "Vishal    23\n",
      "<class 'list'>\n",
      "Agewise sort\n",
      "Vishal    23\n",
      "Anand    26\n",
      "Sachin    32\n",
      "<class 'list'>\n",
      "Namewise descending order\n",
      "Vishal    23\n",
      "Sachin    32\n",
      "Anand    26\n"
     ]
    }
   ],
   "source": [
    "class Student:\n",
    "    def __init__(self,name,age):\n",
    "        self.name=name\n",
    "        self.age=age\n",
    "    def __str__(self):\n",
    "        return \"\"+ self.name+\"    \"+str(self.age)\n",
    "    def getname(self):\n",
    "        return self.name\n",
    "    def getage(self):\n",
    "        return self.age\n",
    "\n",
    "s1 = Student('Vishal',23)\n",
    "s2 = Student('Sachin',32)\n",
    "s3 = Student('Anand',26)\n",
    "\n",
    "students = {s1:100,s2:200,s3:50}\n",
    "\n",
    "for i in students:\n",
    "    print(i)\n",
    "\n",
    "mylist= sorted(students,key=Student.getname)\n",
    "\n",
    "print(type(mylist))\n",
    "print(\"Namewise sort\")\n",
    "for i in mylist:\n",
    "    print(i)\n",
    "\n",
    "mylist = sorted(students,key=Student.getage)\n",
    "print(type(mylist))\n",
    "print(\"Agewise sort\")\n",
    "for i in mylist:\n",
    "    print(i)\n",
    "\n",
    "mylist = sorted(students,key=Student.getname,reverse=True)\n",
    "\n",
    "print(type(mylist))\n",
    "print(\"Namewise descending order\")\n",
    "\n",
    "for i in mylist:\n",
    "    print(i)\n"
   ]
  },
  {
   "cell_type": "markdown",
   "metadata": {},
   "source": [
    "### **Comprehension**"
   ]
  },
  {
   "cell_type": "markdown",
   "metadata": {},
   "source": [
    "#### **List**"
   ]
  },
  {
   "cell_type": "markdown",
   "metadata": {},
   "source": [
    "Ex1"
   ]
  },
  {
   "cell_type": "code",
   "execution_count": 157,
   "metadata": {},
   "outputs": [
    {
     "name": "stdout",
     "output_type": "stream",
     "text": [
      "[4, 6, 8, 10, 12, 14, 16, 18]\n"
     ]
    }
   ],
   "source": [
    "# List comprehensions are used for creating new lists from\n",
    "# other iterables like tuples, strings, arrays, lists, etc.\n",
    "\n",
    "# A list comprehension consists of brackets containing the expression, \n",
    "# which is executed for each element along with the for loop to iterate over each # element. \n",
    "\n",
    "# list contains all even numbers between 4 to 20\n",
    "\n",
    "mylist = [i for i in range(4,20) if i%2 == 0]\n",
    "\n",
    "print(mylist)"
   ]
  },
  {
   "cell_type": "markdown",
   "metadata": {},
   "source": [
    "Ex2"
   ]
  },
  {
   "cell_type": "code",
   "execution_count": 158,
   "metadata": {},
   "outputs": [
    {
     "name": "stdout",
     "output_type": "stream",
     "text": [
      "[1, 9, 25, 49, 81, 121, 169]\n"
     ]
    }
   ],
   "source": [
    "mylist=[num**2 for num in range(1,15,2)]\n",
    "print(mylist)"
   ]
  },
  {
   "cell_type": "markdown",
   "metadata": {},
   "source": [
    "#### **Set**"
   ]
  },
  {
   "cell_type": "code",
   "execution_count": 25,
   "metadata": {},
   "outputs": [
    {
     "name": "stdout",
     "output_type": "stream",
     "text": [
      "{1, 2, 3, 4, 5, 6, 7, 8, 9, 10}\n",
      "{400, 250, 100, 300}\n",
      "{'hairoil', 'perfume', 'babysoap'}\n"
     ]
    }
   ],
   "source": [
    "myset={x for x in range(1,11)}\n",
    "print(myset)\n",
    "\n",
    "mydictionary={\"soap\":100,\"perfume\":300,\"deo\":400,\"hairoil\":250,\"babysoap\":100}\n",
    "\n",
    "myset1={x for x in mydictionary.values()}\n",
    "print(myset1)\n",
    "\n",
    "myset2={x for x in mydictionary.keys() if len(x)>5}\n",
    "print(myset2)"
   ]
  },
  {
   "cell_type": "markdown",
   "metadata": {},
   "source": [
    "#### **Dictionary**"
   ]
  },
  {
   "cell_type": "code",
   "execution_count": 28,
   "metadata": {},
   "outputs": [
    {
     "name": "stdout",
     "output_type": "stream",
     "text": [
      "{1: 1, 3: 9, 5: 25, 7: 49, 9: 81, 11: 121, 13: 169, 15: 225, 17: 289, 19: 361}\n"
     ]
    }
   ],
   "source": [
    "mydict={x:x**2 for x in range(1,20) if x%2!=0}\n",
    "print(mydict)"
   ]
  },
  {
   "cell_type": "code",
   "execution_count": 161,
   "metadata": {},
   "outputs": [
    {
     "name": "stdout",
     "output_type": "stream",
     "text": [
      "{'Soap': 100, 'Perfume': 300, 'Deo': 400, 'Hair Oil': 250}\n"
     ]
    }
   ],
   "source": [
    "products = [\"Soap\",\"Perfume\",\"Deo\",\"Hair Oil\"]\n",
    "prices=[100,300,400,250]\n",
    "mydict = {key:value for (key,value) in zip(products,prices)}\n",
    "print(mydict)"
   ]
  },
  {
   "cell_type": "markdown",
   "metadata": {},
   "source": [
    "#### **Tuple**"
   ]
  },
  {
   "cell_type": "code",
   "execution_count": 162,
   "metadata": {},
   "outputs": [
    {
     "name": "stdout",
     "output_type": "stream",
     "text": [
      "<generator object <genexpr> at 0x0000023CA8A3AA80>\n",
      "(1, 2, 3, 4, 5, 6, 7, 8, 9)\n",
      "<class 'tuple'>\n"
     ]
    }
   ],
   "source": [
    "\"\"\" In Python, there's no tuple comprehension.\n",
    "However, you can mimic the tuple comprehensions by running a generator expression inside tuple() function call. \n",
    " \"\"\"\n",
    "mytuple=(i for i in range(1,10))   # you are trying to do tuple Comprehension\n",
    "print(mytuple)  # it is a generator not a tuple\n",
    "mytuple1=tuple(i for i in range(1,10))  # we are converting generator to tuple\n",
    "print(mytuple1)    # it's a tuple now\n",
    "print(type(mytuple1))\n"
   ]
  }
 ],
 "metadata": {
  "kernelspec": {
   "display_name": "base",
   "language": "python",
   "name": "python3"
  },
  "language_info": {
   "codemirror_mode": {
    "name": "ipython",
    "version": 3
   },
   "file_extension": ".py",
   "mimetype": "text/x-python",
   "name": "python",
   "nbconvert_exporter": "python",
   "pygments_lexer": "ipython3",
   "version": "3.11.10"
  }
 },
 "nbformat": 4,
 "nbformat_minor": 2
}
