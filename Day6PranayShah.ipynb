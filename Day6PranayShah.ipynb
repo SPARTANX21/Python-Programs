{
 "cells": [
  {
   "cell_type": "markdown",
   "metadata": {},
   "source": [
    "# **Day6 - Pranay Shah**"
   ]
  },
  {
   "cell_type": "markdown",
   "metadata": {},
   "source": [
    "!pip install numpy"
   ]
  },
  {
   "cell_type": "markdown",
   "metadata": {},
   "source": [
    "**NumPy**   \n",
    "       \n",
    "        stands for Numerical Python and is used to perform a wide variety of mathematical operations on arrays. It adds powerful data structures to Python that guarantee efficient calculations with arrays and matrices and it supplies an enormous library of high-level mathematical functions that operate on these arrays and matrices.\n",
    "\n",
    "How to install NumPy?\n",
    "\n",
    "pip install numpy"
   ]
  },
  {
   "cell_type": "markdown",
   "metadata": {},
   "source": [
    "Ex1"
   ]
  },
  {
   "cell_type": "code",
   "execution_count": 2,
   "metadata": {},
   "outputs": [
    {
     "name": "stdout",
     "output_type": "stream",
     "text": [
      "[100 200 300 400]\n",
      "100\n",
      "200\n",
      "300\n",
      "400\n",
      "<class 'numpy.ndarray'>\n",
      "dimension of array is\t 1\n",
      "\n",
      "\n",
      "shape of array is\t (4,)\n"
     ]
    }
   ],
   "source": [
    "# create single dimensional array\n",
    "\n",
    "import numpy as np         #  here \"numpy\" is a module and \"np\" is an alias\n",
    "\n",
    "first=np.array([100,200,300,400])\n",
    "print(first)\n",
    "\n",
    "for i in range(0,first.__len__()):\n",
    "    print(first[i])\n",
    "\n",
    "print(type(first))\n",
    "print(\"dimension of array is\\t\",first.ndim)\n",
    "print(\"\\n\")\n",
    "print(\"shape of array is\\t\",first.shape)\n",
    "\n",
    "# first[4]=500     #  arrays are fixed"
   ]
  },
  {
   "cell_type": "code",
   "execution_count": null,
   "metadata": {},
   "outputs": [],
   "source": [
    "row = 6 \n",
    "\n",
    "for i in range(6):\n",
    "    print(' '*())"
   ]
  },
  {
   "cell_type": "code",
   "execution_count": 4,
   "metadata": {},
   "outputs": [
    {
     "name": "stdout",
     "output_type": "stream",
     "text": [
      "[10 20 30 40 50 70]\n",
      "10\n",
      "20\n",
      "30\n",
      "40\n",
      "50\n",
      "70\n"
     ]
    }
   ],
   "source": [
    "first = np.array([10,20,30,40,50,70])\n",
    "\n",
    "print(first)\n",
    "\n",
    "for i in range(0, first.__len__()):\n",
    "    print(first[i])"
   ]
  },
  {
   "cell_type": "markdown",
   "metadata": {},
   "source": [
    "Ex1a"
   ]
  },
  {
   "cell_type": "code",
   "execution_count": 6,
   "metadata": {},
   "outputs": [
    {
     "name": "stdout",
     "output_type": "stream",
     "text": [
      "[100 200 300 400]\n",
      "100\n",
      "200\n",
      "300\n",
      "400\n",
      "<class 'numpy.ndarray'>\n",
      "dimension of array is\t 1\n",
      "\n",
      "\n",
      "shape of array is\t (4,)\n"
     ]
    }
   ],
   "source": [
    "# create single dimensional array\n",
    "\n",
    "import numpy as np         #  here \"numpy\" is a module and \"np\" is an alias\n",
    "\n",
    "first=np.array((100,200,300,400))\n",
    "print(first) \n",
    "\n",
    "for i in range(0,first.__len__()):\n",
    "    print(first[i])\n",
    "\n",
    "print(type(first))\n",
    "print(\"dimension of array is\\t\",first.ndim)\n",
    "print(\"\\n\")\n",
    "print(\"shape of array is\\t\",first.shape)\n",
    "\n",
    "# first[4]=500     #  arrays are fixed\n",
    "\n"
   ]
  },
  {
   "cell_type": "markdown",
   "metadata": {},
   "source": [
    "Ex1b"
   ]
  },
  {
   "cell_type": "code",
   "execution_count": 7,
   "metadata": {},
   "outputs": [
    {
     "name": "stdout",
     "output_type": "stream",
     "text": [
      "['100' '3.4' 'hello' 'True']\n",
      "100\n",
      "3.4\n",
      "hello\n",
      "True\n",
      "<class 'numpy.ndarray'>\n",
      "dimension of array is\t 1\n",
      "\n",
      "\n",
      "shape of array is\t (4,)\n"
     ]
    }
   ],
   "source": [
    "# create single dimensional array\n",
    "\n",
    "import numpy as np         \n",
    "\n",
    "# The elements of a NumPy array can also be booleans, strings, or other objects.\n",
    "\n",
    "first=np.array([100,3.4,\"hello\",True])\n",
    "print(first)\n",
    "\n",
    "for i in range(0,first.__len__()):\n",
    "    print(first[i])\n",
    "\n",
    "print(type(first))\n",
    "print(\"dimension of array is\\t\",first.ndim)\n",
    "print(\"\\n\")\n",
    "print(\"shape of array is\\t\",first.shape)\n",
    "\n",
    "# first[4]=500     #  arrays are fixed\n",
    "\n"
   ]
  },
  {
   "cell_type": "markdown",
   "metadata": {},
   "source": [
    "Ex1c"
   ]
  },
  {
   "cell_type": "code",
   "execution_count": 8,
   "metadata": {},
   "outputs": [
    {
     "name": "stdout",
     "output_type": "stream",
     "text": [
      "[10 20 30 40]\n",
      "10\n",
      "40\n",
      "from the begining\n",
      "10\n",
      "20\n",
      "30\n",
      "40\n",
      "from the end\n",
      "40\n",
      "30\n",
      "20\n",
      "10\n"
     ]
    }
   ],
   "source": [
    "import numpy as k\n",
    "#indexing in numpy array\n",
    "\n",
    "arr1=k.array([10,20,30,40])\n",
    "print(arr1)\n",
    "print(arr1[0])\n",
    "print(arr1[-1])\n",
    "print(\"from the begining\")\n",
    "for i in range(0,arr1.__len__()):\n",
    "    print(arr1[i])\n",
    "print(\"from the end\")\n",
    "for i in range(-1,-(arr1.__len__()+1),-1):\n",
    "    print(arr1[i])"
   ]
  },
  {
   "cell_type": "markdown",
   "metadata": {},
   "source": [
    "Ex2"
   ]
  },
  {
   "cell_type": "code",
   "execution_count": 12,
   "metadata": {},
   "outputs": [
    {
     "name": "stdout",
     "output_type": "stream",
     "text": [
      "[0 1 2 3 4 5 6 7 8 9]\n",
      "[0 1 2 3 4]\n",
      "enter 5 numbers\n",
      "Displaying all the numbers\n",
      "10\n",
      "20\n",
      "304\n",
      "50\n",
      "60\n",
      "\n",
      "\n",
      "dimension of array is\t 1\n",
      "\n",
      "\n",
      "shape of array is\t (5,)\n"
     ]
    }
   ],
   "source": [
    "# How to accept input in the array\n",
    "\n",
    "import numpy as np\n",
    "\n",
    "first=np.arange(10)\n",
    "print(first)\n",
    "\n",
    "first=np.arange(5)\n",
    "print(first)\n",
    "\n",
    "print(\"enter 5 numbers\")\n",
    "for i in range(0,first.__len__()):\n",
    "    first[i]=int(input())\n",
    "\n",
    "print(\"Displaying all the numbers\")\n",
    "\n",
    "for i in range(0,first.__len__()):\n",
    "    print(first[i])\n",
    "\n",
    "print(\"\\n\")\n",
    "print(\"dimension of array is\\t\",first.ndim)\n",
    "\n",
    "print(\"\\n\")\n",
    "print(\"shape of array is\\t\",first.shape)\n"
   ]
  },
  {
   "cell_type": "markdown",
   "metadata": {},
   "source": [
    "Ex3"
   ]
  },
  {
   "cell_type": "code",
   "execution_count": 13,
   "metadata": {},
   "outputs": [
    {
     "name": "stdout",
     "output_type": "stream",
     "text": [
      "[[10 20 30]\n",
      " [40 50 60]]\n",
      "\n",
      "\n",
      "10 \t20 \t30 \t\n",
      "\n",
      "40 \t50 \t60 \t\n",
      "\n",
      "Type of the array is <class 'numpy.ndarray'>\n",
      "\n",
      "\n",
      "dimension of array is\t 2\n",
      "\n",
      "\n",
      "shape of array is\t (2, 3)\n"
     ]
    }
   ],
   "source": [
    "import numpy as np\n",
    "\n",
    "first=np.array([[10,20,30],[40,50,60]])    #  here we've passed list of list\n",
    "print(first)\n",
    "print(\"\\n\")\n",
    "for i in range(0,first.__len__()):\n",
    "    for j in range(0,first[i].__len__()):\n",
    "        print(first[i][j],\"\\t\",end=\"\")\n",
    "    print(\"\\n\")\n",
    "\n",
    "print(\"Type of the array is\",type(first))\n",
    "print(\"\\n\")\n",
    "print(\"dimension of array is\\t\",first.ndim)\n",
    "print(\"\\n\")\n",
    "print(\"shape of array is\\t\",first.shape)\n"
   ]
  },
  {
   "cell_type": "code",
   "execution_count": 15,
   "metadata": {},
   "outputs": [
    {
     "name": "stdout",
     "output_type": "stream",
     "text": [
      "[[1 2 3 4]\n",
      " [4 5 6 7]]\n"
     ]
    }
   ],
   "source": [
    "firts = np.array([[1,2,3,4],[4,5,6,7]])\n",
    "\n",
    "print(firts)\n"
   ]
  },
  {
   "cell_type": "markdown",
   "metadata": {},
   "source": [
    "Ex3a"
   ]
  },
  {
   "cell_type": "code",
   "execution_count": 23,
   "metadata": {},
   "outputs": [
    {
     "name": "stdout",
     "output_type": "stream",
     "text": [
      "how many rows\n",
      "how many cols\n",
      "Enter\t 4  values\n",
      "[[10 20 30 40]]\n",
      "\n",
      "\n",
      "[[10 20]\n",
      " [30 40]]\n"
     ]
    }
   ],
   "source": [
    "# how to accept values from user inside two-d array\n",
    "\n",
    "from numpy import *\n",
    "list=[]\n",
    "\n",
    "print(\"how many rows\")\n",
    "rownum=int(input(\"enter value for a row : \"))\n",
    "\n",
    "print(\"how many cols\")\n",
    "colnum=int((input(\"enter value for a column : \")))\n",
    "\n",
    "print(\"Enter\\t\",rownum*colnum,\" values\")\n",
    "for i in range(1,(rownum*colnum)+1):\n",
    "        num=int(input())\n",
    "        list.append(num)\n",
    "\n",
    "mainarray=array([list])\n",
    "print(mainarray)\n",
    "\n",
    "mainarray=mainarray.reshape(rownum,colnum)\n",
    "print(\"\\n\")\n",
    "print(mainarray)"
   ]
  },
  {
   "cell_type": "markdown",
   "metadata": {},
   "source": [
    "Ex4"
   ]
  },
  {
   "cell_type": "code",
   "execution_count": 24,
   "metadata": {},
   "outputs": [
    {
     "name": "stdout",
     "output_type": "stream",
     "text": [
      "[[0. 0. 0. 0.]]\n",
      "\n",
      "\n",
      "[[0. 0. 0. 0.]\n",
      " [0. 0. 0. 0.]\n",
      " [0. 0. 0. 0.]]\n"
     ]
    }
   ],
   "source": [
    "# initialize one-d array with zero\n",
    "\n",
    "import numpy as np\n",
    "first=np.zeros((1,4))                             # one row , 4 columns\n",
    "\n",
    "print(first)\n",
    "print(\"\\n\")\n",
    "\n",
    "# initialize two-d array with zeros\n",
    "\n",
    "second=np.zeros((3,4))                            # 3 rows and 4 columns\n",
    "\n",
    "print(second)"
   ]
  },
  {
   "cell_type": "markdown",
   "metadata": {},
   "source": [
    "Ex4a"
   ]
  },
  {
   "cell_type": "code",
   "execution_count": 25,
   "metadata": {},
   "outputs": [
    {
     "name": "stdout",
     "output_type": "stream",
     "text": [
      "[[1. 1. 1. 1.]]\n",
      "\n",
      "\n",
      "[[1. 1. 1. 1.]\n",
      " [1. 1. 1. 1.]\n",
      " [1. 1. 1. 1.]]\n"
     ]
    }
   ],
   "source": [
    "# initialize one-d and 2d array  with one  \n",
    "\n",
    "import numpy as np\n",
    "first=np.ones((1,4))                             # one row , 4 columns\n",
    "\n",
    "print(first)\n",
    "print(\"\\n\")\n",
    "\n",
    "# initialize two-d array with zeros\n",
    "\n",
    "second=np.ones((3,4))                            # 3 rows and 4 columns\n",
    "\n",
    "print(second)"
   ]
  },
  {
   "cell_type": "markdown",
   "metadata": {},
   "source": [
    "Ex5"
   ]
  },
  {
   "cell_type": "code",
   "execution_count": 26,
   "metadata": {},
   "outputs": [
    {
     "name": "stdout",
     "output_type": "stream",
     "text": [
      "[[20 20 20 20]]\n",
      "\n",
      "\n",
      "[[15 15]\n",
      " [15 15]\n",
      " [15 15]]\n"
     ]
    }
   ],
   "source": [
    "# initialize arrays with a specific number\n",
    "\n",
    "import numpy as np\n",
    "\n",
    "first=np.full((1,4),20)         #  1 row, 4 columns , all should be initialized with 20\n",
    "print(first)\n",
    "\n",
    "print(\"\\n\")\n",
    "\n",
    "second=np.full((3,2),15)        #  3 rows, 2 columns, all should be initialized with 15\n",
    "print(second)"
   ]
  },
  {
   "cell_type": "markdown",
   "metadata": {},
   "source": [
    "Ex6"
   ]
  },
  {
   "cell_type": "code",
   "execution_count": 27,
   "metadata": {},
   "outputs": [
    {
     "name": "stdout",
     "output_type": "stream",
     "text": [
      "[20 21 22 23 24]\n",
      "[10 12 14 16 18]\n"
     ]
    }
   ],
   "source": [
    "# arange to give range of numbers\n",
    "import numpy as np\n",
    "first=np.arange(20,25)    # here 25 is exclusive\n",
    "print(first)\n",
    "\n",
    "second=np.arange(10,20,2)       # start with 10, increment by 2 and here 20 is exclusive\n",
    "print(second)\n",
    "\n"
   ]
  },
  {
   "cell_type": "markdown",
   "metadata": {},
   "source": [
    "Ex7"
   ]
  },
  {
   "cell_type": "code",
   "execution_count": 28,
   "metadata": {},
   "outputs": [
    {
     "name": "stdout",
     "output_type": "stream",
     "text": [
      "[[10 20 30]\n",
      " [40 50 60]\n",
      " [70 80 90]]\n"
     ]
    }
   ],
   "source": [
    "\"\"\" If you only use the arange function, it will output a one-dimensional array. To make it a two-dimensional array, \n",
    "chain its output with the reshape function. \"\"\"\n",
    "\n",
    "import numpy as np\n",
    "first=np.arange(10,91,10).reshape(3,3)  # 3 rows,3 cols ,  10 to 90 values with 10 as a skip value\n",
    "print(first)\n"
   ]
  },
  {
   "cell_type": "markdown",
   "metadata": {},
   "source": [
    "Ex8"
   ]
  },
  {
   "cell_type": "code",
   "execution_count": 36,
   "metadata": {},
   "outputs": [
    {
     "name": "stdout",
     "output_type": "stream",
     "text": [
      "[['hello' 'hello' 'hello' 'hello']]\n",
      "\n",
      "\n",
      "['A' 'B' 'C' 'D' 'E' 'F']\n",
      "\n",
      "\n",
      "[['A' 'A']\n",
      " ['A' 'A']\n",
      " ['A' 'A']]\n"
     ]
    }
   ],
   "source": [
    "# array with strings and chars\n",
    "\n",
    "\n",
    "import numpy as np\n",
    "first=np.full((1,4),\"hello\")\n",
    "print(first)\n",
    "print(\"\\n\")\n",
    "second=np.array(['A','B','C','D','E','F'])\n",
    "print(second)\n",
    "print(\"\\n\")\n",
    "third=np.full((3,2),'A')\n",
    "print(third)\n"
   ]
  },
  {
   "cell_type": "markdown",
   "metadata": {},
   "source": [
    "Ex9"
   ]
  },
  {
   "cell_type": "code",
   "execution_count": 38,
   "metadata": {},
   "outputs": [
    {
     "name": "stdout",
     "output_type": "stream",
     "text": [
      "[38 90 61  1 89 18 50 86 78 94]\n",
      "Double Dimension array\n",
      "[[64 13  1 80]\n",
      " [72 53 19 92]\n",
      " [85 87 37 88]]\n"
     ]
    }
   ],
   "source": [
    "# initialize numpy array with random numbers\n",
    "import numpy as np\n",
    "first=np.random.randint(1,100,10)   # range for random numbers is 1 to 100 and 10 is how many random numbers to be generated\n",
    "print(first)\n",
    "print(\"Double Dimension array\")\n",
    "\n",
    "second=np.random.randint(1,100,12).reshape(3,4)\n",
    "print(second)"
   ]
  },
  {
   "cell_type": "markdown",
   "metadata": {},
   "source": [
    "Ex9a"
   ]
  },
  {
   "cell_type": "markdown",
   "metadata": {},
   "source": [
    "How are we getting same output on duifferent devices while using (random.randint seed )"
   ]
  },
  {
   "cell_type": "code",
   "execution_count": 48,
   "metadata": {},
   "outputs": [
    {
     "name": "stdout",
     "output_type": "stream",
     "text": [
      "[79 62 17 74  9 63 28 31 81  8 77 16]\n",
      "size of the array is\t 12\n"
     ]
    }
   ],
   "source": [
    "\"\"\" randint() function generates new set of random numbers everytime. If we want to fix the generation of random numbers,\n",
    "we should use \"seed()\" function by passing any number as an argument. \"\"\"\n",
    "\n",
    "from numpy import *\n",
    "\n",
    "random.seed(5)    # this can be any number  , try commenting this   \n",
    "\n",
    "first=random.randint(1,100,12)\n",
    "print(first)     # no matter how many times we execute the code, it will display same set of numbers\n",
    "print(\"size of the array is\\t\",first.size)\n",
    "\n"
   ]
  },
  {
   "cell_type": "markdown",
   "metadata": {},
   "source": [
    "Ex10"
   ]
  },
  {
   "cell_type": "markdown",
   "metadata": {},
   "source": [
    "REshape function returns new array, while shape function chnages the same array"
   ]
  },
  {
   "cell_type": "code",
   "execution_count": 51,
   "metadata": {},
   "outputs": [
    {
     "name": "stdout",
     "output_type": "stream",
     "text": [
      "2486621941232\n",
      "[100 200 300 400 500 600]\n",
      "(6,)\n",
      "\n",
      "let's check with double dimension array\n",
      "2486621941232\n",
      "[[10 20 30]\n",
      " [40 50 60]]\n",
      "(2, 3)\n",
      "\n",
      "Let's convert one-d array's shapes\n",
      "2486621941232\n",
      "[[100 200 300]\n",
      " [400 500 600]]\n",
      "Let's convert two-d array's shape\n",
      "2486621941232\n",
      "[[10 20]\n",
      " [30 40]\n",
      " [50 60]]\n",
      "2\n"
     ]
    }
   ],
   "source": [
    "# checking the shape of numpy array\n",
    "\n",
    "import numpy as np\n",
    "first=np.array([100,200,300,400,500,600])\n",
    "print(id(first))\n",
    "print(first)\n",
    "print(first.shape)\n",
    "print()\n",
    "\n",
    "print(\"let's check with double dimension array\")\n",
    "second=np.array([[10,20,30],[40,50,60]])\n",
    "print(id(first))\n",
    "print(second)\n",
    "print(second.shape)\n",
    "print()\n",
    "\n",
    "print(\"Let's convert one-d array's shapes\")\n",
    "first.shape=(2,3)\n",
    "print(id(first))\n",
    "print(first)\n",
    "print(\"Let's convert two-d array's shape\")\n",
    "second.shape=(3,2)\n",
    "print(id(first))\n",
    "print(second)\n",
    "print(second.ndim)"
   ]
  },
  {
   "cell_type": "markdown",
   "metadata": {},
   "source": [
    "Ex12"
   ]
  },
  {
   "cell_type": "code",
   "execution_count": 53,
   "metadata": {},
   "outputs": [
    {
     "name": "stdout",
     "output_type": "stream",
     "text": [
      "[ 4  8 15]\n"
     ]
    }
   ],
   "source": [
    "#  \"intersect1d()\" to find out common elements between two arrays\n",
    "\n",
    "import numpy as np\n",
    "first=np.array([4,5,8,12,15])\n",
    "second=np.array([11,15,4,8,9])\n",
    "third=np.intersect1d(first,second)\n",
    "print(third)\n"
   ]
  },
  {
   "cell_type": "markdown",
   "metadata": {},
   "source": [
    "Ex13"
   ]
  },
  {
   "cell_type": "code",
   "execution_count": 55,
   "metadata": {},
   "outputs": [
    {
     "name": "stdout",
     "output_type": "stream",
     "text": [
      "[15 32]\n",
      "\n",
      "\n",
      "[ 1  2  9 11]\n"
     ]
    }
   ],
   "source": [
    "#  \"setdiff1d()\" to find out unique elements in first array\n",
    "# result is always sorted\n",
    "\n",
    "import numpy as np\n",
    "first=np.array([4,25,8,32,15])\n",
    "second=np.array([11,25,1,2,4,8,9])\n",
    "third=np.setdiff1d(first,second)      #  unique elements inside \"first\"  array\n",
    "print(third)\n",
    "print(\"\\n\")\n",
    "fourth=np.setdiff1d(second,first)     # unique elements inside \"second\" array\n",
    "print(fourth)\n"
   ]
  },
  {
   "cell_type": "markdown",
   "metadata": {},
   "source": [
    "Ex26"
   ]
  },
  {
   "cell_type": "code",
   "execution_count": 57,
   "metadata": {},
   "outputs": [
    {
     "name": "stdout",
     "output_type": "stream",
     "text": [
      "[10 20 30 40 50 60 70]\n",
      "None\n",
      "[10 20 30 40 50 60 70]\n"
     ]
    }
   ],
   "source": [
    "# save and load numpy array\n",
    "import numpy as np\n",
    "\n",
    "first=np.array([10,20,30,40, 50,60,70])\n",
    "print(first)                    #  array will be printed\n",
    "np.save(\"myarray\",first)\n",
    "first=None\n",
    "print(first)                    # None, no need to worry, we can load the saved array\n",
    "second=np.load(\"myarray.npy\")   # extension \"npy\" mandatory\n",
    "print(second)"
   ]
  },
  {
   "cell_type": "markdown",
   "metadata": {},
   "source": [
    "2 d array \n",
    "\n",
    "     - set of no of 1 d arrats \n",
    "\n",
    "        - shape - 3.4\n",
    "\n",
    "3 d array \n",
    "\n",
    "    - set of 2d arrays\n",
    "\n",
    "            - shape - 2,3,4\n",
    "\n",
    "2 d array \n",
    "\n",
    "    - axis 0 = to chop something from top to bottom \n",
    "\n",
    "    - axis = 1 = to chop someting from left to right \n",
    "\n",
    "    - axis = 2 = not possible \n",
    "\n",
    "3 d array \n",
    "     \n",
    "     - axis = 0 = no o f 2 d array \n",
    "\n",
    "     - axis = 1 = is similaar tyo axis 0 of 2d array, ui.e.chopping something from top to bottom \n",
    "\n",
    "     - axis = 2 = is similar to axis 1 of 2d array, ir.r chopping something from left to right \n"
   ]
  },
  {
   "cell_type": "markdown",
   "metadata": {},
   "source": [
    "# **About Axis 1 and 2**\n",
    "Numpy_Folder\\About axis 0 ,1 and 2"
   ]
  },
  {
   "cell_type": "markdown",
   "metadata": {},
   "source": [
    "with 2d array example "
   ]
  },
  {
   "cell_type": "markdown",
   "metadata": {},
   "source": [
    "Sum() function \n",
    "\n",
    "\n",
    "in 2d array\n",
    "\n",
    "axis 0 means  \n",
    "\tchopping something from top to bottom\n",
    "\n",
    "axis 1 means\n",
    "\tchopping something from left to right"
   ]
  },
  {
   "cell_type": "code",
   "execution_count": 61,
   "metadata": {},
   "outputs": [
    {
     "name": "stdout",
     "output_type": "stream",
     "text": [
      "[[10 20 30]\n",
      " [40 50 60]\n",
      " [70 80 90]]\n",
      "\n",
      "entire sum\n",
      "450\n",
      "axis 0 sum = cols \n",
      "[120 150 180]\n",
      "axis 1 sum = rows\n",
      "[ 60 150 240]\n"
     ]
    }
   ],
   "source": [
    "import numpy  as np\n",
    "\n",
    "myar=np.array([[10,20,30],[40,50,60],[70,80,90]])\n",
    "\n",
    "print(myar)\n",
    "print()\n",
    "\n",
    "print(\"entire sum\")\n",
    "print(np.sum(myar))\n",
    "print(\"axis 0 sum = cols \")\n",
    "print(np.sum(myar,axis=0))  # chopping something from top to bottom\n",
    "print(\"axis 1 sum = rows\")\n",
    "print(np.sum(myar,axis=1))  # chopping something from left to right"
   ]
  },
  {
   "cell_type": "markdown",
   "metadata": {},
   "source": [
    "3d array \n",
    "\n",
    "in 3d array\n",
    "\n",
    "axis 0 means\n",
    "\tno. of 2d arrays\n",
    "\n",
    "axis 1 means  \n",
    "\tchopping something from top to bottom\n",
    "\n",
    "axis 2 means\n",
    "\tchopping something from left to right"
   ]
  },
  {
   "cell_type": "code",
   "execution_count": 66,
   "metadata": {},
   "outputs": [
    {
     "name": "stdout",
     "output_type": "stream",
     "text": [
      "[[[10 11 12]\n",
      "  [13 14 15]\n",
      "  [16 17 18]]\n",
      "\n",
      " [[19 20 21]\n",
      "  [22 23 24]\n",
      "  [25 26 27]]]\n",
      "Total sum =  333\n",
      "\n",
      "Axis 0 sum = \n",
      " [[29 31 33]\n",
      " [35 37 39]\n",
      " [41 43 45]]\n",
      "\n",
      "with axis 1\n",
      "Axis 1 sum sum = \n",
      " [[39 42 45]\n",
      " [66 69 72]]\n",
      "\n",
      "with axis 2\n",
      "Axis 0 sum = \n",
      " [[33 42 51]\n",
      " [60 69 78]]\n"
     ]
    }
   ],
   "source": [
    "import numpy  as np\n",
    "\n",
    "myar=np.array([10,11,12,13,14,15,16,17,18,19,20,21,22,23,24,25,26,27])\n",
    "\n",
    "myar.shape=(2,3,3)\n",
    "print(myar)\n",
    "\n",
    "print(\"Total sum = \",np.sum(myar))\n",
    "print()\n",
    "print(\"Axis 0 sum = \\n\",np.sum(myar,axis=0)) # put 2nd two d array after first 2d array and then sum\n",
    "\n",
    "print()\n",
    "print(\"with axis 1\")\n",
    "print(\"Axis 1 sum sum = \\n\",np.sum(myar,axis=1)) # it's like axis=0 in 2d array , chopping something from top to bottom within each 2d array\n",
    "\n",
    "print()\n",
    "print(\"with axis 2\")\n",
    "print(\"Axis 0 sum = \\n\", np.sum(myar,axis=2)) # it's like axis=1 in 2d array, chopping something from left to right within each 2d array\n"
   ]
  },
  {
   "cell_type": "markdown",
   "metadata": {},
   "source": [
    "## **All about stack**\n",
    "\n",
    "- Numpy_Folder\\Example_11_All_about_stack"
   ]
  },
  {
   "cell_type": "code",
   "execution_count": 120,
   "metadata": {},
   "outputs": [
    {
     "name": "stdout",
     "output_type": "stream",
     "text": [
      "G\n",
      "F\n",
      "G\n"
     ]
    },
    {
     "ename": "StopIteration",
     "evalue": "",
     "output_type": "error",
     "traceback": [
      "\u001b[1;31m---------------------------------------------------------------------------\u001b[0m",
      "\u001b[1;31mStopIteration\u001b[0m                             Traceback (most recent call last)",
      "Cell \u001b[1;32mIn[120], line 8\u001b[0m\n\u001b[0;32m      4\u001b[0m \u001b[38;5;28mprint\u001b[39m(\u001b[38;5;28mnext\u001b[39m(i))\n\u001b[0;32m      6\u001b[0m \u001b[38;5;28mprint\u001b[39m(\u001b[38;5;28mnext\u001b[39m(i))\n\u001b[1;32m----> 8\u001b[0m \u001b[38;5;28mprint\u001b[39m(\u001b[38;5;28;43mnext\u001b[39;49m\u001b[43m(\u001b[49m\u001b[43mi\u001b[49m\u001b[43m)\u001b[49m)\n",
      "\u001b[1;31mStopIteration\u001b[0m: "
     ]
    }
   ],
   "source": [
    "i = iter('GFG')\n",
    "\n",
    "print(next(i))\n",
    "print(next(i))\n",
    "\n",
    "print(next(i))\n",
    "\n",
    "print(next(i))\n",
    "\n"
   ]
  },
  {
   "cell_type": "code",
   "execution_count": 68,
   "metadata": {},
   "outputs": [
    {
     "name": "stdout",
     "output_type": "stream",
     "text": [
      "Let's print horizontal stack\n",
      "[10 20 30 40 50 60]\n",
      "1\n",
      "(6,)\n",
      "Let's print vertical stack\n",
      "[[10 20 30]\n",
      " [40 50 60]]\n",
      "2\n",
      "(2, 3)\n",
      "Let's print d stack\n",
      "[[[10 40]\n",
      "  [20 50]\n",
      "  [30 60]]]\n",
      "3\n",
      "(1, 3, 2)\n",
      "let's print axis-0 stack\n",
      "[[10 20 30]\n",
      " [40 50 60]]\n",
      "2\n",
      "(2, 3)\n",
      "let's print axis-1 stack\n",
      "[[10 40]\n",
      " [20 50]\n",
      " [30 60]]\n",
      "2\n",
      "(3, 2)\n"
     ]
    },
    {
     "data": {
      "text/plain": [
       "'\\n[[10 40]\\n [20 50]\\n [30 60]]\\n\\t\\tit like first array is taken and stacked at 0th column and second is stacked at 1st column\\n'"
      ]
     },
     "execution_count": 68,
     "metadata": {},
     "output_type": "execute_result"
    }
   ],
   "source": [
    "import numpy as np\n",
    "\n",
    "arr1= np.array([10,20,30])\n",
    "arr2=np.array([40,50,60])\n",
    "\n",
    "hstack1=np.hstack((arr1,arr2))\n",
    "print(\"Let's print horizontal stack\")\n",
    "print(hstack1)\n",
    "print(hstack1.ndim)\n",
    "print(hstack1.shape)\n",
    "\"\"\"\n",
    "[10 20 30 40 50 60]   horizontally stacked\n",
    "\"\"\"\n",
    "\n",
    "vstack1=np.vstack((arr1,arr2))\n",
    "print(\"Let's print vertical stack\")\n",
    "print(vstack1)\n",
    "print(vstack1.ndim)\n",
    "print(vstack1.shape)\n",
    "\"\"\"\n",
    "[[10 20 30]\n",
    " [40 50 60]]         vertically stacked\n",
    "\n",
    "\"\"\"\n",
    "dstack1=np.dstack((arr1,arr2))\n",
    "print(\"Let's print d stack\")\n",
    "print(dstack1)\n",
    "print(dstack1.ndim)\n",
    "print(dstack1.shape)\n",
    "\n",
    "\"\"\"\n",
    "[[[10 40]\n",
    "  [20 50]\n",
    "  [30 60]]]    depth i.e. 0th element of both the arrays will be joined ,\n",
    "  then 1st element of both the arrays will be joined and so on\n",
    "\"\"\"\n",
    "\n",
    "zerostack=np.stack((arr1,arr2),axis=0)  #  top to bottom\n",
    "print(\"let's print axis-0 stack\")\n",
    "print(zerostack)\n",
    "print(zerostack.ndim)\n",
    "print(zerostack.shape)\n",
    "\n",
    "\"\"\"\n",
    "[[10 20 30]\n",
    " [40 50 60]]  it's a double dimension array, first array is placed at 0th row and second at 1st row\n",
    "\n",
    "\"\"\"\n",
    "\n",
    "onestack=np.stack((arr1,arr2),axis=1)  #  left to right\n",
    "print(\"let's print axis-1 stack\")\n",
    "print(onestack)\n",
    "print(onestack.ndim)\n",
    "print(onestack.shape)\n",
    "\n",
    "\"\"\"\n",
    "[[10 40]\n",
    " [20 50]\n",
    " [30 60]]\n",
    "\t\tit like first array is taken and stacked at 0th column and second is stacked at 1st column\n",
    "\"\"\"\n",
    "\n",
    "#  np.stack((arr1,arr2),axis=2)  # not possible\n"
   ]
  },
  {
   "cell_type": "markdown",
   "metadata": {},
   "source": [
    "2d array "
   ]
  },
  {
   "cell_type": "code",
   "execution_count": 69,
   "metadata": {},
   "outputs": [
    {
     "name": "stdout",
     "output_type": "stream",
     "text": [
      "Let's print horizontal stack\n",
      "[[ 10  20  30  70  80  90]\n",
      " [ 40  50  60 100 110 120]]\n",
      "Let's print vertical stack\n",
      "[[ 10  20  30]\n",
      " [ 40  50  60]\n",
      " [ 70  80  90]\n",
      " [100 110 120]]\n",
      "Let's print d stack\n",
      "[[[ 10  70]\n",
      "  [ 20  80]\n",
      "  [ 30  90]]\n",
      "\n",
      " [[ 40 100]\n",
      "  [ 50 110]\n",
      "  [ 60 120]]]\n",
      "let's print axis-0 stack\n",
      "[[[ 10  20  30]\n",
      "  [ 40  50  60]]\n",
      "\n",
      " [[ 70  80  90]\n",
      "  [100 110 120]]]\n",
      "let's print axis-1 stack\n",
      "[[[ 10  20  30]\n",
      "  [ 70  80  90]]\n",
      "\n",
      " [[ 40  50  60]\n",
      "  [100 110 120]]]\n",
      "let's print axis-2 stack\n",
      "[[[ 10  70]\n",
      "  [ 20  80]\n",
      "  [ 30  90]]\n",
      "\n",
      " [[ 40 100]\n",
      "  [ 50 110]\n",
      "  [ 60 120]]]\n"
     ]
    },
    {
     "data": {
      "text/plain": [
       "'\\n\\nsince it is going to create 3d array, in 3d array third is no. of cols\\nhence 1st 2d arrays 0th row and 2nd 2d arrays 0th row are placed in the columns 0 and 1 respectively. Similarly 1st 2d arrays 1st row and 2nd 2d arrays 1st row are placed in the columns 0 and 1 respectively.\\n\\n\\n[[[ 10  70]\\n  [ 20  80]\\n  [ 30  90]]\\n\\n [[ 40 100]\\n  [ 50 110]\\n  [ 60 120]]]\\n\\n\\n'"
      ]
     },
     "execution_count": 69,
     "metadata": {},
     "output_type": "execute_result"
    }
   ],
   "source": [
    "import numpy as np\n",
    "\n",
    "arr1= np.array([[10,20,30],[40,50,60]])\n",
    "arr2=np.array([[70,80,90],[100,110,120]])\n",
    "\n",
    "hstack1=np.hstack((arr1,arr2))\n",
    "print(\"Let's print horizontal stack\")\n",
    "print(hstack1)\n",
    "\"\"\"\n",
    "[[ 10  20  30  70  80  90]     horizontally stacked\n",
    " [ 40  50  60 100 110 120]]\n",
    "\"\"\"\n",
    "vstack1=np.vstack((arr1,arr2))\n",
    "print(\"Let's print vertical stack\")\n",
    "print(vstack1)\n",
    "\"\"\"\n",
    "[[ 10  20  30]\t\t\tvertically stacked\n",
    " [ 40  50  60]\n",
    " [ 70  80  90]\n",
    " [100 110 120]]\n",
    "\n",
    "\"\"\"\n",
    "dstack1=np.dstack((arr1,arr2))\n",
    "print(\"Let's print d stack\")\n",
    "print(dstack1)\n",
    "\n",
    "\"\"\"\n",
    "[[[ 10  70]    first array's 0th element second's 0th element and so on....\n",
    "  [ 20  80]\n",
    "  [ 30  90]]\n",
    "\n",
    " [[ 40 100]\n",
    "  [ 50 110]\n",
    "  [ 60 120]]]\n",
    "\"\"\"\n",
    "\n",
    "zerostack=np.stack((arr1,arr2),axis=0)\n",
    "print(\"let's print axis-0 stack\")\n",
    "print(zerostack)\n",
    "\n",
    "\"\"\"\n",
    "since it is going to create 3d array, in 3d array first is no. of 2d arrays\n",
    "so both 2d arrays are just stacked one below another\n",
    "\n",
    "[[[ 10  20  30]\n",
    "  [ 40  50  60]]\n",
    "\n",
    " [[ 70  80  90]\n",
    "  [100 110 120]]]\n",
    "\"\"\"\n",
    "\n",
    "onestack=np.stack((arr1,arr2),axis=1)\n",
    "print(\"let's print axis-1 stack\")\n",
    "print(onestack)\n",
    "\n",
    "\"\"\"\n",
    "\n",
    "since it is going to create 3d array, in 3d array second is no. of rows\n",
    "so both 2d arrays 0th rows and 1st rows are stacked one below another\n",
    "\n",
    "[[[ 10  20  30]        # 0th row of first 2d array\n",
    "  [ 70  80  90]]       # 0th row of second 2d array\n",
    "\n",
    " [[ 40  50  60]        # 1st row of first 2d array\n",
    "  [100 110 120]]]      # 1st row of second 2d array\n",
    "\n",
    "\"\"\"\n",
    "\n",
    "twostack=np.stack((arr1,arr2),axis=2)\n",
    "print(\"let's print axis-2 stack\")\n",
    "print(twostack)\n",
    "\n",
    "\"\"\"\n",
    "\n",
    "since it is going to create 3d array, in 3d array third is no. of cols\n",
    "hence 1st 2d arrays 0th row and 2nd 2d arrays 0th row are placed in the columns 0 and 1 respectively. \n",
    "Similarly 1st 2d arrays 1st row and 2nd 2d arrays 1st row are placed in the columns 0 and 1 respectively.\n",
    "\n",
    "\n",
    "[[[ 10  70]\n",
    "  [ 20  80]\n",
    "  [ 30  90]]\n",
    "\n",
    " [[ 40 100]\n",
    "  [ 50 110]\n",
    "  [ 60 120]]]\n",
    "\n",
    "\n",
    "\"\"\""
   ]
  },
  {
   "cell_type": "markdown",
   "metadata": {},
   "source": [
    "One more example "
   ]
  },
  {
   "cell_type": "code",
   "execution_count": 70,
   "metadata": {},
   "outputs": [
    {
     "name": "stdout",
     "output_type": "stream",
     "text": [
      "this is hstack\n",
      "[[ 1  2  3  7  8  9 13 14 15]\n",
      " [ 4  5  6 10 11 12 16 17 18]]\n",
      "this is vstack\n",
      "[[ 1  2  3]\n",
      " [ 4  5  6]\n",
      " [ 7  8  9]\n",
      " [10 11 12]\n",
      " [13 14 15]\n",
      " [16 17 18]]\n",
      "this is dstack\n",
      "[[[ 1  7 13]\n",
      "  [ 2  8 14]\n",
      "  [ 3  9 15]]\n",
      "\n",
      " [[ 4 10 16]\n",
      "  [ 5 11 17]\n",
      "  [ 6 12 18]]]\n",
      "this is 0 stack\n",
      "[[[ 1  2  3]\n",
      "  [ 4  5  6]]\n",
      "\n",
      " [[ 7  8  9]\n",
      "  [10 11 12]]\n",
      "\n",
      " [[13 14 15]\n",
      "  [16 17 18]]]\n",
      "this is 1 stack\n",
      "[[[ 1  2  3]\n",
      "  [ 7  8  9]\n",
      "  [13 14 15]]\n",
      "\n",
      " [[ 4  5  6]\n",
      "  [10 11 12]\n",
      "  [16 17 18]]]\n",
      "this is 2 stack\n",
      "[[[ 1  7 13]\n",
      "  [ 2  8 14]\n",
      "  [ 3  9 15]]\n",
      "\n",
      " [[ 4 10 16]\n",
      "  [ 5 11 17]\n",
      "  [ 6 12 18]]]\n",
      "3\n",
      "(2, 3, 3)\n"
     ]
    }
   ],
   "source": [
    "import numpy as np\n",
    "\n",
    "arr1=np.array([[1,2,3],[4,5,6]])\n",
    "arr2=np.array([[7,8,9],[10,11,12]])\n",
    "arr3=np.array([[13,14,15],[16,17,18]])\n",
    "\n",
    "hstack=np.hstack((arr1,arr2,arr3))\n",
    "print(\"this is hstack\")\n",
    "print(hstack) # each 2d array's individual rows are stacked horizontally\n",
    "\n",
    "vstack=np.vstack((arr1,arr2,arr3))\n",
    "print(\"this is vstack\")\n",
    "print(vstack) # each 2d array is stacked vertically\n",
    "\n",
    "dstack=np.dstack((arr1,arr2,arr3))\n",
    "print(\"this is dstack\")\n",
    "print(dstack) # each 2d array's individual member is stacked together\n",
    "\n",
    "stack_0=np.stack((arr1,arr2,arr3),axis=0)\n",
    "print(\"this is 0 stack\")\n",
    "print(stack_0)  # in 3d array, axis 0 means no. of 2d arrays\n",
    "# here we have 3 2d arrays , so they are stacked one below other\n",
    "\n",
    "stack_1=np.stack((arr1,arr2,arr3),axis=1)\n",
    "print(\"this is 1 stack\")\n",
    "print(stack_1)  # in 3d array axis 1 is similar to axis 0 of 2d array\n",
    "# i.e. top to bottom\n",
    "# each 2d array's 0th rows are stacked from top to bottom , then 1st rows and so on\n",
    "\n",
    "stack_2=np.stack((arr1,arr2,arr3),axis=2)\n",
    "print(\"this is 2 stack\")\n",
    "print(stack_2) # in 3d array axis 2 is similar to axis 1 of 2d array\n",
    "# i.e. left to right\n",
    "# each 2d array's 0th row will be placed in the 0th column, 1st and 2nd column respectively\n",
    "# in the first generated 2d array\n",
    "# each 2d array's 1th row will be placed in the 0th column, 1st and 2nd column respectively\n",
    "# in the second generated 2d array.\n",
    "\n",
    "print(stack_2.ndim)\n",
    "print(stack_2.shape)"
   ]
  },
  {
   "cell_type": "markdown",
   "metadata": {},
   "source": [
    "# **Concat - numpy**"
   ]
  },
  {
   "cell_type": "markdown",
   "metadata": {},
   "source": [
    "Concate_Numpy"
   ]
  },
  {
   "cell_type": "code",
   "execution_count": 116,
   "metadata": {},
   "outputs": [
    {
     "name": "stdout",
     "output_type": "stream",
     "text": [
      "concat output\n",
      "[1 2 3 4]\n",
      "stack output\n",
      "[[1 2]\n",
      " [3 4]]\n"
     ]
    }
   ],
   "source": [
    "\"\"\" NumPy stack() vs. concatenate()\n",
    "\n",
    "the concatenate() function joins elements of two arrays along an existing axis while the stack() function joins the two arrays along a new axis. This means when we use \"stack\",the resulting array will have one more dimension than the input arrays.\n",
    " \"\"\"\n",
    "import numpy as np\n",
    "\n",
    "a = np.array([1,2])\n",
    "b = np.array([3,4])\n",
    "\n",
    "c = np.concatenate((a,b)) # return 1-D array                    \n",
    "d = np.stack((a,b)) # return 2-D array\n",
    "print(\"concat output\")\n",
    "print(c)\n",
    "print(\"stack output\")\n",
    "print(d)"
   ]
  },
  {
   "cell_type": "code",
   "execution_count": 72,
   "metadata": {},
   "outputs": [
    {
     "name": "stdout",
     "output_type": "stream",
     "text": [
      "[1 2 3 4 5 6]\n"
     ]
    }
   ],
   "source": [
    "# concate 1 d arrays\n",
    "\n",
    "import numpy as np\n",
    "arr1=np.array([1,2,3])\n",
    "arr2=np.array([4,5,6])\n",
    "arr3=np.concatenate((arr1,arr2)) #  it will make one single array containing arr1 and arr2 values\n",
    "print(arr3)    #  [1 2 3 4 5 6]\n"
   ]
  },
  {
   "cell_type": "code",
   "execution_count": 76,
   "metadata": {},
   "outputs": [
    {
     "name": "stdout",
     "output_type": "stream",
     "text": [
      "output of concat\n",
      "[[ 1  2  3]\n",
      " [ 4  5  6]\n",
      " [ 7  8  9]\n",
      " [10 11 12]]\n",
      "dimension of new array after concat function is\t 2\n",
      "shape of new array after concat function is\t (4, 3)\n",
      "\n",
      "\n",
      "output of stack\n",
      "[[[ 1  2  3]\n",
      "  [ 4  5  6]]\n",
      "\n",
      " [[ 7  8  9]\n",
      "  [10 11 12]]]\n",
      "dimension of new array after stack function is\t 3\n",
      "shape of new array after stack function is\t (2, 2, 3)\n",
      "\n",
      "[[[ 1  2  3]\n",
      "  [ 7  8  9]]\n",
      "\n",
      " [[ 4  5  6]\n",
      "  [10 11 12]]]\n",
      "dimension of new array after stack function is\t 3\n",
      "shape of new array after stack function is\t (2, 2, 3)\n"
     ]
    }
   ],
   "source": [
    "# concate and stack 2d arrays with axis=0\n",
    "# axis=0 means from top to bottom\n",
    "\n",
    "import numpy as np\n",
    "arr1=np.array([[1,2,3],[4,5,6]])\n",
    "arr2=np.array([[7,8,9],[10,11,12]])\n",
    "arr3=np.concatenate((arr1,arr2),axis=0) #  keep arr1 and arr2 one below other,and create 2d array\n",
    "print(\"output of concat\")\n",
    "print(arr3)    \n",
    "\n",
    "\"\"\"\n",
    "[[ 1  2  3]\n",
    " [ 4  5  6]\n",
    " [ 7  8  9]\n",
    " [10 11 12]]\n",
    "\n",
    "\"\"\"\n",
    "print(\"dimension of new array after concat function is\\t\",arr3.ndim)\n",
    "print(\"shape of new array after concat function is\\t\",arr3.shape)\n",
    "print()\n",
    "print()\n",
    "print(\"output of stack\")\n",
    "arr4=np.stack((arr1,arr2),axis=0)    #  keep arr1 and arr2 one below other,and create 3d array\n",
    "print(arr4)\n",
    "\n",
    "\"\"\"\n",
    "[[[ 1  2  3]\n",
    "  [ 4  5  6]]\n",
    "\n",
    " [[ 7  8  9]\n",
    "  [10 11 12]]]\n",
    "\n",
    "\"\"\"\n",
    "print(\"dimension of new array after stack function is\\t\",arr4.ndim)\n",
    "print(\"shape of new array after stack function is\\t\",arr4.shape)\n",
    "\n",
    "print()\n",
    "\n",
    "arr4=np.stack((arr1,arr2),axis=1) \n",
    "print(arr4)\n",
    "print(\"dimension of new array after stack function is\\t\",arr4.ndim)\n",
    "print(\"shape of new array after stack function is\\t\",arr4.shape)\n",
    "\n"
   ]
  },
  {
   "cell_type": "code",
   "execution_count": 78,
   "metadata": {},
   "outputs": [
    {
     "name": "stdout",
     "output_type": "stream",
     "text": [
      "2\n",
      "2\n",
      "[[[ 1  2  3]\n",
      "  [ 4  5  6]]\n",
      "\n",
      " [[ 7  8  9]\n",
      "  [10 11 12]]]\n",
      "3\n",
      "(2, 2, 3)\n",
      "*********\n",
      "[[[ 1  2  3]\n",
      "  [ 7  8  9]]\n",
      "\n",
      " [[ 4  5  6]\n",
      "  [10 11 12]]]\n",
      "3\n",
      "(2, 2, 3)\n",
      "*********\n",
      "[[[ 1  7]\n",
      "  [ 2  8]\n",
      "  [ 3  9]]\n",
      "\n",
      " [[ 4 10]\n",
      "  [ 5 11]\n",
      "  [ 6 12]]]\n",
      "3\n",
      "(2, 3, 2)\n",
      "[[ 1  2  3]\n",
      " [ 4  5  6]\n",
      " [ 7  8  9]\n",
      " [10 11 12]]\n",
      "2\n",
      "(4, 3)\n",
      "[[ 1  2  3  7  8  9]\n",
      " [ 4  5  6 10 11 12]]\n",
      "2\n",
      "(2, 6)\n"
     ]
    },
    {
     "ename": "AxisError",
     "evalue": "axis 2 is out of bounds for array of dimension 2",
     "output_type": "error",
     "traceback": [
      "\u001b[1;31m---------------------------------------------------------------------------\u001b[0m",
      "\u001b[1;31mAxisError\u001b[0m                                 Traceback (most recent call last)",
      "Cell \u001b[1;32mIn[78], line 70\u001b[0m\n\u001b[0;32m     60\u001b[0m \u001b[38;5;28mprint\u001b[39m(arr3\u001b[38;5;241m.\u001b[39mshape)\n\u001b[0;32m     62\u001b[0m \u001b[38;5;66;03m# [[ 1  2  3  7  8  9]\u001b[39;00m\n\u001b[0;32m     63\u001b[0m \u001b[38;5;66;03m#  [ 4  5  6 10 11 12]]\u001b[39;00m\n\u001b[0;32m     64\u001b[0m \n\u001b[0;32m     65\u001b[0m \t\u001b[38;5;66;03m# dimension 2  [ does not change the dimension of the resulting array which is correct as per \"concat\" method ]\u001b[39;00m\n\u001b[0;32m     66\u001b[0m \n\u001b[0;32m     67\u001b[0m \t\u001b[38;5;66;03m# shape - 2,6\u001b[39;00m\n\u001b[1;32m---> 70\u001b[0m arr3\u001b[38;5;241m=\u001b[39m\u001b[43mnp\u001b[49m\u001b[38;5;241;43m.\u001b[39;49m\u001b[43mconcatenate\u001b[49m\u001b[43m(\u001b[49m\u001b[43m(\u001b[49m\u001b[43marr1\u001b[49m\u001b[43m,\u001b[49m\u001b[43marr2\u001b[49m\u001b[43m)\u001b[49m\u001b[43m,\u001b[49m\u001b[43maxis\u001b[49m\u001b[38;5;241;43m=\u001b[39;49m\u001b[38;5;241;43m2\u001b[39;49m\u001b[43m)\u001b[49m \u001b[38;5;66;03m# it will not work, but let's assume it works. now let's see what is the side effect of this.\u001b[39;00m\n\u001b[0;32m     71\u001b[0m \u001b[38;5;28mprint\u001b[39m(arr3)\n\u001b[0;32m     72\u001b[0m \u001b[38;5;28mprint\u001b[39m(arr3\u001b[38;5;241m.\u001b[39mndim)\n",
      "\u001b[1;31mAxisError\u001b[0m: axis 2 is out of bounds for array of dimension 2"
     ]
    }
   ],
   "source": [
    "# with stack\n",
    "# axis 0,1 and 2 all are possible for stack in the following case\n",
    "\n",
    "\n",
    "import numpy as np\n",
    "arr1=np.array([[1,2,3],[4,5,6]])\n",
    "arr2=np.array([[7,8,9],[10,11,12]])\n",
    "print(arr1.ndim)\n",
    "print(arr2.ndim)\n",
    "arr3=np.stack((arr1,arr2),axis=0)\n",
    "print(arr3)\n",
    "print(arr3.ndim)\n",
    "print(arr3.shape)\n",
    "print(\"*********\")\n",
    "arr3=np.stack((arr1,arr2),axis=1)\n",
    "print(arr3)\n",
    "print(arr3.ndim)\n",
    "print(arr3.shape)\n",
    "print(\"*********\")\n",
    "arr3=np.stack((arr1,arr2),axis=2)\n",
    "print(arr3)\n",
    "print(arr3.ndim)\n",
    "print(arr3.shape)\n",
    "\n",
    "\n",
    "# with concat\n",
    "\n",
    "\n",
    "arr1=np.array([[1,2,3],[4,5,6]])\n",
    "arr2=np.array([[7,8,9],[10,11,12]])\n",
    "\n",
    "# in the above case \n",
    "# \tnp.stack\n",
    "# \t\taxis 0,axis 1 and axis 2 all are possible\n",
    "\n",
    "# \tnp.concat\n",
    "# \t\taxis 0 and axis 1 are possible\n",
    "# \t\tbut axis 2 is not possible,it says\n",
    "# \t\t\taxis 2 is out of bounds for array of dimension 2\n",
    "# \twhy it is so?\n",
    "\n",
    "arr3=np.concatenate((arr1,arr2),axis=0)\n",
    "print(arr3)\n",
    "print(arr3.ndim)\n",
    "print(arr3.shape)\n",
    "\n",
    "\n",
    "# [[ 1  2  3]\n",
    "#  [ 4  5  6]\n",
    "#  [ 7  8  9]\n",
    "#  [10 11 12]]\n",
    "\n",
    "\t# dimension 2  [ does not change the dimension of the resulting array which is correct as per \"concat\" method ]\n",
    "\t# shape - 4,3\n",
    "\n",
    "\n",
    "arr3=np.concatenate((arr1,arr2),axis=1)\n",
    "print(arr3)\n",
    "print(arr3.ndim)\n",
    "print(arr3.shape)\n",
    "\n",
    "# [[ 1  2  3  7  8  9]\n",
    "#  [ 4  5  6 10 11 12]]\n",
    "\n",
    "\t# dimension 2  [ does not change the dimension of the resulting array which is correct as per \"concat\" method ]\n",
    "\n",
    "\t# shape - 2,6\n",
    "\n",
    "\n",
    "arr3=np.concatenate((arr1,arr2),axis=2) # it will not work, but let's assume it works. now let's see what is the side effect of this.\n",
    "print(arr3)\n",
    "print(arr3.ndim)\n",
    "print(arr3.shape)\n",
    "\n",
    "\n",
    "# 1  7\n",
    "# 2  8\n",
    "# 3  9\n",
    "\n",
    "# 4  10\n",
    "# 5  11\n",
    "# 6  12\n",
    "\n",
    "# \tdimension 3  [ it will change the dimension of the resulting array which is not correct as per \"concat\" method. this should not happen that's why here \"axis-2\" gives error]\n",
    "# \tshape - 2,3,2"
   ]
  },
  {
   "cell_type": "markdown",
   "metadata": {},
   "source": [
    "# **Numpy_Folder\\Example_14_Numpy_Mathematical**"
   ]
  },
  {
   "cell_type": "markdown",
   "metadata": {},
   "source": [
    "Ex14"
   ]
  },
  {
   "cell_type": "code",
   "execution_count": 79,
   "metadata": {},
   "outputs": [
    {
     "name": "stdout",
     "output_type": "stream",
     "text": [
      "[50 70 90]\n",
      "\n",
      "\n",
      "\n",
      "[ 60 150]\n"
     ]
    }
   ],
   "source": [
    "# axis-0 for top to bottom sum\n",
    "# axis-1 for left to right sum\n",
    "\n",
    "import numpy as np\n",
    "\n",
    "first=np.array([10,20,30])\n",
    "second=np.array([40,50,60])\n",
    "third=np.sum((first,second),axis=0)     # top to bottom\n",
    "# [50 70 90]\n",
    "print(third)\n",
    "print(\"\\n\\n\")\n",
    "fourth=np.sum((first,second),axis=1)    # left to right\n",
    "# [ 60 150]\n",
    "print(fourth)\n",
    "\n"
   ]
  },
  {
   "cell_type": "code",
   "execution_count": 80,
   "metadata": {},
   "outputs": [
    {
     "name": "stdout",
     "output_type": "stream",
     "text": [
      "[10 14 34]\n",
      "[10 13 16 19]\n"
     ]
    }
   ],
   "source": [
    "# axis=0  top to bottom sum\n",
    "# axis=1  left to right sum\n",
    "\n",
    "import numpy as k\n",
    "arr=k.array([[1,2,3,4],\n",
    "             [2,3,4,5],\n",
    "             [7,8,9,10]])\n",
    "arr1=k.sum(arr,axis=1)   # left to right sum\n",
    "# 1+2+3+4   2+3+4+5   7+8+9+10\n",
    "print(arr1)\n",
    "\n",
    "arr2=k.sum(arr,axis=0)  # top to bottom sum\n",
    "# 1+2+7     2+3+8     3+4+9     4+5+10\n",
    "print(arr2)"
   ]
  },
  {
   "cell_type": "markdown",
   "metadata": {},
   "source": [
    "Ex14b"
   ]
  },
  {
   "cell_type": "code",
   "execution_count": null,
   "metadata": {},
   "outputs": [],
   "source": [
    "import numpy as np\n",
    "\n",
    "fourth=np.array([[10,20,30],[40,50,60]])\n",
    "fifth=np.array([[70,80,90],[100,110,120]])\n",
    "sixth=np.sum((fourth,fifth),axis=0)\n",
    "\"\"\"\n",
    "in case of 3d array axis 0 means no.of 2d arrays\n",
    "here we have 2 2d arrays , so in axis 0 what happens\n",
    "is second 2d array is placed behind 1st 2d array and sum is performed\n",
    "on each and every element i.e. 10 is added to 70, 20 is added to 80 and so on....\n",
    "\"\"\"\n",
    "print(sixth)\n",
    "\"\"\" [[ 80 100 120] \n",
    "     [140 160 180]] \"\"\"\n",
    "print(\"\\n\")\n",
    "eighth=np.sum((fourth,fifth),axis=1)\n",
    "\"\"\"\n",
    "in 3d array axis 1 is similar to axis 0 of 2d array i.e. top to bottom\n",
    "so each 2d arrays sum will be calculated based of top to bottom pattern\n",
    "it means 10 is added to 40, 20 is added to 50 and so..on\n",
    "\"\"\"\n",
    "print(eighth)\n",
    "\"\"\" [[ 50  70  90] \n",
    " [170 190 210]] \"\"\"\n",
    "print()\n",
    "ninth=np.sum((fourth,fifth),axis=2)\n",
    "\"\"\"\n",
    "in 3d array axis 2 means axis 1 of 2d array i.e. left to right\n",
    "so each 2d arrays sum will be calculated on left to right pattern\n",
    "it means 10+20+30   40+50+60   70+80+90   100+110+120 \n",
    "\"\"\"\n",
    "print(ninth)\n",
    "\"\"\" [[ 60 150]     \n",
    " [240 330]] \"\"\" "
   ]
  },
  {
   "cell_type": "markdown",
   "metadata": {},
   "source": [
    "Ex15"
   ]
  },
  {
   "cell_type": "code",
   "execution_count": null,
   "metadata": {},
   "outputs": [],
   "source": [
    "import numpy as np\n",
    "print(\"Let's try with 3 arrays\")\n",
    "a=np.array([[10,20,30],[40,50,60]])\n",
    "b=np.array([[70,80,90],[100,110,120]])\n",
    "c=np.array([[5,9,11],[15,17,18]])\n",
    "print(\"output of axis=0\")\n",
    "print(\"**************\")\n",
    "d=np.sum((a,b,c),axis=0)      \n",
    "print(d)\n",
    "\"\"\" [[ 85 109 131]  \n",
    " [155 177 198]] \"\"\" \n",
    "print(\"output of axis=1\")\n",
    "print(\"*************\")\n",
    "e=np.sum((a,b,c),axis=1)\n",
    "print(e)\n",
    "\"\"\" [[ 50  70  90]  \n",
    " [170 190 210]  \n",
    " [ 20  26  29]] \"\"\"\n",
    "print(\"output of axis=2\")\n",
    "print(\"************\")\n",
    "f=np.sum((a,b,c),axis=2)\n",
    "print(f)\n",
    "\"\"\" [[ 60 150]\n",
    " [240 330]\n",
    " [ 25  50]] \"\"\""
   ]
  },
  {
   "cell_type": "markdown",
   "metadata": {},
   "source": [
    "# **Sort Numpy**\n",
    "\n",
    "- Numpy_Folder\\Sort_NumPy"
   ]
  },
  {
   "cell_type": "code",
   "execution_count": 81,
   "metadata": {},
   "outputs": [
    {
     "name": "stdout",
     "output_type": "stream",
     "text": [
      "Array before sorting [12 15 10  1]\n",
      "Array after sorting [ 1 10 12 15]\n"
     ]
    }
   ],
   "source": [
    "import numpy as np\n",
    " \n",
    "a = np.array([12, 15, 10, 1])\n",
    "print(\"Array before sorting\",a)\n",
    "a.sort()\n",
    "print(\"Array after sorting\",a)"
   ]
  },
  {
   "cell_type": "code",
   "execution_count": 82,
   "metadata": {},
   "outputs": [
    {
     "name": "stdout",
     "output_type": "stream",
     "text": [
      "\n",
      "Along None axis : \n",
      " [12 18 25 30]\n"
     ]
    }
   ],
   "source": [
    "import numpy as np\n",
    "\n",
    "# sort without any axis\n",
    "\n",
    "a = np.array([[12, 25], [30, 18]])\n",
    "arr1 = np.sort(a, axis=None)\n",
    "print(\"\\nAlong None axis : \\n\", arr1)\n"
   ]
  },
  {
   "cell_type": "code",
   "execution_count": 83,
   "metadata": {},
   "outputs": [
    {
     "name": "stdout",
     "output_type": "stream",
     "text": [
      "Along 0 axis : \n",
      " [[12 18]\n",
      " [30 25]]\n"
     ]
    }
   ],
   "source": [
    "# sort along the first axis\n",
    "a = np.array([[12, 25], [30, 18]])\n",
    "arr1 = np.sort(a, axis=0) # top to bottom\n",
    "# 12 will be compared with 30, 25 will be compared with 18\n",
    "print(\"Along 0 axis : \\n\", arr1)"
   ]
  },
  {
   "cell_type": "markdown",
   "metadata": {},
   "source": [
    "here for descending order we have said\n",
    "\n",
    "\n",
    "a = np.array([[12, 25], [30, 18]])\n",
    "\n",
    "print(\"Reverse order axis 0\\n\")\n",
    "arr1 = -np.sort(-a, axis=0)\n",
    "print(arr1)\n",
    "\n",
    "why two minus(-) signs are required here? one for np.sort and other for \"a\"\n",
    "\n",
    "\n",
    "\n",
    "\n",
    "First Minus (-a): This negates the elements of the array a. So, for example, the array [[12, 25], [30, 18]] becomes [[-12, -25], [-30, -18]]. \n",
    "This transformation effectively flips the values, allowing larger original values to become smaller (in terms of their negated values).\n",
    "\n",
    "\n",
    "\n",
    "np.sort(-a, axis=0): Now, when you apply np.sort to the negated array, it sorts the values in ascending order. \n",
    "For the transformed array, this means the larger original values will appear first.\n",
    "\n",
    "\n",
    "\n",
    "Second Minus (-np.sort(-a, axis=0)): Finally, you negate the sorted result again to return it to the original scale. This gives you the values in descending order."
   ]
  },
  {
   "cell_type": "code",
   "execution_count": null,
   "metadata": {},
   "outputs": [],
   "source": [
    "\n",
    "a = np.array([[12, 25], [30, 18]])\n",
    "arr1 = np.sort(a, axis=1) # left to right\n",
    "# 12 will be compared to 25, 30 will be compared to 18\n",
    "print(\"\\nAlong 1 axis : \\n\", arr1)\n",
    "\n",
    "print(\"Reverse order top to bottom\\n\")\n",
    "arr1 = -np.sort(-a, axis=0)\n",
    "print(arr1)\n",
    "\n",
    "\n",
    "print(\"Reverse order left to right\\n\")\n",
    "arr1 = -np.sort(-a, axis=1)\n",
    "print(arr1)\n",
    "\n",
    "\n",
    "print(\"****************\")\n",
    "\n",
    "\n",
    "myar = np.array([[[10, 20, 30], [4, 50, 6]], [[70, 8, 90], [65, 110, 12]]])\n",
    "print(myar)\n",
    "print(\"Ascending order 3d array axis 0\")\n",
    "arr1 = np.sort(myar, axis=0)\n",
    "\n",
    "\n",
    "\"\"\"\n",
    "in 3d array axis 0 means no. of 2d arrays. Since we have 2 2d arrays\n",
    "each and every element of 1st 2d array will be compared with 2nd 2d array\n",
    "\n",
    "10 will be compared with 70, 20 will be with 8, 30 will be with 90\n",
    "4 will be with 65, 50 will be with 110, 6 will be with 12\n",
    "\"\"\"\n",
    "\n",
    "print(arr1)\n",
    "print(\"Ascending order 3d array axis 1\")\n",
    "arr1 = np.sort(myar, axis=1)\n",
    "\n",
    "\"\"\" \n",
    "in 3d array axis 1 means axis 0 of 2d array i.e. top to bottom\n",
    "so in each 2d array elements will be compared on top to bottom basis\n",
    "i.e.\n",
    "10 will be compared with 4, 20 will be with 50, 30 will be compared with 6\n",
    "70 will be compared with 65, 8 will be compared with 110, 90 will be compared with 12\"\"\"\n",
    "\n",
    "print(arr1)\n",
    "\n",
    "print(\"Ascending order 3d array axis 2\")\n",
    "arr1 = np.sort(myar, axis=2)\n",
    "\n",
    "\"\"\"\n",
    "in 3d array axis 2 means axis 1 of 2d array which means left to right\n",
    "so each individual array of each 2d array will be compared from left to right\n",
    "i.e. 10 will be compared with 20 and 30\n",
    "4 will be compared with 50 and 60\n",
    "and so on....\n",
    "\"\"\"\n",
    "print(arr1)\n",
    "print(\"Reverse order 3d array axis 0\\n\")\n",
    "arr1 = -np.sort(-myar, axis=0)\n",
    "print(arr1)\n",
    "print(\"Reverse order 3d array axis 1\\n\")\n",
    "\n",
    "arr1 = -np.sort(-myar, axis=1)\n",
    "print(arr1)\n",
    "print(\"Reverse order 3d array axis 2\\n\")\n",
    "\n",
    "arr1 = -np.sort(-myar, axis=2)\n",
    "print(arr1)"
   ]
  },
  {
   "cell_type": "markdown",
   "metadata": {},
   "source": [
    "# **Indexing - slicing - 1d array**"
   ]
  },
  {
   "cell_type": "code",
   "execution_count": 84,
   "metadata": {},
   "outputs": [
    {
     "name": "stdout",
     "output_type": "stream",
     "text": [
      "10 \t 20 \t 30 \t 40\n",
      "\n",
      "\n",
      "40 \t 30 \t 20 \t 10\n"
     ]
    }
   ],
   "source": [
    "from numpy import *\n",
    "\n",
    "first=array([10,20,30,40])\n",
    "# indexing from left to right\n",
    "\n",
    "print(first[0],\"\\t\",first[1],\"\\t\",first[2],\"\\t\",first[3])\n",
    "\n",
    "# indexing from right to left\n",
    "\n",
    "print(\"\\n\")\n",
    "print(first[-1],\"\\t\",first[-2],\"\\t\",first[-3],\"\\t\",first[-4])"
   ]
  },
  {
   "cell_type": "code",
   "execution_count": 85,
   "metadata": {},
   "outputs": [
    {
     "name": "stdout",
     "output_type": "stream",
     "text": [
      "[10 20 30 40 50 60]\n",
      "\n",
      "\n",
      "after slicing\n",
      "[30 40]\n",
      "\n",
      "\n",
      "[20 40]\n",
      "\n",
      "\n",
      "[40 50 60]\n",
      "\n",
      "\n",
      "[10 20 30 40]\n",
      "\n",
      "\n",
      "[50 60]\n",
      "\n",
      "\n",
      "[10 20 30 40]\n",
      "\n",
      "\n",
      "[30 40 50]\n"
     ]
    }
   ],
   "source": [
    "from numpy import *\n",
    "\n",
    "first=array([10,20,30,40,50,60])\n",
    "print(first)\n",
    "print(\"\\n\")\n",
    "second=first[2:4]    #  4 is exclusive\n",
    "print(\"after slicing\")\n",
    "print(second)\n",
    "third=first[1:5:2]     #  2 is a skip value,  if not given it is by default 1\n",
    "print(\"\\n\")\n",
    "print(third)\n",
    "fourth=first[3:]       #  start from the 3rd position and go till end\n",
    "print(\"\\n\")\n",
    "print(fourth)\n",
    "print(\"\\n\")\n",
    "fifth=first[:4]        #  start from 0 and go till 3 ,  4 is exclusive\n",
    "print(fifth)\n",
    "sixth=first[-2:]       #  last two elements   , start from second last and go till end\n",
    "print(\"\\n\")\n",
    "print(sixth)\n",
    "print(\"\\n\")\n",
    "seventh=first[:-2]     # start from zero and go till second last,   second last is exclusive\n",
    "print(seventh)\n",
    "eighth=first[-4:-1]    # start from -4 i.e. number 30  and go till last , last is exclusive\n",
    "print(\"\\n\")\n",
    "print(eighth)"
   ]
  },
  {
   "cell_type": "markdown",
   "metadata": {},
   "source": [
    "# **Indexing - slicing - 2d array**"
   ]
  },
  {
   "cell_type": "code",
   "execution_count": 86,
   "metadata": {},
   "outputs": [
    {
     "name": "stdout",
     "output_type": "stream",
     "text": [
      "from left to right\n",
      "10\n",
      "20\n",
      "30\n",
      "40\n",
      "50\n",
      "60\n",
      "70\n",
      "80\n",
      "90\n",
      "from right to left\n",
      "90\n",
      "80\n",
      "70\n",
      "60\n",
      "50\n",
      "40\n",
      "30\n",
      "20\n",
      "10\n"
     ]
    }
   ],
   "source": [
    "from numpy import *\n",
    "\n",
    "first=array([[10,20,30],[40,50,60],[70,80,90]])\n",
    "print(\"from left to right\")\n",
    "print(first[0][0])\n",
    "print(first[0][1])\n",
    "print(first[0][2])\n",
    "print(first[1][0])\n",
    "print(first[1][1])\n",
    "print(first[1][2])\n",
    "print(first[2][0])\n",
    "print(first[2][1])\n",
    "print(first[2][2])\n",
    "print(\"from right to left\")\n",
    "print(first[-1][-1])\n",
    "print(first[-1][-2])\n",
    "print(first[-1][-3])\n",
    "print(first[-2][-1])\n",
    "print(first[-2][-2])\n",
    "print(first[-2][-3])\n",
    "print(first[-3][-1])\n",
    "print(first[-3][-2])\n",
    "print(first[-3][-3])\n"
   ]
  },
  {
   "cell_type": "markdown",
   "metadata": {},
   "source": [
    "slicing 1 "
   ]
  },
  {
   "cell_type": "code",
   "execution_count": 87,
   "metadata": {},
   "outputs": [
    {
     "name": "stdout",
     "output_type": "stream",
     "text": [
      "[[10 20 30]\n",
      " [40 50 60]]\n",
      "[[20 30]\n",
      " [50 60]]\n"
     ]
    }
   ],
   "source": [
    "from numpy import *\n",
    "\n",
    "first=array([[10,20,30],[40,50,60],[70,80,90]])\n",
    "# slicing syntax\n",
    "#  arrayname [row range,col range]\n",
    "\n",
    "second=first[:2]     # start from 0th row and go till 2nd row,   2 is exclusive  this is only for row as you haven't given column\n",
    "\n",
    "print(second)\n",
    "\n",
    "third=first[:2,1:3]  #  row 0 to 1    column 1 to 2  , 3 is exclusive\n",
    "print(third)"
   ]
  },
  {
   "cell_type": "markdown",
   "metadata": {},
   "source": [
    "Slicing 2 "
   ]
  },
  {
   "cell_type": "code",
   "execution_count": 88,
   "metadata": {},
   "outputs": [
    {
     "name": "stdout",
     "output_type": "stream",
     "text": [
      "array created is\n",
      "[[452 341 498 362 134]\n",
      " [475 137 340 361 192]\n",
      " [ 49 366  86 317 434]\n",
      " [116 459 156 109 270]\n",
      " [394  62 144 350 355]\n",
      " [316  19 271 103 350]]\n",
      "from the 2nd row\n",
      "[[ 49 366  86 317 434]\n",
      " [116 459 156 109 270]\n",
      " [394  62 144 350 355]\n",
      " [316  19 271 103 350]]\n",
      "\n",
      "\n",
      "[317 109 350 103]\n",
      "\n",
      "\n",
      "[[ 86 317 434]\n",
      " [156 109 270]\n",
      " [144 350 355]\n",
      " [271 103 350]]\n",
      "\n",
      "\n",
      "[[459]\n",
      " [ 62]\n",
      " [ 19]]\n",
      "\n",
      "\n",
      "[[340 361]\n",
      " [ 86 317]\n",
      " [156 109]]\n",
      "\n",
      "\n",
      "[[459 156 109]]\n"
     ]
    }
   ],
   "source": [
    "from numpy import *\n",
    "\n",
    "random.seed(8)\n",
    "first=random.randint(1,500,30).reshape(6,5)\n",
    "print(\"array created is\")\n",
    "print(first)\n",
    "print(\"from the 2nd row\")\n",
    "print(first[2:])            #  from 2nd row\n",
    "print(\"\\n\")\n",
    "print(first[2:,3])          #  from 2nd row and only 3rd column\n",
    "print(\"\\n\")\n",
    "print(first[2:,2:])         #  from 2nd row and from 2nd column\n",
    "# let's extract  459  62  and 19\n",
    "print(\"\\n\")\n",
    "print(first[3:,1:2])\n",
    "# let's extract 340 361 86 317 156 and 109\n",
    "print(\"\\n\")\n",
    "print(first[1:4,2:4])\n",
    "print(\"\\n\")\n",
    "# let's extract  459  156  and 109\n",
    "print(first[3:4,1:4])"
   ]
  },
  {
   "cell_type": "markdown",
   "metadata": {},
   "source": [
    "# **Filtering in numpy**\n",
    "\n",
    "1) Using mask [ based on multiple conditions]\n",
    "\n",
    "2) Iterative method\n",
    "\n",
    "3) Using lambda"
   ]
  },
  {
   "cell_type": "markdown",
   "metadata": {},
   "source": [
    "Ex1"
   ]
  },
  {
   "cell_type": "code",
   "execution_count": 89,
   "metadata": {},
   "outputs": [
    {
     "name": "stdout",
     "output_type": "stream",
     "text": [
      "[ 5  8  9 11 12 16]\n",
      "[ 5  9 12]\n"
     ]
    }
   ],
   "source": [
    "import numpy as np\n",
    "\n",
    "arr = np.array([5,8,9,11,12,16])\n",
    "print(arr)\n",
    "print(arr[[True,False,True,False,True,False]])\n"
   ]
  },
  {
   "cell_type": "markdown",
   "metadata": {},
   "source": [
    "Ex2"
   ]
  },
  {
   "cell_type": "code",
   "execution_count": 90,
   "metadata": {},
   "outputs": [
    {
     "name": "stdout",
     "output_type": "stream",
     "text": [
      "[ 5  8  9 11 12 16]\n"
     ]
    }
   ],
   "source": [
    "import numpy as np\n",
    "\n",
    "arr = np.array([5,8,9,11,12,16])\n",
    "print(arr)\n"
   ]
  },
  {
   "cell_type": "code",
   "execution_count": 91,
   "metadata": {},
   "outputs": [
    {
     "name": "stdout",
     "output_type": "stream",
     "text": [
      "[False  True False False  True  True]\n"
     ]
    }
   ],
   "source": [
    "\n",
    "print(arr%4==0)  #  it prints  [False  True False False  True  True]\n"
   ]
  },
  {
   "cell_type": "code",
   "execution_count": 92,
   "metadata": {},
   "outputs": [
    {
     "name": "stdout",
     "output_type": "stream",
     "text": [
      "[ 8 12 16]\n"
     ]
    }
   ],
   "source": [
    "\n",
    "print(arr[(arr%4==0)]) # it's like arr[[False  True False False  True  True]]\n"
   ]
  },
  {
   "cell_type": "code",
   "execution_count": 93,
   "metadata": {},
   "outputs": [
    {
     "name": "stdout",
     "output_type": "stream",
     "text": [
      "[ 9 11 12]\n"
     ]
    }
   ],
   "source": [
    "\n",
    "print(arr[(arr>=9) & (arr<=15)])\n"
   ]
  },
  {
   "cell_type": "code",
   "execution_count": 94,
   "metadata": {},
   "outputs": [
    {
     "name": "stdout",
     "output_type": "stream",
     "text": [
      "[ 9 11 12]\n"
     ]
    }
   ],
   "source": [
    "\n",
    "print(arr[(arr%3==0) | (arr%11==0)])\n"
   ]
  },
  {
   "cell_type": "code",
   "execution_count": 99,
   "metadata": {},
   "outputs": [
    {
     "name": "stdout",
     "output_type": "stream",
     "text": [
      "[ 9 11 12]\n",
      "[ 5  8  9 11 12 16]\n",
      "[ True False False False  True False]\n",
      "*****************\n",
      "[ 5 12]\n"
     ]
    }
   ],
   "source": [
    "\n",
    "print(arr[(arr%3==0) | (arr%11==0)])\n",
    "\n",
    "arr = np.array([5,8,9,11,12,16])\n",
    "print(arr)\n",
    "#filter for values that are equal to 2, 3, 5, or 12\n",
    "print(np.isin(arr,[2, 3, 5, 12]))\n",
    "print(\"*****************\")\n",
    "\n",
    "print(arr[np.isin(arr,[2, 3, 5, 12])])\n"
   ]
  },
  {
   "cell_type": "markdown",
   "metadata": {},
   "source": [
    "Ex3"
   ]
  },
  {
   "cell_type": "code",
   "execution_count": 100,
   "metadata": {},
   "outputs": [
    {
     "name": "stdout",
     "output_type": "stream",
     "text": [
      "Original array\n",
      "[10 11 12 13 14 15 16 17 18 19 20 21 22 23 24 25 26 27 28 29 30 31 32 33\n",
      " 34 35 36 37 38 39 40 41 42 43 44 45 46 47 48 49]\n",
      "New array\n",
      "[24 26 28 30 32 34 36 38 40 42 44 46 48]\n"
     ]
    }
   ],
   "source": [
    "# Using mask\n",
    "\n",
    "import numpy as np\n",
    " \n",
    "# making a numpy array\n",
    "array1 = np.array([num for num in range(10, 50)])\n",
    " \n",
    "print(\"Original array\")\n",
    "print(array1)\n",
    " \n",
    "# defining mask based on two conditions:\n",
    "# array element must be greater than 22\n",
    "# and must be a divisible by 2\n",
    "mask = (array1 > 22) & (array1 % 2 == 0)\n",
    " \n",
    "# making new array on conditions\n",
    "array2 = array1[mask]\n",
    "print(\"New array\")\n",
    "print(array2)"
   ]
  },
  {
   "cell_type": "markdown",
   "metadata": {},
   "source": [
    "Using iterative method"
   ]
  },
  {
   "cell_type": "code",
   "execution_count": 101,
   "metadata": {},
   "outputs": [
    {
     "name": "stdout",
     "output_type": "stream",
     "text": [
      "Original array\n",
      "[11 12 13 14 15 16 17 18 19 20 21 22 23 24 25 26 27 28 29 30 31 32 33 34\n",
      " 35 36 37 38 39]\n",
      "New array\n",
      "[16 18 20 22 24 26 28 30 32 34 36 38]\n"
     ]
    }
   ],
   "source": [
    "# Using iterative method\n",
    "\n",
    "import numpy as np\n",
    " \n",
    "# making a numpy array\n",
    "array1 = np.array([x for x in range(11, 40)])\n",
    " \n",
    "print(\"Original array\")\n",
    "print(array1)\n",
    " \n",
    "# making a blank list\n",
    "mylist = []\n",
    " \n",
    "for x in array1:\n",
    "    # applying two conditions: number is divisible by 2 and is greater than 15\n",
    "    if x % 2 == 0 and x > 15:\n",
    "       mylist.append(x)\n",
    "\n",
    "# Converting new list into numpy array\n",
    "array2 = np.array(mylist)\n",
    "print(\"New array\")\n",
    "print(array2)"
   ]
  },
  {
   "cell_type": "markdown",
   "metadata": {},
   "source": [
    "uising lambda"
   ]
  },
  {
   "cell_type": "code",
   "execution_count": 105,
   "metadata": {},
   "outputs": [
    {
     "name": "stdout",
     "output_type": "stream",
     "text": [
      "Original array\n",
      "[ 1  2  3  4  5  6  7  8  9 10 11 12 13 14 15 16 17 18 19 20 21 22 23 24\n",
      " 25 26 27 28 29]\n"
     ]
    },
    {
     "ename": "TypeError",
     "evalue": "'list' object is not callable",
     "output_type": "error",
     "traceback": [
      "\u001b[1;31m---------------------------------------------------------------------------\u001b[0m",
      "\u001b[1;31mTypeError\u001b[0m                                 Traceback (most recent call last)",
      "Cell \u001b[1;32mIn[105], line 12\u001b[0m\n\u001b[0;32m      9\u001b[0m \u001b[38;5;28mprint\u001b[39m(array1)\n\u001b[0;32m     11\u001b[0m \u001b[38;5;66;03m# using lambda to apply condition\u001b[39;00m\n\u001b[1;32m---> 12\u001b[0m mylist \u001b[38;5;241m=\u001b[39m \u001b[38;5;28;43mlist\u001b[39;49m\u001b[43m(\u001b[49m\u001b[38;5;28;43mfilter\u001b[39;49m\u001b[43m(\u001b[49m\u001b[38;5;28;43;01mlambda\u001b[39;49;00m\u001b[43m \u001b[49m\u001b[43mx\u001b[49m\u001b[43m:\u001b[49m\u001b[43m \u001b[49m\u001b[43mx\u001b[49m\u001b[43m \u001b[49m\u001b[38;5;241;43m>\u001b[39;49m\u001b[43m \u001b[49m\u001b[38;5;241;43m15\u001b[39;49m\u001b[43m \u001b[49m\u001b[38;5;129;43;01mand\u001b[39;49;00m\u001b[43m \u001b[49m\u001b[43mx\u001b[49m\u001b[43m \u001b[49m\u001b[38;5;241;43m%\u001b[39;49m\u001b[43m \u001b[49m\u001b[38;5;241;43m3\u001b[39;49m\u001b[43m \u001b[49m\u001b[38;5;241;43m==\u001b[39;49m\u001b[43m \u001b[49m\u001b[38;5;241;43m0\u001b[39;49m\u001b[43m \u001b[49m\u001b[38;5;129;43;01mand\u001b[39;49;00m\u001b[43m \u001b[49m\u001b[43mx\u001b[49m\u001b[43m \u001b[49m\u001b[38;5;241;43m%\u001b[39;49m\u001b[43m \u001b[49m\u001b[38;5;241;43m10\u001b[39;49m\u001b[43m \u001b[49m\u001b[38;5;241;43m!=\u001b[39;49m\u001b[43m \u001b[49m\u001b[38;5;241;43m0\u001b[39;49m\u001b[43m,\u001b[49m\u001b[43m \u001b[49m\u001b[43marray1\u001b[49m\u001b[43m)\u001b[49m\u001b[43m)\u001b[49m\n\u001b[0;32m     14\u001b[0m \u001b[38;5;66;03m# Converting new list into numpy array\u001b[39;00m\n\u001b[0;32m     15\u001b[0m array2 \u001b[38;5;241m=\u001b[39m np\u001b[38;5;241m.\u001b[39marray(mylist)\n",
      "\u001b[1;31mTypeError\u001b[0m: 'list' object is not callable"
     ]
    }
   ],
   "source": [
    "# Using Lambda\n",
    "\n",
    "import numpy as np\n",
    " \n",
    "# making a numpy array\n",
    "array1 = np.array([num for num in range(1,30)])\n",
    " \n",
    "print(\"Original array\")\n",
    "print(array1)\n",
    " \n",
    "# using lambda to apply condition\n",
    "mylist = list(filter(lambda x: x > 15 and x % 3 == 0 and x % 10 != 0, array1))\n",
    " \n",
    "# Converting new list into numpy array\n",
    "array2 = np.array(mylist)\n",
    "print(\"New array\")\n",
    "print(array2)\n",
    "\n",
    "print(\"Using list comprehension for numpy filtering\")\n",
    "\n",
    "\n",
    "mylist1=[x for x in array1 if x%5==0]\n",
    "array2=np.array(mylist1)\n",
    "print(array2)\n"
   ]
  },
  {
   "cell_type": "code",
   "execution_count": 107,
   "metadata": {},
   "outputs": [
    {
     "name": "stdout",
     "output_type": "stream",
     "text": [
      "original array is\n",
      "\n",
      "[[ 0  1  2  3]\n",
      " [ 4  5  6  7]\n",
      " [ 8  9 10 11]]\n",
      "Filter values from array:\n",
      " [ 6  7  8  9 10 11]\n",
      "[0 3 6 9]\n"
     ]
    }
   ],
   "source": [
    "import numpy as np\n",
    "\n",
    "array1= np.arange(12).reshape(3,4)\n",
    "print(\"original array is\\n\")\n",
    "print(array1)\n",
    "result = array1[array1 > 5]\n",
    "print(\"Filter values from array:\\n\",result)\n",
    "result1=array1[(array1<10) & (array1%3==0)]\n",
    "print(result1)"
   ]
  },
  {
   "cell_type": "code",
   "execution_count": 108,
   "metadata": {},
   "outputs": [
    {
     "name": "stdout",
     "output_type": "stream",
     "text": [
      "[[ 0  1  2  3]\n",
      " [ 4  5  6  7]\n",
      " [ 8  9 10 11]]\n",
      "***************\n"
     ]
    },
    {
     "data": {
      "text/plain": [
       "'\\nnp.all() method return True if all the values fulfills the condition.\\nThis return value maps with the original array to give the filtered values\\n\\n: means all rows\\n'"
      ]
     },
     "execution_count": 108,
     "metadata": {},
     "output_type": "execute_result"
    }
   ],
   "source": [
    "import numpy as np\n",
    "\n",
    "# axis=0 top to bottom\n",
    "\n",
    "# axis=1 left to right\n",
    "\n",
    "a = np.arange(12).reshape((3, 4))\n",
    "print(a)\n",
    "print(\"***************\")\n"
   ]
  },
  {
   "cell_type": "code",
   "execution_count": 110,
   "metadata": {},
   "outputs": [
    {
     "name": "stdout",
     "output_type": "stream",
     "text": [
      "[[0 1]\n",
      " [4 5]\n",
      " [8 9]]\n",
      "*********************\n"
     ]
    },
    {
     "data": {
      "text/plain": [
       "' np.any() method return true if any of the values fulfill the condition.\\n This return value maps with the original array to give the filtered values.\\n : means all the rows\\n '"
      ]
     },
     "execution_count": 110,
     "metadata": {},
     "output_type": "execute_result"
    }
   ],
   "source": [
    "\"\"\"\n",
    "np.all() method return True if all the values fulfills the condition.\n",
    "This return value maps with the original array to give the filtered values\n",
    ": means all rows\n",
    "\"\"\"\n",
    "print(a[:, np.all(a < 10, axis = 0)])\n",
    "print(\"*********************\")\n"
   ]
  },
  {
   "cell_type": "code",
   "execution_count": 111,
   "metadata": {},
   "outputs": [
    {
     "name": "stdout",
     "output_type": "stream",
     "text": [
      "[[ 0  1  2  3]\n",
      " [ 4  5  6  7]\n",
      " [ 8  9 10 11]]\n",
      "*******************\n",
      "[[ 1  2  3]\n",
      " [ 5  6  7]\n",
      " [ 9 10 11]]\n",
      "**************************\n"
     ]
    }
   ],
   "source": [
    "\n",
    "\"\"\" np.any() method return true if any of the values fulfill the condition.\n",
    " This return value maps with the original array to give the filtered values.\n",
    " : means all the rows\n",
    " \"\"\"\n",
    "print(a[:,np.any(a < 10, axis = 0)])\n",
    "print(\"*******************\")\n",
    "\n",
    "print(a[:,np.any(a > 8, axis = 0)])\n",
    "print(\"**************************\")\n"
   ]
  },
  {
   "cell_type": "code",
   "execution_count": 112,
   "metadata": {},
   "outputs": [
    {
     "name": "stdout",
     "output_type": "stream",
     "text": [
      "[[ 0  1  2  3]\n",
      " [ 4  5  6  7]\n",
      " [ 8  9 10 11]]\n",
      "**************************\n",
      "[[0 1 2 3]\n",
      " [4 5 6 7]]\n",
      "selected rows\n",
      "[[ 5  6  7]\n",
      " [ 9 10 11]]\n",
      "selected columns\n",
      "[[0 1]\n",
      " [4 5]]\n"
     ]
    }
   ],
   "source": [
    "\"\"\"\n",
    "axis=1 means left to right\n",
    ": here means all the columns\n",
    "\"\"\"\n",
    "print(a[np.any(a < 10, axis = 1),:])\n",
    "print(\"**************************\")\n",
    "\n",
    "print(a[np.all(a < 10, axis = 1),:])\n",
    "\n",
    "print(\"selected rows\")\n",
    "print(a[1:3,np.any(a > 8, axis = 0)])   # 1 to 2 rows  , top to bottom\n",
    "\n",
    "print(\"selected columns\")\n",
    "print(a[np.all(a < 10, axis = 1),:2])    # 0 to 1 columns , left to right\n"
   ]
  },
  {
   "cell_type": "markdown",
   "metadata": {},
   "source": [
    "# **numpy mutable or immutable**"
   ]
  },
  {
   "cell_type": "markdown",
   "metadata": {},
   "source": [
    "Ex1"
   ]
  },
  {
   "cell_type": "code",
   "execution_count": 113,
   "metadata": {},
   "outputs": [
    {
     "name": "stdout",
     "output_type": "stream",
     "text": [
      "[10 20 30] \t 2486623038864\n",
      "[34 20 30] \t 2486623038864\n",
      "[11 21 31] \t 2486623038480\n"
     ]
    }
   ],
   "source": [
    "# numpy array elements are mutable but numpy as an object is immutable\n",
    "# first+1  creates a new numpy object in which changes can be seen\n",
    "\n",
    "import numpy as np\n",
    "first=np.array([10,20,30])\n",
    "print(first,\"\\t\",id(first))\n",
    "second=first+1      #  this is like immutable\n",
    "first[0]=34         #  array elements can be changed\n",
    "print(first,\"\\t\",id(first))\n",
    "print(second,\"\\t\",id(second))\n"
   ]
  },
  {
   "cell_type": "markdown",
   "metadata": {},
   "source": [
    "Ex2"
   ]
  },
  {
   "cell_type": "code",
   "execution_count": null,
   "metadata": {},
   "outputs": [],
   "source": [
    "# how to make numpy array read only\n",
    "import numpy as np\n",
    "\n",
    "first=np.array([10,20,30])\n",
    "first.flags.writeable = False\n",
    "print(first,\"\\t\",id(first))\n",
    "second=first+1      #  no problem here\n",
    "# first[0]=34         # ValueError: assignment destination is read-only\n",
    "print(first,\"\\t\",id(first))\n",
    "print(second,\"\\t\",id(second))"
   ]
  }
 ],
 "metadata": {
  "kernelspec": {
   "display_name": "base",
   "language": "python",
   "name": "python3"
  },
  "language_info": {
   "codemirror_mode": {
    "name": "ipython",
    "version": 3
   },
   "file_extension": ".py",
   "mimetype": "text/x-python",
   "name": "python",
   "nbconvert_exporter": "python",
   "pygments_lexer": "ipython3",
   "version": "3.11.9"
  }
 },
 "nbformat": 4,
 "nbformat_minor": 2
}
