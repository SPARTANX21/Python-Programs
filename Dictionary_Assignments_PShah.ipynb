{
 "cells": [
  {
   "cell_type": "markdown",
   "metadata": {},
   "source": [
    "# **Dictionary Assignments - Pranay B Shah**"
   ]
  },
  {
   "cell_type": "markdown",
   "metadata": {},
   "source": [
    "1. Write a Python script to sort (ascending and descending) a dictionary by value. "
   ]
  },
  {
   "cell_type": "code",
   "execution_count": 14,
   "metadata": {},
   "outputs": [
    {
     "name": "stdout",
     "output_type": "stream",
     "text": [
      "{'CoupeRS': 6, 'Audi': 5, 'Maserari': 4, 'Rashi': 3, 'Radha': 2, 'Krishna': 1}\n"
     ]
    }
   ],
   "source": [
    "dict1 = {'Rashi':3, 'Krishna' :1, 'Radha':2, 'Maserati':4, 'Audi':5, 'CoupeRS':6}\n",
    "\n",
    "dict2 = {k:v for k,v in sorted((dict1.items()),key=lambda x:x[1], reverse=True)}\n",
    "print(dict2)\n",
    "\n",
    "# sorted(dict1.items(), key=dict1.values() , reverse=False)"
   ]
  },
  {
   "cell_type": "markdown",
   "metadata": {},
   "source": [
    "2. Write a Python script to add a key to a dictionary. \n",
    "Sample Dictionary : {0: 10, 1: 20}\n",
    "Expected Result : {0: 10, 1: 20, 2: 30}"
   ]
  },
  {
   "cell_type": "code",
   "execution_count": 25,
   "metadata": {},
   "outputs": [
    {
     "name": "stdout",
     "output_type": "stream",
     "text": [
      "{0: 10, 1: 20, 5: 62}\n"
     ]
    }
   ],
   "source": [
    "dict1 = {0: 10, 1: 20}\n",
    "\n",
    "ukey = (input(\"Enter Key :: \"))\n",
    "uvalue = input(\"Enter Value :: \").split()\n",
    "\n",
    "for i in ukey:\n",
    "    for j in uvalue:\n",
    "        dict1[int(i)] = int(j)\n",
    "\n",
    "print(dict1)"
   ]
  },
  {
   "cell_type": "markdown",
   "metadata": {},
   "source": [
    "3. Write a Python script to concatenate following dictionaries to create a new one. \n",
    "Sample Dictionary :\n",
    "dic1={1:10, 2:20}\n",
    "dic2={3:30, 4:40}\n",
    "dic3={5:50,6:60}"
   ]
  },
  {
   "cell_type": "code",
   "execution_count": 26,
   "metadata": {},
   "outputs": [
    {
     "name": "stdout",
     "output_type": "stream",
     "text": [
      "{1: 10, 2: 20, 3: 30, 4: 40, 5: 50, 6: 60}\n"
     ]
    }
   ],
   "source": [
    "dic1={1:10, 2:20}\n",
    "dic2={3:30, 4:40}\n",
    "dic3={5:50,6:60}\n",
    "\n",
    "mergeddict = {**dic1, **dic2, **dic3}\n",
    "\n",
    "print(mergeddict)"
   ]
  },
  {
   "cell_type": "markdown",
   "metadata": {},
   "source": [
    "4. Write a Python script to check whether a given key already exists in a dictionary. "
   ]
  },
  {
   "cell_type": "code",
   "execution_count": 32,
   "metadata": {},
   "outputs": [
    {
     "name": "stdout",
     "output_type": "stream",
     "text": [
      "Key is not present in Merged_dict\n"
     ]
    }
   ],
   "source": [
    "mergeddict = {1: 10, 2: 20, 3: 30, 4: 40, 5: 50, 6: 60}\n",
    "\n",
    "user = int(input(\"Enter a key to verify its exsistence ::\"))\n",
    "for i in mergeddict.keys():\n",
    "    if(i == user):\n",
    "        print('Key exsists in the merged dictionar --> ',i)\n",
    "        break\n",
    "else:\n",
    "    print(\"Key is not present in Merged_dict\")"
   ]
  },
  {
   "cell_type": "markdown",
   "metadata": {},
   "source": [
    "5. Write a Python program to iterate over dictionaries using for loops. "
   ]
  },
  {
   "cell_type": "code",
   "execution_count": 33,
   "metadata": {},
   "outputs": [
    {
     "name": "stdout",
     "output_type": "stream",
     "text": [
      "(1, 10)\n",
      "(2, 20)\n",
      "(3, 30)\n",
      "(4, 40)\n",
      "(5, 50)\n",
      "(6, 60)\n"
     ]
    }
   ],
   "source": [
    "mergeddict = {1: 10, 2: 20, 3: 30, 4: 40, 5: 50, 6: 60}\n",
    "\n",
    "for i in mergeddict.items():\n",
    "    print(i)"
   ]
  },
  {
   "cell_type": "markdown",
   "metadata": {},
   "source": [
    "6. Write a Python script to generate and print a dictionary that contains a number (between 1 and n) in the form (x, x*x). \n",
    "Sample Dictionary ( n = 5) :\n",
    "Expected Output : {1: 1, 2: 4, 3: 9, 4: 16, 5: 25}\n"
   ]
  },
  {
   "cell_type": "code",
   "execution_count": 38,
   "metadata": {},
   "outputs": [
    {
     "name": "stdout",
     "output_type": "stream",
     "text": [
      "{1: 1, 2: 4, 3: 9, 4: 16, 5: 25, 6: 36}\n"
     ]
    }
   ],
   "source": [
    "output = lambda x:x*x\n",
    "\n",
    "user = int(input(\"Enter a number for last range :: \"))\n",
    "\n",
    "dict2 = {}\n",
    "for i in range(1,user+1):\n",
    "    dict2[i] = (lambda x:x*x)(i)\n",
    "\n",
    "print(dict2)\n"
   ]
  },
  {
   "cell_type": "code",
   "execution_count": 41,
   "metadata": {},
   "outputs": [
    {
     "name": "stdout",
     "output_type": "stream",
     "text": [
      "{1: 1, 2: 4, 3: 9, 4: 16, 5: 25, 6: 36}\n"
     ]
    }
   ],
   "source": [
    "n=int(input(\"enter a number \"))\n",
    "dict1={}\n",
    "\n",
    "dict1={x:x*x for x in range(1,n+1)}\n",
    "print(dict1)"
   ]
  },
  {
   "cell_type": "markdown",
   "metadata": {},
   "source": [
    "7. Write a Python script to print a dictionary where the keys are numbers between 1 and 15 (both included) and the values are square of keys. \n",
    "Sample Dictionary\n",
    "{1: 1, 2: 4, 3: 9, 4: 16, 5: 25, 6: 36, 7: 49, 8: 64, 9: 81, 10: 100, 11: 121, 12: 144, 13: 169, 14: 196, 15: 225}\n"
   ]
  },
  {
   "cell_type": "code",
   "execution_count": 42,
   "metadata": {},
   "outputs": [
    {
     "name": "stdout",
     "output_type": "stream",
     "text": [
      "{1: 1, 2: 4, 3: 9, 4: 16, 5: 25, 6: 36, 7: 49, 8: 64, 9: 81, 10: 100, 11: 121, 12: 144, 13: 169, 14: 196, 15: 225}\n"
     ]
    }
   ],
   "source": [
    "output = lambda x:x*x\n",
    "\n",
    "user = int(input(\"Enter a number for last range :: \"))\n",
    "\n",
    "dict2 = {}\n",
    "for i in range(1,user+1):\n",
    "    dict2[i] = (lambda x:x*x)(i)\n",
    "\n",
    "print(dict2)\n"
   ]
  },
  {
   "cell_type": "markdown",
   "metadata": {},
   "source": [
    "8. Write a Python script to merge two Python dictionaries. "
   ]
  },
  {
   "cell_type": "code",
   "execution_count": 44,
   "metadata": {},
   "outputs": [
    {
     "name": "stdout",
     "output_type": "stream",
     "text": [
      "{1: 10, 2: 20, 3: 30, 4: 40, 5: 50, 6: 60}\n"
     ]
    }
   ],
   "source": [
    "dic1={1:10, 2:20}\n",
    "dic2={3:30, 4:40}\n",
    "dic3={5:50,6:60}\n",
    "\n",
    "mergeddict = {**dic1, **dic2, **dic3}\n",
    "\n",
    "print(mergeddict)"
   ]
  },
  {
   "cell_type": "markdown",
   "metadata": {},
   "source": [
    "9. Write a Python program to iterate over dictionaries using for loops. "
   ]
  },
  {
   "cell_type": "code",
   "execution_count": 43,
   "metadata": {},
   "outputs": [
    {
     "name": "stdout",
     "output_type": "stream",
     "text": [
      "(1, 10)\n",
      "(2, 20)\n",
      "(3, 30)\n",
      "(4, 40)\n",
      "(5, 50)\n",
      "(6, 60)\n"
     ]
    }
   ],
   "source": [
    "mergeddict = {1: 10, 2: 20, 3: 30, 4: 40, 5: 50, 6: 60}\n",
    "\n",
    "for i in mergeddict.items():\n",
    "    print(i)"
   ]
  },
  {
   "cell_type": "markdown",
   "metadata": {},
   "source": [
    "10. Write a Python program to sum all the items in a dictionary. "
   ]
  },
  {
   "cell_type": "code",
   "execution_count": 57,
   "metadata": {},
   "outputs": [
    {
     "name": "stdout",
     "output_type": "stream",
     "text": [
      "{21: 210}\n"
     ]
    }
   ],
   "source": [
    "mergeddict = {1: 10, 2: 20, 3: 30, 4: 40, 5: 50, 6: 60}\n",
    "\n",
    "key = 0\n",
    "values = 0\n",
    "dict2 = {}\n",
    "\n",
    "for i in mergeddict:\n",
    "    key += i\n",
    "for i in mergeddict.values():\n",
    "    values += i\n",
    "dict2[key] = values\n",
    "\n",
    "print(dict2)"
   ]
  },
  {
   "cell_type": "markdown",
   "metadata": {},
   "source": [
    "11. Write a Python program to multiply all the items in a dictionary. "
   ]
  },
  {
   "cell_type": "code",
   "execution_count": 60,
   "metadata": {},
   "outputs": [
    {
     "name": "stdout",
     "output_type": "stream",
     "text": [
      "{720: 720000000}\n"
     ]
    }
   ],
   "source": [
    "mergeddict = {1: 10, 2: 20, 3: 30, 4: 40, 5: 50, 6: 60}\n",
    "\n",
    "key = 1\n",
    "values = 1\n",
    "dict2 = {}\n",
    "\n",
    "for i in mergeddict:\n",
    "    key *= i\n",
    "for i in mergeddict.values():\n",
    "    values *= i\n",
    "dict2[key] = values\n",
    "\n",
    "print(dict2)"
   ]
  },
  {
   "cell_type": "markdown",
   "metadata": {},
   "source": [
    "\n",
    "12. Write a Python program to remove a key from a dictionary. \n"
   ]
  },
  {
   "cell_type": "code",
   "execution_count": 64,
   "metadata": {},
   "outputs": [
    {
     "name": "stdout",
     "output_type": "stream",
     "text": [
      "{1: 10, 3: 30, 4: 40, 5: 50, 6: 60}\n"
     ]
    }
   ],
   "source": [
    "mergeddict = {1: 10, 2: 20, 3: 30, 4: 40, 5: 50, 6: 60}\n",
    "\n",
    "user = int(input(\"Enter an key to remove the key from dictionary available : \"))\n",
    "\n",
    "mergeddict.pop(user)\n",
    "\n",
    "print(mergeddict)"
   ]
  },
  {
   "cell_type": "markdown",
   "metadata": {},
   "source": [
    "13. Write a Python program to map two lists into a dictionary. "
   ]
  },
  {
   "cell_type": "code",
   "execution_count": 75,
   "metadata": {},
   "outputs": [
    {
     "name": "stdout",
     "output_type": "stream",
     "text": [
      "{3: 13, 6: 16, 9: 19, 8: 18, 5: 15, 2: 12}\n"
     ]
    }
   ],
   "source": [
    "list1 = [3,6,9,8,5,2]\n",
    "list2 = [13,16,19,18,15,12]\n",
    "\n",
    "dictio1 = {}\n",
    "\n",
    "for (a,b) in zip(list1, list2):\n",
    "    dictio1[a] = b\n",
    "\n",
    "print(dictio1)"
   ]
  },
  {
   "cell_type": "markdown",
   "metadata": {},
   "source": [
    "14. Write a Python program to sort a dictionary by key. "
   ]
  },
  {
   "cell_type": "code",
   "execution_count": 79,
   "metadata": {},
   "outputs": [
    {
     "name": "stdout",
     "output_type": "stream",
     "text": [
      "[(9, 19), (8, 18), (6, 16), (5, 15), (3, 13), (2, 12)]\n"
     ]
    },
    {
     "data": {
      "text/plain": [
       "[(2, 12), (3, 13), (5, 15), (6, 16), (8, 18), (9, 19)]"
      ]
     },
     "execution_count": 79,
     "metadata": {},
     "output_type": "execute_result"
    }
   ],
   "source": [
    "dictio1\n",
    "\n",
    "print(sorted(dictio1.items(), reverse=True))\n",
    "\n",
    "\n",
    "sorted(dictio1.items(), reverse=False)"
   ]
  },
  {
   "cell_type": "markdown",
   "metadata": {},
   "source": [
    "15. Write a Python program to get the maximum and minimum value in a dictionary. "
   ]
  },
  {
   "cell_type": "code",
   "execution_count": 84,
   "metadata": {},
   "outputs": [
    {
     "name": "stdout",
     "output_type": "stream",
     "text": [
      "Maximum values in dict ---> 9\n",
      "Minimum values in dict ---> 2\n"
     ]
    }
   ],
   "source": [
    "dictio1\n",
    "\n",
    "print('Maximum values in dict --->', max(dictio1.keys()))\n",
    "\n",
    "print('Minimum values in dict --->',min(dictio1.keys()))"
   ]
  },
  {
   "cell_type": "markdown",
   "metadata": {},
   "source": [
    "16. Write a Python program to get a dictionary from an object's fields. "
   ]
  },
  {
   "cell_type": "code",
   "execution_count": 88,
   "metadata": {},
   "outputs": [
    {
     "data": {
      "text/plain": [
       "{'make': 'Audi',\n",
       " 'model': 'RS Coupe7000',\n",
       " 'yearofmanu': '2022',\n",
       " 'isautomatic': 'false'}"
      ]
     },
     "execution_count": 88,
     "metadata": {},
     "output_type": "execute_result"
    }
   ],
   "source": [
    "class car:\n",
    "    def __init__(self, make, model, yearofmanu, isautomatic):\n",
    "        self.make = make\n",
    "        self.model = model\n",
    "        self.yearofmanu = yearofmanu\n",
    "        self.isautomatic = isautomatic\n",
    "\n",
    "Car = car('Audi', 'RS Coupe7000', '2022', 'false')\n",
    "\n",
    "Car.__dict__\n"
   ]
  },
  {
   "cell_type": "markdown",
   "metadata": {},
   "source": [
    "17. Write a Python program to remove duplicates from Dictionary. "
   ]
  },
  {
   "cell_type": "code",
   "execution_count": 96,
   "metadata": {},
   "outputs": [
    {
     "name": "stdout",
     "output_type": "stream",
     "text": [
      "{(3, 30), (5, 50), (6, 60), (2, 20), (8, 80), (4, 40), (1, 10), (7, 70)}\n"
     ]
    }
   ],
   "source": [
    "mergeddict = {1: 10, 2: 20, 3: 30, 4: 40, 5: 50, 6: 60, 2:20, 3:30, 6:60, 7:70, 8:80, 1:10}\n",
    "\n",
    "print(set(mergeddict.items()))"
   ]
  },
  {
   "cell_type": "markdown",
   "metadata": {},
   "source": [
    "18. Write a Python program to check a dictionary is empty or not. "
   ]
  },
  {
   "cell_type": "code",
   "execution_count": 98,
   "metadata": {},
   "outputs": [
    {
     "name": "stdout",
     "output_type": "stream",
     "text": [
      "Dictionary is not empty\n"
     ]
    }
   ],
   "source": [
    "dict1 = {}\n",
    "\n",
    "if(dict1):\n",
    "    print(\"Dictionary is not empty\")\n",
    "else:\n",
    "    print(\"Dictionary is not empty\")\n"
   ]
  },
  {
   "cell_type": "markdown",
   "metadata": {},
   "source": [
    "19. Write a Python program to combine two dictionary adding values for common keys. \n",
    "d1 = {'a': 100, 'b': 200, 'c':300}\n",
    "d2 = {'a': 300, 'b': 200, 'd':400}\n"
   ]
  },
  {
   "cell_type": "code",
   "execution_count": 99,
   "metadata": {},
   "outputs": [
    {
     "name": "stdout",
     "output_type": "stream",
     "text": [
      "Counter({'a': 400, 'b': 400, 'd': 400, 'c': 300})\n"
     ]
    }
   ],
   "source": [
    "from collections import Counter\n",
    "d1 = {'a': 100, 'b': 200, 'c':300}\n",
    "d2 = {'a': 300, 'b': 200, 'd':400}\n",
    "\n",
    "d3 = Counter(d1) + Counter(d2)\n",
    "\n",
    "print(d3)"
   ]
  },
  {
   "cell_type": "markdown",
   "metadata": {},
   "source": [
    "20. Write a Python program to print all unique values in a dictionary. \n",
    "Sample Data : [{\"V\":\"S001\"}, {\"V\": \"S002\"}, {\"VI\": \"S001\"}, {\"VI\": \"S005\"}, {\"VII\":\"S005\"}, {\"V\":\"S009\"},{\"VIII\":\"S007\"}]\n",
    "Expected Output : Unique Values: {'S005', 'S002', 'S007', 'S001', 'S009'}\n"
   ]
  },
  {
   "cell_type": "code",
   "execution_count": 101,
   "metadata": {},
   "outputs": [
    {
     "name": "stdout",
     "output_type": "stream",
     "text": [
      "{'S009', 'S001', 'S002', 'S007', 'S005'}\n"
     ]
    }
   ],
   "source": [
    "q20 = [{\"V\":\"S001\"}, {\"V\": \"S002\"}, {\"VI\": \"S001\"}, {\"VI\": \"S005\"}, {\"VII\":\"S005\"}, {\"V\":\"S009\"},{\"VIII\":\"S007\"}]\n",
    "\n",
    "set2 = set\n",
    "\n",
    "for i in q20:\n",
    "    for j in i.values():\n",
    "        set2.add(j)\n",
    "\n",
    "ans = set(val for dic in q20 for val in dic.values())\n",
    "\n",
    "print(ans)\n",
    "print()"
   ]
  },
  {
   "cell_type": "markdown",
   "metadata": {},
   "source": [
    "21. Write a Python program to create and display all combinations of letters, selecting each letter from a different key in a dictionary. \n",
    "Sample data : {'1':['a','b'], '2':['c','d']}\n",
    "Expected Output:\n",
    "ac\n",
    "ad\n",
    "bc\n",
    "bd\n"
   ]
  },
  {
   "cell_type": "markdown",
   "metadata": {},
   "source": [
    "22.Write a Python program to sort a string lexicographically. "
   ]
  },
  {
   "cell_type": "code",
   "execution_count": 2,
   "metadata": {},
   "outputs": [
    {
     "name": "stdout",
     "output_type": "stream",
     "text": [
      "['a', 'b', 'c', 'd', 'e', 'f', 'g', 'h', 'i', 'j', 'k', 'l', 'm', 'n', 'o', 'p', 'q', 'r', 's', 't', 'u', 'v', 'w', 'x', 'y', 'z']\n",
      "26\n"
     ]
    }
   ],
   "source": [
    "string1 ='qwertyuiopasdfghjklzxcvbnm'\n",
    "\n",
    "print(sorted(string1))\n",
    "\n",
    "print(len(sorted(string1)))"
   ]
  },
  {
   "cell_type": "markdown",
   "metadata": {},
   "source": [
    "\n",
    "23. Write a Python program to remove a newline in Python. \n"
   ]
  },
  {
   "cell_type": "code",
   "execution_count": 15,
   "metadata": {},
   "outputs": [
    {
     "data": {
      "text/plain": [
       "'Pranay Shah he resides in Mumbai'"
      ]
     },
     "execution_count": 15,
     "metadata": {},
     "output_type": "execute_result"
    }
   ],
   "source": [
    "newline = f'\\n'\n",
    "\n",
    "user = f'Pranay\\nShah\\nhe resides\\nin Mumbai'\n",
    "\n",
    "new_text = user.replace(\"\\n\", \" \")\n",
    "\n",
    "new_text "
   ]
  },
  {
   "cell_type": "markdown",
   "metadata": {},
   "source": [
    "24. Write a Python program to check whether a string starts with specified characters. "
   ]
  },
  {
   "cell_type": "code",
   "execution_count": 18,
   "metadata": {},
   "outputs": [],
   "source": [
    "string1 = 'Pranay Shah'\n",
    "\n",
    "if(string1 == ['^P']):\n",
    "    print(\"Yes it starts from P \")"
   ]
  },
  {
   "cell_type": "code",
   "execution_count": null,
   "metadata": {},
   "outputs": [],
   "source": []
  }
 ],
 "metadata": {
  "kernelspec": {
   "display_name": "base",
   "language": "python",
   "name": "python3"
  },
  "language_info": {
   "codemirror_mode": {
    "name": "ipython",
    "version": 3
   },
   "file_extension": ".py",
   "mimetype": "text/x-python",
   "name": "python",
   "nbconvert_exporter": "python",
   "pygments_lexer": "ipython3",
   "version": "3.11.9"
  }
 },
 "nbformat": 4,
 "nbformat_minor": 2
}
