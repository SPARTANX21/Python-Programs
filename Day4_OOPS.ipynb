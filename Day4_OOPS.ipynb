{
 "cells": [
  {
   "cell_type": "markdown",
   "metadata": {},
   "source": [
    "# **Day4 - OOPS - PranayBShah**"
   ]
  },
  {
   "cell_type": "code",
   "execution_count": 4,
   "metadata": {},
   "outputs": [
    {
     "name": "stdout",
     "output_type": "stream",
     "text": [
      "None\n"
     ]
    }
   ],
   "source": [
    "# Sir's example\n",
    "class sample:\n",
    "    pass \n",
    "\n",
    "s1 = sample()\n",
    "\n",
    "print(s1)\n",
    "\n",
    "s2 = sample()"
   ]
  },
  {
   "cell_type": "code",
   "execution_count": 45,
   "metadata": {},
   "outputs": [
    {
     "name": "stdout",
     "output_type": "stream",
     "text": [
      "Inside __init__\n",
      "Inside __init__\n",
      "Inside __init__\n"
     ]
    },
    {
     "data": {
      "text/plain": [
       "3"
      ]
     },
     "execution_count": 45,
     "metadata": {},
     "output_type": "execute_result"
    }
   ],
   "source": [
    "# class with default constructor\n",
    "\n",
    "class sample:\n",
    "    __cnt = 0\n",
    "    def __init__(self):\n",
    "        print(\"Inside __init__\")\n",
    "        sample.__cnt += 1\n",
    "    def printcnt(self):\n",
    "        return sample.__cnt\n",
    "\n",
    "s1 = sample()\n",
    "s2 = sample()\n",
    "s3 = sample()\n",
    "\n",
    "sample.cnt = 5      # This does not chnages the private variable\n",
    "\n",
    "# print(s1.__sample__cnt)\n",
    "s3.printcnt()\n"
   ]
  },
  {
   "cell_type": "code",
   "execution_count": 1,
   "metadata": {},
   "outputs": [
    {
     "name": "stdout",
     "output_type": "stream",
     "text": [
      "Inside __init__\n",
      "100\n",
      "Inside __init__\n",
      "200\n"
     ]
    }
   ],
   "source": [
    "# class with instance member and parameterized constructor\n",
    "\n",
    "class sample:\n",
    "    def __init__(self, num):\n",
    "        self.num = num\n",
    "        print(f\"Inside __init__\")\n",
    "\n",
    "s1 = sample(100)\n",
    "print(s1.num)\n",
    "s2 = sample(200)\n",
    "print(s2.num)"
   ]
  },
  {
   "cell_type": "code",
   "execution_count": 17,
   "metadata": {},
   "outputs": [
    {
     "name": "stdout",
     "output_type": "stream",
     "text": [
      "Inside __init__\n",
      "100\n"
     ]
    },
    {
     "data": {
      "text/plain": [
       "100"
      ]
     },
     "execution_count": 17,
     "metadata": {},
     "output_type": "execute_result"
    }
   ],
   "source": [
    "class sample:\n",
    "    def __init__(self, num):\n",
    "        self.num = num\n",
    "        print(f\"Inside __init__\")\n",
    "    \n",
    "    def getnum(self):\n",
    "        return self.num\n",
    "\n",
    "s1 = sample(100)\n",
    "\n",
    "print(s1.num)\n",
    "s1.getnum()"
   ]
  },
  {
   "cell_type": "code",
   "execution_count": 22,
   "metadata": {},
   "outputs": [
    {
     "name": "stdout",
     "output_type": "stream",
     "text": [
      "10\n",
      "20\n",
      "30\n"
     ]
    }
   ],
   "source": [
    "# How can we create private and protected members in Python?\n",
    "\n",
    "# ans:-\n",
    "\n",
    "# You create private members by prefixing the member name with two leading underscores (__).\n",
    "\n",
    "# You create protected members by prefixing the member name with a single leading underscore (_).\n",
    "\n",
    "class A:\n",
    "    def __init__(self,a,b,c):\n",
    "        self.a=a    # public\n",
    "        self.__b=b  # private\n",
    "        self._c=c   # protected\n",
    "\n",
    "ref1=A(10,20,30)\n",
    "print(ref1.a)\n",
    "# print(ref1.b) # AttributeError: 'A' object has no attribute 'b'\n",
    "# print(ref1.c) # AttributeError: 'A' object has no attribute 'c'\n",
    "print(ref1._A__b)  # now it's possible\n",
    "print(ref1._c)    #  # now it's possible"
   ]
  },
  {
   "cell_type": "code",
   "execution_count": 46,
   "metadata": {},
   "outputs": [
    {
     "name": "stdout",
     "output_type": "stream",
     "text": [
      "1\n",
      "33\n",
      "22\n"
     ]
    }
   ],
   "source": [
    "class B:\n",
    "    def __init__(self, a,b,c):\n",
    "        self.a = 1\n",
    "        self.__b=b\n",
    "        self._c = c\n",
    "\n",
    "ref1 = B(11,22,33)\n",
    "\n",
    "print(ref1.a)\n",
    "\n",
    "print(ref1._c)\n",
    "\n",
    "print(ref1._B__b)"
   ]
  },
  {
   "cell_type": "code",
   "execution_count": 112,
   "metadata": {},
   "outputs": [
    {
     "name": "stdout",
     "output_type": "stream",
     "text": [
      "Comission Method Called --->  18\n",
      "3\n",
      "Santosh Udawant\t1005\tMumbai / Dubai\t256000\n",
      "2\n"
     ]
    }
   ],
   "source": [
    "from dataclasses import dataclass\n",
    "import sys \n",
    "\n",
    "@dataclass\n",
    "class GoldStore:\n",
    "    cname : str\n",
    "    cid : int\n",
    "    _caddress : str\n",
    "    __cbudget : int\n",
    "\n",
    "    commission = 18\n",
    "\n",
    "    def getcust(self):\n",
    "        print(f\"{self.cname} {self.cid} {self._caddress} {self.__cbudget} \")\n",
    "\n",
    "    def __str__(self):\n",
    "        return self.cname+'\\t'+str(self.cid)+'\\t'+self._caddress+'\\t'+str(self.__cbudget)\n",
    "    \n",
    "    @classmethod\n",
    "    def getcomm(cls):\n",
    "        return cls.commission\n",
    "    \n",
    "    @staticmethod\n",
    "    def getrefcount(obj):\n",
    "        print(sys.getrefcount(obj))\n",
    "    \n",
    "s = GoldStore('Santosh Udawant', 1005, 'Mumbai / Dubai', 256000)\n",
    "\n",
    "print(\"Comission Method Called ---> \",s.getcomm())\n",
    "\n",
    "s.getrefcount(s)\n",
    "\n",
    "print(s)\n",
    "\n",
    "print(sys.getrefcount(s))\n"
   ]
  },
  {
   "cell_type": "markdown",
   "metadata": {},
   "source": [
    "## **What is Self?**\n",
    "- OOPS in Python\\OOPS\\what is self"
   ]
  },
  {
   "cell_type": "code",
   "execution_count": 28,
   "metadata": {},
   "outputs": [
    {
     "name": "stdout",
     "output_type": "stream",
     "text": [
      "address of f1 is\t 2610079654288\n",
      "address of self is\t 2610079654288\n",
      "type of self is\t <class '__main__.First'>\n",
      "inside main function\n",
      "\n",
      "address of f2 is\t 2610068247376\n",
      "let's invoke mainfunction with f2\n",
      "address of self is\t 2610068247376\n",
      "type of self is\t <class '__main__.First'>\n",
      "inside main function\n"
     ]
    }
   ],
   "source": [
    "class First:\n",
    "    def mainfunction(self):\n",
    "        print(\"address of self is\\t\",id(self))\n",
    "        print(\"type of self is\\t\",type(self))\n",
    "        print(\"inside main function\")\n",
    "f1=First()\n",
    "print(\"address of f1 is\\t\",id(f1))\n",
    "f1.mainfunction()\n",
    "\n",
    "print()\n",
    "\n",
    "f2=First()\n",
    "print(\"address of f2 is\\t\",id(f2))\n",
    "print(\"let's invoke mainfunction with f2\")\n",
    "f2.mainfunction()"
   ]
  },
  {
   "cell_type": "markdown",
   "metadata": {},
   "source": [
    "## **Garbage Collection**\n",
    "- OOPS in Python\\OOPS\\Garbage Collection\n",
    "\n",
    "    - Garbage collection is simply the process of freeing memory when it is not used/reached by any reference/pointer anymore. Python performs garbage collection via a technique called reference counting. Using reference counting, GC collects the objects as soon as they become unreachable which happens when the number of references to the object is 0. \n",
    "    - A destructor method is called when all references to an object have been destroyed. In Python, the __del__() method is referred to as a destructor method. "
   ]
  },
  {
   "cell_type": "markdown",
   "metadata": {},
   "source": [
    "Ex1"
   ]
  },
  {
   "cell_type": "code",
   "execution_count": 17,
   "metadata": {},
   "outputs": [
    {
     "name": "stdout",
     "output_type": "stream",
     "text": [
      "100\n"
     ]
    }
   ],
   "source": [
    "var=100\n",
    "print(var)\n",
    "del var\n",
    "# print(var)    #  NameError: name 'var' is not defined. Did you mean: 'vars'?"
   ]
  },
  {
   "cell_type": "markdown",
   "metadata": {},
   "source": [
    "Ex2"
   ]
  },
  {
   "cell_type": "code",
   "execution_count": 51,
   "metadata": {},
   "outputs": [
    {
     "name": "stdout",
     "output_type": "stream",
     "text": [
      "0x25fb4deb810\n",
      "10\n",
      "No Reference is left for <__main__.MyClass object at 0x0000025FB4DEB810>\n",
      "0x25fb4d73e10\n",
      "10\n",
      "done\n"
     ]
    }
   ],
   "source": [
    "class MyClass:\n",
    "    var=0\n",
    "    def __init__(self,var):\n",
    "        self.var=var\n",
    "    def getvar(self):\n",
    "        return self.var\n",
    "    def __del__(self):\n",
    "        print(\"No Reference is left for {}\".format(self))\n",
    "\n",
    "n1 = MyClass(10)\n",
    "\n",
    "print(hex(id(n1)))\n",
    "print(n1.getvar())\n",
    "\n",
    "n1 = MyClass(10)\n",
    "print(hex(id(n1)))\n",
    "print(n1.getvar())\n",
    "print(\"done\")\n",
    "\n"
   ]
  },
  {
   "cell_type": "code",
   "execution_count": 24,
   "metadata": {},
   "outputs": [
    {
     "name": "stdout",
     "output_type": "stream",
     "text": [
      "Inside delete function 200\n",
      "Inside delete function 800\n",
      "Inside delete function 120\n"
     ]
    }
   ],
   "source": [
    "class myvar:\n",
    "    var = 0 \n",
    "    def __init__(self, var):\n",
    "        self.var = var\n",
    "    def getvar(self):\n",
    "        return self.var\n",
    "    def __del__(self):\n",
    "        print(f\"Inside delete function {self.var}\") \n",
    "\n",
    "n1 = myvar(200)\n",
    "\n",
    "n1.getvar()\n",
    "\n",
    "n2 = myvar(800)\n",
    "\n",
    "n2.getvar()\n",
    "\n",
    "n3 = myvar(120)\n",
    "\n",
    "n3.getvar()\n",
    "\n",
    "n4 = myvar(1200)"
   ]
  },
  {
   "cell_type": "markdown",
   "metadata": {},
   "source": [
    "Ex3"
   ]
  },
  {
   "cell_type": "code",
   "execution_count": 11,
   "metadata": {},
   "outputs": [
    {
     "name": "stdout",
     "output_type": "stream",
     "text": [
      "0x1d688d44c10\n",
      "10\n",
      "No Reference is left for <__main__.MyClass object at 0x000001D688D44C10>\n",
      "0x1d688d47390\n",
      "10\n",
      "No Reference is left for <__main__.MyClass object at 0x000001D688D47390>\n",
      "done\n"
     ]
    }
   ],
   "source": [
    "class MyClass:\n",
    "    var=0\n",
    "    def __init__(self,var):\n",
    "        self.var=var\n",
    "    def getvar(self):\n",
    "        return self.var\n",
    "    def __del__(self):\n",
    "        print(\"No Reference is left for {}\".format(self))\n",
    "\n",
    "m1 = MyClass(10)\n",
    "print(hex(id(m1)))\n",
    "print(m1.getvar())\n",
    "m1 = MyClass(10)\n",
    "print(hex(id(m1)))\n",
    "print(m1.getvar())\n",
    "del m1     # use of del statement to delete the object\n",
    "print(\"done\")"
   ]
  },
  {
   "cell_type": "markdown",
   "metadata": {},
   "source": [
    "Ex4"
   ]
  },
  {
   "cell_type": "code",
   "execution_count": 55,
   "metadata": {},
   "outputs": [
    {
     "name": "stdout",
     "output_type": "stream",
     "text": [
      "0x25fb4de8f50\n",
      "10\n",
      "0x25fb4de8f50\n",
      "10\n",
      "done\n"
     ]
    }
   ],
   "source": [
    "class MyClass:\n",
    "    var=0\n",
    "    def __init__(self,var):\n",
    "        self.var=var\n",
    "    def getvar(self):\n",
    "        return self.var\n",
    "    def __del__(self):\n",
    "        print(\"No Reference is left for {}\".format(self))\n",
    "\n",
    "a1 = MyClass(10)\n",
    "print(hex(id(a1)))\n",
    "print(a1.getvar())\n",
    "\n",
    "b2 = a1\n",
    "print(hex(id(b2)))\n",
    "print(b2.getvar())\n",
    "del b2   # it will not delete the object as m2 reference is also referring to the same object\n",
    "print(\"done\")\n"
   ]
  },
  {
   "cell_type": "code",
   "execution_count": 25,
   "metadata": {},
   "outputs": [
    {
     "name": "stdout",
     "output_type": "stream",
     "text": [
      "Inside delete function 200\n",
      "Inside delete function 800\n",
      "Inside delete function 120\n",
      "Inside delete function 120\n",
      "Inside delete function 1200\n"
     ]
    }
   ],
   "source": [
    "class myvar:\n",
    "    var = 0 \n",
    "    def __init__(self, var):\n",
    "        self.var = var\n",
    "    def getvar(self):\n",
    "        return self.var\n",
    "    def __del__(self):\n",
    "        print(f\"Inside delete function {self.var}\") \n",
    "\n",
    "n1 = myvar(200)\n",
    "\n",
    "n1.getvar()\n",
    "\n",
    "n2 = myvar(800)\n",
    "\n",
    "n2.getvar()\n",
    "\n",
    "n3 = myvar(120)\n",
    "\n",
    "n3 = n2\n",
    "\n",
    "n3.getvar()\n",
    "\n",
    "n4 = myvar(1200)"
   ]
  },
  {
   "cell_type": "markdown",
   "metadata": {},
   "source": [
    "Ex5"
   ]
  },
  {
   "cell_type": "code",
   "execution_count": 56,
   "metadata": {},
   "outputs": [
    {
     "name": "stdout",
     "output_type": "stream",
     "text": [
      "No Reference is left for <__main__.MyClass object at 0x0000025FB4DDBD90>\n",
      "0x25fb4ddad90\n",
      "10\n",
      "0x25fb4ddad90\n",
      "10\n",
      "After deleting m1   10\n",
      "done\n"
     ]
    }
   ],
   "source": [
    "class MyClass:\n",
    "    var=0\n",
    "    def __init__(self,var):\n",
    "        self.var=var\n",
    "    def getvar(self):\n",
    "        return self.var\n",
    "    def __del__(self):\n",
    "        print(\"No Reference is left for {}\".format(self))\n",
    "\n",
    "m1 = MyClass(10)\n",
    "print(hex(id(m1)))\n",
    "print(m1.getvar())\n",
    "m2 = m1\n",
    "print(hex(id(m1)))\n",
    "print(m1.getvar())\n",
    "del m1     # it will not delete the object as m2 reference is also referring to the same object\n",
    "# print(\"After deleting m1  \",m1.getvar())   # not possible\n",
    "print(\"After deleting m1  \", m2.getvar())\n",
    "print(\"done\")"
   ]
  },
  {
   "cell_type": "markdown",
   "metadata": {},
   "source": [
    "## **inti_Method_info**\n",
    "- OOPS in Python\\OOPS\\Init_method_info"
   ]
  },
  {
   "cell_type": "markdown",
   "metadata": {},
   "source": [
    "The __init__ method is the Python equivalent of the C++ constructor in an object-oriented approach. The __init__  function is called every time an object is created from a class. The __init__ method lets the class initialize the object’s attributes and serves no other purpose. It is only used within classes. \n",
    "\n",
    "If a Python class has no __init__ method, then creating a new instance of the class will just create an empty instance of the class. That may be completely OK. However, if the need all new instances of a class to have some values, then an __init__ method should be created.\n",
    "\n",
    "What happens when your class does not explicitly define an __init__ method?\n",
    "\n",
    "Short answer; nothing happens.\n",
    "\n",
    "Long answer;\n",
    "\n",
    " if you have a class B, which inherits from a class A, and if B has no __init__ method defined, then the parent's (in this case, A) __init__ is invoked.\n",
    "\n",
    "\n",
    "It means that the __init__ method is inherited\n",
    "\n",
    "If you actually specified a parent class, then the __init__ of this parent class will be called\n",
    "\n",
    "If you didn't, it will use the object __init__ method, which doesn't do anything significant for you\n",
    "\n",
    "This behavior is the same as non-special methods."
   ]
  },
  {
   "cell_type": "markdown",
   "metadata": {},
   "source": [
    "Ex1"
   ]
  },
  {
   "cell_type": "code",
   "execution_count": 1,
   "metadata": {},
   "outputs": [
    {
     "name": "stdout",
     "output_type": "stream",
     "text": [
      "<__main__.Base object at 0x000002BB44F51490>\n",
      "<class 'method'>\n",
      "<class 'method'>\n"
     ]
    }
   ],
   "source": [
    "class Base:\n",
    "    def __init__(self,num):\n",
    "       self.num=num\n",
    "    def disp(self):\n",
    "        print(self.num)\n",
    "s1=Base(10)\n",
    "print(s1)\n",
    "print(type(s1.__init__))\n",
    "print(type(s1.disp))"
   ]
  },
  {
   "cell_type": "markdown",
   "metadata": {},
   "source": [
    "Ex2"
   ]
  },
  {
   "cell_type": "code",
   "execution_count": 68,
   "metadata": {},
   "outputs": [
    {
     "name": "stdout",
     "output_type": "stream",
     "text": [
      "<__main__.Base object at 0x0000025FB4DE8890>\n",
      "True\n",
      "True\n"
     ]
    }
   ],
   "source": [
    "class Base:\n",
    "    def __init__(self,num):\n",
    "       self.num=num\n",
    "    def disp(self):\n",
    "        print(self.num)\n",
    "s1=Base(10)\n",
    "print(s1)\n",
    "print(hasattr(s1,'disp'))\n",
    "print(hasattr(s1,'__init__'))"
   ]
  },
  {
   "cell_type": "code",
   "execution_count": 10,
   "metadata": {},
   "outputs": [
    {
     "name": "stdout",
     "output_type": "stream",
     "text": [
      "<class '__main__.Base'>\n",
      "<class '__main__.Base'>\n",
      "True\n"
     ]
    }
   ],
   "source": [
    "class Base:\n",
    "    def __init__(self, num):\n",
    "        self.num = num\n",
    "    def disp(self):\n",
    "        print(self.num)\n",
    "\n",
    "s1 = Base(10)\n",
    "print(type(s1))\n",
    "print(s1.__class__)\n",
    "print(hasattr(s1,'disp'))"
   ]
  },
  {
   "cell_type": "markdown",
   "metadata": {},
   "source": [
    "Ex3"
   ]
  },
  {
   "cell_type": "code",
   "execution_count": 11,
   "metadata": {},
   "outputs": [
    {
     "name": "stdout",
     "output_type": "stream",
     "text": [
      "in disp\n",
      "True\n",
      "True\n"
     ]
    }
   ],
   "source": [
    "class Base:\n",
    "    def disp(self):\n",
    "        print(\"in disp\")\n",
    "s1=Base()\n",
    "s1.disp()\n",
    "print(hasattr(s1,'disp'))\n",
    "print(hasattr(s1,'__init__'))\n",
    "\n",
    "# This example proves that if you don't define \"__init__\" inside the class, it is always inherited from the parent class, \n",
    "# i.e. \"object\" class here. Also in the absense of \"__init__\" method , object is created here but it is empty."
   ]
  },
  {
   "cell_type": "markdown",
   "metadata": {},
   "source": [
    "Ex4"
   ]
  },
  {
   "cell_type": "code",
   "execution_count": 13,
   "metadata": {},
   "outputs": [
    {
     "name": "stdout",
     "output_type": "stream",
     "text": [
      "inside init method of Base\n",
      "60\n",
      "True\n",
      "True\n",
      "<class '__main__.Base'>\n"
     ]
    }
   ],
   "source": [
    "class Base:\n",
    "    def __init__(self,num):\n",
    "        print(\"inside init method of Base\")\n",
    "        super().__init__()\n",
    "        self.num=num\n",
    "    def disp(self):\n",
    "        print(self.num)\n",
    "s1=Base(60)\n",
    "s1.disp()\n",
    "print(hasattr(s1,'disp'))\n",
    "print(hasattr(s1,'__init__'))\n",
    "print(s1.__class__)\n",
    "\n",
    "# In this example, \"super().__init__()\" doesn't give any error which proves that the parent class i.e. \"object\" class has \n",
    "# \"__init__()\" method which does not take any parameter."
   ]
  },
  {
   "cell_type": "markdown",
   "metadata": {},
   "source": [
    "## **Overloading inside class**\n",
    "- OOPS in Python\\OOPS\\Overloading inside the class"
   ]
  },
  {
   "cell_type": "markdown",
   "metadata": {},
   "source": [
    "Ex1"
   ]
  },
  {
   "cell_type": "code",
   "execution_count": 71,
   "metadata": {},
   "outputs": [
    {
     "name": "stdout",
     "output_type": "stream",
     "text": [
      "hello\n",
      "100\n"
     ]
    }
   ],
   "source": [
    "from multipledispatch import dispatch\n",
    "\n",
    "class First:\n",
    "    @dispatch(int)\n",
    "    def disp(self,val):\n",
    "        print(val)\n",
    "    @dispatch(str)\n",
    "    def disp(self,val):\n",
    "        print(val)\n",
    "\n",
    "f1=First()\n",
    "f1.disp(\"hello\")\n",
    "f1.disp(100)"
   ]
  },
  {
   "cell_type": "code",
   "execution_count": 59,
   "metadata": {},
   "outputs": [
    {
     "name": "stdout",
     "output_type": "stream",
     "text": [
      "20222\t26590\n",
      "20222\t26590\tGujarat\n"
     ]
    }
   ],
   "source": [
    "from multipledispatch import dispatch\n",
    "\n",
    "class Earth:\n",
    "    @dispatch(int, int)\n",
    "    def USA(self, longi, langi):\n",
    "        self.longi = longi\n",
    "        self.langi = langi\n",
    "    \n",
    "    def dispUSA(self):\n",
    "        return str(self.longi)+'\\t'+str(self.langi)\n",
    "\n",
    "    @dispatch(int, int, str)\n",
    "    def India(self, longi, langi, state):\n",
    "        self.longi = longi\n",
    "        self.langi = langi\n",
    "        self.state = state\n",
    "    \n",
    "    def dispIndia(self):\n",
    "        return str(self.longi)+'\\t'+str(self.langi)+'\\t'+self.state\n",
    "\n",
    "us = Earth()\n",
    "IN = Earth()\n",
    "\n",
    "us.USA(20222,26590)\n",
    "IN.India(20222,26590, 'Gujarat')\n",
    "\n",
    "print(us.dispUSA())\n",
    "print(IN.dispIndia())\n"
   ]
  },
  {
   "cell_type": "code",
   "execution_count": 19,
   "metadata": {},
   "outputs": [
    {
     "name": "stdout",
     "output_type": "stream",
     "text": [
      "2 2.2 True\n"
     ]
    }
   ],
   "source": [
    "from multipledispatch import dispatch\n",
    "\n",
    "class first:\n",
    "    @dispatch(int)\n",
    "    def disp(self, val):\n",
    "        print(val)\n",
    "    \n",
    "    @dispatch(int, int)\n",
    "    def disp(self, val1, val2):\n",
    "        print(val1, val2)\n",
    "\n",
    "    @dispatch(int, float, bool)\n",
    "    def disp(self, val1, val2, val3):\n",
    "        print(val1, val2, val3)\n",
    "\n",
    "f1 = first()\n",
    "f1.disp(2, 2.2, True)"
   ]
  },
  {
   "cell_type": "markdown",
   "metadata": {},
   "source": [
    "Ex2"
   ]
  },
  {
   "cell_type": "code",
   "execution_count": 73,
   "metadata": {},
   "outputs": [
    {
     "name": "stdout",
     "output_type": "stream",
     "text": [
      "10\n",
      "Kunal\n"
     ]
    }
   ],
   "source": [
    "from multipledispatch import dispatch\n",
    "\n",
    "class Sample:\n",
    "    @dispatch(int)\n",
    "    def __init__(self,num):\n",
    "        self.num=num\n",
    "    @dispatch(str)\n",
    "    def __init__(self,name):\n",
    "        self.name=name\n",
    "    \n",
    "\n",
    "f1=Sample(10)\n",
    "f2=Sample(\"Kunal\")\n",
    "print(f1.num)\n",
    "print(f2.name)"
   ]
  },
  {
   "cell_type": "code",
   "execution_count": 29,
   "metadata": {},
   "outputs": [
    {
     "name": "stdout",
     "output_type": "stream",
     "text": [
      "10\n",
      "Pranay\n",
      "10\n",
      "Shah\n",
      "[1, 1, 1, 1, 1]\n"
     ]
    }
   ],
   "source": [
    "from multipledispatch import dispatch\n",
    "\n",
    "class second:\n",
    "    @dispatch(int, str)\n",
    "    def __init__(self, num, string):\n",
    "        self.num = num\n",
    "        self.string = string\n",
    "    \n",
    "    @dispatch(int, str, list)\n",
    "    def __init__(self, integer, string, list1):\n",
    "        self.integer = integer\n",
    "        self.string = string\n",
    "        self.list = list1\n",
    "\n",
    "s1 = second(10, 'Pranay')\n",
    "print(s1.num)\n",
    "print(s1.string)\n",
    "\n",
    "s2 = second(10,'Shah', [1,1,1,1,1])\n",
    "\n",
    "print(s2.integer)\n",
    "print(s2.string)\n",
    "print(s2.list)"
   ]
  },
  {
   "cell_type": "markdown",
   "metadata": {},
   "source": [
    "## **Reference_Count_in_Python**\n",
    "- OOPS in Python\\OOPS\\Reference_count_in_Python"
   ]
  },
  {
   "cell_type": "code",
   "execution_count": 36,
   "metadata": {},
   "outputs": [
    {
     "name": "stdout",
     "output_type": "stream",
     "text": [
      "100\n",
      "1\n"
     ]
    },
    {
     "data": {
      "text/plain": [
       "\" When you call getrefcount(), the reference is copied by value into the function's argument, \\ntemporarily bumping up the object's reference count. This is where the second reference comes from. \""
      ]
     },
     "execution_count": 36,
     "metadata": {},
     "output_type": "execute_result"
    }
   ],
   "source": [
    "\"\"\" sys.getrefcount(object)\n",
    "\n",
    "Returns the reference count of the object. The count returned is generally one higher than you might expect, \n",
    "because it includes the (temporary) reference as an argument to getrefcount(). \"\"\"\n",
    "\n",
    "import sys\n",
    "class First:\n",
    "    def __init__(self,num):\n",
    "        self.num=num\n",
    "\n",
    "f1=First(100)\n",
    "print(f1.num)\n",
    "print(sys.getrefcount(f1) - 1)    #  2 need to subtract 1 from getrefcount()\n",
    "\n",
    "\"\"\" When you call getrefcount(), the reference is copied by value into the function's argument, \n",
    "temporarily bumping up the object's reference count. This is where the second reference comes from. \"\"\""
   ]
  },
  {
   "cell_type": "code",
   "execution_count": 70,
   "metadata": {},
   "outputs": [
    {
     "name": "stdout",
     "output_type": "stream",
     "text": [
      "5\n"
     ]
    }
   ],
   "source": [
    "import sys \n",
    "\n",
    "class third:\n",
    "    def __init__(self, num):\n",
    "        self.num = num\n",
    "\n",
    "t1 = third(10)\n",
    "t2 = t1\n",
    "t3 = t2\n",
    "t4 = t3\n",
    "\n",
    "print(sys.getrefcount(t3))\n",
    "    "
   ]
  },
  {
   "cell_type": "code",
   "execution_count": 27,
   "metadata": {},
   "outputs": [
    {
     "name": "stdout",
     "output_type": "stream",
     "text": [
      "100\n",
      "4\n",
      "3\n"
     ]
    },
    {
     "data": {
      "text/plain": [
       "\" When you call getrefcount(), the reference is copied by value into the function's argument, \\ntemporarily bumping up the object's reference count. This is where the second reference comes from. \""
      ]
     },
     "execution_count": 27,
     "metadata": {},
     "output_type": "execute_result"
    }
   ],
   "source": [
    "\"\"\" sys.getrefcount(object)\n",
    "\n",
    "Returns the reference count of the object. The count returned is generally one higher than you might expect,\n",
    "because it includes the (temporary) reference as an argument to getrefcount(). \"\"\"\n",
    "\n",
    "import sys\n",
    "class First:\n",
    "    def __init__(self,num):\n",
    "        self.num=num\n",
    "\n",
    "f1=First(100)\n",
    "f2=f1\n",
    "f3=f2\n",
    "print(f1.num)\n",
    "print(sys.getrefcount(f1))    #  4\n",
    "del f2\n",
    "print(sys.getrefcount(f3))    #  3\n",
    "\n",
    "\"\"\" When you call getrefcount(), the reference is copied by value into the function's argument, \n",
    "temporarily bumping up the object's reference count. This is where the second reference comes from. \"\"\""
   ]
  },
  {
   "cell_type": "code",
   "execution_count": 29,
   "metadata": {},
   "outputs": [
    {
     "name": "stdout",
     "output_type": "stream",
     "text": [
      "230\n",
      "4\n",
      "3\n"
     ]
    }
   ],
   "source": [
    "class first:\n",
    "    def __init__(self, num):\n",
    "        self.num = num\n",
    "\n",
    "f1 = first(230)\n",
    "f2 = f1\n",
    "f3 = f2\n",
    "\n",
    "f4 = first(700)\n",
    "\n",
    "f5 = f4\n",
    "print(f1.num)\n",
    "\n",
    "print(sys.getrefcount(f1))\n",
    "\n",
    "print(sys.getrefcount(f4))"
   ]
  },
  {
   "cell_type": "markdown",
   "metadata": {},
   "source": [
    "# **Day2 - 08-10-2024 OOPS**"
   ]
  },
  {
   "cell_type": "markdown",
   "metadata": {},
   "source": [
    "OOPS in Python\\OOPS\\instance variable vs class variable\\Example_1.txt"
   ]
  },
  {
   "cell_type": "markdown",
   "metadata": {},
   "source": [
    "you create static variable in python just by defining or declaring it outside \"__init__\" i.e. a constructor."
   ]
  },
  {
   "cell_type": "code",
   "execution_count": 2,
   "metadata": {},
   "outputs": [
    {
     "name": "stdout",
     "output_type": "stream",
     "text": [
      "1 \t Abc \t 40000\n",
      "2 \t Xyz \t 70000\n",
      "1 \t Abc \t 43000\n",
      "2 \t Xyz \t 78000\n",
      "9 \t 9 \t 9\n",
      "12 \t 12 \t 12\n",
      "2437468717936 \t 2437468721328\n",
      "140726358492296 \t 140726358492296 \t 140726358492296\n"
     ]
    }
   ],
   "source": [
    "# instance variable/s are stored in the instance namespace which is different for different objects\n",
    "# class variable/s (also called as \"static variables\") are stored in class namespace which is same (shared by all the objects) for all the objects\n",
    "\n",
    "class Account:\n",
    "    rate=9                  # class variable\n",
    "    def __init__(self,accid,name,balance):\n",
    "        self.accid=accid                    # instance variable\n",
    "        self.name=name                      # instance variable\n",
    "        self.balance=balance                # instance variable\n",
    "\n",
    "c1=Account(1,\"Abc\",40000)\n",
    "c2=Account(2,\"Xyz\",70000)\n",
    "print(c1.accid,\"\\t\",c1.name,\"\\t\",c1.balance)\n",
    "print(c2.accid,\"\\t\",c2.name,\"\\t\",c2.balance)\n",
    "\n",
    "c1.balance=43000\n",
    "c2.balance=78000\n",
    "print(c1.accid,\"\\t\",c1.name,\"\\t\",c1.balance)\n",
    "print(c2.accid,\"\\t\",c2.name,\"\\t\",c2.balance)\n",
    "print(Account.rate,\"\\t\",c1.rate,\"\\t\",c2.rate)\n",
    "\n",
    "Account.rate=12\n",
    "print(Account.rate,\"\\t\",c1.rate,\"\\t\",c2.rate)\n",
    "print(id(c1.name),\"\\t\",id(c2.name))\n",
    "print(id(Account.rate),\"\\t\",id(c1.rate),\"\\t\",id(c2.rate))      # proves that rate has only one copy in the memory\n"
   ]
  },
  {
   "cell_type": "markdown",
   "metadata": {},
   "source": [
    "#### **Class Obj vs Instance Obj**\n",
    "\n",
    "OOPS in Python\\OOPS\\Class object vs Instance object"
   ]
  },
  {
   "cell_type": "code",
   "execution_count": 1,
   "metadata": {},
   "outputs": [
    {
     "name": "stdout",
     "output_type": "stream",
     "text": [
      "['__class__', '__delattr__', '__dict__', '__dir__', '__doc__', '__eq__', '__format__', '__ge__', '__getattribute__', '__getstate__', '__gt__', '__hash__', '__init__', '__init_subclass__', '__le__', '__lt__', '__module__', '__ne__', '__new__', '__reduce__', '__reduce_ex__', '__repr__', '__setattr__', '__sizeof__', '__str__', '__subclasshook__', '__weakref__', 'x']\n",
      "\n",
      "\n",
      "True\n",
      "\n",
      "\n",
      "['__class__', '__delattr__', '__dict__', '__dir__', '__doc__', '__eq__', '__format__', '__ge__', '__getattribute__', '__getstate__', '__gt__', '__hash__', '__init__', '__init_subclass__', '__le__', '__lt__', '__module__', '__ne__', '__new__', '__reduce__', '__reduce_ex__', '__repr__', '__setattr__', '__sizeof__', '__str__', '__subclasshook__', '__weakref__', 'a', 'b', 'x']\n",
      "\n",
      "\n",
      "False\n"
     ]
    }
   ],
   "source": [
    "class Test:\n",
    "    x=10\n",
    "    def __init__(self,a,b):\n",
    "        self.a=a\n",
    "        self.b=b\n",
    "\n",
    "ref=Test   #  \"ref\"  refers to class object\n",
    "print(dir(ref))    #  observe that \"x\" is a member of class object because it's a static member\n",
    "ref1=Test  #  \"ref1\" refers to class object\n",
    "print(\"\\n\")\n",
    "print(id(ref)==id(ref1))   # true , as class object is one only and both \"ref\" and \"ref1\" refer to the same class object\n",
    "t1=Test(10,20)  # instance object\n",
    "t2=Test(30,40)  # instance object\n",
    "print(\"\\n\")\n",
    "print(dir(t1))   #  a and b also will be displayed\n",
    "print(\"\\n\")\n",
    "print(id(t1)==id(t2))   # false"
   ]
  },
  {
   "cell_type": "markdown",
   "metadata": {},
   "source": [
    "#### **instance_method_class_method_static_method**\n",
    "\n",
    "OOPS in Python\\OOPS\\instance_method_class_method_static_method"
   ]
  },
  {
   "cell_type": "markdown",
   "metadata": {},
   "source": [
    "Class methods are bound to a class rather than an object. Class methods can be called by both class and object. These methods can be called with a class or with an object. \n",
    "Class method vs Static Method\n",
    "- A class method takes cls as the first parameter while a static method needs no specific parameters.\n",
    "- A class method can access or modify the class state while a static method can’t access or modify it.\n",
    "- In general, static methods know nothing about the class state. They are utility-type methods that take some parameters and work upon those parameters. On the other hand class methods must have class as a parameter.\n",
    "- We use @classmethod decorator in python to create a class method and we use @staticmethod decorator to create a static method in python.\n",
    "\n"
   ]
  },
  {
   "cell_type": "code",
   "execution_count": 6,
   "metadata": {},
   "outputs": [
    {
     "name": "stdout",
     "output_type": "stream",
     "text": [
      "1 \t Abc \t 40000\n",
      "2 \t Xyz \t 70000\n",
      "Type of ref \t <class 'type'>\n",
      "Type of ref \t 2437429519168\n",
      "9\n",
      "calculated EMI per month\n",
      "Type of ref \t <class 'type'>\n",
      "Type of ref \t 2437429519168\n"
     ]
    }
   ],
   "source": [
    "# instance method is the one which works on instance members\n",
    "# class method is the one which works on the class members ( static members)\n",
    "# static method is the one which neither works on instance members nor on class members. It's a utility\n",
    "# method which takes some input parameters and return the result.\n",
    "\n",
    "# cls refers to type class of loaded class and self refers to......\n",
    "class Account:\n",
    "    rate=9                  # class variable\n",
    "    def __init__(self,accid,name,balance):\n",
    "        self.accid=accid\n",
    "        self.name=name\n",
    "        self.balance=balance\n",
    "    def getAccid(self):              # instance method\n",
    "        return self.accid\n",
    "    def getName(self):               # instance method\n",
    "        return self.name\n",
    "    def getBalance(self):            # instance method\n",
    "        return self.balance\n",
    "\n",
    "    @classmethod\n",
    "    def getRate(cls):\n",
    "        print(\"Type of ref \\t\", type(cls))\n",
    "        print(\"Type of ref \\t\", id(cls))\n",
    "        return cls.rate\n",
    "    \n",
    "    @staticmethod\n",
    "    def calculateEMI(no_of_years,loan_amt):\n",
    "        return \"calculated EMI per month\"\n",
    "\n",
    "c1=Account(1,\"Abc\",40000)\n",
    "c2=Account(2,\"Xyz\",70000)\n",
    "\n",
    "print(c1.getAccid(),\"\\t\",c1.getName(),\"\\t\",c1.getBalance())\n",
    "print(c2.getAccid(),\"\\t\",c2.getName(),\"\\t\",c2.getBalance())\n",
    "\n",
    "print(Account.getRate())\n",
    "\n",
    "print(Account.calculateEMI(10,200000))\n",
    "ref =Account\n",
    "\n",
    "print(\"Type of ref \\t\", type(ref))\n",
    "print(\"Type of ref \\t\", id(ref))\n"
   ]
  },
  {
   "cell_type": "code",
   "execution_count": 75,
   "metadata": {},
   "outputs": [
    {
     "name": "stdout",
     "output_type": "stream",
     "text": [
      "1 \t Abc \t 40000\n",
      "2 \t Xyz \t 70000\n",
      "9\n",
      "calculated EMI per month\n",
      "{'accid': 1, 'name': 'Abc', 'balance': 40000}\n",
      "{'__module__': '__main__', 'rate': 9, '__init__': <function Account.__init__ at 0x00000229B61FFB00>, 'getAccid': <function Account.getAccid at 0x00000229B61FFBA0>, 'getName': <function Account.getName at 0x00000229B61FFC40>, 'getBalance': <function Account.getBalance at 0x00000229B61FFCE0>, 'getRate': <classmethod(<function Account.getRate at 0x00000229B61FFD80>)>, 'calculateEMI': <staticmethod(<function Account.calculateEMI at 0x00000229B61FFE20>)>, '__dict__': <attribute '__dict__' of 'Account' objects>, '__weakref__': <attribute '__weakref__' of 'Account' objects>, '__doc__': None}\n"
     ]
    },
    {
     "data": {
      "text/plain": [
       "'calculated EMI per month'"
      ]
     },
     "execution_count": 75,
     "metadata": {},
     "output_type": "execute_result"
    }
   ],
   "source": [
    "class Account:\n",
    "    rate=9                  # class variable\n",
    "    def __init__(self,accid,name,balance):\n",
    "        self.accid=accid\n",
    "        self.name=name\n",
    "        self.balance=balance\n",
    "    def getAccid(self):              # instance method\n",
    "        return self.accid\n",
    "    def getName(self):               # instance method\n",
    "        return self.name\n",
    "    def getBalance(self):            # instance method\n",
    "        return self.balance\n",
    "\n",
    "    @classmethod\n",
    "    def getRate(cls):\n",
    "        return cls.rate\n",
    "    \n",
    "    @staticmethod\n",
    "    def calculateEMI(no_of_years,load_amt):\n",
    "        return \"calculated EMI per month\"\n",
    "\n",
    "c1=Account(1,\"Abc\",40000)       # instance object\n",
    "c2=Account(2,\"Xyz\",70000)       # instance object\n",
    "\n",
    "print(c1.getAccid(),\"\\t\",c1.getName(),\"\\t\",c1.getBalance())\n",
    "print(c2.getAccid(),\"\\t\",c2.getName(),\"\\t\",c2.getBalance())\n",
    "\n",
    "print(Account.getRate())\n",
    "\n",
    "print(Account.calculateEMI(10,200000))\n",
    "print(c1.__dict__)\n",
    "temp=Account        # class object\n",
    "print(temp.__dict__)\n",
    "\n",
    "c1.calculateEMI(5,25000)"
   ]
  },
  {
   "cell_type": "code",
   "execution_count": 78,
   "metadata": {},
   "outputs": [
    {
     "name": "stdout",
     "output_type": "stream",
     "text": [
      "1 \t Abc \t 40000\n",
      "2 \t Xyz \t 70000\n",
      "9\n",
      "calculated EMI per month\n",
      "{'accid': 1, 'name': 'Abc', 'balance': 40000}\n",
      "{'__module__': '__main__', 'rate': 9, '__init__': <function Account.__init__ at 0x00000229B49FD800>, 'getAccid': <function Account.getAccid at 0x00000229B49FD580>, 'getName': <function Account.getName at 0x00000229B49FDD00>, 'getBalance': <function Account.getBalance at 0x00000229B49FC680>, 'getRate': <classmethod(<function Account.getRate at 0x00000229B49FDEE0>)>, 'calculateEMI': <staticmethod(<function Account.calculateEMI at 0x00000229B49FDF80>)>, '__dict__': <attribute '__dict__' of 'Account' objects>, '__weakref__': <attribute '__weakref__' of 'Account' objects>, '__doc__': None}\n",
      "let's display the types of instance object (c1) and class object(temp)\n",
      "<class '__main__.Account'>\n",
      "<class 'type'>\n"
     ]
    }
   ],
   "source": [
    "# Solved earlier \n",
    "class Account:\n",
    "    rate=9                  # class variable\n",
    "    def __init__(self,accid,name,balance):\n",
    "        self.accid=accid                   \n",
    "        self.name=name                      \n",
    "        self.balance=balance               \n",
    "    def getAccid(self):              # instance method\n",
    "        return self.accid\n",
    "    def getName(self):               # instance method\n",
    "        return self.name\n",
    "    def getBalance(self):            # instance method\n",
    "        return self.balance\n",
    "\n",
    "    @classmethod\n",
    "    def getRate(cls):\n",
    "        return cls.rate\n",
    "    \n",
    "    @staticmethod\n",
    "    def calculateEMI(no_of_years,load_amt):\n",
    "        return \"calculated EMI per month\"\n",
    "\n",
    "c1=Account(1,\"Abc\",40000)       # instance object\n",
    "c2=Account(2,\"Xyz\",70000)       # instance object\n",
    "\n",
    "print(c1.getAccid(),\"\\t\",c1.getName(),\"\\t\",c1.getBalance())\n",
    "print(c2.getAccid(),\"\\t\",c2.getName(),\"\\t\",c2.getBalance())\n",
    "\n",
    "print(Account.getRate())\n",
    "\n",
    "print(Account.calculateEMI(10,200000))\n",
    "print(c1.__dict__)\n",
    "temp=Account        # class object\n",
    "print(temp.__dict__)\n",
    "\n",
    "print(\"let's display the types of instance object (c1) and class object(temp)\")\n",
    "print(type(c1))\n",
    "print(type(temp))"
   ]
  },
  {
   "cell_type": "markdown",
   "metadata": {},
   "source": [
    "#### **Duck Typing**\n",
    "\n",
    "- OOPS in Python\\OOPS\\Duck_Typing_Python\n",
    "\n",
    "    Python doesn't care about which class of object it is, it it is an object and required behavior (method) is present for that object then it will work. The type of object is distinguished only at runtime. This is called as \"Duck Typing\".\n",
    "        \n",
    "        - w weapon , attack example from java"
   ]
  },
  {
   "cell_type": "code",
   "execution_count": 18,
   "metadata": {},
   "outputs": [
    {
     "name": "stdout",
     "output_type": "stream",
     "text": [
      "Type of obj is\t <class '__main__.Bird'>\n",
      "Bird is flying\n",
      "Type of obj is\t <class '__main__.SuperMan'>\n",
      "Superman is flying\n"
     ]
    }
   ],
   "source": [
    "class Bird:\n",
    "    def fly(self):\n",
    "        print(\"Bird is flying\")\n",
    "class SuperMan:\n",
    "    def fly(self):\n",
    "        print(\"Superman is flying\")\n",
    "class Person:\n",
    "    def talk(self):\n",
    "        print(\"Person is talking\")\n",
    "\n",
    "def perform(obj):\n",
    "    print(\"Type of obj is\\t\",type(obj))\n",
    "    obj.fly()\n",
    "\n",
    "b1=Bird()\n",
    "perform(b1)\n",
    "s1=SuperMan()\n",
    "perform(s1)"
   ]
  },
  {
   "cell_type": "markdown",
   "metadata": {},
   "source": [
    "Ex2"
   ]
  },
  {
   "cell_type": "code",
   "execution_count": 19,
   "metadata": {},
   "outputs": [
    {
     "name": "stdout",
     "output_type": "stream",
     "text": [
      "Type of obj is\t <class '__main__.Bird'>\n",
      "Bird is flying\n",
      "Type of obj is\t <class '__main__.SuperMan'>\n",
      "Superman is flying\n",
      "Type of obj is\t <class '__main__.Person'>\n"
     ]
    },
    {
     "ename": "AttributeError",
     "evalue": "'Person' object has no attribute 'fly'",
     "output_type": "error",
     "traceback": [
      "\u001b[1;31m---------------------------------------------------------------------------\u001b[0m",
      "\u001b[1;31mAttributeError\u001b[0m                            Traceback (most recent call last)",
      "Cell \u001b[1;32mIn[19], line 20\u001b[0m\n\u001b[0;32m     18\u001b[0m perform(s1)\n\u001b[0;32m     19\u001b[0m p1\u001b[38;5;241m=\u001b[39mPerson()\n\u001b[1;32m---> 20\u001b[0m \u001b[43mperform\u001b[49m\u001b[43m(\u001b[49m\u001b[43mp1\u001b[49m\u001b[43m)\u001b[49m   \u001b[38;5;66;03m#  AttributeError: 'Person' object has no attribute 'fly'\u001b[39;00m\n",
      "Cell \u001b[1;32mIn[19], line 13\u001b[0m, in \u001b[0;36mperform\u001b[1;34m(obj)\u001b[0m\n\u001b[0;32m     11\u001b[0m \u001b[38;5;28;01mdef\u001b[39;00m \u001b[38;5;21mperform\u001b[39m(obj):\n\u001b[0;32m     12\u001b[0m     \u001b[38;5;28mprint\u001b[39m(\u001b[38;5;124m\"\u001b[39m\u001b[38;5;124mType of obj is\u001b[39m\u001b[38;5;130;01m\\t\u001b[39;00m\u001b[38;5;124m\"\u001b[39m,\u001b[38;5;28mtype\u001b[39m(obj))\n\u001b[1;32m---> 13\u001b[0m     \u001b[43mobj\u001b[49m\u001b[38;5;241;43m.\u001b[39;49m\u001b[43mfly\u001b[49m()\n",
      "\u001b[1;31mAttributeError\u001b[0m: 'Person' object has no attribute 'fly'"
     ]
    }
   ],
   "source": [
    "class Bird:\n",
    "    def fly(self):\n",
    "        print(\"Bird is flying\")\n",
    "class SuperMan:\n",
    "    def fly(self):\n",
    "        print(\"Superman is flying\")\n",
    "class Person:\n",
    "    def talk(self):\n",
    "        print(\"Person is flying\")\n",
    "\n",
    "def perform(obj):\n",
    "    print(\"Type of obj is\\t\",type(obj))\n",
    "    obj.fly()\n",
    "\n",
    "b1=Bird()\n",
    "perform(b1)\n",
    "s1=SuperMan()\n",
    "perform(s1)\n",
    "p1=Person()\n",
    "perform(p1)   #  AttributeError: 'Person' object has no attribute 'fly'"
   ]
  },
  {
   "cell_type": "markdown",
   "metadata": {},
   "source": [
    "Ex3"
   ]
  },
  {
   "cell_type": "code",
   "execution_count": 2,
   "metadata": {},
   "outputs": [
    {
     "name": "stdout",
     "output_type": "stream",
     "text": [
      "Type of obj is\t <class '__main__.Bird'>\n",
      "Bird is flying\n",
      "Type of obj is\t <class '__main__.SuperMan'>\n",
      "Superman is flying\n",
      "Type of obj is\t <class '__main__.Person'>\n",
      "<__main__.Person object at 0x0000020C8B357090>  can't fly\n"
     ]
    }
   ],
   "source": [
    "# Strong Typing\n",
    "\n",
    "class Bird:\n",
    "    def fly(self):\n",
    "        print(\"Bird is flying\")\n",
    "class SuperMan:\n",
    "    def fly(self):\n",
    "        print(\"Superman is flying\")\n",
    "class Person:\n",
    "    def talk(self):\n",
    "        print(\"Person is flying\")\n",
    "\n",
    "def perform(obj):\n",
    "    print(\"Type of obj is\\t\",type(obj))\n",
    "    if(hasattr(obj,\"fly\")):             # Strong Typing happens here\n",
    "        obj.fly()\n",
    "    else:\n",
    "        print(f\"{obj}  can't fly\")\n",
    "\n",
    "b1=Bird()\n",
    "perform(b1)\n",
    "s1=SuperMan()\n",
    "perform(s1)\n",
    "p1=Person()\n",
    "perform(p1)   #  AttributeError: 'Person' object has no attribute 'fly'"
   ]
  },
  {
   "cell_type": "markdown",
   "metadata": {},
   "source": [
    "#### **Nested Class**\n",
    "\n",
    "- OOPS in Python\\OOPS\\Nested Class"
   ]
  },
  {
   "cell_type": "code",
   "execution_count": 25,
   "metadata": {},
   "outputs": [
    {
     "name": "stdout",
     "output_type": "stream",
     "text": [
      "Rahul\n",
      "\n",
      "\n",
      "AK47\t75 Rounds\t34.3 in\n"
     ]
    }
   ],
   "source": [
    "class Army:\n",
    "    def __init__(self):\n",
    "        self.name=\"Rahul\"\n",
    "    def show(self):\n",
    "        print(self.name)\n",
    "    class Gun:\n",
    "        def __init__(self):\n",
    "            self.name=\"AK47\"\n",
    "            self.capacity=\"75 Rounds\"\n",
    "            self.length=\"34.3 in\"\n",
    "        def __str__(self):\n",
    "            return self.name+\"\\t\"+self.capacity+\"\\t\"+self.length #must return \n",
    "\n",
    "a1=Army()\n",
    "a1.show()\n",
    "g1=Army.Gun()\n",
    "print(\"\\n\")\n",
    "print(g1)"
   ]
  },
  {
   "cell_type": "code",
   "execution_count": 4,
   "metadata": {},
   "outputs": [
    {
     "name": "stdout",
     "output_type": "stream",
     "text": [
      "Pranay\n",
      "M416\t40 Rounds\t30.2 in\n"
     ]
    }
   ],
   "source": [
    "class army:\n",
    "    def __init__(self):\n",
    "        self.name = 'Pranay'\n",
    "    def show(self):\n",
    "        print(self.name)\n",
    "    class gun:\n",
    "        def __init__(self):\n",
    "            self.name = \"M416\"\n",
    "            self.capacity = '40 Rounds'\n",
    "            self.length = '30.2 in'\n",
    "        def __str__(self):\n",
    "            return self.name+\"\\t\"+self.capacity+\"\\t\"+self.length\n",
    "        \n",
    "a1 = army()\n",
    "\n",
    "a1.show()\n",
    "\n",
    "g1 = army.gun()\n",
    "\n",
    "print(g1)"
   ]
  },
  {
   "cell_type": "code",
   "execution_count": 26,
   "metadata": {},
   "outputs": [
    {
     "name": "stdout",
     "output_type": "stream",
     "text": [
      "Rahul\n",
      "\n",
      "\n",
      "Rahul\tAK47\t75 Rounds\t34.3 in\n"
     ]
    }
   ],
   "source": [
    "class Army:\n",
    "    def __init__(self):\n",
    "        self.name=\"Rahul\"\n",
    "    def show(self):\n",
    "        print(self.name)\n",
    "    class Gun:\n",
    "        def __init__(self,ref):\n",
    "            self.name=\"AK47\"\n",
    "            self.capacity=\"75 Rounds\"\n",
    "            self.length=\"34.3 in\"\n",
    "            self.ref=ref\n",
    "        def __str__(self):\n",
    "            return self.ref.name+\"\\t\"+self.name+\"\\t\"+self.capacity+\"\\t\"+self.length\n",
    "\n",
    "a1=Army()\n",
    "a1.show()\n",
    "g1=Army.Gun(a1)\n",
    "print(\"\\n\")\n",
    "print(g1)"
   ]
  },
  {
   "cell_type": "code",
   "execution_count": 2,
   "metadata": {},
   "outputs": [
    {
     "name": "stdout",
     "output_type": "stream",
     "text": [
      "SMGs\theavy\n"
     ]
    }
   ],
   "source": [
    "class weapon:\n",
    "    def __init__(self, type, size):\n",
    "        self.type = type \n",
    "        self.size = size\n",
    "\n",
    "    def __str__(self):\n",
    "        return self.type+'\\t'+self.size\n",
    "    \n",
    "w1 = weapon('SMGs', 'heavy')\n",
    "\n",
    "print(w1)"
   ]
  },
  {
   "cell_type": "code",
   "execution_count": 4,
   "metadata": {},
   "outputs": [
    {
     "name": "stdout",
     "output_type": "stream",
     "text": [
      "The type of gun is Sniper and it comes under size of Long range\n",
      "The type of gun is SMGs and it comes under size of heavy\n",
      "SMGs\theavy\n"
     ]
    }
   ],
   "source": [
    "class weapon:\n",
    "    def __init__(self, type, size):\n",
    "        self.type = type \n",
    "        self.size = size\n",
    "    def show(self):\n",
    "        print(f\"The type of gun is {self.type} and it comes under size of {self.size}\")\n",
    "\n",
    "    def __str__(self):\n",
    "        return self.type+'\\t'+self.size\n",
    "    \n",
    "w1 = weapon('SMGs', 'heavy')\n",
    "w2 = weapon(\"Sniper\", 'Long range')\n",
    "\n",
    "w2.show()\n",
    "w1.show()\n",
    "print(w1)"
   ]
  },
  {
   "cell_type": "markdown",
   "metadata": {},
   "source": [
    "#### **Magic / Dunder methods**\n",
    "\n",
    "- OOPS in Python\\OOPS\\Magic or Dunder Methods\n",
    "\n",
    "\n",
    "        Python - Magic or Dunder Methods. Magic methods in Python are the special methods that start and end with the double underscores. They are also called dunder methods. Magic methods are not meant to be invoked directly by you, but the invocation happens internally from the class on a certain action.\n",
    "        For example, when you add two numbers using the + operator, internally, the __add__() method will be called.\n",
    "\n",
    "        Built-in classes in Python define many magic methods. Use the dir() function to see the number of magic methods inherited by a class. For example, in order to display all the attributes and methods defined in the \"int\" class, give following command and check\n",
    "\n",
    "dir(int)"
   ]
  },
  {
   "cell_type": "markdown",
   "metadata": {},
   "source": [
    "Ex1"
   ]
  },
  {
   "cell_type": "code",
   "execution_count": 27,
   "metadata": {},
   "outputs": [
    {
     "name": "stdout",
     "output_type": "stream",
     "text": [
      "['__abs__', '__add__', '__and__', '__bool__', '__ceil__', '__class__', '__delattr__', '__dir__', '__divmod__', '__doc__', '__eq__', '__float__', '__floor__', '__floordiv__', '__format__', '__ge__', '__getattribute__', '__getnewargs__', '__getstate__', '__gt__', '__hash__', '__index__', '__init__', '__init_subclass__', '__int__', '__invert__', '__le__', '__lshift__', '__lt__', '__mod__', '__mul__', '__ne__', '__neg__', '__new__', '__or__', '__pos__', '__pow__', '__radd__', '__rand__', '__rdivmod__', '__reduce__', '__reduce_ex__', '__repr__', '__rfloordiv__', '__rlshift__', '__rmod__', '__rmul__', '__ror__', '__round__', '__rpow__', '__rrshift__', '__rshift__', '__rsub__', '__rtruediv__', '__rxor__', '__setattr__', '__sizeof__', '__str__', '__sub__', '__subclasshook__', '__truediv__', '__trunc__', '__xor__', 'as_integer_ratio', 'bit_count', 'bit_length', 'conjugate', 'denominator', 'from_bytes', 'imag', 'numerator', 'real', 'to_bytes']\n"
     ]
    }
   ],
   "source": [
    "print(dir(int))"
   ]
  },
  {
   "cell_type": "code",
   "execution_count": 28,
   "metadata": {},
   "outputs": [
    {
     "name": "stdout",
     "output_type": "stream",
     "text": [
      "inside __new__ dunder method\n",
      "id of instance is\t 2437471831056\n",
      "inside __init__ dunder method\n",
      "id of f1 is\t 2437471831056\n",
      "\n",
      "\n",
      "done\n"
     ]
    }
   ],
   "source": [
    "class First:\n",
    "    def __new__(cls):\n",
    "        print(\"inside __new__ dunder method\")\n",
    "        instance=object.__new__(cls)        # returns obj of class first\n",
    "        print(\"id of instance is\\t\",id(instance))\n",
    "        return instance\n",
    "    def __init__(self):\n",
    "        print(\"inside __init__ dunder method\")\n",
    "\n",
    "f1=First()\n",
    "print(\"id of f1 is\\t\",id(f1))\n",
    "print(\"\\n\")\n",
    "print(\"done\")\n",
    "# new operator gets called first and then __init__ gets called later on."
   ]
  },
  {
   "cell_type": "code",
   "execution_count": 7,
   "metadata": {},
   "outputs": [
    {
     "name": "stdout",
     "output_type": "stream",
     "text": [
      "Sachin\n",
      "25\n"
     ]
    }
   ],
   "source": [
    "class Person:\n",
    "    def __init__(self,name,age):\n",
    "        self.name=name\n",
    "        self.age=age\n",
    "\n",
    "p1=Person(\"Sachin\",25)\n",
    "print(p1.name)\n",
    "print(p1.age)"
   ]
  },
  {
   "cell_type": "code",
   "execution_count": 32,
   "metadata": {},
   "outputs": [
    {
     "name": "stdout",
     "output_type": "stream",
     "text": [
      "I am Sachin and my age is 25\n"
     ]
    }
   ],
   "source": [
    "class Person:\n",
    "    def __init__(self,name,age):\n",
    "        self.name=name\n",
    "        self.age=age\n",
    "    def __str__(self):\n",
    "        return f\"I am {self.name} and my age is {self.age}\"\n",
    "\n",
    "p1=Person(\"Sachin\",25)\n",
    "print(p1)    #  proves that internally __str__ magic or dunder function gets called"
   ]
  },
  {
   "cell_type": "code",
   "execution_count": 11,
   "metadata": {},
   "outputs": [
    {
     "name": "stdout",
     "output_type": "stream",
     "text": [
      "I am Pranay and my age is 23\n"
     ]
    }
   ],
   "source": [
    "class person:\n",
    "    def __init__(self, name, age):\n",
    "        self.name = name\n",
    "        self.age = age\n",
    "    def __str__(self):\n",
    "        return f\"I am {self.name} and my age is {self.age}\"\n",
    "\n",
    "p1 = person(\"Pranay\", 23)\n",
    "\n",
    "print(p1)"
   ]
  },
  {
   "cell_type": "markdown",
   "metadata": {},
   "source": [
    "## **Dataclasses Module in Python**"
   ]
  },
  {
   "cell_type": "code",
   "execution_count": 34,
   "metadata": {},
   "outputs": [
    {
     "name": "stdout",
     "output_type": "stream",
     "text": [
      "Rohit\t35\t5.8\trohit@gmail.com\n"
     ]
    }
   ],
   "source": [
    "\n",
    "# Code without dataclasses module\n",
    "\n",
    "class Person:\n",
    "    def __init__(self,name,age,height,email):\n",
    "        self.name=name\n",
    "        self.age=age\n",
    "        self.height=height\n",
    "        self.email=email\n",
    "    \n",
    "    def __str__(self):\n",
    "        return self.name+\"\\t\"+str(self.age)+\"\\t\"+str(self.height)+\"\\t\"+self.email\n",
    "\n",
    "\n",
    "p=Person(\"Rohit\",35,5.8,\"rohit@gmail.com\")\n",
    "print(p)"
   ]
  },
  {
   "cell_type": "code",
   "execution_count": 35,
   "metadata": {},
   "outputs": [
    {
     "name": "stdout",
     "output_type": "stream",
     "text": [
      "Person(name='Rohit', age=35, height=5.8, email='rohit@gmail.com')\n"
     ]
    }
   ],
   "source": [
    "# with *dataclasses* module we no longer need to define *__init__* and *__str__* methods in our class, they are provided implicitly.\n",
    "\n",
    "\n",
    "from dataclasses import dataclass\n",
    "\n",
    "@dataclass\n",
    "class Person:\n",
    "    name: str\n",
    "    age: int\n",
    "    height: float\n",
    "    email: str\n",
    "\n",
    "\n",
    "# p=Person() # TypeError: Person.__init__() missing 4 required positional arguments: 'name', 'age', 'height', and 'email'\n",
    "# it's because , inside Person class __init__() method is internally provided which needs 4 arguments while\n",
    "# creating an object\n",
    "\n",
    "p=Person(\"Rohit\",35,5.8,\"rohit@gmail.com\")  # __init__ method which is internally provided gets invoked here\n",
    "print(p)  # also __str__() method is internally provided"
   ]
  },
  {
   "cell_type": "code",
   "execution_count": 17,
   "metadata": {},
   "outputs": [
    {
     "name": "stdout",
     "output_type": "stream",
     "text": [
      "person(name='Pranay', age=23, height=5.78, email='pranayshah@gmail.com')\n"
     ]
    }
   ],
   "source": [
    "## NO DEFAULT ARGS\n",
    "\n",
    "from dataclasses import dataclass\n",
    "@dataclass \n",
    "class person:\n",
    "    name :str\n",
    "    age : int\n",
    "    height :float\n",
    "    email : str\n",
    "\n",
    "p = person(\"Pranay\", 23, 5.78, 'pranayshah@gmail.com')\n",
    "\n",
    "print(p)"
   ]
  },
  {
   "cell_type": "code",
   "execution_count": 83,
   "metadata": {},
   "outputs": [
    {
     "name": "stdout",
     "output_type": "stream",
     "text": [
      "person(name='Pranay', age=19, height=5.78, email='pranayshah@outlook.co.in', gmail='gmail.24@gmail.com')\n",
      "person(name='Shah', age=23, height=5.78, email='pranayshah@gmail.com', gmail='gmail.24@gmail.com')\n"
     ]
    }
   ],
   "source": [
    "## NO DEFAULT ARGS\n",
    "\n",
    "from dataclasses import dataclass\n",
    "@dataclass \n",
    "class person:\n",
    "    name :str = 'Pranay'\n",
    "    age : int = 19\n",
    "    height :float = 5.78\n",
    "    email : str = 'pranayshah@outlook.co.in'\n",
    "    gmail : str = 'gmail.24@gmail.com'\n",
    "\n",
    "p = person(\"Shah\", 23, 5.78, 'pranayshah@gmail.com')\n",
    "\n",
    "p1 = person()\n",
    "\n",
    "print(p1)\n",
    "print(p)"
   ]
  },
  {
   "cell_type": "code",
   "execution_count": 21,
   "metadata": {},
   "outputs": [
    {
     "name": "stdout",
     "output_type": "stream",
     "text": [
      "Person(name='Sachin', age=50, height=5.1, email='sachin@gmail.com')\n",
      "Person(name='Rohit', age=35, height=5.8, email='Rohit@gmail.com')\n"
     ]
    }
   ],
   "source": [
    "from dataclasses import dataclass\n",
    "\n",
    "@dataclass\n",
    "class Person:\n",
    "    name: str =\"Rohit\"\n",
    "    age: int  = 35\n",
    "    height: float =5.8\n",
    "    email: str = \"Rohit@gmail.com\"\n",
    "\n",
    "\n",
    "p=Person() # now there is __init__() methods with default values which are provided in the class\n",
    "\n",
    "p1=Person(\"Sachin\",50,5.1,\"sachin@gmail.com\")  # you can pass also explicitly\n",
    "print(p1) \n",
    "print(p)"
   ]
  },
  {
   "cell_type": "code",
   "execution_count": 20,
   "metadata": {},
   "outputs": [
    {
     "ename": "TypeError",
     "evalue": "Person.__init__() missing 2 required positional arguments: 'name' and 'age'",
     "output_type": "error",
     "traceback": [
      "\u001b[1;31m---------------------------------------------------------------------------\u001b[0m",
      "\u001b[1;31mTypeError\u001b[0m                                 Traceback (most recent call last)",
      "Cell \u001b[1;32mIn[20], line 10\u001b[0m\n\u001b[0;32m      7\u001b[0m     height: \u001b[38;5;28mfloat\u001b[39m \u001b[38;5;241m=\u001b[39m\u001b[38;5;241m5.8\u001b[39m\n\u001b[0;32m      8\u001b[0m     email: \u001b[38;5;28mstr\u001b[39m \u001b[38;5;241m=\u001b[39m \u001b[38;5;124m\"\u001b[39m\u001b[38;5;124mRohit@gmail.com\u001b[39m\u001b[38;5;124m\"\u001b[39m\n\u001b[1;32m---> 10\u001b[0m p\u001b[38;5;241m=\u001b[39m\u001b[43mPerson\u001b[49m\u001b[43m(\u001b[49m\u001b[43m)\u001b[49m \u001b[38;5;66;03m# Error you must pass values for \"name\" and \"age\"\u001b[39;00m\n\u001b[0;32m     12\u001b[0m p1\u001b[38;5;241m=\u001b[39mPerson(\u001b[38;5;124m\"\u001b[39m\u001b[38;5;124mSachin\u001b[39m\u001b[38;5;124m\"\u001b[39m,\u001b[38;5;241m50\u001b[39m,\u001b[38;5;241m5.1\u001b[39m,\u001b[38;5;124m\"\u001b[39m\u001b[38;5;124msachin@gmail.com\u001b[39m\u001b[38;5;124m\"\u001b[39m)  \u001b[38;5;66;03m# you can pass also explicitly\u001b[39;00m\n\u001b[0;32m     13\u001b[0m \u001b[38;5;28mprint\u001b[39m(p)\n",
      "\u001b[1;31mTypeError\u001b[0m: Person.__init__() missing 2 required positional arguments: 'name' and 'age'"
     ]
    }
   ],
   "source": [
    "from dataclasses import dataclass\n",
    "\n",
    "@dataclass\n",
    "class Person:\n",
    "    name: str\n",
    "    age: int\n",
    "    height: float =5.8\n",
    "    email: str = \"Rohit@gmail.com\"\n",
    "\n",
    "p=Person() # Error you must pass values for \"name\" and \"age\"\n",
    "\n",
    "p1=Person(\"Sachin\",50,5.1,\"sachin@gmail.com\")  # you can pass also explicitly\n",
    "print(p)\n",
    "print(p1)"
   ]
  },
  {
   "cell_type": "markdown",
   "metadata": {},
   "source": [
    "Ex4"
   ]
  },
  {
   "cell_type": "code",
   "execution_count": 42,
   "metadata": {},
   "outputs": [
    {
     "name": "stdout",
     "output_type": "stream",
     "text": [
      "Person(name='Rohit', age=35, height=5.8, email='Rohit@gmail.com')\n",
      "Person(name='Sachin', age=50, height=5.1, email='sachin@gmail.com')\n"
     ]
    }
   ],
   "source": [
    "from dataclasses import dataclass\n",
    "\n",
    "@dataclass\n",
    "class Person:\n",
    "    name: str      \n",
    "    age: int \n",
    "    height: float =5.8\n",
    "    email: str = \"Rohit@gmail.com\"\n",
    "\n",
    "\n",
    "p=Person(\"Rohit\",35) # other values would be the ones which are provided inside the class\n",
    "\n",
    "p1=Person(\"Sachin\",50,5.1,\"sachin@gmail.com\")  # you can pass also explicitly\n",
    "print(p)  \n",
    "print(p1) "
   ]
  },
  {
   "cell_type": "code",
   "execution_count": 44,
   "metadata": {},
   "outputs": [
    {
     "name": "stdout",
     "output_type": "stream",
     "text": [
      "person(name='Pranay', age=23, email='gfdgd@rgr.vcom')\n"
     ]
    }
   ],
   "source": [
    "from dataclasses import dataclass\n",
    "\n",
    "@dataclass\n",
    "class person:    \n",
    "    name : str \n",
    "    age :int\n",
    "    email : str  = \"gfdgd@rgr.vcom\"\n",
    "\n",
    "p = person(\n",
    "    \"Pranay\",\n",
    "    23\n",
    ")\n",
    "\n",
    "print(p)"
   ]
  },
  {
   "cell_type": "markdown",
   "metadata": {},
   "source": [
    "Ex5"
   ]
  },
  {
   "cell_type": "code",
   "execution_count": 22,
   "metadata": {},
   "outputs": [
    {
     "name": "stdout",
     "output_type": "stream",
     "text": [
      "automobile(make='Maserati', model='r7', mft_year=2022)\n"
     ]
    }
   ],
   "source": [
    "from dataclasses import dataclass\n",
    "@dataclass\n",
    "class automobile:\n",
    "    make : str\n",
    "    model : str\n",
    "    mft_year : int\n",
    "\n",
    "a = automobile('Maserati', 'r7', 2022)\n",
    "\n",
    "print(a)"
   ]
  },
  {
   "cell_type": "code",
   "execution_count": 1,
   "metadata": {},
   "outputs": [
    {
     "ename": "TypeError",
     "evalue": "non-default argument 'height' follows default argument",
     "output_type": "error",
     "traceback": [
      "\u001b[1;31m---------------------------------------------------------------------------\u001b[0m",
      "\u001b[1;31mTypeError\u001b[0m                                 Traceback (most recent call last)",
      "Cell \u001b[1;32mIn[1], line 3\u001b[0m\n\u001b[0;32m      1\u001b[0m \u001b[38;5;28;01mfrom\u001b[39;00m \u001b[38;5;21;01mdataclasses\u001b[39;00m \u001b[38;5;28;01mimport\u001b[39;00m dataclass\n\u001b[1;32m----> 3\u001b[0m \u001b[38;5;129;43m@dataclass\u001b[39;49m\n\u001b[0;32m      4\u001b[0m \u001b[38;5;28;43;01mclass\u001b[39;49;00m\u001b[43m \u001b[49m\u001b[38;5;21;43;01mPerson\u001b[39;49;00m\u001b[43m:\u001b[49m\n\u001b[0;32m      5\u001b[0m \u001b[43m    \u001b[49m\u001b[43mname\u001b[49m\u001b[43m:\u001b[49m\u001b[43m \u001b[49m\u001b[38;5;28;43mstr\u001b[39;49m\n\u001b[0;32m      6\u001b[0m \u001b[43m    \u001b[49m\u001b[43mage\u001b[49m\u001b[43m:\u001b[49m\u001b[43m \u001b[49m\u001b[38;5;28;43mint\u001b[39;49m\u001b[43m \u001b[49m\u001b[38;5;241;43m=\u001b[39;49m\u001b[43m \u001b[49m\u001b[38;5;241;43m35\u001b[39;49m\n",
      "File \u001b[1;32mc:\\Users\\RKC\\anaconda3\\Lib\\dataclasses.py:1232\u001b[0m, in \u001b[0;36mdataclass\u001b[1;34m(cls, init, repr, eq, order, unsafe_hash, frozen, match_args, kw_only, slots, weakref_slot)\u001b[0m\n\u001b[0;32m   1229\u001b[0m     \u001b[38;5;28;01mreturn\u001b[39;00m wrap\n\u001b[0;32m   1231\u001b[0m \u001b[38;5;66;03m# We're called as @dataclass without parens.\u001b[39;00m\n\u001b[1;32m-> 1232\u001b[0m \u001b[38;5;28;01mreturn\u001b[39;00m \u001b[43mwrap\u001b[49m\u001b[43m(\u001b[49m\u001b[38;5;28;43mcls\u001b[39;49m\u001b[43m)\u001b[49m\n",
      "File \u001b[1;32mc:\\Users\\RKC\\anaconda3\\Lib\\dataclasses.py:1222\u001b[0m, in \u001b[0;36mdataclass.<locals>.wrap\u001b[1;34m(cls)\u001b[0m\n\u001b[0;32m   1221\u001b[0m \u001b[38;5;28;01mdef\u001b[39;00m \u001b[38;5;21mwrap\u001b[39m(\u001b[38;5;28mcls\u001b[39m):\n\u001b[1;32m-> 1222\u001b[0m     \u001b[38;5;28;01mreturn\u001b[39;00m \u001b[43m_process_class\u001b[49m\u001b[43m(\u001b[49m\u001b[38;5;28;43mcls\u001b[39;49m\u001b[43m,\u001b[49m\u001b[43m \u001b[49m\u001b[43minit\u001b[49m\u001b[43m,\u001b[49m\u001b[43m \u001b[49m\u001b[38;5;28;43mrepr\u001b[39;49m\u001b[43m,\u001b[49m\u001b[43m \u001b[49m\u001b[43meq\u001b[49m\u001b[43m,\u001b[49m\u001b[43m \u001b[49m\u001b[43morder\u001b[49m\u001b[43m,\u001b[49m\u001b[43m \u001b[49m\u001b[43munsafe_hash\u001b[49m\u001b[43m,\u001b[49m\n\u001b[0;32m   1223\u001b[0m \u001b[43m                          \u001b[49m\u001b[43mfrozen\u001b[49m\u001b[43m,\u001b[49m\u001b[43m \u001b[49m\u001b[43mmatch_args\u001b[49m\u001b[43m,\u001b[49m\u001b[43m \u001b[49m\u001b[43mkw_only\u001b[49m\u001b[43m,\u001b[49m\u001b[43m \u001b[49m\u001b[43mslots\u001b[49m\u001b[43m,\u001b[49m\n\u001b[0;32m   1224\u001b[0m \u001b[43m                          \u001b[49m\u001b[43mweakref_slot\u001b[49m\u001b[43m)\u001b[49m\n",
      "File \u001b[1;32mc:\\Users\\RKC\\anaconda3\\Lib\\dataclasses.py:1027\u001b[0m, in \u001b[0;36m_process_class\u001b[1;34m(cls, init, repr, eq, order, unsafe_hash, frozen, match_args, kw_only, slots, weakref_slot)\u001b[0m\n\u001b[0;32m   1022\u001b[0m \u001b[38;5;28;01mif\u001b[39;00m init:\n\u001b[0;32m   1023\u001b[0m     \u001b[38;5;66;03m# Does this class have a post-init function?\u001b[39;00m\n\u001b[0;32m   1024\u001b[0m     has_post_init \u001b[38;5;241m=\u001b[39m \u001b[38;5;28mhasattr\u001b[39m(\u001b[38;5;28mcls\u001b[39m, _POST_INIT_NAME)\n\u001b[0;32m   1026\u001b[0m     _set_new_attribute(\u001b[38;5;28mcls\u001b[39m, \u001b[38;5;124m'\u001b[39m\u001b[38;5;124m__init__\u001b[39m\u001b[38;5;124m'\u001b[39m,\n\u001b[1;32m-> 1027\u001b[0m                        \u001b[43m_init_fn\u001b[49m\u001b[43m(\u001b[49m\u001b[43mall_init_fields\u001b[49m\u001b[43m,\u001b[49m\n\u001b[0;32m   1028\u001b[0m \u001b[43m                                \u001b[49m\u001b[43mstd_init_fields\u001b[49m\u001b[43m,\u001b[49m\n\u001b[0;32m   1029\u001b[0m \u001b[43m                                \u001b[49m\u001b[43mkw_only_init_fields\u001b[49m\u001b[43m,\u001b[49m\n\u001b[0;32m   1030\u001b[0m \u001b[43m                                \u001b[49m\u001b[43mfrozen\u001b[49m\u001b[43m,\u001b[49m\n\u001b[0;32m   1031\u001b[0m \u001b[43m                                \u001b[49m\u001b[43mhas_post_init\u001b[49m\u001b[43m,\u001b[49m\n\u001b[0;32m   1032\u001b[0m \u001b[43m                                \u001b[49m\u001b[38;5;66;43;03m# The name to use for the \"self\"\u001b[39;49;00m\n\u001b[0;32m   1033\u001b[0m \u001b[43m                                \u001b[49m\u001b[38;5;66;43;03m# param in __init__.  Use \"self\"\u001b[39;49;00m\n\u001b[0;32m   1034\u001b[0m \u001b[43m                                \u001b[49m\u001b[38;5;66;43;03m# if possible.\u001b[39;49;00m\n\u001b[0;32m   1035\u001b[0m \u001b[43m                                \u001b[49m\u001b[38;5;124;43m'\u001b[39;49m\u001b[38;5;124;43m__dataclass_self__\u001b[39;49m\u001b[38;5;124;43m'\u001b[39;49m\u001b[43m \u001b[49m\u001b[38;5;28;43;01mif\u001b[39;49;00m\u001b[43m \u001b[49m\u001b[38;5;124;43m'\u001b[39;49m\u001b[38;5;124;43mself\u001b[39;49m\u001b[38;5;124;43m'\u001b[39;49m\u001b[43m \u001b[49m\u001b[38;5;129;43;01min\u001b[39;49;00m\u001b[43m \u001b[49m\u001b[43mfields\u001b[49m\n\u001b[0;32m   1036\u001b[0m \u001b[43m                                        \u001b[49m\u001b[38;5;28;43;01melse\u001b[39;49;00m\u001b[43m \u001b[49m\u001b[38;5;124;43m'\u001b[39;49m\u001b[38;5;124;43mself\u001b[39;49m\u001b[38;5;124;43m'\u001b[39;49m\u001b[43m,\u001b[49m\n\u001b[0;32m   1037\u001b[0m \u001b[43m                                \u001b[49m\u001b[38;5;28;43mglobals\u001b[39;49m\u001b[43m,\u001b[49m\n\u001b[0;32m   1038\u001b[0m \u001b[43m                                \u001b[49m\u001b[43mslots\u001b[49m\u001b[43m,\u001b[49m\n\u001b[0;32m   1039\u001b[0m \u001b[43m                      \u001b[49m\u001b[43m)\u001b[49m)\n\u001b[0;32m   1041\u001b[0m \u001b[38;5;66;03m# Get the fields as a list, and include only real fields.  This is\u001b[39;00m\n\u001b[0;32m   1042\u001b[0m \u001b[38;5;66;03m# used in all of the following methods.\u001b[39;00m\n\u001b[0;32m   1043\u001b[0m field_list \u001b[38;5;241m=\u001b[39m [f \u001b[38;5;28;01mfor\u001b[39;00m f \u001b[38;5;129;01min\u001b[39;00m fields\u001b[38;5;241m.\u001b[39mvalues() \u001b[38;5;28;01mif\u001b[39;00m f\u001b[38;5;241m.\u001b[39m_field_type \u001b[38;5;129;01mis\u001b[39;00m _FIELD]\n",
      "File \u001b[1;32mc:\\Users\\RKC\\anaconda3\\Lib\\dataclasses.py:545\u001b[0m, in \u001b[0;36m_init_fn\u001b[1;34m(fields, std_fields, kw_only_fields, frozen, has_post_init, self_name, globals, slots)\u001b[0m\n\u001b[0;32m    543\u001b[0m             seen_default \u001b[38;5;241m=\u001b[39m \u001b[38;5;28;01mTrue\u001b[39;00m\n\u001b[0;32m    544\u001b[0m         \u001b[38;5;28;01melif\u001b[39;00m seen_default:\n\u001b[1;32m--> 545\u001b[0m             \u001b[38;5;28;01mraise\u001b[39;00m \u001b[38;5;167;01mTypeError\u001b[39;00m(\u001b[38;5;124mf\u001b[39m\u001b[38;5;124m'\u001b[39m\u001b[38;5;124mnon-default argument \u001b[39m\u001b[38;5;132;01m{\u001b[39;00mf\u001b[38;5;241m.\u001b[39mname\u001b[38;5;132;01m!r}\u001b[39;00m\u001b[38;5;124m \u001b[39m\u001b[38;5;124m'\u001b[39m\n\u001b[0;32m    546\u001b[0m                             \u001b[38;5;124m'\u001b[39m\u001b[38;5;124mfollows default argument\u001b[39m\u001b[38;5;124m'\u001b[39m)\n\u001b[0;32m    548\u001b[0m \u001b[38;5;28mlocals\u001b[39m \u001b[38;5;241m=\u001b[39m {\u001b[38;5;124mf\u001b[39m\u001b[38;5;124m'\u001b[39m\u001b[38;5;124m_type_\u001b[39m\u001b[38;5;132;01m{\u001b[39;00mf\u001b[38;5;241m.\u001b[39mname\u001b[38;5;132;01m}\u001b[39;00m\u001b[38;5;124m'\u001b[39m: f\u001b[38;5;241m.\u001b[39mtype \u001b[38;5;28;01mfor\u001b[39;00m f \u001b[38;5;129;01min\u001b[39;00m fields}\n\u001b[0;32m    549\u001b[0m \u001b[38;5;28mlocals\u001b[39m\u001b[38;5;241m.\u001b[39mupdate({\n\u001b[0;32m    550\u001b[0m     \u001b[38;5;124m'\u001b[39m\u001b[38;5;124mMISSING\u001b[39m\u001b[38;5;124m'\u001b[39m: MISSING,\n\u001b[0;32m    551\u001b[0m     \u001b[38;5;124m'\u001b[39m\u001b[38;5;124m_HAS_DEFAULT_FACTORY\u001b[39m\u001b[38;5;124m'\u001b[39m: _HAS_DEFAULT_FACTORY,\n\u001b[0;32m    552\u001b[0m     \u001b[38;5;124m'\u001b[39m\u001b[38;5;124m__dataclass_builtins_object__\u001b[39m\u001b[38;5;124m'\u001b[39m: \u001b[38;5;28mobject\u001b[39m,\n\u001b[0;32m    553\u001b[0m })\n",
      "\u001b[1;31mTypeError\u001b[0m: non-default argument 'height' follows default argument"
     ]
    }
   ],
   "source": [
    "from dataclasses import dataclass\n",
    "\n",
    "@dataclass\n",
    "class Person:\n",
    "    name: str\n",
    "    age: int = 35\n",
    "    height: float       # Error,  after default argument , you cannot have non-default argument\n",
    "    email: str = \"Rohit@gmail.com\"\n",
    "\n",
    "#p=Person(\"Rohit\",5.8) # other values would be the ones which are provided inside the class\n",
    "\n",
    "p1=Person(\"Sachin\",50,5.1,\"sachin@gmail.com\")  # you can pass also explicitly\n",
    "#print(p)\n",
    "print(p1)"
   ]
  },
  {
   "cell_type": "code",
   "execution_count": 51,
   "metadata": {},
   "outputs": [
    {
     "name": "stdout",
     "output_type": "stream",
     "text": [
      "Person(name='Rohit', age=35, height=5.1, email='Rohit@gmail.com', counter=8, counter1=<function field at 0x00000237FFEFD440>)\n",
      "Person(name='Sachin', age=38, height=4.1, email='Sachin@gmail.com', counter=5, counter1=<function field at 0x00000237FFEFD440>)\n",
      "5\n",
      "address of counter\n",
      "140726358492072\n",
      "140726358492168\n",
      "140726358492072\n",
      "address of name\n",
      "2437471516144\n",
      "2439520949552\n"
     ]
    }
   ],
   "source": [
    "from dataclasses import dataclass,field\n",
    "\n",
    "@dataclass\n",
    "class Person:\n",
    "    name: str\n",
    "    age: int\n",
    "    height: float\n",
    "    email: str\n",
    "    counter:int=field(default=5)     # class variable\n",
    "    counter1:int=field\n",
    "\n",
    "p1=Person(\"Rohit\",35,5.1,\"Rohit@gmail.com\",8)\n",
    "p2=Person(\"Sachin\",38,4.1,\"Sachin@gmail.com\")\n",
    "print(p1)\n",
    "print(p2)\n",
    "print(Person.counter)\n",
    "print(\"address of counter\")\n",
    "print(id(Person.counter))\n",
    "print(id(p1.counter))\n",
    "print(id(p2.counter))\n",
    "print(\"address of name\")\n",
    "print(id(p1.name))\n",
    "print(id(p2.name))"
   ]
  },
  {
   "cell_type": "code",
   "execution_count": null,
   "metadata": {},
   "outputs": [],
   "source": []
  }
 ],
 "metadata": {
  "kernelspec": {
   "display_name": "base",
   "language": "python",
   "name": "python3"
  },
  "language_info": {
   "codemirror_mode": {
    "name": "ipython",
    "version": 3
   },
   "file_extension": ".py",
   "mimetype": "text/x-python",
   "name": "python",
   "nbconvert_exporter": "python",
   "pygments_lexer": "ipython3",
   "version": "3.11.10"
  }
 },
 "nbformat": 4,
 "nbformat_minor": 2
}
