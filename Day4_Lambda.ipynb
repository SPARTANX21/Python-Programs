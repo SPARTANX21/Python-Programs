{
 "cells": [
  {
   "cell_type": "markdown",
   "metadata": {},
   "source": [
    "# **Day4 - Lambda Expressions - Pranay Shah**"
   ]
  },
  {
   "cell_type": "markdown",
   "metadata": {},
   "source": [
    "- Anonymous functions are also called lambda functions in Python because instead of declaring them with the standard def keyword, you use the lambda keyword.\n",
    "\n",
    "- A lambda function is a small anonymous function.\n",
    "\n",
    "- A lambda function can take any number of arguments, but can only have one expression.\n",
    "\n",
    "        Syntax\n",
    "        lambda arguments : expression\n",
    "\n",
    "- The expression is executed and the result is returned:\n",
    "\n",
    "- The main role of the lambda function is better described in the scenarios when we use them anonymously inside another function. In Python, the lambda function can be used as an argument to the higher-order functions which accepts other functions as arguments.  \n",
    "\n",
    "        \"\"\" def double(x):\n",
    "                return x*2\n",
    "  \n",
    "        my_list = [1, 2, 3, 4, 5, 6]\n",
    "        new_list = list(map(double, my_list))\n",
    "        print(new_list) # [2, 4, 6, 8, 10, 12] \"\"\"\n",
    "\n",
    "        my_list = [1, 2, 3, 4, 5, 6]\n",
    "        new_list = list(map(lambda x: x*2, my_list))\n",
    "        print(new_list) # [2, 4, 6, 8, 10, 12]\n",
    "\n",
    "\n"
   ]
  },
  {
   "cell_type": "markdown",
   "metadata": {},
   "source": [
    "**First**"
   ]
  },
  {
   "cell_type": "code",
   "execution_count": 1,
   "metadata": {},
   "outputs": [
    {
     "name": "stdout",
     "output_type": "stream",
     "text": [
      "add is the reference to the object of type\t <class 'function'>\n",
      "address of the object where add refers to is\t 1211652332960\n",
      "11\n"
     ]
    }
   ],
   "source": [
    "add=lambda x,y:x+y\n",
    "print(\"add is the reference to the object of type\\t\",type(add))\n",
    "print(\"address of the object where add refers to is\\t\", id(add))\n",
    "print(add(5,6))"
   ]
  },
  {
   "cell_type": "code",
   "execution_count": 2,
   "metadata": {},
   "outputs": [
    {
     "name": "stdout",
     "output_type": "stream",
     "text": [
      "multiply is the reference to the object of type\t <class 'function'>\n",
      "address of the object where multiply refers to is\t 1211652334240\n",
      "72\n"
     ]
    }
   ],
   "source": [
    "multiply=lambda x,y:x*y\n",
    "print(\"multiply is the reference to the object of type\\t\",type(multiply))\n",
    "print(\"address of the object where multiply refers to is\\t\", id(multiply))\n",
    "print(multiply(9,8))"
   ]
  },
  {
   "cell_type": "code",
   "execution_count": 3,
   "metadata": {},
   "outputs": [
    {
     "name": "stdout",
     "output_type": "stream",
     "text": [
      "disp is the reference to the object of type\t <class 'function'>\n",
      "address of the object where disp refers to is\t 1211657314656\n",
      "welcome\n"
     ]
    }
   ],
   "source": [
    "disp=lambda:print(\"welcome\")\n",
    "print(\"disp is the reference to the object of type\\t\",type(disp))\n",
    "print(\"address of the object where disp refers to is\\t\", id(disp))\n",
    "disp()"
   ]
  },
  {
   "cell_type": "code",
   "execution_count": 2,
   "metadata": {},
   "outputs": [
    {
     "name": "stdout",
     "output_type": "stream",
     "text": [
      "Welcome\n"
     ]
    }
   ],
   "source": [
    "(lambda:print(\"Welcome\"))()"
   ]
  },
  {
   "cell_type": "code",
   "execution_count": 4,
   "metadata": {},
   "outputs": [
    {
     "name": "stdout",
     "output_type": "stream",
     "text": [
      "disp is the reference to the object of type\t <class 'function'>\n",
      "address of the object where disp refers to is\t 1211657314816\n",
      "welcome\n",
      "hi\n",
      "Good Bye\n",
      "Welcome to lambda world\n",
      "100\n"
     ]
    }
   ],
   "source": [
    "disp=lambda:[print(\"welcome\"),print(\"hi\"),print(\"Good Bye\")]\n",
    "print(\"disp is the reference to the object of type\\t\",type(disp))\n",
    "print(\"address of the object where disp refers to is\\t\", id(disp))\n",
    "disp()\n",
    "\n",
    "# no need to collect lambda in any variable\n",
    "\n",
    "(lambda:print(\"Welcome to lambda world\"))()\n",
    "\n",
    "print((lambda x: x*x)(10))"
   ]
  },
  {
   "cell_type": "code",
   "execution_count": 54,
   "metadata": {},
   "outputs": [
    {
     "name": "stdout",
     "output_type": "stream",
     "text": [
      "inside 1st print\n",
      "inside 2nd print\n",
      "inside 3rd print\n",
      "inside 4th print\n"
     ]
    },
    {
     "data": {
      "text/plain": [
       "[None, None, None, None]"
      ]
     },
     "execution_count": 54,
     "metadata": {},
     "output_type": "execute_result"
    }
   ],
   "source": [
    "(lambda :[print(\"inside 1st print\"),print(\"inside 2nd print\"),print(\"inside 3rd print\",sep=' - '),print(\"inside 4th print\")])()"
   ]
  },
  {
   "cell_type": "code",
   "execution_count": 6,
   "metadata": {},
   "outputs": [
    {
     "name": "stdout",
     "output_type": "stream",
     "text": [
      "Pranay\n",
      "Bindesh\n",
      "Shah\n"
     ]
    },
    {
     "data": {
      "text/plain": [
       "[None, None, None]"
      ]
     },
     "execution_count": 6,
     "metadata": {},
     "output_type": "execute_result"
    }
   ],
   "source": [
    "(lambda:[print('Pranay'), print('Bindesh'), print('Shah')])()"
   ]
  },
  {
   "cell_type": "code",
   "execution_count": 9,
   "metadata": {},
   "outputs": [
    {
     "name": "stdout",
     "output_type": "stream",
     "text": [
      "8\n"
     ]
    }
   ],
   "source": [
    "sub = lambda x,y:x-y\n",
    "\n",
    "print(sub(10,2))"
   ]
  },
  {
   "cell_type": "markdown",
   "metadata": {},
   "source": [
    "**Second**"
   ]
  },
  {
   "cell_type": "code",
   "execution_count": 11,
   "metadata": {},
   "outputs": [
    {
     "name": "stdout",
     "output_type": "stream",
     "text": [
      "welcome to lambda world\n",
      "this is another lambda\n"
     ]
    }
   ],
   "source": [
    "# passing lambda as an argument\n",
    "\n",
    "def myfun(fun):\n",
    "    fun()\n",
    "\n",
    "temp=lambda:print(\"welcome to lambda world\")\n",
    "\n",
    "myfun(temp)\n",
    "\n",
    "myfun(lambda:print(\"this is another lambda\"))"
   ]
  },
  {
   "cell_type": "code",
   "execution_count": 13,
   "metadata": {},
   "outputs": [
    {
     "name": "stdout",
     "output_type": "stream",
     "text": [
      "this is another lambda\n"
     ]
    }
   ],
   "source": [
    "myfun(lambda:print(\"this is another lambda\"))"
   ]
  },
  {
   "cell_type": "markdown",
   "metadata": {},
   "source": [
    "**Third**"
   ]
  },
  {
   "cell_type": "code",
   "execution_count": 55,
   "metadata": {},
   "outputs": [
    {
     "name": "stdout",
     "output_type": "stream",
     "text": [
      "1 2 3 4 5 6 "
     ]
    }
   ],
   "source": [
    "def myfun(fun,num):\n",
    "    fun(num)\n",
    "disp=lambda x: [print(i, end = ' ') for i in range(1,x)]\n",
    "\n",
    "myfun(disp,7)"
   ]
  },
  {
   "cell_type": "code",
   "execution_count": 18,
   "metadata": {},
   "outputs": [
    {
     "name": "stdout",
     "output_type": "stream",
     "text": [
      "1   2   3   4   5   6   7   8   9   10   "
     ]
    },
    {
     "data": {
      "text/plain": [
       "[None, None, None, None, None, None, None, None, None, None]"
      ]
     },
     "execution_count": 18,
     "metadata": {},
     "output_type": "execute_result"
    }
   ],
   "source": [
    "(lambda x:[print(i, end = '   ') for i in range(1,x+1)])(10)"
   ]
  },
  {
   "cell_type": "code",
   "execution_count": 12,
   "metadata": {},
   "outputs": [
    {
     "name": "stdout",
     "output_type": "stream",
     "text": [
      "1 2 3 4 5 6 7 8 9 10 "
     ]
    }
   ],
   "source": [
    "def mydfun(func, x):\n",
    "    func(x)\n",
    "\n",
    "disp = lambda x:[print(i, end = \" \") for i in range(1,x+1)]\n",
    "\n",
    "mydfun(disp,10)"
   ]
  },
  {
   "cell_type": "code",
   "execution_count": 24,
   "metadata": {},
   "outputs": [
    {
     "name": "stdout",
     "output_type": "stream",
     "text": [
      "a b c d e f g h i j k "
     ]
    }
   ],
   "source": [
    "def myf(fun, num):\n",
    "    fun(num)\n",
    "\n",
    "dis1 = lambda x: [print(chr(i), end = ' ') for i in range(97, 100+x)]\n",
    "\n",
    "myf(dis1,8)"
   ]
  },
  {
   "cell_type": "code",
   "execution_count": 25,
   "metadata": {},
   "outputs": [
    {
     "name": "stdout",
     "output_type": "stream",
     "text": [
      "Pranay\n",
      "Shah\n",
      "Bindesh\n",
      "Krishna\n",
      "12\n",
      "50\n",
      "True\n",
      "[1, 2, 3, 4, 5]\n"
     ]
    }
   ],
   "source": [
    "list1 = ['Pranay', 'Shah', 'Bindesh', 'Krishna', 12,50,True, [1,2,3,4,5]]\n",
    "\n",
    "fun1 = lambda x: [print(i) for i in list1]\n",
    "\n",
    "def myfun(function, list1):\n",
    "    function(list1)\n",
    "\n",
    "myfun(fun1, list1)"
   ]
  },
  {
   "cell_type": "code",
   "execution_count": 21,
   "metadata": {},
   "outputs": [
    {
     "name": "stdout",
     "output_type": "stream",
     "text": [
      "1 2 3 4 5 6 7 8 9 10 "
     ]
    }
   ],
   "source": [
    "def myfun(fun, num):\n",
    "    fun(num)\n",
    "\n",
    "disp =  lambda x : [print(i, end=' ') for i in range(1,x+1)]\n",
    "\n",
    "myfun(disp,10)"
   ]
  },
  {
   "cell_type": "markdown",
   "metadata": {},
   "source": [
    "Way1"
   ]
  },
  {
   "cell_type": "code",
   "execution_count": 29,
   "metadata": {},
   "outputs": [
    {
     "name": "stdout",
     "output_type": "stream",
     "text": [
      "1 2 3 4 5 6 7 8 9 10 11 12 13 14 15 "
     ]
    }
   ],
   "source": [
    "myfun((lambda x:[print(i, end =' ') for i in range(1,x+1)]),15)"
   ]
  },
  {
   "cell_type": "markdown",
   "metadata": {},
   "source": [
    "**Fourth**"
   ]
  },
  {
   "cell_type": "code",
   "execution_count": 28,
   "metadata": {},
   "outputs": [
    {
     "name": "stdout",
     "output_type": "stream",
     "text": [
      "(10, 20, 30, 40, 50)\n"
     ]
    }
   ],
   "source": [
    "def myfun(fun,*val):\n",
    "    fun(val)\n",
    "\n",
    "multiple=(lambda *arg:[print(i) for i in arg])\n",
    "\n",
    "myfun(multiple,10,20,30,40,50)"
   ]
  },
  {
   "cell_type": "code",
   "execution_count": 29,
   "metadata": {},
   "outputs": [
    {
     "name": "stdout",
     "output_type": "stream",
     "text": [
      "(10, 12, 13, 14, 15, 16)\n"
     ]
    }
   ],
   "source": [
    "def vararument(fun, *val):\n",
    "    fun(val)\n",
    "\n",
    "multiple = lambda *args:[print(i) for i in args]\n",
    "\n",
    "vararument(multiple, 10,12,13,14,15,16)"
   ]
  },
  {
   "cell_type": "code",
   "execution_count": null,
   "metadata": {},
   "outputs": [
    {
     "name": "stdout",
     "output_type": "stream",
     "text": [
      "([100, 500, 1000, 1500, 2000],)\n"
     ]
    }
   ],
   "source": [
    "def myfun(fun, *val):\n",
    "    fun(val)\n",
    "\n",
    "multiple = lambda *val: [print(i) for i in val]\n",
    "\n",
    "myfun(multiple, [100,500,1000,1500,2000])"
   ]
  },
  {
   "cell_type": "code",
   "execution_count": 45,
   "metadata": {},
   "outputs": [
    {
     "name": "stdout",
     "output_type": "stream",
     "text": [
      "name = Pranay\n",
      "Age = 23\n",
      "Location = Mumbai\n"
     ]
    }
   ],
   "source": [
    "def myfun(fun, **val):\n",
    "    fun(**val)\n",
    "\n",
    "multiple = lambda **val: [print(k,v, sep=' = ') for (k,v) in val.items()]\n",
    "\n",
    "myfun(multiple, name='Pranay', Age=23, Location='Mumbai')"
   ]
  },
  {
   "cell_type": "code",
   "execution_count": 47,
   "metadata": {},
   "outputs": [
    {
     "name": "stdout",
     "output_type": "stream",
     "text": [
      "name = Hemant\n",
      "age = 24\n",
      "Location = Cntrl. Mumbai\n"
     ]
    }
   ],
   "source": [
    "def dfunction(lambda1,**x):\n",
    "    lambda1(**x)\n",
    "\n",
    "lambda1 = lambda **x:[print(i,j, sep = \" = \") for i,j in x.items()]\n",
    "\n",
    "dfunction(lambda1,name ='Hemant', age=24, Location = 'Cntrl. Mumbai' )"
   ]
  },
  {
   "cell_type": "code",
   "execution_count": 49,
   "metadata": {},
   "outputs": [
    {
     "name": "stdout",
     "output_type": "stream",
     "text": [
      "10 12 13 14 15 16 17 18 19 20 "
     ]
    }
   ],
   "source": [
    "def fucntiona(disp, *a):\n",
    "    disp(*a)\n",
    "\n",
    "disp = lambda *x:[print(i, end = \" \") for i in x]\n",
    "\n",
    "fucntiona(disp, 10,12,13,14,15,16,17,18,19,20)"
   ]
  },
  {
   "cell_type": "code",
   "execution_count": 65,
   "metadata": {},
   "outputs": [
    {
     "name": "stdout",
     "output_type": "stream",
     "text": [
      "(10, 11, 22, 33, 44, 55, 66)\n"
     ]
    }
   ],
   "source": [
    "def dun(fun,*num):\n",
    "    fun(num)\n",
    "disp = lambda *arg : [print(i) for i in arg]\n",
    "\n",
    "dun(disp, 10,11,22,33,44,55,66)"
   ]
  },
  {
   "cell_type": "code",
   "execution_count": 37,
   "metadata": {},
   "outputs": [
    {
     "name": "stdout",
     "output_type": "stream",
     "text": [
      "(10, 20, 30, 40, 50, 60, 70)\n"
     ]
    }
   ],
   "source": [
    "def myfun(fun, *val):\n",
    "    fun(val)\n",
    "\n",
    "multiple = lambda *arg:[print(i) for i in arg]\n",
    "\n",
    "myfun(multiple, 10,20,30,40,50,60,70)"
   ]
  },
  {
   "cell_type": "code",
   "execution_count": 40,
   "metadata": {},
   "outputs": [
    {
     "name": "stdout",
     "output_type": "stream",
     "text": [
      "10\n",
      "20\n",
      "30\n",
      "40\n"
     ]
    },
    {
     "data": {
      "text/plain": [
       "[None, None, None, None]"
      ]
     },
     "execution_count": 40,
     "metadata": {},
     "output_type": "execute_result"
    }
   ],
   "source": [
    "(lambda *arg:[print(i) for i in arg])(10,20,30,40,)"
   ]
  },
  {
   "cell_type": "markdown",
   "metadata": {},
   "source": [
    "**KeyWorded**"
   ]
  },
  {
   "cell_type": "code",
   "execution_count": 43,
   "metadata": {},
   "outputs": [
    {
     "name": "stdout",
     "output_type": "stream",
     "text": [
      "name Abc\n",
      "age 34\n",
      "rollno 1\n",
      "address Mumbai\n"
     ]
    },
    {
     "data": {
      "text/plain": [
       "[None, None, None, None]"
      ]
     },
     "execution_count": 43,
     "metadata": {},
     "output_type": "execute_result"
    }
   ],
   "source": [
    "multiple1=lambda **arg:[print(i,j) for i,j in arg.items()]\n",
    "\n",
    "multiple1(name=\"Abc\",age=34,rollno=1,address=\"Mumbai\")"
   ]
  },
  {
   "cell_type": "code",
   "execution_count": 77,
   "metadata": {},
   "outputs": [
    {
     "name": "stdout",
     "output_type": "stream",
     "text": [
      "name - Pranay\n",
      "age - 26\n",
      "Country - USA\n",
      "State - MA / CA\n",
      "Car - Maserati\n"
     ]
    },
    {
     "data": {
      "text/plain": [
       "[None, None, None, None, None]"
      ]
     },
     "execution_count": 77,
     "metadata": {},
     "output_type": "execute_result"
    }
   ],
   "source": [
    "multiple = lambda **arg: [print(i,j, sep = ' - ') for i,j in arg.items()]\n",
    "\n",
    "multiple(name='Pranay', age=26, Country = 'USA', State = 'MA / CA', Car = 'Maserati')"
   ]
  },
  {
   "cell_type": "code",
   "execution_count": 21,
   "metadata": {},
   "outputs": [
    {
     "name": "stdout",
     "output_type": "stream",
     "text": [
      "name = Abc\n",
      "age = 34\n",
      "rollno = 1\n",
      "address = Mumbai\n"
     ]
    },
    {
     "data": {
      "text/plain": [
       "[None, None, None, None]"
      ]
     },
     "execution_count": 21,
     "metadata": {},
     "output_type": "execute_result"
    }
   ],
   "source": [
    "(lambda **arg:[print(i,j, sep = \" = \") for i,j in arg.items()])(name=\"Abc\",age=34,rollno=1,address=\"Mumbai\")"
   ]
  },
  {
   "cell_type": "markdown",
   "metadata": {},
   "source": [
    "Fifth - if Else"
   ]
  },
  {
   "cell_type": "code",
   "execution_count": 47,
   "metadata": {},
   "outputs": [
    {
     "name": "stdout",
     "output_type": "stream",
     "text": [
      "no arg passed to lambda\n",
      "300\n",
      "500\n",
      "600\n"
     ]
    },
    {
     "data": {
      "text/plain": [
       "[[None, None]]"
      ]
     },
     "execution_count": 47,
     "metadata": {},
     "output_type": "execute_result"
    }
   ],
   "source": [
    "temp1=lambda *x:[print(\"no arg passed to lambda\") if(len(x)==0)  else [print(i) for i in x ]]\n",
    "temp1()\n",
    "temp1(300)\n",
    "temp1(500,600)"
   ]
  },
  {
   "cell_type": "code",
   "execution_count": 85,
   "metadata": {},
   "outputs": [
    {
     "name": "stdout",
     "output_type": "stream",
     "text": [
      "Pranay\n",
      "$320k\n",
      "California\n",
      "New York\n",
      "Purdue University\n"
     ]
    },
    {
     "data": {
      "text/plain": [
       "[[None, None, None, None, None]]"
      ]
     },
     "execution_count": 85,
     "metadata": {},
     "output_type": "execute_result"
    }
   ],
   "source": [
    "temp1 = lambda *x: [print(\"No Args Passed\") if (len(x)==0) else [print(i) for i in x]]\n",
    "\n",
    "temp1('Pranay', '$320k', \"California\", 'New York', 'Purdue University')"
   ]
  },
  {
   "cell_type": "code",
   "execution_count": 86,
   "metadata": {},
   "outputs": [
    {
     "name": "stdout",
     "output_type": "stream",
     "text": [
      "Characters are smaller than metioned requirement\n"
     ]
    }
   ],
   "source": [
    "function = lambda *x :[print(i) for i in x ] if(len(x) >= 8) else[print(\"Characters are smaller than metioned requirement\")]\n",
    "\n",
    "temp = function('Pranay', 'Shah', 'Adel', 'Krishna', 'Rashi', 'Radha')"
   ]
  },
  {
   "cell_type": "code",
   "execution_count": 48,
   "metadata": {},
   "outputs": [
    {
     "name": "stdout",
     "output_type": "stream",
     "text": [
      "20\n",
      "10\n"
     ]
    }
   ],
   "source": [
    "min = lambda a, b : a if(a < b) else b\n",
    "print(min(100, 20))\n",
    "\n",
    "min1 = (lambda a, b : a if(a < b) else b)(10,20)\n",
    "print(min1)"
   ]
  },
  {
   "cell_type": "code",
   "execution_count": null,
   "metadata": {},
   "outputs": [],
   "source": [
    "# using normal functions\n",
    "\"\"\"\n",
    "def caller(fun,num):\n",
    "    print(\"inside caller\")\n",
    "    fun(num)\n",
    "\n",
    "def disp(var):\n",
    "    print(\"inside disp\\t\",var)\n",
    "\n",
    "caller(disp,10)\n",
    "\n",
    "\"\"\"\n",
    "\"\"\"\n",
    "# using lambda\n",
    "\n",
    "caller=lambda fun,num: [print(\"inside caller lambda\"), fun(num)]\n",
    "disp=lambda var:print(\"inside disp lambda\\t\",var)\n",
    "\n",
    "caller(disp,200)\n",
    "\"\"\""
   ]
  },
  {
   "cell_type": "code",
   "execution_count": 49,
   "metadata": {},
   "outputs": [
    {
     "name": "stdout",
     "output_type": "stream",
     "text": [
      "inside caller\n",
      "inside disp\t 10\n"
     ]
    }
   ],
   "source": [
    "def caller(fun,num):\n",
    "    print(\"inside caller\")\n",
    "    fun(num)\n",
    "\n",
    "def disp(var):\n",
    "    print(\"inside disp\\t\",var)\n",
    "\n",
    "caller(disp,10)"
   ]
  },
  {
   "cell_type": "code",
   "execution_count": 34,
   "metadata": {},
   "outputs": [
    {
     "name": "stdout",
     "output_type": "stream",
     "text": [
      "Its not an Even Number\n"
     ]
    }
   ],
   "source": [
    "iseven = lambda x:print(\"Its an Even number\",x) if x%2 ==0 else(\"Its not an Even Number\")\n",
    "\n",
    "print(iseven(5))"
   ]
  },
  {
   "cell_type": "markdown",
   "metadata": {},
   "source": [
    "### **MAP**"
   ]
  },
  {
   "cell_type": "code",
   "execution_count": 43,
   "metadata": {},
   "outputs": [
    {
     "name": "stdout",
     "output_type": "stream",
     "text": [
      "[4, 25, 64, 81, 16, 36, 9, 1, 121]\n"
     ]
    }
   ],
   "source": [
    "number = [2,5,8,9,4,6,3,1,11]\n",
    "\n",
    "squared = list(map(lambda x:x**2, number))\n",
    "\n",
    "print(squared)"
   ]
  },
  {
   "cell_type": "markdown",
   "metadata": {},
   "source": [
    "### **FILTER**"
   ]
  },
  {
   "cell_type": "code",
   "execution_count": 42,
   "metadata": {},
   "outputs": [
    {
     "name": "stdout",
     "output_type": "stream",
     "text": [
      "[21, 55, 71, 77, 63, 25, 95]\n"
     ]
    }
   ],
   "source": [
    "number = [10,20,30,40,50,88,60,21,55,74,71,77,63,25,95]\n",
    "\n",
    "odd_numbers = list(filter(lambda x:x%2!=0, number))\n",
    "\n",
    "print(odd_numbers)"
   ]
  },
  {
   "cell_type": "code",
   "execution_count": 50,
   "metadata": {},
   "outputs": [
    {
     "name": "stdout",
     "output_type": "stream",
     "text": [
      "inside caller lambda\n",
      "inside disp lambda\t 200\n"
     ]
    },
    {
     "data": {
      "text/plain": [
       "[None, None]"
      ]
     },
     "execution_count": 50,
     "metadata": {},
     "output_type": "execute_result"
    }
   ],
   "source": [
    "# using lambda\n",
    "\n",
    "caller=lambda fun,num: [print(\"inside caller lambda\"), fun(num)]\n",
    "disp=lambda var:print(\"inside disp lambda\\t\",var)\n",
    "\n",
    "caller(disp,200)"
   ]
  }
 ],
 "metadata": {
  "kernelspec": {
   "display_name": "base",
   "language": "python",
   "name": "python3"
  },
  "language_info": {
   "codemirror_mode": {
    "name": "ipython",
    "version": 3
   },
   "file_extension": ".py",
   "mimetype": "text/x-python",
   "name": "python",
   "nbconvert_exporter": "python",
   "pygments_lexer": "ipython3",
   "version": "3.11.10"
  }
 },
 "nbformat": 4,
 "nbformat_minor": 2
}
