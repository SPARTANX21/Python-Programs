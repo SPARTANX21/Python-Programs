{
 "cells": [
  {
   "cell_type": "markdown",
   "metadata": {},
   "source": [
    "# **Instanceof Assignment 1**"
   ]
  },
  {
   "cell_type": "markdown",
   "metadata": {},
   "source": [
    "1. create a hierarchy\n",
    "\n",
    "\t\t\t\tCourse\n",
    "\n",
    "\t\t\t\t\tvoid start()\n",
    "\t\t\t\t\tvoid end()\n",
    "\n",
    "override \"start()\" and \"end()\" in all the child classes.\n",
    "\n",
    "\t\tMsCit\t\tBasic\t\tDbda\n",
    "\t\t\t\t\t\t\tvoid orientation()\n",
    "\n",
    "\n",
    "\n",
    "write a function \"perform\"\n",
    "\n",
    "\tperform function should be defined in such a way that it can accept any course and invoke \"start()\" and \"end()\" functions.\n",
    "\n",
    "\talso make sure if \"Dbda\" is passed , its \"orientation()\" method also should be called.\n",
    "\n",
    "\n"
   ]
  },
  {
   "cell_type": "code",
   "execution_count": 3,
   "metadata": {},
   "outputs": [
    {
     "name": "stdout",
     "output_type": "stream",
     "text": [
      "Starting MSCIT COurse\n",
      "MSCIT COurse Ended\n",
      "Starting basic COurse\n",
      "basic COurse Ended\n",
      "Starting dbda COurse\n",
      "---------------------Orientation of dbda Course---------------------\n",
      "dbda COurse Ended\n"
     ]
    }
   ],
   "source": [
    "class Course:\n",
    "    def start(self):\n",
    "        pass\n",
    "    def end(self):\n",
    "        pass\n",
    "\n",
    "class mscit(Course):\n",
    "    def start(self):\n",
    "        print(\"Starting MSCIT COurse\")\n",
    "    def orientation(self):\n",
    "        print(\"---------------------Orientation of MSCIT Course---------------------\")\n",
    "    def end(self):\n",
    "        print(\"MSCIT COurse Ended\")\n",
    "\n",
    "\n",
    "class basic(Course):\n",
    "    def start(self):\n",
    "        print(\"Starting basic COurse\")\n",
    "    def orientation(self):\n",
    "        print(\"---------------------Orientation of basic Course---------------------\")\n",
    "    def end(self):\n",
    "        print(\"basic COurse Ended\")\n",
    "\n",
    "\n",
    "class dbda(Course):\n",
    "    def start(self):\n",
    "        print(\"Starting dbda COurse\")\n",
    "    def orientation(self):\n",
    "        print(\"---------------------Orientation of dbda Course---------------------\")\n",
    "    def end(self):\n",
    "        print(\"dbda COurse Ended\")\n",
    "\n",
    "def perform(obj):\n",
    "    obj.start()\n",
    "    if isinstance(obj, dbda):\n",
    "        obj.orientation()\n",
    "    obj.end()\n",
    "\n",
    "\n",
    "perform(mscit())\n",
    "\n",
    "perform(basic())\n",
    "\n",
    "perform(dbda())"
   ]
  },
  {
   "cell_type": "markdown",
   "metadata": {},
   "source": [
    "# **Instanceof Assignment 2**"
   ]
  },
  {
   "cell_type": "markdown",
   "metadata": {},
   "source": [
    "2. create a hierarchy\n",
    "\n",
    "\t\t\t\tAnimal\n",
    "\n",
    "\t\t\t\t\tvoid makeSound()\n",
    "\t\t\t\t\t\n",
    "override \"makeSound()\" in all the child classes.\n",
    "\n",
    "\t\tDog\t\tCat\t\tTiger\n",
    "\t\t\t\t\t\t\tvoid hunting()\n",
    "\n",
    "\n",
    "\n",
    "define perform function.\n",
    "\n",
    "\tperform function should be defined in such a way that it can accept any animal and invoke \"makeSound()\" function.\n",
    "\n",
    "\talso make sure if \"Tiger\" is passed , its \"hunting()\" method also should be called."
   ]
  },
  {
   "cell_type": "code",
   "execution_count": 5,
   "metadata": {},
   "outputs": [
    {
     "name": "stdout",
     "output_type": "stream",
     "text": [
      "Cat Meows\n",
      "Dog Barking\n",
      "Tiger Hunts\n",
      "Tiger Roaring\n"
     ]
    }
   ],
   "source": [
    "class Animal:\n",
    "    def makesound(self):\n",
    "        print(\"Making Sound\")\n",
    "\n",
    "class Dog(Animal):\n",
    "    def makesound(self):\n",
    "        print(\"Dog Barking\")\n",
    "\n",
    "\n",
    "class Cat(Animal):\n",
    "    def makesound(self):\n",
    "        print(\"Cat Meows\")\n",
    "\n",
    "\n",
    "class Tiger(Animal):\n",
    "    def makesound(self):\n",
    "        print(\"Tiger Roaring\")\n",
    "    \n",
    "    def hunting(self):\n",
    "        print(\"Tiger Hunts\")\n",
    "\n",
    "def perform(obj):\n",
    "    if isinstance(obj,Tiger):\n",
    "        obj.hunting()\n",
    "    obj.makesound()\n",
    "\n",
    "perform(Cat())\n",
    "\n",
    "perform(Dog())\n",
    "\n",
    "perform(Tiger())"
   ]
  },
  {
   "cell_type": "markdown",
   "metadata": {},
   "source": [
    "# **Questions**"
   ]
  },
  {
   "cell_type": "markdown",
   "metadata": {},
   "source": [
    "1.  Create a multi-level inheritance , override default constructors in the child classes , instantiate the child class and show how will u invoke parent class constructor from child class ?\n"
   ]
  },
  {
   "cell_type": "code",
   "execution_count": 6,
   "metadata": {},
   "outputs": [
    {
     "name": "stdout",
     "output_type": "stream",
     "text": [
      "Course constructor: Initializing Advanced MsCit course.\n",
      "MSCIT constructor: Advanced MsCit course with duration 6 months.\n",
      "AdvancedMsCit constructor: Advanced MsCit course at Expert level.\n"
     ]
    }
   ],
   "source": [
    "class Course:\n",
    "    def __init__(self, course_name):\n",
    "        self.course_name = course_name\n",
    "        print(f\"Course constructor: Initializing {self.course_name} course.\")\n",
    "\n",
    "class MsCit(Course):\n",
    "    def __init__(self, course_name, duration):\n",
    "        super().__init__(course_name)\n",
    "        self.duration = duration\n",
    "        print(f\"MSCIT constructor: {self.course_name} course with duration {self.duration} months.\")\n",
    "\n",
    "class AdvancedMsCit(MsCit):\n",
    "    def __init__(self, course_name, duration, level):\n",
    "        super().__init__(course_name, duration)\n",
    "        self.level = level\n",
    "        print(f\"AdvancedMsCit constructor: {self.course_name} course at {self.level} level.\")\n",
    "\n",
    "advanced_course = AdvancedMsCit(\"Advanced MsCit\", 6, \"Expert\")"
   ]
  },
  {
   "cell_type": "markdown",
   "metadata": {},
   "source": [
    "2. 2) create a class \"Vehicle\", define a method \"public void start()\" in it. From this class derive a class FourWheeler. How will u override \"start()\" method of parent class ?\n"
   ]
  },
  {
   "cell_type": "code",
   "execution_count": 8,
   "metadata": {},
   "outputs": [
    {
     "name": "stdout",
     "output_type": "stream",
     "text": [
      "Vehicle Starts\n",
      "Fourwheeler is Starting\n"
     ]
    }
   ],
   "source": [
    "class vehicle:\n",
    "    def start(self):\n",
    "        print('Vehicle Starts')\n",
    "    \n",
    "class fourwheeler(vehicle):\n",
    "    def start(self):\n",
    "        super().start()\n",
    "        print(\"Fourwheeler is Starting\")\n",
    "\n",
    "c = fourwheeler()\n",
    "\n",
    "c.start()"
   ]
  },
  {
   "cell_type": "markdown",
   "metadata": {},
   "source": [
    "3. 3) Go for Hierarchical inheritance, create instances of child class and observe constructor invocation.\n"
   ]
  },
  {
   "cell_type": "markdown",
   "metadata": {},
   "source": [
    "           Boss\n",
    "        /       \\\n",
    "    Manager   TeamLead\n"
   ]
  },
  {
   "cell_type": "code",
   "execution_count": 16,
   "metadata": {},
   "outputs": [
    {
     "name": "stdout",
     "output_type": "stream",
     "text": [
      "Yogesh Verma\n",
      "Boss : Yogesh Verma Handles the Business unit\n",
      "-------------------------------\n",
      "Venugopal Pillai\n",
      "Venugopal Pillai manager the team\n",
      "Manager : Venugopal Pillai Manages the Business unit\n",
      "-------------------------------\n",
      "Somaji Kubal\n",
      "teamLeader : Somaji Kubal Leads the Business unit\n"
     ]
    }
   ],
   "source": [
    "class Boss:\n",
    "    def __init__(self, name):\n",
    "        self.name = name \n",
    "        print(self.name)\n",
    "    \n",
    "    def handles(self):\n",
    "        print(f\"Boss : {self.name} Handles the Business unit\")\n",
    "\n",
    "class Manager(Boss):\n",
    "    def __init__(self, name):\n",
    "        self.name = name\n",
    "        print(self.name)\n",
    "        print(f\"{self.name} manager the team\")\n",
    "    \n",
    "    def manages(self):\n",
    "        print(f\"Manager : {self.name} Manages the Business unit\")\n",
    "\n",
    "class teamlead(Boss):\n",
    "    def __init(self, name):\n",
    "        self.name = name\n",
    "        super().__init__(name)\n",
    "        print(self.name)\n",
    "    \n",
    "    def leads(self):\n",
    "        print(f\"teamLeader : {self.name} Leads the Business unit\")\n",
    "\n",
    "\n",
    "emp1 = Boss('Yogesh Verma')\n",
    "emp1.handles()\n",
    "print('-------------------------------')\n",
    "\n",
    "emp2 = Manager('Venugopal Pillai')\n",
    "emp2.manages()\n",
    "print('-------------------------------')\n",
    "\n",
    "emp3 = teamlead('Somaji Kubal')\n",
    "emp3.leads()"
   ]
  },
  {
   "cell_type": "markdown",
   "metadata": {},
   "source": [
    "4. 4) Create a class \"Top1\" with \"disp1()\" method.\n",
    "From this class Derive \"Bottom1\", \"Bottom2\" and \"Bottom3\" classes ,override the \"disp1()\".\n",
    "create a function \"perform\" which can take argument as object of any child class.\n",
    "Now show how will u achieve dynamic polymorphism."
   ]
  },
  {
   "cell_type": "code",
   "execution_count": 18,
   "metadata": {},
   "outputs": [
    {
     "name": "stdout",
     "output_type": "stream",
     "text": [
      "Inside Disp1 of BOTTOM 2 CLASS\n",
      "Inside Disp1 of BOTTOM 1 CLASS\n",
      "Inside Disp1 of TOP CLASS\n"
     ]
    }
   ],
   "source": [
    "class top1:\n",
    "    def disp1(self):\n",
    "        print(\"Inside Disp1 of TOP CLASS\")\n",
    "\n",
    "class bottom1(top1):\n",
    "    def disp1(self):\n",
    "        print(\"Inside Disp1 of BOTTOM 1 CLASS\")\n",
    "\n",
    "class bottom2(top1):\n",
    "    def disp1(self):\n",
    "        print(\"Inside Disp1 of BOTTOM 2 CLASS\")\n",
    "\n",
    "def perform(obj):\n",
    "    obj.disp1()\n",
    "\n",
    "\n",
    "perform(bottom2())\n",
    "perform(bottom1())\n",
    "perform(top1())\n"
   ]
  },
  {
   "cell_type": "markdown",
   "metadata": {},
   "source": [
    "5) create Base class and Sub class with parameterized constructors. Show how will you invoke Base class parameterized constructor from Sub class."
   ]
  },
  {
   "cell_type": "code",
   "execution_count": 21,
   "metadata": {},
   "outputs": [
    {
     "name": "stdout",
     "output_type": "stream",
     "text": [
      "Insidde BAse class __init__\n"
     ]
    },
    {
     "data": {
      "text/plain": [
       "'Pranay\\t23'"
      ]
     },
     "execution_count": 21,
     "metadata": {},
     "output_type": "execute_result"
    }
   ],
   "source": [
    "class Base:\n",
    "    def __init__(self, name, age):\n",
    "        self.name = name \n",
    "        self.age = age\n",
    "        print(\"Insidde BAse class __init__\")\n",
    "    def showdetails(self):\n",
    "        return self.name+\"\\t\"+str(self.age)\n",
    "    \n",
    "class Sub(Base):\n",
    "    def __init__(self, name, age):\n",
    "        super().__init__(name, age)\n",
    "\n",
    "s = Sub('Pranay',23)\n",
    "s.showdetails()\n"
   ]
  }
 ],
 "metadata": {
  "kernelspec": {
   "display_name": "base",
   "language": "python",
   "name": "python3"
  },
  "language_info": {
   "codemirror_mode": {
    "name": "ipython",
    "version": 3
   },
   "file_extension": ".py",
   "mimetype": "text/x-python",
   "name": "python",
   "nbconvert_exporter": "python",
   "pygments_lexer": "ipython3",
   "version": "3.11.9"
  }
 },
 "nbformat": 4,
 "nbformat_minor": 2
}
