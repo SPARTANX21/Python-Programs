{
 "cells": [
  {
   "cell_type": "markdown",
   "metadata": {},
   "source": [
    "# **List Dictionary Assignment - Pranay Shah**"
   ]
  },
  {
   "cell_type": "markdown",
   "metadata": {},
   "source": [
    "## **List**"
   ]
  },
  {
   "cell_type": "markdown",
   "metadata": {},
   "source": [
    "1)Write a Python program to find all the values in a list are greater than a specified number.\n"
   ]
  },
  {
   "cell_type": "code",
   "execution_count": 5,
   "metadata": {},
   "outputs": [
    {
     "name": "stdout",
     "output_type": "stream",
     "text": [
      "Number does exists in list \n"
     ]
    }
   ],
   "source": [
    "l = [10,12,52,88,53]\n",
    "\n",
    "user = int(input(\"Enter a number to to check whether is it available in the list :: \"))\n",
    "\n",
    "if (user in l):\n",
    "    print(\"Number exists in list \")\n",
    "else:\n",
    "    print(\"Number does exists in list \")"
   ]
  },
  {
   "cell_type": "code",
   "execution_count": 2,
   "metadata": {},
   "outputs": [
    {
     "name": "stdout",
     "output_type": "stream",
     "text": [
      "50 80 60 145 55 "
     ]
    }
   ],
   "source": [
    "l = [1,10,20,30,50,80,60,145,55]\n",
    "\n",
    "user = int(input(\"Enter a Number to compare it with list :: \"))\n",
    "\n",
    "for i in l:\n",
    "    if(user< i):\n",
    "        print(i, end =\" \")"
   ]
  },
  {
   "cell_type": "markdown",
   "metadata": {},
   "source": [
    "2) Write a Python program to find the list of words that are longer than n from a given list of words.\n"
   ]
  },
  {
   "cell_type": "code",
   "execution_count": 7,
   "metadata": {},
   "outputs": [
    {
     "name": "stdout",
     "output_type": "stream",
     "text": [
      "Krishna\n",
      "Maserati\n",
      "California\n",
      "England\n",
      "Can't find any word greater than users input\n"
     ]
    }
   ],
   "source": [
    "user = int(input(\"Enter a Name :: \"))\n",
    "\n",
    "l = ['Pranay', 'Krishna', 'Radha', 'Rashi', 'Audi', 'Maserati', 'California', 'England']\n",
    "\n",
    "for i in l:\n",
    "    if (user < len(i)):\n",
    "        print(i)\n",
    "else:\n",
    "    print(\"Can't find any word greater than users input\")"
   ]
  },
  {
   "cell_type": "markdown",
   "metadata": {},
   "source": [
    "3) Write a Python program to get the largest number from a list.\n"
   ]
  },
  {
   "cell_type": "code",
   "execution_count": 14,
   "metadata": {},
   "outputs": [
    {
     "name": "stdout",
     "output_type": "stream",
     "text": [
      "562\n"
     ]
    }
   ],
   "source": [
    "list = [10, 20, 50, 12, 100, 562, 23]\n",
    "\n",
    "list1 = sorted(list)\n",
    "\n",
    "print(list1[-1])"
   ]
  },
  {
   "cell_type": "markdown",
   "metadata": {},
   "source": [
    "\n",
    "4) Write a Python program to count the number of strings where the string length is 2 or more and the first and last character are same from a given list of strings. \n",
    "Sample List : ['abc', 'xyz', 'aba', '1221'] \"\"\"\n",
    "\n",
    "output\n",
    "\n",
    "\t\taba      1221\n"
   ]
  },
  {
   "cell_type": "code",
   "execution_count": null,
   "metadata": {},
   "outputs": [],
   "source": []
  },
  {
   "cell_type": "markdown",
   "metadata": {},
   "source": [
    "5) Write a Python program to multiply all the items in a list.\n"
   ]
  },
  {
   "cell_type": "code",
   "execution_count": 15,
   "metadata": {},
   "outputs": [
    {
     "name": "stdout",
     "output_type": "stream",
     "text": [
      "[6, 9, 12, 15]\n"
     ]
    }
   ],
   "source": [
    "# import math\n",
    "\n",
    "numbers = [2, 3, 4, 5]\n",
    "\n",
    "# result = math.prod(numbers)\n",
    "\n",
    "# print(\"The product of all items in the list is:\", result)\n",
    "\n",
    "x = int(input(\"Enter a number to get multiplied by lsit :: \"))\n",
    "\n",
    "prod = list(map(lambda num: num * x, numbers))\n",
    "\n",
    "print(prod)"
   ]
  },
  {
   "cell_type": "markdown",
   "metadata": {},
   "source": [
    "6) Write a Python program to print a specified list after removing the 0th, 4th and 5th elements. \n",
    "Sample List : ['Red', 'Green', 'White', 'Black', 'Pink', 'Yellow']\n",
    "Expected Output : ['Green', 'White', 'Black'] \"\"\"\n"
   ]
  },
  {
   "cell_type": "code",
   "execution_count": 29,
   "metadata": {},
   "outputs": [
    {
     "name": "stdout",
     "output_type": "stream",
     "text": [
      "['Green', 'White', 'Black', 'Pink', 'Yellow']\n",
      "['Green', 'White', 'Black', 'Yellow']\n",
      "Final Output ['Green', 'White', 'Black']\n"
     ]
    }
   ],
   "source": [
    "l = ['Red', 'Green', 'White', 'Black', 'Pink', 'Yellow']\n",
    "\n",
    "l.pop(0)\n",
    "print(l)\n",
    "l.pop(3)\n",
    "print(l)\n",
    "l.pop(3)\n",
    "print(\"Final Output\",  l)"
   ]
  },
  {
   "cell_type": "markdown",
   "metadata": {},
   "source": [
    "7) Write a Python program to print the numbers of a specified list after removing even numbers from it.\n"
   ]
  },
  {
   "cell_type": "code",
   "execution_count": 4,
   "metadata": {},
   "outputs": [
    {
     "name": "stdout",
     "output_type": "stream",
     "text": [
      "[15, 51, 67, 85]\n"
     ]
    }
   ],
   "source": [
    "l = [12,15,16,62,32,88,54,51,50,67,98,85]\n",
    "\n",
    "l1 = [i for i in l if i%2!=0 ]\n",
    "\n",
    "print(l1)"
   ]
  },
  {
   "cell_type": "markdown",
   "metadata": {},
   "source": [
    "8) Write a Python program access the index of a list.\n",
    "\toutput : all the elements along with their index\n"
   ]
  },
  {
   "cell_type": "code",
   "execution_count": 17,
   "metadata": {},
   "outputs": [
    {
     "name": "stdout",
     "output_type": "stream",
     "text": [
      "0 - Pranay\n",
      "1 - 1\n",
      "2 - Shah\n",
      "3 - 2\n",
      "4 - Krishna\n",
      "5 - 12\n",
      "6 - Radha\n",
      "7 - 25\n",
      "8 - 22.3\n",
      "9 - True\n"
     ]
    }
   ],
   "source": [
    "list1 = ['Pranay', 1, 'Shah',2,'Krishna', 12, 'Radha', 25, 22.3, True]\n",
    "\n",
    "for i,j in enumerate(list1):\n",
    "    print(i,j, sep=\" - \")"
   ]
  },
  {
   "cell_type": "markdown",
   "metadata": {},
   "source": [
    "9) Write a Python program to check a list is empty or not\n"
   ]
  },
  {
   "cell_type": "code",
   "execution_count": 7,
   "metadata": {},
   "outputs": [
    {
     "name": "stdout",
     "output_type": "stream",
     "text": [
      "List is empt\n"
     ]
    }
   ],
   "source": [
    "list1 = ['Pranay', 1, 'Shah',2,'Krishna', 12, 'Radha', 25, 22.3, True]\n",
    "list2 = []\n",
    "cnt = 0\n",
    "\n",
    "for i in list2:\n",
    "    if(i):\n",
    "        print(\"List is not Empty\")\n",
    "else:\n",
    "    print(\"List is empt\")"
   ]
  },
  {
   "cell_type": "markdown",
   "metadata": {},
   "source": [
    "10) Write a Python program to check whether the n-th element exists in a given list.\n"
   ]
  },
  {
   "cell_type": "code",
   "execution_count": 8,
   "metadata": {},
   "outputs": [
    {
     "name": "stdout",
     "output_type": "stream",
     "text": [
      "Mentioned Index is present in list \n"
     ]
    }
   ],
   "source": [
    "list1 = ['Pranay', 1, 'Shah',2,'Krishna', 12, 'Radha', 25, 22.3, True]\n",
    "user = int(input(\"Enter a index location to find out whether it exsists in the list or not :: \"))\n",
    "if 0 <= user < len(list1):\n",
    "    print(\"Mentioned Index is present in list \")\n",
    "else:\n",
    "    print(\"Not available in list\")"
   ]
  },
  {
   "cell_type": "markdown",
   "metadata": {},
   "source": [
    "11) Write a Python program to clone or copy a list\n"
   ]
  },
  {
   "cell_type": "code",
   "execution_count": 14,
   "metadata": {},
   "outputs": [
    {
     "name": "stdout",
     "output_type": "stream",
     "text": [
      "2892094292480\n",
      "2892087693888\n"
     ]
    }
   ],
   "source": [
    "list1 = ['Pranay', 1, 'Shah',2,'Krishna', 12, 'Radha', 25, 22.3, True]\n",
    "\n",
    "list2 = list1.copy()\n",
    "if(list1 == list2):\n",
    "    print(id(list2))\n",
    "    print(id(list1))"
   ]
  },
  {
   "cell_type": "markdown",
   "metadata": {},
   "source": [
    "12) Write a Python program to convert list to list of dictionaries. \n",
    "Sample lists: \n",
    "- [\"Black\", \"Red\", \"Maroon\", \"Yellow\"], \n",
    "- [\"#000000\", \"#FF0000\", \"#800000\", \"#FFFF00\"]\n",
    "Expected Output: \n",
    "- [{'color_name': 'Black', 'color_code': '#000000'}, \n",
    "    - {'color_name': 'Red', 'color_code': '#FF0000'}, \n",
    "    - {'color_name': 'Maroon', 'color_code': '#800000'}, \n",
    "    - {'color_name': 'Yellow', 'color_code': '#FFFF00'}]\n",
    " \"\"\"\n"
   ]
  },
  {
   "cell_type": "code",
   "execution_count": 16,
   "metadata": {},
   "outputs": [
    {
     "name": "stdout",
     "output_type": "stream",
     "text": [
      "{'Black': '#000000', 'Red': '#FF0000', 'Maroon': '#800000', 'Yellow': '#FFFF00'}\n"
     ]
    }
   ],
   "source": [
    "list1 = [\"Black\", \"Red\", \"Maroon\", \"Yellow\"]\n",
    "list2 = [\"#000000\", \"#FF0000\", \"#800000\", \"#FFFF00\"]\n",
    "\n",
    "res = {list1[i]:list2[i] for i in range(len(list1))}\n",
    "\n",
    "res1 = {}\n",
    "for i,j in  zip (list1, list2):\n",
    "    res1[i]= j\n",
    "\n",
    "\n",
    "print(res1)"
   ]
  },
  {
   "cell_type": "code",
   "execution_count": 25,
   "metadata": {},
   "outputs": [
    {
     "data": {
      "text/plain": [
       "{'Black': '#000000',\n",
       " 'Red': '#FF0000',\n",
       " 'Maroon': '#800000',\n",
       " 'Yellow': '#FFFF00'}"
      ]
     },
     "execution_count": 25,
     "metadata": {},
     "output_type": "execute_result"
    }
   ],
   "source": [
    "{list1[i]:list2[i] for i in range(len(list1))}"
   ]
  },
  {
   "cell_type": "markdown",
   "metadata": {},
   "source": [
    "13) Write a Python program to find the index of an item in a specified list.\n"
   ]
  },
  {
   "cell_type": "code",
   "execution_count": 38,
   "metadata": {},
   "outputs": [
    {
     "name": "stdout",
     "output_type": "stream",
     "text": [
      "2\n"
     ]
    }
   ],
   "source": [
    "list1 = [\"Black\", \"Red\", \"Maroon\", \"Yellow\"]\n",
    "\n",
    "user = (input(\"Enter a Index position to find the element :: \"))\n",
    "\n",
    "print(list1.index(user))"
   ]
  },
  {
   "cell_type": "markdown",
   "metadata": {},
   "source": [
    "14) Write a Python program to insert a given string at the beginning of all items in a list. \n",
    "Sample list : [1,2,3,4], string : emp\n",
    "Expected output : ['emp1', 'emp2', 'emp3', 'emp4']\n"
   ]
  },
  {
   "cell_type": "code",
   "execution_count": 39,
   "metadata": {},
   "outputs": [
    {
     "name": "stdout",
     "output_type": "stream",
     "text": [
      "['1emp', '2emp', '3emp', '4emp', '5emp']\n"
     ]
    }
   ],
   "source": [
    "# list : [1,2,3,4], string : emp\n",
    "# : ['emp1', 'emp2', 'emp3', 'emp4']\n",
    "\n",
    "\n",
    "sample_list = [1,2,3,4,5]\n",
    "\n",
    "stringtoemp = 'emp'\n",
    "\n",
    "result = [f\"{item}{stringtoemp}\" for item in sample_list]\n",
    "\n",
    "print(result)"
   ]
  },
  {
   "cell_type": "markdown",
   "metadata": {},
   "source": [
    "15) Write a Python program to iterate over two lists simultaneously. "
   ]
  },
  {
   "cell_type": "code",
   "execution_count": 19,
   "metadata": {},
   "outputs": [
    {
     "name": "stdout",
     "output_type": "stream",
     "text": [
      "1 Black\n",
      "2 Red\n",
      "3 Maroon\n",
      "4 Yellow\n",
      "5 Purple\n",
      "{1: 'Black', 2: 'Red', 3: 'Maroon', 4: 'Yellow', 5: 'Purple'}\n"
     ]
    }
   ],
   "source": [
    "\n",
    "sample_list = [1,2,3,4,5]\n",
    "\n",
    "list1 = [\"Black\", \"Red\", \"Maroon\", \"Yellow\", \"Purple\"]\n",
    "\n",
    "dict1 = {}\n",
    "for i,j in zip(sample_list, list1):\n",
    "    print(i,j)\n",
    "    dict1[i] = j\n",
    "print(dict1)"
   ]
  },
  {
   "cell_type": "markdown",
   "metadata": {},
   "source": [
    " 16) Write a Python program to print a nested lists (each list on a new line) using the print() function.\n"
   ]
  },
  {
   "cell_type": "code",
   "execution_count": 20,
   "metadata": {},
   "outputs": [
    {
     "name": "stdout",
     "output_type": "stream",
     "text": [
      "[1, 2, 3, 4, 5, 6]\n",
      "['Pranay', 'Krishna', 'Rashi', 'Radha', 'Audi']\n",
      "['New York', 'New Jersey', 'Massachusetts', 'Michigan', 'California']\n",
      "1  2  3  4  5  6  Pranay  Krishna  Rashi  Radha  Audi  New York  New Jersey  Massachusetts  Michigan  California  "
     ]
    }
   ],
   "source": [
    "nested_list = [\n",
    "    [1,2,3,4,5,6],\n",
    "    [\"Pranay\", 'Krishna', 'Rashi', 'Radha', 'Audi'],\n",
    "    ['New York','New Jersey','Massachusetts','Michigan','California']\n",
    "]\n",
    "\n",
    "for i in nested_list:\n",
    "    print(i)\n",
    "\n",
    "for i in nested_list:\n",
    "    for j in i:\n",
    "        print(j, end = \"  \")"
   ]
  },
  {
   "cell_type": "markdown",
   "metadata": {},
   "source": [
    "17) Write a Python program to remove duplicates from a list.\n"
   ]
  },
  {
   "cell_type": "code",
   "execution_count": 44,
   "metadata": {},
   "outputs": [
    {
     "data": {
      "text/plain": [
       "['Black', 'Maroon', 'Red', 'Yellow']"
      ]
     },
     "execution_count": 44,
     "metadata": {},
     "output_type": "execute_result"
    }
   ],
   "source": [
    "list1 = [\"Black\", \"Red\", \"Maroon\", \"Yellow\", \"Yellow\", \"Red\", \"Maroon\", ]\n",
    "\n",
    "list(set(list1))"
   ]
  },
  {
   "cell_type": "markdown",
   "metadata": {},
   "source": [
    "18) Write a Python program to replace the last element in a list with another list. \n",
    "Sample data : [1, 3, 5, 7, 9, 10], [2, 4, 6, 8]\n",
    "Expected Output: [1, 3, 5, 7, 9, 2, 4, 6, 8]\n"
   ]
  },
  {
   "cell_type": "code",
   "execution_count": 50,
   "metadata": {},
   "outputs": [
    {
     "name": "stdout",
     "output_type": "stream",
     "text": [
      "[1, 3, 5, 7, 9, 2, 4, 6, 8]\n"
     ]
    }
   ],
   "source": [
    "list1 =  [1, 3, 5, 7, 9, 10]\n",
    "list2 = [2, 4, 6, 8]\n",
    "\n",
    "list1[-1:] = list2\n",
    "\n",
    "print(list1)"
   ]
  },
  {
   "cell_type": "markdown",
   "metadata": {},
   "source": [
    "19) Write a Python function that takes two lists and returns True if they have at least one common member. \n"
   ]
  },
  {
   "cell_type": "code",
   "execution_count": 48,
   "metadata": {},
   "outputs": [
    {
     "name": "stdout",
     "output_type": "stream",
     "text": [
      "California\n"
     ]
    }
   ],
   "source": [
    "l1 = ['New York','New Jersey','Massachusetts','Michigan','California']\n",
    "l2 = ['Alabama', 'Connecticut', 'Texas','California', 'Utah', 'Nevada']\n",
    "\n",
    "def fun(list1, list2):\n",
    "    for i in list1:\n",
    "        for j in list2:\n",
    "            if(i==j):\n",
    "                print(i)\n",
    "\n",
    "fun(l1,l2)"
   ]
  },
  {
   "cell_type": "markdown",
   "metadata": {},
   "source": [
    "---"
   ]
  },
  {
   "cell_type": "markdown",
   "metadata": {},
   "source": [
    "## **Dictionary**"
   ]
  },
  {
   "cell_type": "markdown",
   "metadata": {},
   "source": [
    "1) Write a Python program to create a dictionary of keys x, y, and z \n",
    "where each key has as value a list from 11-20, 21-30, and 31-40 respectively. \n",
    "Access the fifth value of each key from the dictionary. \n",
    "`{'x': [11, 12, 13, 14, 15, 16, 17, 18, 19],\n",
    "'y': [21, 22, 23, 24, 25, 26, 27, 28, 29],\n",
    "'z': [31, 32, 33, 34, 35, 36, 37, 38, 39]}`\n",
    "15\n",
    "25\n",
    "35\n"
   ]
  },
  {
   "cell_type": "code",
   "execution_count": 5,
   "metadata": {},
   "outputs": [
    {
     "name": "stdout",
     "output_type": "stream",
     "text": [
      "15\n",
      "25\n",
      "35\n"
     ]
    }
   ],
   "source": [
    "dict1 = {'x': [11, 12, 13, 14, 15, 16, 17, 18, 19],\n",
    "'y': [21, 22, 23, 24, 25, 26, 27, 28, 29],\n",
    "'z': [31, 32, 33, 34, 35, 36, 37, 38, 39]}\n",
    "\n",
    "for i in dict1:\n",
    "    print(dict1[i][4])"
   ]
  },
  {
   "cell_type": "code",
   "execution_count": 26,
   "metadata": {},
   "outputs": [
    {
     "name": "stdout",
     "output_type": "stream",
     "text": [
      "{'x': [11, 12, 13, 14, 15, 16, 17, 18, 19], 'y': [21, 22, 23, 24, 25, 26, 27, 28, 29], 'z': [31, 32, 33, 34, 35, 36, 37, 38, 39]}\n",
      "15\n",
      "25\n",
      "35\n"
     ]
    }
   ],
   "source": [
    "dict1 = {\n",
    "    'x':[i for i in range(11,20)],\n",
    "    'y':[i for i in range(21,30)],\n",
    "    'z':[i for i in range(31,40)]\n",
    "}\n",
    "\n",
    "print(dict1)\n",
    "\n",
    "for i in dict1:\n",
    "    print(dict1[i][4])"
   ]
  },
  {
   "cell_type": "markdown",
   "metadata": {},
   "source": [
    "2) Write a Python script to add a key to a dictionary. \n",
    "Sample Dictionary : {0: 10, 1: 20}\n",
    "Expected Result : {0: 10, 1: 20, 2: 30}\n"
   ]
  },
  {
   "cell_type": "code",
   "execution_count": 52,
   "metadata": {},
   "outputs": [
    {
     "name": "stdout",
     "output_type": "stream",
     "text": [
      "{0: 10, 1: 20, 2: 30}\n"
     ]
    }
   ],
   "source": [
    "dict1 = {\n",
    "    0:10,\n",
    "    1:20\n",
    "}\n",
    "\n",
    "dict1[2]= 30\n",
    "\n",
    "print(dict1)"
   ]
  },
  {
   "cell_type": "markdown",
   "metadata": {},
   "source": [
    "3) Write a Python script to check whether a given key already exists in a dictionary. \n"
   ]
  },
  {
   "cell_type": "code",
   "execution_count": 11,
   "metadata": {},
   "outputs": [
    {
     "name": "stdout",
     "output_type": "stream",
     "text": [
      "4\n",
      "Entered Key exsist in the dictionary\n"
     ]
    }
   ],
   "source": [
    "dict1 = {\n",
    "    0:10,\n",
    "    1:20,\n",
    "    2:30,\n",
    "    3:40,\n",
    "    4:50\n",
    "}\n",
    "user = int((input(\"Enter a key to check for key present in dictionary ::\")))\n",
    "\n",
    "for i in dict1.keys():\n",
    "    if(i == user):\n",
    "        print(user)\n",
    "        print(\"Entered Key exsist in the dictionary\")\n",
    "        break\n",
    "else:\n",
    "    print(\"The entered key is not present into the dict\")"
   ]
  },
  {
   "cell_type": "markdown",
   "metadata": {},
   "source": [
    "4) Write a Python program to count the values associated with key in a dictionary. \n",
    "Sample data: = [{'id': 1, 'success': True, 'name': 'Lary'}, {'id': 2, 'success': False, 'name': 'Rabi'}, {'id': 3, 'success': True, 'name': 'Alex'}]\n",
    "Expected result: Count of how many dictionaries have success as True\n"
   ]
  },
  {
   "cell_type": "code",
   "execution_count": 9,
   "metadata": {},
   "outputs": [
    {
     "name": "stdout",
     "output_type": "stream",
     "text": [
      "2\n"
     ]
    }
   ],
   "source": [
    "data =[{'id': 1, 'success': True, 'name': 'Lary'}, {'id': 2, 'success': False, 'name': 'Rabi'},\n",
    "        {'id': 3, 'success': True, 'name': 'Alex'}]\n",
    "\n",
    "cnt = 0\n",
    "\n",
    "for i in data:\n",
    "    if(i[\"success\"] == True):\n",
    "        cnt+=1\n",
    "print(cnt)"
   ]
  },
  {
   "cell_type": "markdown",
   "metadata": {},
   "source": [
    "5) Write a Python program to create a dictionary from two lists without losing duplicate values. \n",
    "Sample lists: ['Class-V', 'Class-VI', 'Class-VII', 'Class-VIII'], [1, 2, 2, 3]\n",
    "Expected Output: {'Class-VII': {2}, 'Class-VI': {2}, 'Class-VIII': {3}, 'Class-V': {1}}) \n"
   ]
  },
  {
   "cell_type": "code",
   "execution_count": 69,
   "metadata": {},
   "outputs": [
    {
     "name": "stdout",
     "output_type": "stream",
     "text": [
      "{'Class-V': {1}, 'Class-VI': {2}, 'Class-VII': {2}, 'Class-VIII': {3}}\n"
     ]
    }
   ],
   "source": [
    "list1 = ['Class-V', 'Class-VI', 'Class-VII', 'Class-VIII']\n",
    "list2 =[1, 2, 2, 3]\n",
    "\n",
    "dict3 = {}\n",
    "\n",
    "for (a,b) in zip(list1, list2):\n",
    "    dict3[a] = {b}\n",
    "\n",
    "print(dict3)"
   ]
  },
  {
   "cell_type": "markdown",
   "metadata": {},
   "source": [
    "6) Write a Python program to check a dictionary is empty or not.\n"
   ]
  },
  {
   "cell_type": "code",
   "execution_count": 72,
   "metadata": {},
   "outputs": [
    {
     "name": "stdout",
     "output_type": "stream",
     "text": [
      "Its Empty\n"
     ]
    }
   ],
   "source": [
    "dict3 = {}\n",
    "\n",
    "if(dict3):\n",
    "    print(dict3)\n",
    "else:\n",
    "    print(\"Its Empty\")"
   ]
  },
  {
   "cell_type": "code",
   "execution_count": 73,
   "metadata": {},
   "outputs": [
    {
     "name": "stdout",
     "output_type": "stream",
     "text": [
      "0\n"
     ]
    }
   ],
   "source": [
    "cnt = 0\n",
    "dict4 = {}\n",
    "\n",
    "for i in dict4:\n",
    "    print(i)\n",
    "    cnt+=1\n",
    "print(cnt)"
   ]
  },
  {
   "cell_type": "markdown",
   "metadata": {},
   "source": [
    "7) Write a Python program to combine two dictionary adding values for common keys.\n",
    "-   d1 = {'a': 100, 'b': 200, 'c':300}\n",
    "-   d2 = {'a': 300, 'b': 200, 'd':400}\n",
    "-   Sample output: Counter({'a': 400, 'b': 400, 'd': 400, 'c': 300})\n"
   ]
  },
  {
   "cell_type": "code",
   "execution_count": 28,
   "metadata": {},
   "outputs": [
    {
     "name": "stdout",
     "output_type": "stream",
     "text": [
      "Counter({'a': 400, 'b': 400, 'd': 400, 'c': 300})\n"
     ]
    }
   ],
   "source": [
    "from collections import Counter\n",
    "\n",
    "d1 = {'a': 100, 'b': 200, 'c': 300}\n",
    "d2 = {'a': 300, 'b': 200, 'd': 400}\n",
    "\n",
    "combined_dict = Counter(d1) + Counter(d2)\n",
    "\n",
    "print(combined_dict)"
   ]
  },
  {
   "cell_type": "code",
   "execution_count": 1,
   "metadata": {},
   "outputs": [
    {
     "name": "stdout",
     "output_type": "stream",
     "text": [
      "Counter({'English': 150, 'Maths': 145, 'Physics': 89, 'Chemistry': 88})\n"
     ]
    }
   ],
   "source": [
    "s1 = {'Maths':89, 'English' : 95, 'Physics': 89}\n",
    "s2 = {'Maths' : 56, 'English':55, 'Chemistry' : 88}\n",
    "\n",
    "from collections import Counter\n",
    "\n",
    "m = Counter(s1) + Counter(s2)\n",
    "\n",
    "print(m)"
   ]
  },
  {
   "cell_type": "code",
   "execution_count": 29,
   "metadata": {},
   "outputs": [
    {
     "name": "stdout",
     "output_type": "stream",
     "text": [
      "Counter({'r': 2, 'e': 2, 's': 2, 'w': 1, '3': 1, 'o': 1, 'u': 1, 'c': 1})\n"
     ]
    }
   ],
   "source": [
    "c = 'w3resources'\n",
    "\n",
    "print(Counter(c))\n"
   ]
  },
  {
   "cell_type": "code",
   "execution_count": 30,
   "metadata": {},
   "outputs": [
    {
     "name": "stdout",
     "output_type": "stream",
     "text": [
      "{'w': 1, '3': 1, 'r': 2, 'e': 2, 's': 2, 'o': 1, 'u': 1, 'c': 1}\n"
     ]
    }
   ],
   "source": [
    "c = 'w3resources'\n",
    "# print(c)\n",
    "\n",
    "alpha = {}\n",
    "\n",
    "for i in c:\n",
    "    if(i in alpha):\n",
    "        alpha[i] += 1\n",
    "    else:\n",
    "        alpha[i] = 1\n",
    "\n",
    "print(alpha)"
   ]
  },
  {
   "cell_type": "markdown",
   "metadata": {},
   "source": [
    "8) Write a Python program to count number of items in a dictionary value that is a list\n",
    "\n",
    "- sample data:\n",
    "\n",
    "-   mydictionary1={'Names':['Rohit','Ganesh','SRK','Akshay'],'age':40,'addresses':['Mumbai','Delhi','Kolkara','Banglore'],'emails':['actor.gmail.com','movie.gmail.com']}\n",
    "\n",
    "-   output: 10\n"
   ]
  },
  {
   "cell_type": "code",
   "execution_count": 31,
   "metadata": {},
   "outputs": [
    {
     "name": "stdout",
     "output_type": "stream",
     "text": [
      "10\n"
     ]
    }
   ],
   "source": [
    "dict1 = {'Names':['Rohit','Ganesh','SRK','Akshay'],\n",
    "         'age':40,\n",
    "         'addresses':['Mumbai','Delhi','Kolkara','Banglore'],\n",
    "         'emails':['actor.gmail.com','movie.gmail.com']}\n",
    "count = 0\n",
    "\n",
    "for i in dict1.values():\n",
    "    if isinstance(i, list):\n",
    "        count += len(i)\n",
    "\n",
    "print(count)\n"
   ]
  },
  {
   "cell_type": "markdown",
   "metadata": {},
   "source": [
    "9) Write a Python program to create a dictionary from a string. \n",
    "Note: Track the count of the letters from the string.\n",
    "Sample string : 'w3resource'\n",
    "Expected output: {'3': 1, 's': 1, 'r': 2, 'u': 1, 'w': 1, 'c': 1, 'e': 2, 'o': 1}\n"
   ]
  },
  {
   "cell_type": "code",
   "execution_count": 7,
   "metadata": {},
   "outputs": [
    {
     "name": "stdout",
     "output_type": "stream",
     "text": [
      "{'w': 1, '3': 1, 'r': 2, 'e': 2, 's': 2, 'o': 1, 'u': 1, 'c': 1}\n"
     ]
    }
   ],
   "source": [
    "instring = 'w3resources'\n",
    "\n",
    "lettercount = {}\n",
    "\n",
    "for letter in instring:\n",
    "    if letter in lettercount:\n",
    "        lettercount[letter] += 1\n",
    "    else:\n",
    "        lettercount[letter] = 1\n",
    "\n",
    "print(lettercount)"
   ]
  },
  {
   "cell_type": "markdown",
   "metadata": {},
   "source": [
    "10) Write a Python program to get the key, value and item in a dictionary\n"
   ]
  },
  {
   "cell_type": "code",
   "execution_count": 17,
   "metadata": {},
   "outputs": [
    {
     "name": "stdout",
     "output_type": "stream",
     "text": [
      "('Name', 'Pranay')\n",
      "('Age', 23)\n",
      "('City', 'Mumbai')\n",
      "('State', 'Maharashtra')\n",
      "('COuntry', 'India / IN')\n",
      "Total  5\n"
     ]
    }
   ],
   "source": [
    "dict1 = {'Name':'Pranay', 'Age':23, 'City':'Mumbai', 'State':'Maharashtra', 'COuntry':'India / IN'}\n",
    "\n",
    "for i in dict1.items():\n",
    "    print(i)\n",
    "\n",
    "\n",
    "cnt = 0 \n",
    "\n",
    "for i in dict1.items():\n",
    "    cnt += 1\n",
    "\n",
    "print(\"Total \",cnt)"
   ]
  },
  {
   "cell_type": "code",
   "execution_count": 16,
   "metadata": {},
   "outputs": [
    {
     "name": "stdout",
     "output_type": "stream",
     "text": [
      "4\n"
     ]
    }
   ],
   "source": [
    "mydictionary={1:'xyz',3:'abc',5:'pqr',2:'xzz'}\n",
    "\n",
    "cnt = 0 \n",
    "\n",
    "for i in mydictionary.items():\n",
    "    cnt += 1\n",
    "\n",
    "print(cnt) "
   ]
  },
  {
   "cell_type": "markdown",
   "metadata": {},
   "source": [
    "11) Write a Python program to get the maximum and minimum value in a dictionary.\n"
   ]
  },
  {
   "cell_type": "code",
   "execution_count": 22,
   "metadata": {},
   "outputs": [
    {
     "name": "stdout",
     "output_type": "stream",
     "text": [
      "Maximum Value is ---> 8\n",
      "Minimum Value is ---> 1\n"
     ]
    }
   ],
   "source": [
    "my_dict = {'w': 1, '3': 5, 'r': 2, 'e': 8, 's': 3, 'o': 7, 'u': 6, 'c': 4}\n",
    "\n",
    "print(\"Maximum Value is --->\",max(my_dict.values()))\n",
    "\n",
    "print(\"Minimum Value is --->\",min(my_dict.values()))"
   ]
  },
  {
   "cell_type": "markdown",
   "metadata": {},
   "source": [
    "12) Write a Python program to map two lists into a dictionary. \n"
   ]
  },
  {
   "cell_type": "code",
   "execution_count": 25,
   "metadata": {},
   "outputs": [
    {
     "name": "stdout",
     "output_type": "stream",
     "text": [
      "{1: 'abc', 2: 'def', 3: 'pqr', 4: 'lmn', 5: 'xyz', 6: 'uvw'}\n"
     ]
    }
   ],
   "source": [
    "prnnos=[1,2,3,4,5,6]\n",
    "names=['abc','def','pqr','lmn','xyz','uvw']\n",
    "\n",
    "# output:\n",
    "# {1: 'abc', 2: 'def', 3: 'pqr', 4: 'lmn', 5: 'xyz', 6: 'uvw'}\n",
    "\n",
    "dict3 = {}\n",
    "\n",
    "for (a,b) in zip(prnnos, names):\n",
    "    dict3[a] = b\n",
    "\n",
    "print(dict3)"
   ]
  },
  {
   "cell_type": "markdown",
   "metadata": {},
   "source": [
    "13) Write a Python program to match key values in two dictionaries. \n",
    "Sample dictionary: {'key1': 1, 'key2': 3, 'key3': 2}, {'key1': 1, 'key2': 2}\n",
    "Expected output: key1: 1 is present in both x and y\n",
    "\n"
   ]
  },
  {
   "cell_type": "code",
   "execution_count": 27,
   "metadata": {},
   "outputs": [
    {
     "name": "stdout",
     "output_type": "stream",
     "text": [
      "('key1', 1) Exsists in both dictionary\n"
     ]
    }
   ],
   "source": [
    "dict1 = {'key1': 1, 'key2': 3, 'key3': 2}\n",
    "dict2 = {'key1': 1, 'key2': 2}\n",
    "# Expected output: key1: 1 is present in both x and y\n",
    "\n",
    "for one in dict1.items():\n",
    "    for two in dict2.items():\n",
    "        if(one == two):\n",
    "            print(one, \"Exsists in both dictionary\")"
   ]
  },
  {
   "cell_type": "markdown",
   "metadata": {},
   "source": [
    "14) Write a Python program to print a dictionary line by line. \n",
    "\n",
    "Players={'Rohit':{'runs':10000,'centuries':15},'Virat':{'runs':12000,'centuries':18}}\n",
    "\n",
    "expected output:\n",
    "\n",
    "Rohit\n",
    "runs :\t 10000\n",
    "centuries :\t 15\n",
    "Virat\n",
    "runs :\t 12000\n",
    "centuries :\t 18\n",
    "\n"
   ]
  },
  {
   "cell_type": "code",
   "execution_count": 32,
   "metadata": {},
   "outputs": [
    {
     "name": "stdout",
     "output_type": "stream",
     "text": [
      "Rohit\n",
      "runs: 10000\n",
      "centuries: 15\n",
      "Virat\n",
      "runs: 12000\n",
      "centuries: 18\n"
     ]
    }
   ],
   "source": [
    "Players = {'Rohit': {'runs': 10000, 'centuries': 15}, 'Virat': {'runs': 12000, 'centuries': 18}}\n",
    "\n",
    "for player, info in Players.items():\n",
    "    print(player)\n",
    "    for runs, value in info.items():\n",
    "        print(f\"{runs}: {value}\")\n"
   ]
  },
  {
   "cell_type": "markdown",
   "metadata": {},
   "source": [
    "15) Write a Python program to remove a key from a dictionary.\n"
   ]
  },
  {
   "cell_type": "code",
   "execution_count": 34,
   "metadata": {},
   "outputs": [
    {
     "data": {
      "text/plain": [
       "{'w': 1, '3': 5, 'e': 8, 's': 3, 'o': 7, 'u': 6, 'c': 4}"
      ]
     },
     "execution_count": 34,
     "metadata": {},
     "output_type": "execute_result"
    }
   ],
   "source": [
    "mydict = {'w': 1, '3': 5, 'r': 2, 'e': 8, 's': 3, 'o': 7, 'u': 6, 'c': 4}\n",
    "\n",
    "removed_value = mydict.pop('r')\n",
    "\n",
    "mydict"
   ]
  },
  {
   "cell_type": "markdown",
   "metadata": {},
   "source": [
    "16) Write a Python program to remove spaces from dictionary keys. \n",
    "\n",
    "Students={'d 01':'Abc','d 0 2':'Xyz','d0 3':'Pqr'}\n",
    "\n",
    "output:\n",
    "\n",
    "{'d01': 'Abc', 'd02': 'Xyz', 'd03': 'Pqr'}\n"
   ]
  },
  {
   "cell_type": "code",
   "execution_count": 38,
   "metadata": {},
   "outputs": [
    {
     "name": "stdout",
     "output_type": "stream",
     "text": [
      "{'d01': 'Abc', 'd02': 'Xyz', 'd03': 'Pqr'}\n"
     ]
    }
   ],
   "source": [
    "Students={'d 01':'Abc','d 0 2':'Xyz','d0 3':'Pqr'}\n",
    "\n",
    "new_dict = {key.replace(\" \", \"\"): value for key, value in Students.items()}\n",
    "\n",
    "print(new_dict)"
   ]
  },
  {
   "cell_type": "markdown",
   "metadata": {},
   "source": [
    "17) Write a Python program to sum all the items in a dictionary. \n"
   ]
  },
  {
   "cell_type": "code",
   "execution_count": 41,
   "metadata": {},
   "outputs": [
    {
     "name": "stdout",
     "output_type": "stream",
     "text": [
      "36\n"
     ]
    }
   ],
   "source": [
    "mydict = {'w': 1, '3': 5, 'r': 2, 'e': 8, 's': 3, 'o': 7, 'u': 6, 'c': 4}\n",
    "\n",
    "sum = 0\n",
    "for i in mydict.values():\n",
    "    sum = sum + i\n",
    "\n",
    "print(sum)"
   ]
  },
  {
   "cell_type": "markdown",
   "metadata": {},
   "source": [
    "18) Write a Python script to merge two Python dictionaries. \n"
   ]
  },
  {
   "cell_type": "code",
   "execution_count": 33,
   "metadata": {},
   "outputs": [
    {
     "name": "stdout",
     "output_type": "stream",
     "text": [
      "{'a': 1, 'b': 2, 'c': 3, 'd': 4}\n"
     ]
    }
   ],
   "source": [
    "dict1 = {'a': 1, 'b': 2}\n",
    "dict2 = {'c': 3, 'd': 4}\n",
    "\n",
    "merged_dict = {**dict1, **dict2}\n",
    "\n",
    "print(merged_dict)"
   ]
  },
  {
   "cell_type": "code",
   "execution_count": 46,
   "metadata": {},
   "outputs": [
    {
     "name": "stdout",
     "output_type": "stream",
     "text": [
      "{1: 1, 2: 4, 3: 9, 4: 16, 5: 25, 6: 36, 7: 49, 8: 64, 9: 81, 10: 100, 11: 121, 12: 144}\n"
     ]
    }
   ],
   "source": [
    "mydictionary1={1: 1, 2: 4, 3: 9, 4: 16, 5: 25, 6: 36}\n",
    "mydictionary2={7: 49, 8: 64, 9: 81, 10: 100, 11: 121, 12: 144}\n",
    "\n",
    "merged = {**mydictionary1, **mydictionary2}\n",
    "\n",
    "print(merged)\n",
    "# output:\n",
    "\n",
    "# {1: 1, 2: 4, 3: 9, 4: 16, 5: 25, 6: 36, 7: 49, 8: 64, 9: 81, 10: 100, 11: 121, 12: 144}\n"
   ]
  },
  {
   "cell_type": "markdown",
   "metadata": {},
   "source": [
    "19) Write a Python script to concatenate following dictionaries to create a new one. \n",
    "Sample Dictionary :\n",
    "dic1={1:10, 2:20}\n",
    "dic2={3:30, 4:40}\n",
    "dic3={5:50,6:60}\n",
    "Expected Result : {1: 10, 2: 20, 3: 30, 4: 40, 5: 50, 6: 60}"
   ]
  },
  {
   "cell_type": "code",
   "execution_count": 48,
   "metadata": {},
   "outputs": [
    {
     "name": "stdout",
     "output_type": "stream",
     "text": [
      "{1: 10, 2: 20, 3: 30, 4: 40, 5: 50, 6: 60}\n"
     ]
    }
   ],
   "source": [
    "dic1={1:10, 2:20}\n",
    "dic2={3:30, 4:40}\n",
    "dic3={5:50,6:60}\n",
    "\n",
    "merged = {**dic1, **dic2, **dic3}\n",
    "\n",
    "print(merged)\n"
   ]
  }
 ],
 "metadata": {
  "kernelspec": {
   "display_name": "base",
   "language": "python",
   "name": "python3"
  },
  "language_info": {
   "codemirror_mode": {
    "name": "ipython",
    "version": 3
   },
   "file_extension": ".py",
   "mimetype": "text/x-python",
   "name": "python",
   "nbconvert_exporter": "python",
   "pygments_lexer": "ipython3",
   "version": "3.11.10"
  }
 },
 "nbformat": 4,
 "nbformat_minor": 2
}
