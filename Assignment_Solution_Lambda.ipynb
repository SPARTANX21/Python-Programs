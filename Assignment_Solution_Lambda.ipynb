{
 "cells": [
  {
   "cell_type": "markdown",
   "metadata": {},
   "source": [
    "1) write a function to accept a number and return its square using\n",
    "\ta) normal function\n",
    "\tb) lambda"
   ]
  },
  {
   "cell_type": "code",
   "execution_count": 19,
   "metadata": {},
   "outputs": [
    {
     "name": "stdout",
     "output_type": "stream",
     "text": [
      "Lambda Function--> 25\n",
      "Using Normal Function ---> 100\n"
     ]
    }
   ],
   "source": [
    "num = lambda x: x**2\n",
    "user = int(input(\"Enter a number \"))\n",
    "\n",
    "print(\"Lambda Function-->\",num(user))\n",
    "\n",
    "def square(num):\n",
    "    return num **2\n",
    "\n",
    "print(\"Using Normal Function --->\",square(10))"
   ]
  },
  {
   "cell_type": "markdown",
   "metadata": {},
   "source": [
    "2) write a function to display \"Hello World\" using\n",
    "\ta) normal function\n",
    "\tb) lambda\n"
   ]
  },
  {
   "cell_type": "code",
   "execution_count": 6,
   "metadata": {},
   "outputs": [
    {
     "name": "stdout",
     "output_type": "stream",
     "text": [
      "Using Normal Fucntion ---->  Hello World!\n",
      "Using LAMBDA Fucntion ---->  "
     ]
    },
    {
     "data": {
      "text/plain": [
       "'Hello World!'"
      ]
     },
     "execution_count": 6,
     "metadata": {},
     "output_type": "execute_result"
    }
   ],
   "source": [
    "def disp():\n",
    "    print(\"Hello World!\")\n",
    "\n",
    "print(\"Using Normal Fucntion ----> \", end = ' ')\n",
    "disp()\n",
    "\n",
    "disp = lambda : \"Hello World!\"\n",
    "\n",
    "print(\"Using LAMBDA Fucntion ----> \", end = ' ')\n",
    "disp()"
   ]
  },
  {
   "cell_type": "markdown",
   "metadata": {},
   "source": [
    "3) write a function with 2 arguments , second argument should be \"default argument\" and display them. Using\n",
    "\ta) normal function \n",
    "\tb) lambda\n"
   ]
  },
  {
   "cell_type": "code",
   "execution_count": 4,
   "metadata": {},
   "outputs": [
    {
     "name": "stdout",
     "output_type": "stream",
     "text": [
      "Using Normal Fucntion ---->  1 Default Argument\n",
      "Using Normal Fucntion ---->  1 10\n",
      "\n",
      "Using LAMBDA Fucntion ---->  10 Default Argument\n",
      "Using LAMBDA Fucntion ---->  10 22\n"
     ]
    }
   ],
   "source": [
    "def argument(num1, num2=\"Default Argument\"):\n",
    "    print(num1, num2)\n",
    "\n",
    "print(\"Using Normal Fucntion ----> \", end = ' ')\n",
    "argument(1)\n",
    "\n",
    "print(\"Using Normal Fucntion ----> \", end = ' ')\n",
    "argument(1, 10)\n",
    "\n",
    "argumentlambda = lambda x, y=\"Default Argument\": print(x,y)\n",
    "print()\n",
    "print(\"Using LAMBDA Fucntion ----> \", end = ' ')\n",
    "argumentlambda(10)\n",
    "\n",
    "print(\"Using LAMBDA Fucntion ----> \", end = ' ')\n",
    "argumentlambda(10,22)"
   ]
  },
  {
   "cell_type": "markdown",
   "metadata": {},
   "source": [
    "4) write a function with variable no. of arguments and display them. Using\n",
    "\ta) normal function\n",
    "\tb) lambda\n"
   ]
  },
  {
   "cell_type": "code",
   "execution_count": 2,
   "metadata": {},
   "outputs": [
    {
     "name": "stdout",
     "output_type": "stream",
     "text": [
      "Using Normal Fucntion ---->  (1, 2, 3, 4, 5, 10, 200)\n",
      "Using LAMBDA Fucntion ---->  (1, 2, 3, 4, 5)\n"
     ]
    }
   ],
   "source": [
    "def vararg(*arg):\n",
    "    print(arg)\n",
    "\n",
    "print(\"Using Normal Fucntion ----> \", end = ' ')\n",
    "vararg(1,2,3,4,5,10,200)\n",
    "\n",
    "vararg = lambda *arg:print(arg)\n",
    "\n",
    "print(\"Using LAMBDA Fucntion ----> \", end = ' ')\n",
    "vararg(1,2,3,4,5)"
   ]
  },
  {
   "cell_type": "code",
   "execution_count": null,
   "metadata": {},
   "outputs": [],
   "source": []
  }
 ],
 "metadata": {
  "kernelspec": {
   "display_name": "base",
   "language": "python",
   "name": "python3"
  },
  "language_info": {
   "codemirror_mode": {
    "name": "ipython",
    "version": 3
   },
   "file_extension": ".py",
   "mimetype": "text/x-python",
   "name": "python",
   "nbconvert_exporter": "python",
   "pygments_lexer": "ipython3",
   "version": "3.11.9"
  }
 },
 "nbformat": 4,
 "nbformat_minor": 2
}
