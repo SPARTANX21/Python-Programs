{
 "cells": [
  {
   "cell_type": "markdown",
   "metadata": {},
   "source": [
    "## **Dictionary - Assignment**"
   ]
  },
  {
   "cell_type": "markdown",
   "metadata": {},
   "source": [
    "1) accept 5 students name and store them in the dictionary by providing keys from 1 to 5 respectively.\n",
    "\n",
    "\n",
    "\n",
    "2) create a dictionary with pairs\n",
    "\tsoap:100\n",
    "\tdeo:300\n",
    "\tperfume:400\n",
    "\n",
    "now accept a product name from user (in any case, so you have to handle \"ignore case\") and display its price. Also , if the product is not present in the dictionary display the error message \" product not available \"\n",
    "\tNote:  you should not get \"KeyError:\" in the program.\n",
    "\n",
    "\n",
    "\n",
    "\n",
    "\n",
    "3) define a class \"Student\" with members\n",
    "\tname,age,address and qualification\n",
    "\t\n",
    "   define parameterized constructor and \"str\" member function which returns all the members\n",
    "\n",
    "   create 4 objects of Student by passing values.\n",
    "\n",
    "now create a dictionary with rollno ( start from 1 ) as a key and student object as a value.\n",
    "\n",
    "accept a rollno from user and display all its details i.e. name,age,address and qualification.\n",
    "also display message \"student not found\" in case if rollno entered by user is not available as a key inside the dictionary.\n",
    "\n",
    "4)  Given a dictionary of students and their favourite colours: \n",
    "people={'Arham':'Blue','Lisa':'Yellow',''Vinod:'Purple','Jenny':'Pink'} \n",
    "1. Find out how many students are in the list \n",
    "2. Change Lisa’s favourite colour \n",
    "3. Remove 'Jenny' and her favourite color\n",
    "4. Sort and print students and their favourite colours alphabetically by name\n",
    "\n",
    "\n"
   ]
  },
  {
   "cell_type": "markdown",
   "metadata": {},
   "source": [
    "1) accept 5 students name and store them in the dictionary by providing keys from 1 to 5 respectively."
   ]
  },
  {
   "cell_type": "code",
   "execution_count": 2,
   "metadata": {},
   "outputs": [
    {
     "name": "stdout",
     "output_type": "stream",
     "text": [
      "{1: 'Pranay', 2: 'Omkar', 3: 'Bhupendra', 4: 'Patrik', 5: 'Yash'}\n"
     ]
    }
   ],
   "source": [
    "dict1 = {}\n",
    "\n",
    "for i in range(1,6):\n",
    "    user = input(\"Enter Students name ::\")\n",
    "    dict1[i] = user\n",
    "\n",
    "print(dict1)"
   ]
  },
  {
   "cell_type": "markdown",
   "metadata": {},
   "source": [
    "2) create a dictionary with pairs\n",
    "\tsoap:100\n",
    "\tdeo:300\n",
    "\tperfume:400\n",
    "\n",
    "now accept a product name from user (in any case, so you have to handle \"ignore case\") and display its price. Also , if the product is not present in the dictionary display the error message \" product not available \"\n",
    "\tNote:  you should not get \"KeyError:\" in the program.\n"
   ]
  },
  {
   "cell_type": "code",
   "execution_count": 3,
   "metadata": {},
   "outputs": [
    {
     "name": "stdout",
     "output_type": "stream",
     "text": [
      "Product Not Available\n"
     ]
    }
   ],
   "source": [
    "dict2 = {\n",
    "    'soap':100,\n",
    "\t'deo':300,\n",
    "\t'perfume':400\n",
    "}\n",
    "\n",
    "user = input(\"Enter a product name : \").casefold()\n",
    "\n",
    "for i in dict2.keys():\n",
    "    if (user == i):\n",
    "        print(dict2[user])\n",
    "        break\n",
    "else:print('Product Not Available')"
   ]
  },
  {
   "cell_type": "markdown",
   "metadata": {},
   "source": [
    "3) define a class \"Student\" with members\n",
    "\tname,age,address and qualification\n",
    "\t\n",
    "   define parameterized constructor and \"str\" member function which returns all the members\n",
    "\n",
    "   create 4 objects of Student by passing values.\n",
    "\n",
    "   now create a dictionary with rollno ( start from 1 ) as a key and student object as a value.\n",
    "\n",
    "   accept a rollno from user and display all its details i.e. name,age,address and qualification.\n",
    "   also display message \"student not found\" in case if rollno entered by user is not available as a key inside the dictionary.\n"
   ]
  },
  {
   "cell_type": "code",
   "execution_count": 4,
   "metadata": {},
   "outputs": [
    {
     "name": "stdout",
     "output_type": "stream",
     "text": [
      "('Hemant',)' '(24,) ('Deutsche',) Masters Deg \n"
     ]
    }
   ],
   "source": [
    "class Student:\n",
    "    def __init__(self, name, age, address, qualification):\n",
    "        self.name = name,\n",
    "        self.age = age,\n",
    "        self.address = address,\n",
    "        self.qualification = qualification\n",
    "    def __str__(self):\n",
    "        return f\"{self.name}' '{self.age} {self.address} {self.qualification} \"\n",
    "    \n",
    "s1 = Student('Pranay', 24, 'United States','Masters Deg')\n",
    "s2 = Student('Hemant', 24, 'Deutsche','Masters Deg')\n",
    "s3 = Student('Patrik', 30, 'India','PG')\n",
    "s4 = Student('Bhupendra', 25, 'India','PG')\n",
    "\n",
    "stu = {\n",
    "    1 : s1,\n",
    "    2 : s2,\n",
    "    3 : s3,\n",
    "    4 : s4}\n",
    "\n",
    "\n",
    "user = int(input(\"Enter a roll number  :: \"))\n",
    "\n",
    "if user in stu:\n",
    "    print(stu[user])\n",
    "else:\n",
    "    print(\"Roll number not in Dictionary\")"
   ]
  },
  {
   "cell_type": "markdown",
   "metadata": {},
   "source": [
    "4)  Given a dictionary of students and their favourite colours: \n",
    "people={'Arham':'Blue','Lisa':'Yellow',''Vinod:'Purple','Jenny':'Pink'} \n",
    "1. Find out how many students are in the list \n",
    "2. Change Lisa’s favourite colour \n",
    "3. Remove 'Jenny' and her favourite color\n",
    "4. Sort and print students and their favourite colours alphabetically by name"
   ]
  },
  {
   "cell_type": "code",
   "execution_count": 26,
   "metadata": {},
   "outputs": [
    {
     "name": "stdout",
     "output_type": "stream",
     "text": [
      "1\n",
      "Count of students =  4\n",
      "2\n",
      "{'Arham': 'Blue', 'Lisa': 'Green', 'Vinod': 'Purple', 'Jenny': 'Pink'}\n",
      "3\n"
     ]
    },
    {
     "data": {
      "text/plain": [
       "[('Arham', 'Blue'), ('Lisa', 'Green'), ('Vinod', 'Purple')]"
      ]
     },
     "execution_count": 26,
     "metadata": {},
     "output_type": "execute_result"
    }
   ],
   "source": [
    "people={'Arham':'Blue','Lisa':'Yellow','Vinod':'Purple','Jenny':'Pink'} \n",
    "\n",
    "print(\"1\")\n",
    "cnt = 0\n",
    "\n",
    "for i in people.keys():\n",
    "    cnt += 1\n",
    "\n",
    "print(\"Count of students = \",cnt)    \n",
    "\n",
    "print(\"2\")\n",
    "\n",
    "people['Lisa'] = 'Green'\n",
    "\n",
    "print(people)\n",
    "\n",
    "print('3')\n",
    "\n",
    "people.popitem()\n",
    "\n",
    "sorted(people.items())"
   ]
  },
  {
   "cell_type": "markdown",
   "metadata": {},
   "source": [
    "## **Set Assignment**"
   ]
  },
  {
   "cell_type": "markdown",
   "metadata": {},
   "source": [
    "1) accept 10 values from user and add them inside the set. now accept one more value from user and if it is present in the set, remove it. Make sure program doesn't give any error if number is not there inside the set.\n"
   ]
  },
  {
   "cell_type": "code",
   "execution_count": 1,
   "metadata": {},
   "outputs": [
    {
     "name": "stdout",
     "output_type": "stream",
     "text": [
      "Values in set1 are =  {'1', '4', '10', '9', '6', '7', '8', '3', '5', '2'}\n",
      "Value removed from set1 is 5 and rest set contains =  {'1', '4', '10', '9', '6', '7', '8', '3', '2'}\n"
     ]
    }
   ],
   "source": [
    "user = input(\"Enter 10 values\").split()\n",
    "\n",
    "set1 = set()\n",
    "\n",
    "for i in user:\n",
    "    set1.add(i)\n",
    "\n",
    "print(\"Values in set1 are = \",set1)\n",
    "user2 = input(\"Enter 1 value : \")\n",
    "if(user2 in set1):\n",
    "    set1.remove(user2)\n",
    "\n",
    "print(f\"Value removed from set1 is {user2} and rest set contains = \",set1)"
   ]
  },
  {
   "cell_type": "markdown",
   "metadata": {},
   "source": [
    "## **String Assignment**"
   ]
  },
  {
   "cell_type": "markdown",
   "metadata": {},
   "source": [
    "1) accept a string and display whether it is palindrom or not.\n"
   ]
  },
  {
   "cell_type": "code",
   "execution_count": 11,
   "metadata": {},
   "outputs": [
    {
     "name": "stdout",
     "output_type": "stream",
     "text": [
      "1221\n",
      "Its an Palindrome\n"
     ]
    }
   ],
   "source": [
    "user = input(\"Enter a string to check for palindrome ::\")\n",
    "print(user)\n",
    "if(user == user[::-1]):\n",
    "    print(\"Its an Palindrome\")\n",
    "else:\n",
    "    print(\"Its not an Palindrome\")"
   ]
  },
  {
   "cell_type": "markdown",
   "metadata": {},
   "source": [
    "2) accept a string and display it. now accept slicing positions from and to , slice the string and display it.\n"
   ]
  },
  {
   "cell_type": "code",
   "execution_count": 33,
   "metadata": {},
   "outputs": [
    {
     "name": "stdout",
     "output_type": "stream",
     "text": [
      "Pranay Shah is the best\n"
     ]
    },
    {
     "data": {
      "text/plain": [
       "'y Sh'"
      ]
     },
     "execution_count": 33,
     "metadata": {},
     "output_type": "execute_result"
    }
   ],
   "source": [
    "user = input(\"Enter a string to check for Slicing ::\")\n",
    "\n",
    "print(user)\n",
    "\n",
    "slice1 = int(input(\"Enter 1st position to slice :: \"))\n",
    "slice2 = int(input(\"Enter end position to slice :: \"))\n",
    "\n",
    "user[slice1:slice2]"
   ]
  },
  {
   "cell_type": "markdown",
   "metadata": {},
   "source": [
    "3) accept a string and display how many vowel characters are there inside it.\n"
   ]
  },
  {
   "cell_type": "code",
   "execution_count": 48,
   "metadata": {},
   "outputs": [
    {
     "name": "stdout",
     "output_type": "stream",
     "text": [
      "['P', 'r', 'a', 'n', 'a', 'y', 'B', 'i', 'n', 'd', 'e', 's', 'h', 'S', 'h', 'a', 'h']\n",
      "5\n"
     ]
    }
   ],
   "source": [
    "user = list(input(\"Enter a string to check for Counting vowel ::\").replace(\" \",''))\n",
    "cnt = 0 \n",
    "for i in user:\n",
    "    if(i in ('a','e','i','o','u', 'A', 'E','O','I','U')):\n",
    "        cnt += 1\n",
    "\n",
    "print(user)\n",
    "print(cnt)"
   ]
  },
  {
   "cell_type": "markdown",
   "metadata": {},
   "source": [
    "4) accept a string and display the characters which are repeated in the string\n"
   ]
  },
  {
   "cell_type": "code",
   "execution_count": 30,
   "metadata": {},
   "outputs": [
    {
     "name": "stdout",
     "output_type": "stream",
     "text": [
      "4\n",
      "1\n",
      "['a', 'a', 'a', 'a', 'b']\n",
      "0\n",
      "{'a': 4, 'b': 1}\n"
     ]
    }
   ],
   "source": [
    "user = list(input(\"Enter a string to check for Counting vowel ::\").replace(\" \", ''))\n",
    "cnt = 0 \n",
    "alpha = {}\n",
    "repeat={}\n",
    "for i in user:\n",
    "    if(i in alpha):\n",
    "        alpha[i] += 1\n",
    "    else:\n",
    "        alpha[i] = 1\n",
    "\n",
    "for i in alpha.values():\n",
    "    if(i >= 1):\n",
    "        print(i)\n",
    "# repeat={i:count for i,count in alpha.items() if count>1}\n",
    "\n",
    "print(user)\n",
    "print(cnt)\n",
    "print(alpha)\n",
    "# print(repeat)"
   ]
  },
  {
   "cell_type": "markdown",
   "metadata": {},
   "source": [
    "5) accept a string and find out how many words are there in it.\n"
   ]
  },
  {
   "cell_type": "code",
   "execution_count": 32,
   "metadata": {},
   "outputs": [
    {
     "name": "stdout",
     "output_type": "stream",
     "text": [
      "10\n"
     ]
    }
   ],
   "source": [
    "user = (input(\"Enter a string to check for Counting words ::\"))\n",
    "\n",
    "\n",
    "user1 = list(user)\n",
    "\n",
    "words = 0\n",
    "for i in user1:\n",
    "    if(i == ' '):\n",
    "        continue\n",
    "    words += 1\n",
    "\n",
    "print(words)"
   ]
  },
  {
   "cell_type": "markdown",
   "metadata": {},
   "source": [
    "6) accept a sentence and reverse it.\n",
    "\te.g.  hello world\n",
    "\t\tworld hello\n"
   ]
  },
  {
   "cell_type": "code",
   "execution_count": 4,
   "metadata": {},
   "outputs": [
    {
     "name": "stdout",
     "output_type": "stream",
     "text": [
      "['Pranay', 'Shah']\n",
      "Shah Pranay\n",
      "<class 'str'>\n"
     ]
    }
   ],
   "source": [
    "user = input(\"Enter a string to check for Counting vowel ::\").split()\n",
    "\n",
    "user1 = list(user)\n",
    "print(user)\n",
    "\n",
    "print(\" \".join(user[::-1]))\n",
    "\n",
    "print(type(\" \".join(user[::-1])))"
   ]
  },
  {
   "cell_type": "markdown",
   "metadata": {},
   "source": [
    "7) A pangram is a sentence that contains all the alphabets.\n",
    "example: The quick brown fox jumps over the lazy dog. Your task here is to write a function to check a sentence to see if it is a pangram or not.\n"
   ]
  },
  {
   "cell_type": "code",
   "execution_count": 1,
   "metadata": {},
   "outputs": [
    {
     "name": "stdout",
     "output_type": "stream",
     "text": [
      "Its an Pangram\n"
     ]
    }
   ],
   "source": [
    "pangram = 'The quick brown fox jumps over the lazy dog'\n",
    "\n",
    "alphabet = set('abcdefghijklmnopqrstuvwxyz')\n",
    "\n",
    "pangram = pangram.replace(' ','')\n",
    "\n",
    "sentence_set = set(pangram.lower())\n",
    "\n",
    "if(len(sentence_set) == len(alphabet) ):\n",
    "    print(\"Its an Pangram\")\n",
    "else:\n",
    "    print(\"Its not an Pangram\")"
   ]
  },
  {
   "cell_type": "code",
   "execution_count": 7,
   "metadata": {},
   "outputs": [
    {
     "name": "stdout",
     "output_type": "stream",
     "text": [
      "thequickbrownfoxjumpsoverthelazydog\n",
      "pangram\n"
     ]
    }
   ],
   "source": [
    "str=input(\"Enter A Sentence :-\")\n",
    "\n",
    "alphabet= set('abcdefghijklmnopqrstuvwxyz')\n",
    "\n",
    "str = str.lower()\n",
    "\n",
    "print(str)\n",
    "\n",
    "set1= set(str)\n",
    "\n",
    "if(len(set1)==26):\n",
    "    print(\"pangram\")\n",
    "else:\n",
    "    print(\"Not Pangram\")"
   ]
  },
  {
   "cell_type": "markdown",
   "metadata": {},
   "source": [
    "## **Tuple Assignment**"
   ]
  },
  {
   "cell_type": "markdown",
   "metadata": {},
   "source": [
    "1) Write a Python program to count the elements in a list until an element is a tuple.\n",
    "\n",
    "Sample input : list = [10, 20, 30, (40,50), 60]\n",
    "Sample output = 3\n"
   ]
  },
  {
   "cell_type": "code",
   "execution_count": 6,
   "metadata": {},
   "outputs": [
    {
     "name": "stdout",
     "output_type": "stream",
     "text": [
      "3\n"
     ]
    }
   ],
   "source": [
    "list1 = [10, 20, 30, (40,50), 60]\n",
    "cnt = 0\n",
    "for i in list1:\n",
    "    if isinstance(i,tuple) :\n",
    "        break\n",
    "    else:\n",
    "        cnt += 1\n",
    "print(cnt)"
   ]
  },
  {
   "cell_type": "markdown",
   "metadata": {},
   "source": [
    "2) create a tuple to store 5 numbers and then sort it in ascending and descending order."
   ]
  },
  {
   "cell_type": "code",
   "execution_count": 43,
   "metadata": {},
   "outputs": [
    {
     "name": "stdout",
     "output_type": "stream",
     "text": [
      "Sorted True [1, 2, 4, 5, 6, 9, 12]\n",
      "Sorted False [12, 9, 6, 5, 4, 2, 1]\n"
     ]
    }
   ],
   "source": [
    "tuple1 = (5,2,9,4,1,6,12)\n",
    "\n",
    "print('Sorted True',sorted(tuple1, reverse=False))\n",
    "\n",
    "print('Sorted False',sorted(tuple1, reverse=True))"
   ]
  },
  {
   "cell_type": "markdown",
   "metadata": {},
   "source": [
    "3) Write a Python program to find the repeated items of a tuple."
   ]
  },
  {
   "cell_type": "code",
   "execution_count": 47,
   "metadata": {},
   "outputs": [
    {
     "name": "stdout",
     "output_type": "stream",
     "text": [
      "{5: 2, 2: 2, 9: 1, 4: 2, 1: 1, 6: 1, 12: 2, 55: 1}\n"
     ]
    }
   ],
   "source": [
    "tuple1 = (5,2,9,4,1,6,12,5,2,55,12,4)\n",
    "\n",
    "count = {}\n",
    "\n",
    "for i in tuple1:\n",
    "    if (i in count):\n",
    "        count[i] += 1\n",
    "    else:\n",
    "        count[i] = 1\n",
    "\n",
    "print(count)"
   ]
  }
 ],
 "metadata": {
  "kernelspec": {
   "display_name": "base",
   "language": "python",
   "name": "python3"
  },
  "language_info": {
   "codemirror_mode": {
    "name": "ipython",
    "version": 3
   },
   "file_extension": ".py",
   "mimetype": "text/x-python",
   "name": "python",
   "nbconvert_exporter": "python",
   "pygments_lexer": "ipython3",
   "version": "3.11.10"
  }
 },
 "nbformat": 4,
 "nbformat_minor": 2
}
