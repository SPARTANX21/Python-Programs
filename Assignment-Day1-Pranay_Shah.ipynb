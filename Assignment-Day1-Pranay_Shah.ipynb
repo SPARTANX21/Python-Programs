{
 "cells": [
  {
   "cell_type": "markdown",
   "metadata": {},
   "source": [
    "1)\taccept a number and display its table.   "
   ]
  },
  {
   "cell_type": "code",
   "execution_count": 15,
   "metadata": {},
   "outputs": [
    {
     "name": "stdout",
     "output_type": "stream",
     "text": [
      "16 * 1 = 16 \n",
      "16 * 2 = 32 \n",
      "16 * 3 = 48 \n",
      "16 * 4 = 64 \n",
      "16 * 5 = 80 \n",
      "16 * 6 = 96 \n",
      "16 * 7 = 112 \n",
      "16 * 8 = 128 \n",
      "16 * 9 = 144 \n",
      "16 * 10 = 160 \n"
     ]
    }
   ],
   "source": [
    "number = int(input(\"Enter a number to get its table : \"))\n",
    "cnt = 10\n",
    "for i in range(1, number + 1):\n",
    "    print(f\"{number} * {i} = {number*i} \")\n",
    "    cnt -= 1\n",
    "    if (not cnt):\n",
    "        break\n"
   ]
  },
  {
   "cell_type": "markdown",
   "metadata": {},
   "source": [
    "2)\tusing switch ….case   display whether accepted character is vowel or not."
   ]
  },
  {
   "cell_type": "code",
   "execution_count": 22,
   "metadata": {},
   "outputs": [
    {
     "name": "stdout",
     "output_type": "stream",
     "text": [
      "Its an Vowel U\n"
     ]
    }
   ],
   "source": [
    "char = input(\"Enter a character : \")\n",
    "\n",
    "match char:\n",
    "    case 'A' | 'a':\n",
    "        print(\"Its an Vowel A\")\n",
    "    case 'E' | 'e':\n",
    "        print(\"Its an Vowel E\")\n",
    "    case 'I'| 'i':\n",
    "        print(\"Its an Vowel I\")\n",
    "    case 'O' | 'o':\n",
    "        print(\"Its an Vowel O\")\n",
    "    case 'U' | 'u':\n",
    "        print(\"Its an Vowel U\")\n",
    "    case _:\n",
    "        print(\"Its a consonant\")"
   ]
  },
  {
   "cell_type": "markdown",
   "metadata": {},
   "source": [
    "3)\tDisplay numbers  1 to 10 using  While loop\n"
   ]
  },
  {
   "cell_type": "code",
   "execution_count": 29,
   "metadata": {},
   "outputs": [
    {
     "name": "stdout",
     "output_type": "stream",
     "text": [
      "1 2 3 4 5 6 7 8 9 10 "
     ]
    }
   ],
   "source": [
    "i = 1\n",
    "j= 10\n",
    "while(i<11):\n",
    "    print(i, end = \" \")\n",
    "    i += 1"
   ]
  },
  {
   "cell_type": "markdown",
   "metadata": {},
   "source": [
    "4)\tDisplay numbers from 3 to 30 except number 24  using while loop."
   ]
  },
  {
   "cell_type": "code",
   "execution_count": 41,
   "metadata": {},
   "outputs": [
    {
     "name": "stdout",
     "output_type": "stream",
     "text": [
      "3 4 5 6 7 8 9 10 11 12 13 14 15 16 17 18 19 20 21 22 23 25 26 27 28 29 30 "
     ]
    }
   ],
   "source": [
    "i = 3\n",
    "while (i<31):\n",
    "    if(i == 24):\n",
    "        i += 1\n",
    "    print(i, end = \" \")\n",
    "    i += 1"
   ]
  },
  {
   "cell_type": "markdown",
   "metadata": {},
   "source": [
    "5)\taccept marks from the user. Using if…….elif….  Else,  display whether result is  fail, pass, second class , first class, Distinction etc.  \n"
   ]
  },
  {
   "cell_type": "code",
   "execution_count": 57,
   "metadata": {},
   "outputs": [
    {
     "name": "stdout",
     "output_type": "stream",
     "text": [
      "Entered score is =  35\n",
      "fail\n"
     ]
    }
   ],
   "source": [
    "score = int(input(\"Enter a score : \"))\n",
    "print(\"Entered score is = \", score)\n",
    "if(score <= 35 ):\n",
    "    print(\"fail\")\n",
    "elif( 35 < score == 35):\n",
    "    print(\"Pass\")\n",
    "elif(35 < score < 65):\n",
    "    print(\"Second Class\")\n",
    "elif(65 < score < 85):\n",
    "    print(\"First Class\")\n",
    "else:\n",
    "    print(\"Distinction\")"
   ]
  },
  {
   "cell_type": "markdown",
   "metadata": {},
   "source": [
    "6) print the total of first 10 numbers.\n"
   ]
  },
  {
   "cell_type": "code",
   "execution_count": 65,
   "metadata": {},
   "outputs": [
    {
     "name": "stdout",
     "output_type": "stream",
     "text": [
      "55\n"
     ]
    }
   ],
   "source": [
    "a = 0\n",
    "for i in range(1, 11):\n",
    "    a += i \n",
    "print(a)"
   ]
  },
  {
   "cell_type": "markdown",
   "metadata": {},
   "source": [
    "7) accept numbers till user enters 0 and display the total of all the numbers entered.\n"
   ]
  },
  {
   "cell_type": "code",
   "execution_count": 81,
   "metadata": {},
   "outputs": [
    {
     "name": "stdout",
     "output_type": "stream",
     "text": [
      "10\n",
      "10\n",
      "10\n",
      "10\n",
      "10\n",
      "0\n",
      "Total of entered number is =  50\n"
     ]
    }
   ],
   "source": [
    "number = 0\n",
    "total = 0\n",
    "while(True):\n",
    "    number = int(input(\"Enter a number :: \"))\n",
    "    print(number)\n",
    "\n",
    "    if(number == 0):\n",
    "        break\n",
    "    total += number\n",
    "print(\"Total of entered number is = \", total)"
   ]
  },
  {
   "cell_type": "markdown",
   "metadata": {},
   "source": [
    "8) accept a character and display whether it is upper case or lower case or not an alphabet.\n"
   ]
  },
  {
   "cell_type": "code",
   "execution_count": 90,
   "metadata": {},
   "outputs": [
    {
     "name": "stdout",
     "output_type": "stream",
     "text": [
      "Its not an alphabet\n"
     ]
    }
   ],
   "source": [
    "character = input(\"Enter a character : \")\n",
    "\n",
    "if(character.isupper()):\n",
    "    print(\"Its an uppercase character\")\n",
    "elif(character.islower()):\n",
    "    print(\"Its an lowercase character\")\n",
    "else:\n",
    "    print(\"Its not an alphabet\")"
   ]
  },
  {
   "cell_type": "markdown",
   "metadata": {},
   "source": [
    "9) display fibonicii series of 10 numbers"
   ]
  },
  {
   "cell_type": "code",
   "execution_count": 91,
   "metadata": {},
   "outputs": [
    {
     "name": "stdout",
     "output_type": "stream",
     "text": [
      "Fibonacci series of 10 numbers: [0, 1, 1, 2, 3, 5, 8, 13, 21, 34]\n"
     ]
    }
   ],
   "source": [
    "def fibonacci_series(n):\n",
    "    fib_series = []\n",
    "    a, b = 0, 1\n",
    "\n",
    "    for _ in range(n):\n",
    "        fib_series.append(a)\n",
    "        a, b = b, a + b\n",
    "\n",
    "    return fib_series\n",
    "\n",
    "n = 10\n",
    "fib_numbers = fibonacci_series(n)\n",
    "print(\"Fibonacci series of 10 numbers:\", fib_numbers)"
   ]
  },
  {
   "cell_type": "markdown",
   "metadata": {},
   "source": [
    "10) display prime numbers from 3 to 30\n"
   ]
  },
  {
   "cell_type": "code",
   "execution_count": 92,
   "metadata": {},
   "outputs": [
    {
     "name": "stdout",
     "output_type": "stream",
     "text": [
      "Prime numbers from 3 to 30:\n",
      "3 5 7 11 13 17 19 23 29 "
     ]
    }
   ],
   "source": [
    "def is_prime(num):\n",
    "    if num < 2:\n",
    "        return False\n",
    "    for i in range(2, int(num ** 0.5) + 1):  \n",
    "        if num % i == 0:\n",
    "            return False\n",
    "    return True\n",
    "\n",
    "print(\"Prime numbers from 3 to 30:\")\n",
    "for number in range(3, 31):  \n",
    "    if is_prime(number):\n",
    "        print(number, end=\" \")  \n"
   ]
  },
  {
   "cell_type": "markdown",
   "metadata": {},
   "source": [
    "11) accept a number and display whether it is prime or not\n"
   ]
  },
  {
   "cell_type": "code",
   "execution_count": 11,
   "metadata": {},
   "outputs": [
    {
     "name": "stdout",
     "output_type": "stream",
     "text": [
      "Number is not Prime number\n",
      "NUmber is prime number\n",
      "NUmber is prime number\n"
     ]
    }
   ],
   "source": [
    "number = int(input(\"Enter a number to check whether its an Prime numebr or not : \"))\n",
    "\n",
    "if number < 2:\n",
    "    print(\"Number is not Prime number\")\n",
    "\n",
    "for i in range(2, int(number ** 0.5) +1):\n",
    "    if number %i == 0:\n",
    "        print(\"Number is not Prime number\")\n",
    "    print(\"NUmber is prime number\")"
   ]
  },
  {
   "cell_type": "markdown",
   "metadata": {},
   "source": [
    "12) print the following pattern:\n",
    "    \n",
    "        *\n",
    "        * *\n",
    "        * * *\n",
    "        * * * *\n",
    "        * * * * *\n"
   ]
  },
  {
   "cell_type": "code",
   "execution_count": 139,
   "metadata": {},
   "outputs": [
    {
     "name": "stdout",
     "output_type": "stream",
     "text": [
      "* \n",
      "* * \n",
      "* * * \n",
      "* * * * \n",
      "* * * * * \n"
     ]
    }
   ],
   "source": [
    "for i in range(1,6):     # or can use range(5,0,-1)\n",
    "  for j in range(1,i+1):\n",
    "    print('*', end=\" \")\n",
    "  print()"
   ]
  },
  {
   "cell_type": "markdown",
   "metadata": {},
   "source": [
    "13) print the following pattern:\n",
    "\n",
    "        * * * * * \n",
    "\n",
    "        * * * * \n",
    "\n",
    "        * * * \n",
    "\n",
    "        * * \n",
    "\n",
    "        * "
   ]
  },
  {
   "cell_type": "code",
   "execution_count": 143,
   "metadata": {},
   "outputs": [
    {
     "name": "stdout",
     "output_type": "stream",
     "text": [
      "* * * * * \n",
      "* * * * \n",
      "* * * \n",
      "* * \n",
      "* \n",
      "\n"
     ]
    }
   ],
   "source": [
    "for i in range(6,0, -1):\n",
    "    for j in range(i-1):\n",
    "        print('*', end = \" \")\n",
    "    print()"
   ]
  },
  {
   "cell_type": "markdown",
   "metadata": {},
   "source": [
    "14) print the following pattern\n",
    "            *\n",
    "         *  *\n",
    "      *  *  *\n",
    "   *  *  *  *\n",
    "*  *  *  *  *"
   ]
  },
  {
   "cell_type": "code",
   "execution_count": 48,
   "metadata": {},
   "outputs": [
    {
     "name": "stdout",
     "output_type": "stream",
     "text": [
      "     \n",
      "     1\n",
      "    2 2\n",
      "   3 3 3\n",
      "  4 4 4 4\n"
     ]
    }
   ],
   "source": [
    "rows=5\n",
    "for i in range(rows):\n",
    "    print(\" \"*(rows-i)+f\" {i}\"*i)"
   ]
  },
  {
   "cell_type": "code",
   "execution_count": 28,
   "metadata": {},
   "outputs": [
    {
     "name": "stdout",
     "output_type": "stream",
     "text": [
      "\n",
      "* \n",
      "* * \n",
      "* * * \n",
      "* * * * \n",
      "* * * * * \n"
     ]
    }
   ],
   "source": [
    "rows = 6 \n",
    "for i in range(rows):\n",
    "    print(''*(rows-i)+'* '*i)"
   ]
  },
  {
   "cell_type": "markdown",
   "metadata": {},
   "source": [
    "16) print the following pattern\n",
    "\n",
    "*   *   *   *   *   \n",
    "\n",
    "  *   *   *   *   \n",
    "\n",
    "    *   *   *   \n",
    "\n",
    "      *   *   \n",
    "\n",
    "        *   "
   ]
  },
  {
   "cell_type": "code",
   "execution_count": 49,
   "metadata": {},
   "outputs": [
    {
     "name": "stdout",
     "output_type": "stream",
     "text": [
      "  * * * * * *\n",
      "   * * * * *\n",
      "    * * * *\n",
      "     * * *\n",
      "      * *\n",
      "       *\n"
     ]
    }
   ],
   "source": [
    "row = 6 \n",
    "\n",
    "for i in range(row):\n",
    "    print(' '*i, ' *'*(row-i))\n"
   ]
  },
  {
   "cell_type": "code",
   "execution_count": 231,
   "metadata": {},
   "outputs": [
    {
     "name": "stdout",
     "output_type": "stream",
     "text": [
      "  * * * * * *\n",
      "   * * * * *\n",
      "    * * * *\n",
      "     * * *\n",
      "      * *\n",
      "       *\n"
     ]
    }
   ],
   "source": [
    "row =6\n",
    "\n",
    "for i in range(row):\n",
    "    print(\" \"*i, \" *\"*(row-i) )"
   ]
  },
  {
   "cell_type": "markdown",
   "metadata": {},
   "source": [
    "17) print the following\n",
    "\n",
    "                    * \n",
    "                    * * \n",
    "                    * * * \n",
    "                    * * * * \n",
    "                    * * * * * \n",
    "                    * * * * * * \n",
    "                    * * * * * \n",
    "                    * * * * \n",
    "                    * * * \n",
    "                    * * \n",
    "                    * \n"
   ]
  },
  {
   "cell_type": "code",
   "execution_count": 53,
   "metadata": {},
   "outputs": [
    {
     "name": "stdout",
     "output_type": "stream",
     "text": [
      "      \n",
      "     * \n",
      "    * * \n",
      "   * * * \n",
      "  * * * * \n",
      " * * * * * \n",
      "* * * * * * \n",
      " * * * * * \n",
      "  * * * * \n",
      "   * * * \n",
      "    * * \n",
      "     * \n"
     ]
    }
   ],
   "source": [
    "rows=6\n",
    "for i in range(rows):\n",
    "    print(\" \"*(rows-i)+\"* \"*i)\n",
    "row =5\n",
    "for i in range(rows):\n",
    "    print(\" \"*i+\"* \"*(rows-i))\n",
    "    "
   ]
  },
  {
   "cell_type": "markdown",
   "metadata": {},
   "source": []
  },
  {
   "cell_type": "code",
   "execution_count": null,
   "metadata": {},
   "outputs": [],
   "source": []
  }
 ],
 "metadata": {
  "kernelspec": {
   "display_name": "base",
   "language": "python",
   "name": "python3"
  },
  "language_info": {
   "codemirror_mode": {
    "name": "ipython",
    "version": 3
   },
   "file_extension": ".py",
   "mimetype": "text/x-python",
   "name": "python",
   "nbconvert_exporter": "python",
   "pygments_lexer": "ipython3",
   "version": "3.11.9"
  }
 },
 "nbformat": 4,
 "nbformat_minor": 2
}
