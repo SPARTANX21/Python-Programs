{
 "cells": [
  {
   "cell_type": "markdown",
   "metadata": {},
   "source": [
    "# **Day 1**\n"
   ]
  },
  {
   "cell_type": "markdown",
   "metadata": {},
   "source": [
    "### Example 1 "
   ]
  },
  {
   "cell_type": "markdown",
   "metadata": {},
   "source": [
    "- ord \n",
    "- chr"
   ]
  },
  {
   "cell_type": "code",
   "execution_count": 2,
   "metadata": {},
   "outputs": [
    {
     "name": "stdout",
     "output_type": "stream",
     "text": [
      "10 \t <class 'int'>\n",
      "12.0 \t <class 'float'>\n",
      "True \t <class 'bool'>\n"
     ]
    }
   ],
   "source": [
    "x=int(input(\"enter number\"))\n",
    "print(x,\"\\t\",type(x))\n",
    "y=float(input(\"enter percentage\"))\n",
    "print(y,\"\\t\",type(y))\n",
    "z=bool(input(\"enter True or False\"))\n",
    "print(z,\"\\t\",type(z)) "
   ]
  },
  {
   "cell_type": "code",
   "execution_count": 3,
   "metadata": {},
   "outputs": [
    {
     "name": "stdout",
     "output_type": "stream",
     "text": [
      "5\n",
      "<class 'int'>\n",
      "5.0\n",
      "<class 'float'>\n"
     ]
    }
   ],
   "source": [
    "var1 = 5\n",
    "print(var1)\n",
    "print(type(var1))\n",
    "\n",
    "# convert int to float\n",
    "\n",
    "var2 = float(var1)\n",
    "print(var2)\n",
    "print(type(var2))"
   ]
  },
  {
   "cell_type": "code",
   "execution_count": 4,
   "metadata": {},
   "outputs": [
    {
     "name": "stdout",
     "output_type": "stream",
     "text": [
      "True\n"
     ]
    }
   ],
   "source": [
    "#x=0\n",
    "x=3\n",
    "x=bool(x)\n",
    "print(x)"
   ]
  },
  {
   "cell_type": "code",
   "execution_count": 5,
   "metadata": {},
   "outputs": [
    {
     "name": "stdout",
     "output_type": "stream",
     "text": [
      "5.6\n",
      "<class 'float'>\n",
      "5\n",
      "<class 'int'>\n"
     ]
    }
   ],
   "source": [
    "num1=5.6\n",
    "print(num1)\n",
    "print(type(num1))\n",
    "num1=int(num1)\n",
    "print(num1)\n",
    "print(type(num1))"
   ]
  },
  {
   "cell_type": "code",
   "execution_count": 6,
   "metadata": {},
   "outputs": [
    {
     "name": "stdout",
     "output_type": "stream",
     "text": [
      "True\n",
      "<class 'bool'>\n",
      "1\n",
      "<class 'int'>\n",
      "False\n",
      "<class 'bool'>\n",
      "0\n",
      "<class 'int'>\n"
     ]
    }
   ],
   "source": [
    "var1=True\n",
    "print(var1)\n",
    "print(type(var1))\n",
    "\n",
    "var2 = int(var1)\n",
    "print(var2)\n",
    "print(type(var2))\n",
    "\n",
    "\n",
    "var3=False\n",
    "print(var3)\n",
    "print(type(var3))\n",
    "\n",
    "var4 = int(var3)\n",
    "print(var4)\n",
    "print(type(var4))"
   ]
  },
  {
   "cell_type": "code",
   "execution_count": 7,
   "metadata": {},
   "outputs": [
    {
     "name": "stdout",
     "output_type": "stream",
     "text": [
      "A\n",
      "65\n",
      "100\n",
      "d\n"
     ]
    }
   ],
   "source": [
    "# character to ascii\n",
    "ch='A'\n",
    "print(ch)\n",
    "print(ord(ch))\n",
    "\n",
    "# ascii to character\n",
    "num=100\n",
    "print(num)\n",
    "print(chr(num))"
   ]
  },
  {
   "cell_type": "code",
   "execution_count": 8,
   "metadata": {},
   "outputs": [
    {
     "name": "stdout",
     "output_type": "stream",
     "text": [
      "100\n",
      "The number is 100\n",
      "The datatype of a is <class 'int'>\n"
     ]
    }
   ],
   "source": [
    "a=100\n",
    "print(a)\n",
    "print(\"The number is\",a)\n",
    "print(\"The datatype of a is\",type(a))"
   ]
  },
  {
   "cell_type": "code",
   "execution_count": 9,
   "metadata": {},
   "outputs": [
    {
     "name": "stdout",
     "output_type": "stream",
     "text": [
      "5.6\n",
      "The number is 5.6\n",
      "The datatype of a is <class 'float'>\n"
     ]
    }
   ],
   "source": [
    "b=5.6\n",
    "print(b)\n",
    "print(\"The number is\",b)\n",
    "print(\"The datatype of a is\",type(b))\n",
    "b=10.2  # Previous object will be GC"
   ]
  },
  {
   "cell_type": "code",
   "execution_count": 10,
   "metadata": {},
   "outputs": [
    {
     "name": "stdout",
     "output_type": "stream",
     "text": [
      "Hello\n",
      "The value is Hello\n",
      "The datatype of a is <class 'str'>\n"
     ]
    }
   ],
   "source": [
    "c=\"Hello\"\n",
    "print(c)\n",
    "print(\"The value is\",c)\n",
    "print(\"The datatype of a is\",type(c))"
   ]
  },
  {
   "cell_type": "markdown",
   "metadata": {},
   "source": [
    "- Exceptions \n",
    "    - ValueError\n",
    "    - TypeError\n"
   ]
  },
  {
   "cell_type": "code",
   "execution_count": null,
   "metadata": {},
   "outputs": [],
   "source": [
    "a=int(\"345\")\n",
    "print(a)\n",
    "\n",
    "# Trying to convert a string that contains non-numeric\n",
    "# characters to an integer or float will raise a ValueError.\n",
    "# k=int(\"abc\")  # Raises ValueError\n",
    "# print(k)\n",
    "\n",
    "# Attempting to convert a list or dictionary\n",
    "# directly to an integer or float will raise a TypeError.\n",
    "\n",
    "\n",
    "# TypeError: int() argument must be a string,\n",
    "# a bytes-like object or a real number, not 'list'\n",
    "# p=int([10,20,30])\n",
    "# print(p)\n",
    "\n",
    "# Converting a complex number directly to an integer\n",
    "# or float is not possible; you need to extract the\n",
    "# real or imaginary part.\n",
    "\n",
    "# int(3 + 4j)  # Raises TypeError\n",
    "\n",
    "# Trying to convert incompatible data structures\n",
    "# (like a set to a dictionary) will not work and\n",
    "# will raise a TypeError.\n",
    "\n",
    "# dict({1, 2, 3})  # Raises TypeError\n",
    "\n",
    "# If you have a custom object and it doesn't implement\n",
    "# methods like __int__, __float__, or __str__,\n",
    "# converting it to those types will raise a TypeError.\n",
    "\n",
    "\n",
    "\"\"\"\n",
    "class MyClass:\n",
    "    pass    # Helps generate Empty class\n",
    "int(MyClass())  # Raises TypeError\n",
    "\n",
    "\"\"\"\n",
    "# Then how do we make it possible to convert\n",
    "# MyClass to int?\n",
    "\n",
    "class MyClass:\n",
    "    def __init__(self, value):\n",
    "        self.value = value  # Store an integer value\n",
    "\n",
    "    def __int__(self):\n",
    "        return self.value  # Convert to int\n",
    "\n",
    "\n",
    "obj = MyClass(42)\n",
    "result = int(obj)  # it'll work and return 42\n",
    "print(result)  # 42"
   ]
  },
  {
   "cell_type": "markdown",
   "metadata": {},
   "source": [
    "## **Complex Info**"
   ]
  },
  {
   "cell_type": "code",
   "execution_count": 16,
   "metadata": {},
   "outputs": [
    {
     "name": "stdout",
     "output_type": "stream",
     "text": [
      "0j\n",
      "0j\n",
      "(3+0j)\n",
      "9j\n",
      "(4+5j)\n",
      "(4+0j)\n"
     ]
    },
    {
     "ename": "ValueError",
     "evalue": "complex() arg is a malformed string",
     "output_type": "error",
     "traceback": [
      "\u001b[1;31m---------------------------------------------------------------------------\u001b[0m",
      "\u001b[1;31mValueError\u001b[0m                                Traceback (most recent call last)",
      "Cell \u001b[1;32mIn[16], line 26\u001b[0m\n\u001b[0;32m     24\u001b[0m \u001b[38;5;28mprint\u001b[39m(\u001b[38;5;28mcomplex\u001b[39m(\u001b[38;5;241m4\u001b[39m,\u001b[38;5;241m5\u001b[39m))   \u001b[38;5;66;03m#  (4+5j)\u001b[39;00m\n\u001b[0;32m     25\u001b[0m \u001b[38;5;28mprint\u001b[39m(\u001b[38;5;28mcomplex\u001b[39m(\u001b[38;5;124m\"\u001b[39m\u001b[38;5;124m4\u001b[39m\u001b[38;5;124m\"\u001b[39m))   \u001b[38;5;66;03m#  (4+0j)\u001b[39;00m\n\u001b[1;32m---> 26\u001b[0m \u001b[38;5;28mprint\u001b[39m(\u001b[38;5;28;43mcomplex\u001b[39;49m\u001b[43m(\u001b[49m\u001b[38;5;124;43m\"\u001b[39;49m\u001b[38;5;124;43mk\u001b[39;49m\u001b[38;5;124;43m\"\u001b[39;49m\u001b[43m)\u001b[49m)   \u001b[38;5;66;03m#   ValueError: complex() arg is a malformed string\u001b[39;00m\n",
      "\u001b[1;31mValueError\u001b[0m: complex() arg is a malformed string"
     ]
    }
   ],
   "source": [
    "complex() #function\n",
    "\t# is used to convert number or string to complex number.\n",
    "\n",
    "complex() #takes two argument\n",
    "\t# real\n",
    "\t# imaginary\n",
    "\n",
    "# both these arguments are optional, by default value is 0.\n",
    "\n",
    "# e.g.\n",
    "\n",
    "print(complex())\n",
    "\n",
    "# \twill print 0j\n",
    "\n",
    "# these arguments can be int or float or string\n",
    "\n",
    "# But string should have a valid number.\n",
    "\n",
    "\n",
    "print(complex(0))      #  0j\n",
    "print(complex(3,0))   #  (3+0j)\n",
    "print(complex(0,9))   #  9j\n",
    "print(complex(4,5))   #  (4+5j)\n",
    "print(complex(\"4\"))   #  (4+0j)\n",
    "print(complex(\"k\"))   #   ValueError: complex() arg is a malformed string"
   ]
  },
  {
   "cell_type": "code",
   "execution_count": 12,
   "metadata": {},
   "outputs": [
    {
     "name": "stdout",
     "output_type": "stream",
     "text": [
      "(5+8j)\n",
      "<class 'complex'>\n"
     ]
    }
   ],
   "source": [
    "var1= 5 +8j\n",
    "print(var1)\n",
    "print(type(var1))"
   ]
  },
  {
   "cell_type": "code",
   "execution_count": 13,
   "metadata": {},
   "outputs": [
    {
     "name": "stdout",
     "output_type": "stream",
     "text": [
      "(5+3j)\n",
      "<class 'complex'>\n",
      "(3.4-5.6j)\n",
      "<class 'complex'>\n",
      "(5+7.8j)\n",
      "<class 'complex'>\n",
      "(5+7.8j)\n",
      "5.0\n",
      "7.8\n",
      "(4+5.6j)\n",
      "<class 'complex'>\n",
      "0j\n",
      "<class 'complex'>\n",
      "(5.6+0j)\n",
      "<class 'complex'>\n",
      "5.6j\n",
      "<class 'complex'>\n",
      "(123+0j)\n",
      "<class 'complex'>\n"
     ]
    },
    {
     "data": {
      "text/plain": [
       "' num10=complex(\"A123\")    ValueError: complex() arg is a malformed string   \\n '"
      ]
     },
     "execution_count": 13,
     "metadata": {},
     "output_type": "execute_result"
    }
   ],
   "source": [
    "num1= 5+3j\n",
    "print(num1)\n",
    "print(type(num1))\n",
    "\n",
    "num2= 3.4 -5.6j\n",
    "print(num2)\n",
    "print(type(num2))\n",
    "\n",
    "num3 = 5+7.8j\n",
    "print(num3)\n",
    "print(type(num3))\n",
    "\n",
    "\"\"\" num4= \"hello\"+4j\n",
    "print(num4)\n",
    "print(type(num4)) \"\"\"\n",
    "\n",
    "#  How to access \"real\" and \"imaginary\" part of the object\n",
    "\n",
    "print(num3)             # Complex number\n",
    "print(num3.real)        # real part of the complex number\n",
    "print(num3.imag)        # imaginary part of the complex number\n",
    "\n",
    "# How to generate complex number using \"complex()\" function\n",
    "\n",
    "num5 = complex(4,5.6)\n",
    "print(num5)\n",
    "print(type(num5))\n",
    "\n",
    "num6=complex()     # What if we don't pass any number?\n",
    "print(num6)\n",
    "print(type(num6))\n",
    "\n",
    "num7=complex(5.6)  # what if we pass only one argument?\n",
    "print(num7)\n",
    "print(type(num7))\n",
    "\n",
    "num8=complex(0,5.6)  # what if we pass first argument as 0 ?\n",
    "print(num8)\n",
    "print(type(num8))\n",
    "\n",
    "num9=complex(\"123\")\n",
    "print(num9)\n",
    "print(type(num9))\n",
    "\n",
    "\"\"\" num10=complex(\"A123\")    ValueError: complex() arg is a malformed string   \n",
    " \"\"\"\n",
    "\n",
    "# num10=complex(\"23\"+8)      # TypeError: can only concatenate str (not \"int\") to str\n",
    "\n",
    "# num10=complex(5,\"34\")     # TypeError: complex() second arg can't be a string\n",
    "\n",
    "# num10=complex(\"123\",\"6.8\")  # TypeError: complex() can't take second arg if first is a string\n",
    "\n",
    "\n"
   ]
  },
  {
   "cell_type": "code",
   "execution_count": 14,
   "metadata": {},
   "outputs": [
    {
     "name": "stdout",
     "output_type": "stream",
     "text": [
      "5\n",
      "<class 'int'>\n",
      "(5+0j)\n",
      "<class 'complex'>\n",
      "(5+9j)\n",
      "<class 'complex'>\n"
     ]
    }
   ],
   "source": [
    "\n",
    "var1 = 5\n",
    "print(var1)\n",
    "print(type(var1))\n",
    "\n",
    "# convert normal number i.e. 5  to complex\n",
    "\n",
    "var2 = complex(var1)\n",
    "print(var2)\n",
    "print(type(var2))\n",
    "\n",
    "# pass 2 parameters in order to convert normal number to complex number\n",
    "\n",
    "var3= 9\n",
    "var4= complex(var1,var3)\n",
    "print(var4)\n",
    "print(type(var4))\n"
   ]
  },
  {
   "cell_type": "markdown",
   "metadata": {},
   "source": [
    "## **Operators_demos**"
   ]
  },
  {
   "cell_type": "code",
   "execution_count": 17,
   "metadata": {},
   "outputs": [
    {
     "name": "stdout",
     "output_type": "stream",
     "text": [
      "Addition is 85\n",
      "Subtraction is 45\n",
      "Multiplication is 1300\n",
      "Division is 3.25\n",
      "Remainder is 5\n",
      "Floor Division is 3\n"
     ]
    }
   ],
   "source": [
    "a=65\n",
    "b=20\n",
    "print(\"Addition is\", a+b)\n",
    "print(\"Subtraction is\", a-b)\n",
    "print(\"Multiplication is\", a*b)\n",
    "print(\"Division is\", a/b)\n",
    "print(\"Remainder is\", a%b)\n",
    "print(\"Floor Division is\", a//b)"
   ]
  },
  {
   "cell_type": "code",
   "execution_count": 18,
   "metadata": {},
   "outputs": [
    {
     "name": "stdout",
     "output_type": "stream",
     "text": [
      "2\n",
      "4\n",
      "2\n",
      "4\n",
      "2.0\n",
      "0.0\n",
      "0.0\n"
     ]
    }
   ],
   "source": [
    "a=6\n",
    "b=2\n",
    "\n",
    "a=b\n",
    "print(a)\n",
    "a+=b\n",
    "print(a)\n",
    "a-=b\n",
    "print(a)\n",
    "a*=b\n",
    "print(a)\n",
    "a/=b\n",
    "print(a)\n",
    "a%=b\n",
    "print(a)\n",
    "a//=b\n",
    "print(a)\n",
    "\n"
   ]
  },
  {
   "cell_type": "code",
   "execution_count": 19,
   "metadata": {},
   "outputs": [
    {
     "name": "stdout",
     "output_type": "stream",
     "text": [
      "either a is greater than 10 or b is less than 5\n",
      "False\n",
      "True\n"
     ]
    }
   ],
   "source": [
    "a=6\n",
    "b=2\n",
    "\n",
    "if a>10 and b<5:\n",
    "    print(\"a is greater than 10 and b is less than 3\")\n",
    "if a>10 or b<5:\n",
    "    print(\"either a is greater than 10 or b is less than 5\")\n",
    "print(not a>b)\n",
    "print(not a<b)\n",
    "\n"
   ]
  },
  {
   "cell_type": "code",
   "execution_count": 20,
   "metadata": {},
   "outputs": [
    {
     "name": "stdout",
     "output_type": "stream",
     "text": [
      "a is not equal to b\n",
      "a is greater than b\n",
      "a is greater than equal to b\n"
     ]
    }
   ],
   "source": [
    "a=65\n",
    "b=20\n",
    "\n",
    "if a==b:\n",
    "    print(\"a and b are equal\")\n",
    "if a!=b:\n",
    "    print(\"a is not equal to b\")\n",
    "if a>b:\n",
    "    print(\"a is greater than b\")\n",
    "if a<b:\n",
    "    print(\"a is less than b\")\n",
    "if a>=b:\n",
    "    print(\"a is greater than equal to b\")\n",
    "if a<=b:\n",
    "    print(\"a is less than equal to b\")\n",
    "\n"
   ]
  },
  {
   "cell_type": "markdown",
   "metadata": {},
   "source": [
    "### **Identity**"
   ]
  },
  {
   "cell_type": "code",
   "execution_count": 29,
   "metadata": {},
   "outputs": [
    {
     "name": "stdout",
     "output_type": "stream",
     "text": [
      "m1 is m2 : False\n",
      "m1 is not m2 : True\n",
      "m2=m1\n",
      "m1 is m2 : True\n",
      "m1 is not m2 : False\n",
      "100\n",
      "id = Address of k : 140721547431816\n",
      "id (identity) = Address of s : 140721547431816\n",
      "k==s : True\n",
      "k is s :  True\n"
     ]
    }
   ],
   "source": [
    "\"\"\"\n",
    "In Python, to write an empty class pass statement is used.\n",
    " pass is a special statement in Python that does nothing.\n",
    "It only works as a dummy statement.\n",
    "However, objects of an empty class can also be created.\n",
    "\"\"\"\n",
    "\n",
    "class MyClass:\n",
    "    pass\n",
    "\n",
    "\n",
    "m1=MyClass()\n",
    "m2=MyClass()\n",
    "print(\"m1 is m2 :\", m1 is m2)\n",
    "print(\"m1 is not m2 :\" , m1 is not m2)\n",
    "\n",
    "m2=m1\n",
    "print(\"m2=m1\")\n",
    "print(\"m1 is m2 :\", m1 is m2)\n",
    "print(\"m1 is not m2 :\", m1 is not m2)\n",
    "\n",
    "# one more example\n",
    "\n",
    "k=100\n",
    "print(k)\n",
    "print(\"id = Address of k :\", id(k))\n",
    "\n",
    "s=100\n",
    "print(\"id (identity) = Address of s :\",id(s))\n",
    "\n",
    "print(\"k==s :\", k==s)\n",
    "print(\"k is s : \", k is s)\n"
   ]
  },
  {
   "cell_type": "markdown",
   "metadata": {},
   "source": [
    "### **Membership**"
   ]
  },
  {
   "cell_type": "code",
   "execution_count": 33,
   "metadata": {},
   "outputs": [
    {
     "name": "stdout",
     "output_type": "stream",
     "text": [
      "[1, 2, 3, 4, 5, 6, 7]\n",
      "4 in list1  True\n",
      "4 not in list1  False\n",
      "\n",
      "{1: 'first', 2: 'second'}\n",
      "False\n",
      "True\n",
      "\n",
      "('physics', 'chemistry', 1997, 2000)\n",
      "False\n",
      "False\n",
      "True\n"
     ]
    }
   ],
   "source": [
    "# with list\n",
    "list1 = [1, 2, 3, 4, 5, 6, 7]\n",
    "print(list1)\n",
    "print(\"4 in list1 \", 4 in list1)\n",
    "print(\"4 not in list1 \", 4 not in list1)\n",
    "print()\n",
    "\n",
    "# with dictionary\n",
    "dict = {1:\"first\",2:\"second\"}\n",
    "print(dict)\n",
    "print(3 in dict)\n",
    "print(2 in dict)\n",
    "print()\n",
    "\n",
    "# with tuple\n",
    "tup1 = ('physics', 'chemistry', 1997, 2000)\n",
    "print(tup1)\n",
    "print('hello' in tup1)\n",
    "print('chemistry' not in tup1)\n",
    "print(1997 in tup1)"
   ]
  },
  {
   "cell_type": "code",
   "execution_count": 34,
   "metadata": {},
   "outputs": [
    {
     "name": "stdout",
     "output_type": "stream",
     "text": [
      "10\n",
      "25\n",
      "125\n",
      "625\n"
     ]
    }
   ],
   "source": [
    "num=5\n",
    "print(num*2)\n",
    "print(num**2)  # square of 5\n",
    "print(num**3)  # cube of 5\n",
    "print(num**4) "
   ]
  },
  {
   "cell_type": "markdown",
   "metadata": {},
   "source": [
    "## **Accept Input**"
   ]
  },
  {
   "cell_type": "code",
   "execution_count": 36,
   "metadata": {},
   "outputs": [
    {
     "name": "stdout",
     "output_type": "stream",
     "text": [
      "Name entered is\t Pranay\n",
      "Age entered is\t 23\n",
      "Age after 10 years will be\t 33\n"
     ]
    }
   ],
   "source": [
    "name=input(\"Enter your name\")\n",
    "print(\"Name entered is\\t\",name)\n",
    "age=input(\"Enter your age\")\n",
    "print(\"Age entered is\\t\",age)\n",
    "# age+=10  #  TypeError: can only concatenate str (not \"int\") to str\n",
    "age= int(age)\n",
    "age+=10\n",
    "print(\"Age after 10 years will be\\t\",age)"
   ]
  },
  {
   "cell_type": "code",
   "execution_count": 37,
   "metadata": {},
   "outputs": [
    {
     "name": "stdout",
     "output_type": "stream",
     "text": [
      "Pranay\n",
      "23\n",
      "Age after 10 years will be 33\n"
     ]
    }
   ],
   "source": [
    "name = (input(\"Enter you Name :  \"))\n",
    "print(name)\n",
    "age = int(input(\"Enter your age : \"))\n",
    "print(age)\n",
    "\n",
    "age += 10\n",
    "\n",
    "print(f\"Age after 10 years will be {age}\")\n"
   ]
  },
  {
   "cell_type": "markdown",
   "metadata": {},
   "source": [
    "## **If_Demos**"
   ]
  },
  {
   "cell_type": "markdown",
   "metadata": {},
   "source": [
    "ifs"
   ]
  },
  {
   "cell_type": "code",
   "execution_count": 38,
   "metadata": {},
   "outputs": [
    {
     "name": "stdout",
     "output_type": "stream",
     "text": [
      "zero\n"
     ]
    }
   ],
   "source": [
    "a=0\n",
    "if a>0:\n",
    "    print(\"positive\")\n",
    "elif a<0:\n",
    "    print(\"negative\")\n",
    "else:\n",
    "    print(\"zero\")\n"
   ]
  },
  {
   "cell_type": "code",
   "execution_count": 42,
   "metadata": {},
   "outputs": [
    {
     "name": "stdout",
     "output_type": "stream",
     "text": [
      "a is  10\n",
      "a is greater than or equal to 10\n"
     ]
    }
   ],
   "source": [
    "a = int(input(\"Enter a number for a : \"))\n",
    "print(\"a is \", a)\n",
    "\n",
    "if a<10:\n",
    "    print(\"a is less than 10\")\n",
    "else:\n",
    "    print(\"a is greater than or equal to 10\")"
   ]
  },
  {
   "cell_type": "markdown",
   "metadata": {},
   "source": [
    "Nested Ifs"
   ]
  },
  {
   "cell_type": "code",
   "execution_count": 43,
   "metadata": {},
   "outputs": [
    {
     "name": "stdout",
     "output_type": "stream",
     "text": [
      "greater than 0 but less than 10\n"
     ]
    }
   ],
   "source": [
    "num=3\n",
    "\n",
    "if num > 0:\n",
    "    if num < 10:\n",
    "        print(\"greater than 0 but less than 10\")\n",
    "    else:\n",
    "        print(\"greater than 0 and equal to or more than 10\")\n",
    "elif num < 0:\n",
    "    print(\"it is negative\")\n",
    "else:\n",
    "    print(\"it is zero\")"
   ]
  },
  {
   "cell_type": "code",
   "execution_count": 51,
   "metadata": {},
   "outputs": [
    {
     "name": "stdout",
     "output_type": "stream",
     "text": [
      "a\n",
      "Not Desired case / Default case \n"
     ]
    }
   ],
   "source": [
    "a = (input())\n",
    "\n",
    "print(a)\n",
    "match a :\n",
    "    case 5 :\n",
    "        print(\"It is 5 \")\n",
    "    case 6 :\n",
    "        print(\"It is 6 \")\n",
    "    case _:\n",
    "        print(\"Not Desired case / Default case \")\n"
   ]
  },
  {
   "cell_type": "code",
   "execution_count": 53,
   "metadata": {},
   "outputs": [
    {
     "name": "stdout",
     "output_type": "stream",
     "text": [
      "it's true\n"
     ]
    }
   ],
   "source": [
    "var1=True\n",
    "match var1:\n",
    "    case True:\n",
    "            print(\"it's true\")\n",
    "    case False:\n",
    "            print(\"it's false\")\n",
    "    case _:\n",
    "            print(\"invalid condition\")\n"
   ]
  },
  {
   "cell_type": "code",
   "execution_count": 52,
   "metadata": {},
   "outputs": [
    {
     "name": "stdout",
     "output_type": "stream",
     "text": [
      "it is 4.5\n"
     ]
    }
   ],
   "source": [
    "var=4.5\n",
    "match var:\n",
    "    case 3.4: \n",
    "            print(\"it is 3.4\")\n",
    "    case 4.5:\n",
    "            print(\"it is 4.5\")\n",
    "    case _: \n",
    "            print(\"not a valid number\")"
   ]
  },
  {
   "cell_type": "code",
   "execution_count": 58,
   "metadata": {},
   "outputs": [
    {
     "name": "stdout",
     "output_type": "stream",
     "text": [
      "E\n",
      "Vowel E\n"
     ]
    }
   ],
   "source": [
    "ch=(input(\"Enter a character\"))\n",
    "print(ch)\n",
    "match ch:\n",
    "        case 'A':\n",
    "                print(\"Vowel A\")\n",
    "        case 'E':\n",
    "                print(\"Vowel E\")\n",
    "        case _:\n",
    "                print(\"not a vowel\")\n"
   ]
  },
  {
   "cell_type": "code",
   "execution_count": 57,
   "metadata": {},
   "outputs": [
    {
     "name": "stdout",
     "output_type": "stream",
     "text": [
      "welcome\n",
      "it's welcome\n"
     ]
    }
   ],
   "source": [
    "# greet = 'hello'\n",
    "# greet =\"hi\"\n",
    "greet = str(input(\"Enter a string : \"))\n",
    "print(greet)\n",
    "match greet:\n",
    "    case \"welcome\":\n",
    "        print(\"it's welcome\")\n",
    "    case \"hello\":\n",
    "        print(\"it's hello\")\n",
    "    case _:\n",
    "        print(\"not a valid greet\")\n"
   ]
  },
  {
   "cell_type": "code",
   "execution_count": 59,
   "metadata": {},
   "outputs": [
    {
     "name": "stdout",
     "output_type": "stream",
     "text": [
      "Before Swapping 8 5\n",
      "After Swapping 5 8\n"
     ]
    }
   ],
   "source": [
    "# \t\t\t\tJava\n",
    "\n",
    "# public class MyClass \n",
    "# {\n",
    "# \tpublic static void main(String[] args) {\n",
    "# \t\tint x=8,y=5;\n",
    "# \t\tSystem.out.println(\"Before Swapping\\t\"+x+\"\\t\"+y);\n",
    "# \t\ty=x+y;\n",
    "# \t\tx=y-x;\n",
    "# \t\ty=y-x;\n",
    "# \t\tSystem.out.println(\"After Swapping\\t\"+x+\"\\t\"+y);\n",
    "# \t}\n",
    "# }\n",
    "\n",
    "\n",
    "# \t\t\t\tPython\n",
    "\n",
    "x, y = 8, 5\n",
    "print(\"Before Swapping\", x, y)\n",
    "\n",
    "# First right gets assigned to first left, second right gets assigned to second left, at the same time. \n",
    "x, y = y, x     # what happens here is  ....  x,y=5,8\n",
    "print(\"After Swapping\", x, y)\n",
    "\n"
   ]
  },
  {
   "cell_type": "markdown",
   "metadata": {},
   "source": [
    "## **Sequence Types**"
   ]
  },
  {
   "cell_type": "code",
   "execution_count": 61,
   "metadata": {},
   "outputs": [
    {
     "ename": "NameError",
     "evalue": "name 'swap' is not defined",
     "output_type": "error",
     "traceback": [
      "\u001b[1;31m---------------------------------------------------------------------------\u001b[0m",
      "\u001b[1;31mNameError\u001b[0m                                 Traceback (most recent call last)",
      "Cell \u001b[1;32mIn[61], line 5\u001b[0m\n\u001b[0;32m      3\u001b[0m a \u001b[38;5;241m=\u001b[39m \u001b[38;5;241m3\u001b[39m\n\u001b[0;32m      4\u001b[0m b \u001b[38;5;241m=\u001b[39m \u001b[38;5;241m2\u001b[39m\n\u001b[1;32m----> 5\u001b[0m \u001b[43mswap\u001b[49m(a,b)\n",
      "\u001b[1;31mNameError\u001b[0m: name 'swap' is not defined"
     ]
    }
   ],
   "source": [
    "import numpy as np \n",
    "import pandas as pd\n",
    "a = 3\n",
    "b = 2\n",
    "\n",
    "swap(a,b)"
   ]
  },
  {
   "cell_type": "markdown",
   "metadata": {},
   "source": [
    "## **Loops Demos**"
   ]
  },
  {
   "cell_type": "markdown",
   "metadata": {},
   "source": [
    "Ex1"
   ]
  },
  {
   "cell_type": "code",
   "execution_count": 85,
   "metadata": {},
   "outputs": [
    {
     "name": "stdout",
     "output_type": "stream",
     "text": [
      "1 2 3 4 5 6 7 8 9 "
     ]
    }
   ],
   "source": [
    "i=1\n",
    "while(i<10):\n",
    "    print(i, end = \" \")\n",
    "    i+=1"
   ]
  },
  {
   "cell_type": "markdown",
   "metadata": {},
   "source": [
    "Ex2"
   ]
  },
  {
   "cell_type": "code",
   "execution_count": 84,
   "metadata": {},
   "outputs": [
    {
     "name": "stdout",
     "output_type": "stream",
     "text": [
      "1 2 3 4 5 "
     ]
    }
   ],
   "source": [
    "i=1\n",
    "while(1):\n",
    "    if(i==6):\n",
    "        break\n",
    "    print(i, end = \" \")\n",
    "    i+=1\n"
   ]
  },
  {
   "cell_type": "markdown",
   "metadata": {},
   "source": [
    "Ex3"
   ]
  },
  {
   "cell_type": "code",
   "execution_count": 83,
   "metadata": {},
   "outputs": [
    {
     "name": "stdout",
     "output_type": "stream",
     "text": [
      "1 2 3 4 5 "
     ]
    }
   ],
   "source": [
    "i = 1\n",
    "while(1):\n",
    "    if(i==6):\n",
    "        break\n",
    "    print(i, end = \" \")\n",
    "    i +=1"
   ]
  },
  {
   "cell_type": "markdown",
   "metadata": {},
   "source": [
    "Ex4"
   ]
  },
  {
   "cell_type": "code",
   "execution_count": 82,
   "metadata": {},
   "outputs": [
    {
     "name": "stdout",
     "output_type": "stream",
     "text": [
      "1 2 3 4 5 6 7 8 9 "
     ]
    }
   ],
   "source": [
    "for i in range(1,10):\n",
    "   print(i, end = \" \")\n"
   ]
  },
  {
   "cell_type": "markdown",
   "metadata": {},
   "source": [
    "Ex4"
   ]
  },
  {
   "cell_type": "code",
   "execution_count": 80,
   "metadata": {},
   "outputs": [
    {
     "name": "stdout",
     "output_type": "stream",
     "text": [
      "1 2 3 4 5 7 8 9 "
     ]
    }
   ],
   "source": [
    "for i in range(1 , 10):\n",
    "    if(i==6):\n",
    "        continue\n",
    "    print(i, end=\" \")\n"
   ]
  },
  {
   "cell_type": "markdown",
   "metadata": {},
   "source": [
    "Ex5"
   ]
  },
  {
   "cell_type": "code",
   "execution_count": 78,
   "metadata": {},
   "outputs": [
    {
     "name": "stdout",
     "output_type": "stream",
     "text": [
      "1\t1\n",
      "1\t2\n",
      "2\t1\n",
      "2\t2\n"
     ]
    }
   ],
   "source": [
    "for i in range(1,3):\n",
    "    for j in range(1,3):\n",
    "        print(str(i) + \"\\t\" + str(j))"
   ]
  },
  {
   "cell_type": "markdown",
   "metadata": {},
   "source": [
    "Ex6"
   ]
  },
  {
   "cell_type": "code",
   "execution_count": 86,
   "metadata": {},
   "outputs": [
    {
     "name": "stdout",
     "output_type": "stream",
     "text": [
      "zero\n"
     ]
    }
   ],
   "source": [
    "i=0\n",
    "if(i>0):\n",
    "    print(\"positive\")\n",
    "elif(i<0):\n",
    "    print(\"negative\")\n",
    "else:\n",
    "    print(\"zero\")\n"
   ]
  },
  {
   "cell_type": "markdown",
   "metadata": {},
   "source": [
    "## **Ternary Operator**'"
   ]
  },
  {
   "cell_type": "markdown",
   "metadata": {},
   "source": [
    "Ex7"
   ]
  },
  {
   "cell_type": "code",
   "execution_count": 87,
   "metadata": {},
   "outputs": [
    {
     "name": "stdout",
     "output_type": "stream",
     "text": [
      "positive\n"
     ]
    }
   ],
   "source": [
    "# ternary operator in python\n",
    "\n",
    "# syntax\n",
    "# [on_true] if [expression] else [on_false] \n",
    "\n",
    "i=1\n",
    "print(\"positive\") if(i>0) else print(\"negative\")\n"
   ]
  },
  {
   "cell_type": "markdown",
   "metadata": {},
   "source": [
    "#### Nested Ternary"
   ]
  },
  {
   "cell_type": "code",
   "execution_count": 92,
   "metadata": {},
   "outputs": [
    {
     "name": "stdout",
     "output_type": "stream",
     "text": [
      "positive\n"
     ]
    }
   ],
   "source": [
    "# nested ternary\n",
    "\n",
    "i=int(input(\"enter a number\"))\n",
    "\n",
    "# first -------------------- True on Hold until ---------------this is solved\n",
    "print(\"positive\") if i > 0 else print(\"negative\") if i < 0 else print(\"zero\")"
   ]
  },
  {
   "cell_type": "markdown",
   "metadata": {},
   "source": [
    "Ex7a"
   ]
  },
  {
   "cell_type": "code",
   "execution_count": 94,
   "metadata": {},
   "outputs": [
    {
     "name": "stdout",
     "output_type": "stream",
     "text": [
      "positive\n"
     ]
    }
   ],
   "source": [
    "i = 1\n",
    "\n",
    "print(\"positive\") if i >0 else print(\"Negative\") if i <0 else print(\"Zero\")"
   ]
  },
  {
   "cell_type": "markdown",
   "metadata": {},
   "source": [
    "Ex8"
   ]
  },
  {
   "cell_type": "code",
   "execution_count": 104,
   "metadata": {},
   "outputs": [
    {
     "name": "stdout",
     "output_type": "stream",
     "text": [
      "Jan Feb Mar April May June "
     ]
    }
   ],
   "source": [
    "\n",
    "\n",
    "# use a for loop over a collection\n",
    "Months = [\"Jan\",\"Feb\",\"Mar\",\"April\",\"May\",\"June\"]\n",
    "for m in Months:\n",
    "    print(m, end = \" \")\n",
    "\n"
   ]
  },
  {
   "cell_type": "markdown",
   "metadata": {},
   "source": [
    "Ex9"
   ]
  },
  {
   "cell_type": "code",
   "execution_count": 103,
   "metadata": {},
   "outputs": [
    {
     "name": "stdout",
     "output_type": "stream",
     "text": [
      "0-Jan\t1-Feb\t2-Mar\t3-April\t4-May\t5-June\t"
     ]
    }
   ],
   "source": [
    "# Enumerate function is used for the numbering or indexing the members in the list.\n",
    "#use a for loop over a collection\n",
    "Months = [\"Jan\",\"Feb\",\"Mar\",\"April\",\"May\",\"June\"]\n",
    "for i, m in enumerate (Months):\n",
    "        print(i,m, sep = \"-\", end = \"\\t\")\n"
   ]
  },
  {
   "cell_type": "code",
   "execution_count": 106,
   "metadata": {},
   "outputs": [
    {
     "name": "stdout",
     "output_type": "stream",
     "text": [
      "10 12 13 14 15 20 "
     ]
    }
   ],
   "source": [
    "# how to write infinite loop\n",
    "\n",
    "while True:\n",
    "    i=(int)(input(\"Enter number\\n\"))\n",
    "    if(i==0):\n",
    "        break\n",
    "    print(i, end = \" \")"
   ]
  },
  {
   "cell_type": "code",
   "execution_count": 108,
   "metadata": {},
   "outputs": [
    {
     "name": "stdout",
     "output_type": "stream",
     "text": [
      "10 12 13 14 151 6117 18 19 20 "
     ]
    }
   ],
   "source": [
    "while True:\n",
    "    i = int(input(\"Enter a number : \"))\n",
    "    if(i==0):\n",
    "        break\n",
    "    print(i, end = \" \")"
   ]
  },
  {
   "cell_type": "markdown",
   "metadata": {},
   "source": [
    "## **For Loop**"
   ]
  },
  {
   "cell_type": "code",
   "execution_count": 109,
   "metadata": {},
   "outputs": [
    {
     "name": "stdout",
     "output_type": "stream",
     "text": [
      "Sum of first 5 numbers is 10\n"
     ]
    }
   ],
   "source": [
    "sum = 0\n",
    "for i in range(1, 5):\n",
    "    sum += i\n",
    "print(\"Sum of first 5 numbers is\", sum)\n"
   ]
  },
  {
   "cell_type": "code",
   "execution_count": 115,
   "metadata": {},
   "outputs": [
    {
     "name": "stdout",
     "output_type": "stream",
     "text": [
      "A B C D E F G "
     ]
    }
   ],
   "source": [
    "for i in range(ord('A'), ord('G')+1):\n",
    "    print(chr(i), end = \" \")"
   ]
  },
  {
   "cell_type": "code",
   "execution_count": 117,
   "metadata": {},
   "outputs": [
    {
     "name": "stdout",
     "output_type": "stream",
     "text": [
      "Sum of first 5 numbers is 1\n",
      "Sum of first 5 numbers is 3\n",
      "Sum of first 5 numbers is 6\n",
      "Sum of first 5 numbers is 10\n",
      "Sum of first 5 numbers is 15\n",
      "Sum of first 5 numbers is 15\n"
     ]
    }
   ],
   "source": [
    "i = 1\n",
    "sum=0\n",
    "while i<6:\n",
    "    sum+=i\n",
    "    i = i + 1\n",
    "    print(\"Sum of first 5 numbers is\", sum)\n",
    "\n",
    "\n",
    "# output:\n",
    "# \tSum of first 5 numbers is 1\n",
    "# \tSum of first 5 numbers is 3\n",
    "# \tSum of first 5 numbers is 6\n",
    "# \tSum of first 5 numbers is 10\n",
    "# \tSum of first 5 numbers is 15\n",
    "\n",
    "\t\t\t\t# vs\n",
    "\n",
    "\n",
    "# output: \n",
    "# \tSum of first 5 numbers is 15"
   ]
  },
  {
   "cell_type": "code",
   "execution_count": 118,
   "metadata": {},
   "outputs": [
    {
     "name": "stdout",
     "output_type": "stream",
     "text": [
      "Sum of first 5 numbers is 15\n"
     ]
    }
   ],
   "source": [
    "i = 1\n",
    "sum=0\n",
    "while i<6:\n",
    "    sum+=i\n",
    "    i = i + 1\n",
    "print(\"Sum of first 5 numbers is\", sum)"
   ]
  },
  {
   "cell_type": "markdown",
   "metadata": {},
   "source": [
    "Infinite for loop usig iter \n",
    "\n",
    "- Iter accepts Datatype and Boolean type\n"
   ]
  },
  {
   "cell_type": "code",
   "execution_count": 120,
   "metadata": {},
   "outputs": [
    {
     "name": "stdout",
     "output_type": "stream",
     "text": [
      "1 2 3 4 5 6 "
     ]
    }
   ],
   "source": [
    "i = 1\n",
    "for _ in iter(int, True):\n",
    "    if i == 7:\n",
    "        break\n",
    "    print(i, end = \" \")\n",
    "    i += 1\n"
   ]
  },
  {
   "cell_type": "code",
   "execution_count": 122,
   "metadata": {},
   "outputs": [
    {
     "name": "stdout",
     "output_type": "stream",
     "text": [
      "hello hello hello hello hello "
     ]
    }
   ],
   "source": [
    "for i in range(5):    # by default it starts with 0\n",
    "    print(\"hello\", end = \" \")"
   ]
  },
  {
   "cell_type": "code",
   "execution_count": 125,
   "metadata": {},
   "outputs": [
    {
     "name": "stdout",
     "output_type": "stream",
     "text": [
      "0 hello 1 hello 2 hello 3 hello 4 hello 5 hello 6 hello 7 hello 8 hello "
     ]
    }
   ],
   "source": [
    "for i in range(9):\n",
    "    print(str(i)+\" hello\", end = \" \")"
   ]
  },
  {
   "cell_type": "markdown",
   "metadata": {},
   "source": [
    "Range Demos\n"
   ]
  },
  {
   "cell_type": "code",
   "execution_count": 135,
   "metadata": {},
   "outputs": [
    {
     "name": "stdout",
     "output_type": "stream",
     "text": [
      "1 2 3 4 5 6 7 8 9 "
     ]
    }
   ],
   "source": [
    "for i in range(1,10):\n",
    "    print(i, end = \" \")\n",
    "\n"
   ]
  },
  {
   "cell_type": "code",
   "execution_count": 134,
   "metadata": {},
   "outputs": [
    {
     "name": "stdout",
     "output_type": "stream",
     "text": [
      "1 2 3 4 5 6 7 8 9 "
     ]
    }
   ],
   "source": [
    "for i in range(1,10):\n",
    "    print(i, end = \" \")\n"
   ]
  },
  {
   "cell_type": "code",
   "execution_count": 133,
   "metadata": {},
   "outputs": [
    {
     "name": "stdout",
     "output_type": "stream",
     "text": [
      "1 3 5 7 9 "
     ]
    }
   ],
   "source": [
    "for i in range(1,10,2):\n",
    "    print(i, end = \" \")\n"
   ]
  },
  {
   "cell_type": "code",
   "execution_count": 131,
   "metadata": {},
   "outputs": [
    {
     "name": "stdout",
     "output_type": "stream",
     "text": [
      "10 9 8 7 6 5 4 3 2 "
     ]
    }
   ],
   "source": [
    "for i in range(10,1,-1):\n",
    "    print(i, end = \" \")"
   ]
  },
  {
   "cell_type": "code",
   "execution_count": 130,
   "metadata": {},
   "outputs": [
    {
     "name": "stdout",
     "output_type": "stream",
     "text": [
      "10 8 6 4 2 "
     ]
    }
   ],
   "source": [
    "for i in range(10,1,-2):\n",
    "    print(i, end = \" \")"
   ]
  },
  {
   "cell_type": "markdown",
   "metadata": {},
   "source": [
    "### **Else with for and while loop**"
   ]
  },
  {
   "cell_type": "code",
   "execution_count": 139,
   "metadata": {},
   "outputs": [
    {
     "name": "stdout",
     "output_type": "stream",
     "text": [
      "0 1 2 3 4 done\n"
     ]
    }
   ],
   "source": [
    "for i in range(0,5):\n",
    "    if i==6: # try 2 :\n",
    "        break\n",
    "    print(i, end = \" \")\n",
    "else:    # will evaluate only if break doesn't encounter\n",
    "    print(\"done\")"
   ]
  },
  {
   "cell_type": "code",
   "execution_count": 141,
   "metadata": {},
   "outputs": [
    {
     "name": "stdout",
     "output_type": "stream",
     "text": [
      "0 1 2 3 4 5 6 7 8 9 done with 10 numbers\n"
     ]
    }
   ],
   "source": [
    "for i in range(0,10):\n",
    "    if(i==12):\n",
    "        break\n",
    "    print(i, end = \" \")\n",
    "else:\n",
    "    print(\"done with 10 numbers\")"
   ]
  },
  {
   "cell_type": "markdown",
   "metadata": {},
   "source": [
    "Ex1"
   ]
  },
  {
   "cell_type": "code",
   "execution_count": 142,
   "metadata": {},
   "outputs": [
    {
     "name": "stdout",
     "output_type": "stream",
     "text": [
      "not found\n",
      "not found\n",
      "not found\n",
      "not found\n",
      "not found\n"
     ]
    }
   ],
   "source": [
    "# find out at least one number divisible by 5. If it's there, print and come out otherwise print \"not found\"\n",
    "\n",
    "nums=[12,16,18,21,26]\n",
    "\n",
    "for i in nums:\n",
    "    if(i%5==0):\n",
    "        print(i)\n",
    "        break       # we just want to print only one number divisible by 5 if exists\n",
    "    else:\n",
    "      print(\"not found\")\n",
    "\n",
    "# but we don't want to print \"not found\" those many times, we want to print only one time."
   ]
  },
  {
   "cell_type": "code",
   "execution_count": 143,
   "metadata": {},
   "outputs": [
    {
     "name": "stdout",
     "output_type": "stream",
     "text": [
      "not found\n"
     ]
    }
   ],
   "source": [
    "# find out at least one number divisible by 5. If it's there print and come out otherwise print \"not found\"\n",
    "\n",
    "nums=[12,16,18,21,26]\n",
    "flag=True\n",
    "for i in nums:\n",
    "    if(i%5==0):\n",
    "        print(i)\n",
    "        flag=True\n",
    "        break       # we just want to print only one number divisible by 5 if exists\n",
    "    else:\n",
    "        flag=False\n",
    "if(not flag):\n",
    "      print(\"not found\")\n",
    "\n",
    "# what if we don't want to use \"flag\" variable in this code"
   ]
  },
  {
   "cell_type": "code",
   "execution_count": 144,
   "metadata": {},
   "outputs": [
    {
     "name": "stdout",
     "output_type": "stream",
     "text": [
      "Not Found\n"
     ]
    }
   ],
   "source": [
    "nums = [12,14,16,18,21]\n",
    "\n",
    "for i in nums:\n",
    "    if(i%5==0):\n",
    "        print(i)\n",
    "        break\n",
    "else:\n",
    "    print(\"Not Found\")"
   ]
  },
  {
   "cell_type": "code",
   "execution_count": 145,
   "metadata": {},
   "outputs": [
    {
     "name": "stdout",
     "output_type": "stream",
     "text": [
      "15\n"
     ]
    }
   ],
   "source": [
    "# find out at least one number divisible by 5. If it's there print and come out otherwise print \"not found\"\n",
    "nums=[12,16,15,21,26]\n",
    "\n",
    "for i in nums:\n",
    "    if(i%5==0):\n",
    "        print(i)\n",
    "        break       # we just want to print only one number divisible by 5 if exists\n",
    "else:\n",
    "    print(\"not found\")\n",
    "\n",
    "# here \"else\" part will not be true as for loop terminates with \"break\""
   ]
  },
  {
   "cell_type": "code",
   "execution_count": 147,
   "metadata": {},
   "outputs": [
    {
     "name": "stdout",
     "output_type": "stream",
     "text": [
      "10 12 14 16 18 19 "
     ]
    }
   ],
   "source": [
    "cnt=0\n",
    "\n",
    "while(cnt<10):\n",
    "    i=int(input(\"enter 10 numbers , 0 to terminate\"))\n",
    "    if(i==0):\n",
    "        break\n",
    "    print(i, end = \" \")\n",
    "    cnt+=1\n",
    "else:\n",
    "    print(\"User did not enter 0\")"
   ]
  },
  {
   "cell_type": "markdown",
   "metadata": {},
   "source": [
    "## **Python Implementation**"
   ]
  },
  {
   "cell_type": "code",
   "execution_count": 148,
   "metadata": {},
   "outputs": [
    {
     "name": "stdout",
     "output_type": "stream",
     "text": [
      "CPython\n"
     ]
    }
   ],
   "source": [
    "import platform\n",
    "print(platform.python_implementation())"
   ]
  },
  {
   "cell_type": "markdown",
   "metadata": {},
   "source": [
    "## **Jython**"
   ]
  },
  {
   "cell_type": "markdown",
   "metadata": {},
   "source": [
    "C:\\Users\\RKC>jython\n",
    "Jython 2.7.3 (tags/v2.7.3:5f29801fe, Sep 10 2022, 18:52:49)\n",
    "[OpenJDK 64-Bit Server VM (Amazon.com Inc.)] on java21.0.4\n",
    "Type \"help\", \"copyright\", \"credits\" or \"license\" for more information.\n",
    "> from java.util import ArrayList\n",
    ">> a = ArrayList()\n",
    ">>> a.add(\"Hello\")\n",
    "True\n",
    ">>>> a.add(\"Hey\")\n",
    "True\n",
    ">>>>> print(a)\n",
    "[Hello, Hey]\n",
    ">>"
   ]
  },
  {
   "cell_type": "markdown",
   "metadata": {},
   "source": [
    "## **PIP [Preffered Installer Program]**"
   ]
  },
  {
   "cell_type": "markdown",
   "metadata": {},
   "source": [
    "PIP [Preferred Installer Program] is a package manager for Python packages, or modules."
   ]
  },
  {
   "cell_type": "code",
   "execution_count": 150,
   "metadata": {},
   "outputs": [
    {
     "name": "stdout",
     "output_type": "stream",
     "text": [
      "first\n",
      "second\n",
      "third\n",
      "fourth\n",
      "fifth\n"
     ]
    }
   ],
   "source": [
    "# In Python, main function is not required because the Python interpreter executes from the top of the file unless a specific function is defined with the keyword \"def\".\n",
    "\n",
    "# e.g.\n",
    "\n",
    "\n",
    "print(\"first\")\n",
    "print(\"second\")\n",
    "print(\"third\")\n",
    "def disp():\n",
    "    print(\"disp 1\")\n",
    "    print(\"disp 2\")\n",
    "    print(\"disp 3\")\n",
    "print(\"fourth\")\n",
    "print(\"fifth\")\n",
    "\n",
    "# o/p\n",
    "\n",
    "# first\n",
    "# second\n",
    "# third\n",
    "# fourth\n",
    "# fifth"
   ]
  },
  {
   "cell_type": "markdown",
   "metadata": {},
   "source": [
    "Guido van Rossum , a Dutch scientist\n",
    "\n",
    "- at Center for Mathematics and Research , Netherland\n",
    "\n",
    "- This person doesn't like C,C++ because of their syntax. He decided to make Python very simple, that's why we do not have {} and semicolon in Python.\n",
    "\n",
    "- The name Python is inspired from Guido's favourite comedy TV show called \"Monty Python's Flying Circus\".\n",
    "\n",
    "- Guido wanted a name that was short,unique and slightly mysterious, so he decided to call the language Python.\n",
    "\n",
    "\n",
    "- He started Python language development as a hobby in 1989.\n",
    "\n",
    "- Python is inspired by the language ABC which itself a very simple programming language.\n",
    "\n",
    "- So we can say that Python's parent language is ABC language.\n",
    "\n",
    "- Python is very imp. for Data Analysis.\n",
    "\n",
    "\n",
    "\n"
   ]
  },
  {
   "cell_type": "code",
   "execution_count": null,
   "metadata": {},
   "outputs": [],
   "source": []
  }
 ],
 "metadata": {
  "kernelspec": {
   "display_name": "base",
   "language": "python",
   "name": "python3"
  },
  "language_info": {
   "codemirror_mode": {
    "name": "ipython",
    "version": 3
   },
   "file_extension": ".py",
   "mimetype": "text/x-python",
   "name": "python",
   "nbconvert_exporter": "python",
   "pygments_lexer": "ipython3",
   "version": "3.11.9"
  }
 },
 "nbformat": 4,
 "nbformat_minor": 2
}
